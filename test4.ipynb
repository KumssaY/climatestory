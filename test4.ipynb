{
 "cells": [
  {
   "cell_type": "markdown",
   "metadata": {},
   "source": [
    "# CO₂ Flux Analysis in Mangrove Ecosystems: A Comparative Study of Kenya and the Sundarbans"
   ]
  },
  {
   "cell_type": "markdown",
   "metadata": {},
   "source": [
    "## Introduction\n",
    "\n",
    "Mangroves play a crucial role in mitigating climate change by acting as powerful carbon sinks. These coastal ecosystems absorb more CO₂ than they release, making them vital in the global fight against climate change.\n",
    "\n",
    "In this study, we analyze the **CO₂ flux**—the exchange of carbon dioxide between the ocean and the atmosphere—in two key mangrove regions: **Kenya** and the **Sundarbans** (located between India and Bangladesh). \n",
    "\n",
    "### Why These Two Locations?\n",
    "We focus on **Kenya** due to concerns over the rapid decline of its mangrove forests, which reduces the region’s capacity for carbon sequestration. **The Sundarbans**, being one of the largest mangrove forests in the world, offers a model for comparison with Kenya's shrinking mangroves, as it remains a significant carbon sink despite facing its own challenges, such as rising sea levels.\n"
   ]
  },
  {
   "cell_type": "markdown",
   "metadata": {},
   "source": [
    "## CO₂ Flux in Mangroves: Kenya vs. Sundarbans\n",
    "\n",
    "CO₂ flux refers to the movement of carbon dioxide between the atmosphere and the ocean. In mangrove ecosystems, negative flux values indicate that the ecosystem is absorbing CO₂ from the atmosphere (acting as a carbon sink), while positive values indicate CO₂ emission.\n",
    "\n",
    "Here, we compare CO₂ flux in two regions:\n",
    "- **Kenyan Mangroves**: Facing challenges from deforestation, reduced mangrove coverage may lower the region's CO₂ absorption capacity.\n",
    "- **Sundarbans Mangroves**: As one of the largest mangrove forests, it continues to act as a significant carbon sink, despite environmental pressures.\n"
   ]
  },
  {
   "cell_type": "markdown",
   "metadata": {},
   "source": [
    "# Install libraries"
   ]
  },
  {
   "cell_type": "code",
   "execution_count": 1,
   "metadata": {},
   "outputs": [
    {
     "name": "stdout",
     "output_type": "stream",
     "text": [
      "Requirement already satisfied: folium in c:\\users\\hp\\desktop\\nemz\\climatestory\\.venv\\lib\\site-packages (0.17.0)\n",
      "Requirement already satisfied: branca in c:\\users\\hp\\desktop\\nemz\\climatestory\\.venv\\lib\\site-packages (0.8.0)\n",
      "Requirement already satisfied: requests in c:\\users\\hp\\desktop\\nemz\\climatestory\\.venv\\lib\\site-packages (2.32.3)\n",
      "Requirement already satisfied: pandas in c:\\users\\hp\\desktop\\nemz\\climatestory\\.venv\\lib\\site-packages (2.2.3)\n",
      "Requirement already satisfied: matplotlib in c:\\users\\hp\\desktop\\nemz\\climatestory\\.venv\\lib\\site-packages (3.9.2)\n",
      "Requirement already satisfied: plotly in c:\\users\\hp\\desktop\\nemz\\climatestory\\.venv\\lib\\site-packages (5.24.1)\n",
      "Requirement already satisfied: geopandas in c:\\users\\hp\\desktop\\nemz\\climatestory\\.venv\\lib\\site-packages (1.0.1)\n",
      "Requirement already satisfied: jinja2>=2.9 in c:\\users\\hp\\desktop\\nemz\\climatestory\\.venv\\lib\\site-packages (from folium) (3.1.4)\n",
      "Requirement already satisfied: numpy in c:\\users\\hp\\desktop\\nemz\\climatestory\\.venv\\lib\\site-packages (from folium) (2.1.1)\n",
      "Requirement already satisfied: xyzservices in c:\\users\\hp\\desktop\\nemz\\climatestory\\.venv\\lib\\site-packages (from folium) (2024.9.0)\n",
      "Requirement already satisfied: charset-normalizer<4,>=2 in c:\\users\\hp\\desktop\\nemz\\climatestory\\.venv\\lib\\site-packages (from requests) (3.3.2)\n",
      "Requirement already satisfied: idna<4,>=2.5 in c:\\users\\hp\\desktop\\nemz\\climatestory\\.venv\\lib\\site-packages (from requests) (3.10)\n",
      "Requirement already satisfied: urllib3<3,>=1.21.1 in c:\\users\\hp\\desktop\\nemz\\climatestory\\.venv\\lib\\site-packages (from requests) (2.2.3)\n",
      "Requirement already satisfied: certifi>=2017.4.17 in c:\\users\\hp\\desktop\\nemz\\climatestory\\.venv\\lib\\site-packages (from requests) (2024.8.30)\n",
      "Requirement already satisfied: python-dateutil>=2.8.2 in c:\\users\\hp\\desktop\\nemz\\climatestory\\.venv\\lib\\site-packages (from pandas) (2.9.0.post0)\n",
      "Requirement already satisfied: pytz>=2020.1 in c:\\users\\hp\\desktop\\nemz\\climatestory\\.venv\\lib\\site-packages (from pandas) (2024.2)\n",
      "Requirement already satisfied: tzdata>=2022.7 in c:\\users\\hp\\desktop\\nemz\\climatestory\\.venv\\lib\\site-packages (from pandas) (2024.2)\n",
      "Requirement already satisfied: contourpy>=1.0.1 in c:\\users\\hp\\desktop\\nemz\\climatestory\\.venv\\lib\\site-packages (from matplotlib) (1.3.0)\n",
      "Requirement already satisfied: cycler>=0.10 in c:\\users\\hp\\desktop\\nemz\\climatestory\\.venv\\lib\\site-packages (from matplotlib) (0.12.1)\n",
      "Requirement already satisfied: fonttools>=4.22.0 in c:\\users\\hp\\desktop\\nemz\\climatestory\\.venv\\lib\\site-packages (from matplotlib) (4.54.1)\n",
      "Requirement already satisfied: kiwisolver>=1.3.1 in c:\\users\\hp\\desktop\\nemz\\climatestory\\.venv\\lib\\site-packages (from matplotlib) (1.4.7)\n",
      "Requirement already satisfied: packaging>=20.0 in c:\\users\\hp\\desktop\\nemz\\climatestory\\.venv\\lib\\site-packages (from matplotlib) (24.1)\n",
      "Requirement already satisfied: pillow>=8 in c:\\users\\hp\\desktop\\nemz\\climatestory\\.venv\\lib\\site-packages (from matplotlib) (10.4.0)\n",
      "Requirement already satisfied: pyparsing>=2.3.1 in c:\\users\\hp\\desktop\\nemz\\climatestory\\.venv\\lib\\site-packages (from matplotlib) (3.1.4)\n",
      "Requirement already satisfied: tenacity>=6.2.0 in c:\\users\\hp\\desktop\\nemz\\climatestory\\.venv\\lib\\site-packages (from plotly) (9.0.0)\n",
      "Requirement already satisfied: pyogrio>=0.7.2 in c:\\users\\hp\\desktop\\nemz\\climatestory\\.venv\\lib\\site-packages (from geopandas) (0.10.0)\n",
      "Requirement already satisfied: pyproj>=3.3.0 in c:\\users\\hp\\desktop\\nemz\\climatestory\\.venv\\lib\\site-packages (from geopandas) (3.7.0)\n",
      "Requirement already satisfied: shapely>=2.0.0 in c:\\users\\hp\\desktop\\nemz\\climatestory\\.venv\\lib\\site-packages (from geopandas) (2.0.6)\n",
      "Requirement already satisfied: MarkupSafe>=2.0 in c:\\users\\hp\\desktop\\nemz\\climatestory\\.venv\\lib\\site-packages (from jinja2>=2.9->folium) (2.1.5)\n",
      "Requirement already satisfied: six>=1.5 in c:\\users\\hp\\desktop\\nemz\\climatestory\\.venv\\lib\\site-packages (from python-dateutil>=2.8.2->pandas) (1.16.0)\n",
      "Note: you may need to restart the kernel to use updated packages.\n"
     ]
    }
   ],
   "source": [
    "%pip install folium branca requests pandas matplotlib plotly geopandas\n"
   ]
  },
  {
   "cell_type": "markdown",
   "metadata": {},
   "source": [
    "## Visualizations"
   ]
  },
  {
   "cell_type": "markdown",
   "metadata": {},
   "source": [
    "Maps for Both Regions:\n",
    "\n",
    "Define the Regions of Interest (Kenya Mangroves and Sundarbans)"
   ]
  },
  {
   "cell_type": "code",
   "execution_count": 2,
   "metadata": {},
   "outputs": [],
   "source": [
    "# Kenyan Mangroves Polygon (approximate coordinates)\n",
    "kenya_mangroves_aoi = {\n",
    "    \"type\": \"Feature\",\n",
    "    \"properties\": {},\n",
    "    \"geometry\": {\n",
    "        \"type\": \"Polygon\",\n",
    "        \"coordinates\": [\n",
    "            [\n",
    "                [40.8916, -2.0155],  # NW boundary near Lamu\n",
    "                [40.95, -1.5],      # NE boundary\n",
    "                [40.18, -4.7],      # SE boundary near Mombasa\n",
    "                [39.64, -4.6],      # SW boundary\n",
    "                [40.8916, -2.0155]   # Closing the polygon\n",
    "            ]\n",
    "        ]\n",
    "    }\n",
    "}\n",
    "\n",
    "# Sundarbans Mangroves Polygon (approximate coordinates)\n",
    "sundarbans_aoi = {\n",
    "    \"type\": \"Feature\",\n",
    "    \"properties\": {},\n",
    "    \"geometry\": {\n",
    "        \"type\": \"Polygon\",\n",
    "        \"coordinates\": [\n",
    "            [\n",
    "                [88.0, 22.0],  # NW boundary (India)\n",
    "                [89.9, 22.0],  # NE boundary (Bangladesh)\n",
    "                [89.9, 21.0],  # SE boundary (Bangladesh)\n",
    "                [88.0, 21.0],  # SW boundary (India)\n",
    "                [88.0, 22.0]   # Closing the polygon\n",
    "            ]\n",
    "        ]\n",
    "    }\n",
    "}\n"
   ]
  },
  {
   "cell_type": "markdown",
   "metadata": {},
   "source": [
    "### Kenyan Mangroves Region of Interest (ROI)\n",
    "\n",
    "This map shows the **Region of Interest (ROI)** for the **Kenyan Mangroves**, outlined in the polygon. The area includes the coastal mangrove forests near Lamu and Mombasa, which play a critical role in carbon sequestration. However, these forests are under threat due to deforestation and coastal development."
   ]
  },
  {
   "cell_type": "code",
   "execution_count": 58,
   "metadata": {},
   "outputs": [
    {
     "data": {
      "text/html": [
       "<div style=\"width:100%;\"><div style=\"position:relative;width:100%;height:0;padding-bottom:60%;\"><span style=\"color:#565656\">Make this Notebook Trusted to load map: File -> Trust Notebook</span><iframe srcdoc=\"&lt;!DOCTYPE html&gt;\n",
       "&lt;html&gt;\n",
       "&lt;head&gt;\n",
       "    \n",
       "    &lt;meta http-equiv=&quot;content-type&quot; content=&quot;text/html; charset=UTF-8&quot; /&gt;\n",
       "    \n",
       "        &lt;script&gt;\n",
       "            L_NO_TOUCH = false;\n",
       "            L_DISABLE_3D = false;\n",
       "        &lt;/script&gt;\n",
       "    \n",
       "    &lt;style&gt;html, body {width: 100%;height: 100%;margin: 0;padding: 0;}&lt;/style&gt;\n",
       "    &lt;style&gt;#map {position:absolute;top:0;bottom:0;right:0;left:0;}&lt;/style&gt;\n",
       "    &lt;script src=&quot;https://cdn.jsdelivr.net/npm/leaflet@1.9.3/dist/leaflet.js&quot;&gt;&lt;/script&gt;\n",
       "    &lt;script src=&quot;https://code.jquery.com/jquery-3.7.1.min.js&quot;&gt;&lt;/script&gt;\n",
       "    &lt;script src=&quot;https://cdn.jsdelivr.net/npm/bootstrap@5.2.2/dist/js/bootstrap.bundle.min.js&quot;&gt;&lt;/script&gt;\n",
       "    &lt;script src=&quot;https://cdnjs.cloudflare.com/ajax/libs/Leaflet.awesome-markers/2.0.2/leaflet.awesome-markers.js&quot;&gt;&lt;/script&gt;\n",
       "    &lt;link rel=&quot;stylesheet&quot; href=&quot;https://cdn.jsdelivr.net/npm/leaflet@1.9.3/dist/leaflet.css&quot;/&gt;\n",
       "    &lt;link rel=&quot;stylesheet&quot; href=&quot;https://cdn.jsdelivr.net/npm/bootstrap@5.2.2/dist/css/bootstrap.min.css&quot;/&gt;\n",
       "    &lt;link rel=&quot;stylesheet&quot; href=&quot;https://netdna.bootstrapcdn.com/bootstrap/3.0.0/css/bootstrap-glyphicons.css&quot;/&gt;\n",
       "    &lt;link rel=&quot;stylesheet&quot; href=&quot;https://cdn.jsdelivr.net/npm/@fortawesome/fontawesome-free@6.2.0/css/all.min.css&quot;/&gt;\n",
       "    &lt;link rel=&quot;stylesheet&quot; href=&quot;https://cdnjs.cloudflare.com/ajax/libs/Leaflet.awesome-markers/2.0.2/leaflet.awesome-markers.css&quot;/&gt;\n",
       "    &lt;link rel=&quot;stylesheet&quot; href=&quot;https://cdn.jsdelivr.net/gh/python-visualization/folium/folium/templates/leaflet.awesome.rotate.min.css&quot;/&gt;\n",
       "    \n",
       "            &lt;meta name=&quot;viewport&quot; content=&quot;width=device-width,\n",
       "                initial-scale=1.0, maximum-scale=1.0, user-scalable=no&quot; /&gt;\n",
       "            &lt;style&gt;\n",
       "                #map_907b9e50bc377e6318effeeb763ba4e4 {\n",
       "                    position: relative;\n",
       "                    width: 100.0%;\n",
       "                    height: 100.0%;\n",
       "                    left: 0.0%;\n",
       "                    top: 0.0%;\n",
       "                }\n",
       "                .leaflet-container { font-size: 1rem; }\n",
       "            &lt;/style&gt;\n",
       "        \n",
       "&lt;/head&gt;\n",
       "&lt;body&gt;\n",
       "    \n",
       "    \n",
       "            &lt;div class=&quot;folium-map&quot; id=&quot;map_907b9e50bc377e6318effeeb763ba4e4&quot; &gt;&lt;/div&gt;\n",
       "        \n",
       "&lt;/body&gt;\n",
       "&lt;script&gt;\n",
       "    \n",
       "    \n",
       "            var map_907b9e50bc377e6318effeeb763ba4e4 = L.map(\n",
       "                &quot;map_907b9e50bc377e6318effeeb763ba4e4&quot;,\n",
       "                {\n",
       "                    center: [-2.0155, 40.8916],\n",
       "                    crs: L.CRS.EPSG3857,\n",
       "                    zoom: 6,\n",
       "                    zoomControl: true,\n",
       "                    preferCanvas: false,\n",
       "                }\n",
       "            );\n",
       "\n",
       "            \n",
       "\n",
       "        \n",
       "    \n",
       "            var tile_layer_5c4f0ba4d5e189325822cbcf9e6ec30b = L.tileLayer(\n",
       "                &quot;https://tile.openstreetmap.org/{z}/{x}/{y}.png&quot;,\n",
       "                {&quot;attribution&quot;: &quot;\\u0026copy; \\u003ca href=\\&quot;https://www.openstreetmap.org/copyright\\&quot;\\u003eOpenStreetMap\\u003c/a\\u003e contributors&quot;, &quot;detectRetina&quot;: false, &quot;maxNativeZoom&quot;: 19, &quot;maxZoom&quot;: 19, &quot;minZoom&quot;: 0, &quot;noWrap&quot;: false, &quot;opacity&quot;: 1, &quot;subdomains&quot;: &quot;abc&quot;, &quot;tms&quot;: false}\n",
       "            );\n",
       "        \n",
       "    \n",
       "            tile_layer_5c4f0ba4d5e189325822cbcf9e6ec30b.addTo(map_907b9e50bc377e6318effeeb763ba4e4);\n",
       "        \n",
       "    \n",
       "\n",
       "        function geo_json_b800205d16924c6742684226599da27f_onEachFeature(feature, layer) {\n",
       "            layer.on({\n",
       "            });\n",
       "        };\n",
       "        var geo_json_b800205d16924c6742684226599da27f = L.geoJson(null, {\n",
       "                onEachFeature: geo_json_b800205d16924c6742684226599da27f_onEachFeature,\n",
       "            \n",
       "        });\n",
       "\n",
       "        function geo_json_b800205d16924c6742684226599da27f_add (data) {\n",
       "            geo_json_b800205d16924c6742684226599da27f\n",
       "                .addData(data);\n",
       "        }\n",
       "            geo_json_b800205d16924c6742684226599da27f_add({&quot;geometry&quot;: {&quot;coordinates&quot;: [[[40.8916, -2.0155], [40.95, -1.5], [40.18, -4.7], [39.64, -4.6], [40.8916, -2.0155]]], &quot;type&quot;: &quot;Polygon&quot;}, &quot;properties&quot;: {}, &quot;type&quot;: &quot;Feature&quot;});\n",
       "        geo_json_b800205d16924c6742684226599da27f.setStyle(function(feature) {return feature.properties.style;});\n",
       "\n",
       "        \n",
       "    \n",
       "            geo_json_b800205d16924c6742684226599da27f.addTo(map_907b9e50bc377e6318effeeb763ba4e4);\n",
       "        \n",
       "    \n",
       "            var marker_5e3d04814ab70f1c2cd5f54aa0cc72b5 = L.marker(\n",
       "                [-2.0155, 40.8916],\n",
       "                {}\n",
       "            ).addTo(map_907b9e50bc377e6318effeeb763ba4e4);\n",
       "        \n",
       "    \n",
       "        var popup_b646a78c30978c8c5815dbadc98bbf2a = L.popup({&quot;maxWidth&quot;: &quot;100%&quot;});\n",
       "\n",
       "        \n",
       "            \n",
       "                var html_63355da21f2c68744142e25a9fb1a800 = $(`&lt;div id=&quot;html_63355da21f2c68744142e25a9fb1a800&quot; style=&quot;width: 100.0%; height: 100.0%;&quot;&gt;Kenyan Mangroves Center&lt;/div&gt;`)[0];\n",
       "                popup_b646a78c30978c8c5815dbadc98bbf2a.setContent(html_63355da21f2c68744142e25a9fb1a800);\n",
       "            \n",
       "        \n",
       "\n",
       "        marker_5e3d04814ab70f1c2cd5f54aa0cc72b5.bindPopup(popup_b646a78c30978c8c5815dbadc98bbf2a)\n",
       "        ;\n",
       "\n",
       "        \n",
       "    \n",
       "&lt;/script&gt;\n",
       "&lt;/html&gt;\" style=\"position:absolute;width:100%;height:100%;left:0;top:0;border:none !important;\" allowfullscreen webkitallowfullscreen mozallowfullscreen></iframe></div></div>"
      ],
      "text/plain": [
       "<folium.folium.Map at 0x1686d3a4c50>"
      ]
     },
     "execution_count": 58,
     "metadata": {},
     "output_type": "execute_result"
    }
   ],
   "source": [
    "import folium\n",
    "\n",
    "# Define the Kenyan Mangroves Area of Interest (AOI) GeoJSON\n",
    "kenya_mangroves_aoi = {\n",
    "    \"type\": \"Feature\",\n",
    "    \"properties\": {},\n",
    "    \"geometry\": {\n",
    "        \"type\": \"Polygon\",  # Fixed typo from \"aPolygon\" to \"Polygon\"\n",
    "        \"coordinates\": [\n",
    "            [\n",
    "                [40.8916, -2.0155],  # NW boundary near Lamu\n",
    "                [40.95, -1.5],       # NE boundary\n",
    "                [40.18, -4.7],       # SE boundary near Mombasa\n",
    "                [39.64, -4.6],       # SW boundary\n",
    "                [40.8916, -2.0155]   # Closing the polygon\n",
    "            ]\n",
    "        ]\n",
    "    }\n",
    "}\n",
    "\n",
    "# Create a map centered around the Kenyan Mangroves region\n",
    "kenya_map = folium.Map(location=[-2.0155, 40.8916], zoom_start=6)\n",
    "\n",
    "# Add the Kenyan Mangroves Polygon using `folium.GeoJson`\n",
    "kenya_polygon = folium.GeoJson(\n",
    "    kenya_mangroves_aoi,\n",
    "    name=\"Kenyan Mangroves ROI\"\n",
    ").add_to(kenya_map)\n",
    "\n",
    "# Add a marker at the approximate center of the Kenyan Mangroves\n",
    "folium.Marker(\n",
    "    location=[-2.0155, 40.8916],\n",
    "    popup='Kenyan Mangroves Center'\n",
    ").add_to(kenya_map)\n",
    "\n",
    "# Display the Kenyan Mangroves Map\n",
    "kenya_map\n"
   ]
  },
  {
   "cell_type": "markdown",
   "metadata": {},
   "source": [
    "### Sundarbans Mangroves Region of Interest (ROI)\n",
    "\n",
    "This map highlights the **Sundarbans Mangroves**, one of the largest mangrove forests in the world. Spanning across **India** and **Bangladesh**, the Sundarbans continues to act as a significant carbon sink despite challenges such as rising sea levels and increasing salinity."
   ]
  },
  {
   "cell_type": "code",
   "execution_count": 4,
   "metadata": {},
   "outputs": [
    {
     "data": {
      "text/html": [
       "<div style=\"width:100%;\"><div style=\"position:relative;width:100%;height:0;padding-bottom:60%;\"><span style=\"color:#565656\">Make this Notebook Trusted to load map: File -> Trust Notebook</span><iframe srcdoc=\"&lt;!DOCTYPE html&gt;\n",
       "&lt;html&gt;\n",
       "&lt;head&gt;\n",
       "    \n",
       "    &lt;meta http-equiv=&quot;content-type&quot; content=&quot;text/html; charset=UTF-8&quot; /&gt;\n",
       "    \n",
       "        &lt;script&gt;\n",
       "            L_NO_TOUCH = false;\n",
       "            L_DISABLE_3D = false;\n",
       "        &lt;/script&gt;\n",
       "    \n",
       "    &lt;style&gt;html, body {width: 100%;height: 100%;margin: 0;padding: 0;}&lt;/style&gt;\n",
       "    &lt;style&gt;#map {position:absolute;top:0;bottom:0;right:0;left:0;}&lt;/style&gt;\n",
       "    &lt;script src=&quot;https://cdn.jsdelivr.net/npm/leaflet@1.9.3/dist/leaflet.js&quot;&gt;&lt;/script&gt;\n",
       "    &lt;script src=&quot;https://code.jquery.com/jquery-3.7.1.min.js&quot;&gt;&lt;/script&gt;\n",
       "    &lt;script src=&quot;https://cdn.jsdelivr.net/npm/bootstrap@5.2.2/dist/js/bootstrap.bundle.min.js&quot;&gt;&lt;/script&gt;\n",
       "    &lt;script src=&quot;https://cdnjs.cloudflare.com/ajax/libs/Leaflet.awesome-markers/2.0.2/leaflet.awesome-markers.js&quot;&gt;&lt;/script&gt;\n",
       "    &lt;link rel=&quot;stylesheet&quot; href=&quot;https://cdn.jsdelivr.net/npm/leaflet@1.9.3/dist/leaflet.css&quot;/&gt;\n",
       "    &lt;link rel=&quot;stylesheet&quot; href=&quot;https://cdn.jsdelivr.net/npm/bootstrap@5.2.2/dist/css/bootstrap.min.css&quot;/&gt;\n",
       "    &lt;link rel=&quot;stylesheet&quot; href=&quot;https://netdna.bootstrapcdn.com/bootstrap/3.0.0/css/bootstrap-glyphicons.css&quot;/&gt;\n",
       "    &lt;link rel=&quot;stylesheet&quot; href=&quot;https://cdn.jsdelivr.net/npm/@fortawesome/fontawesome-free@6.2.0/css/all.min.css&quot;/&gt;\n",
       "    &lt;link rel=&quot;stylesheet&quot; href=&quot;https://cdnjs.cloudflare.com/ajax/libs/Leaflet.awesome-markers/2.0.2/leaflet.awesome-markers.css&quot;/&gt;\n",
       "    &lt;link rel=&quot;stylesheet&quot; href=&quot;https://cdn.jsdelivr.net/gh/python-visualization/folium/folium/templates/leaflet.awesome.rotate.min.css&quot;/&gt;\n",
       "    \n",
       "            &lt;meta name=&quot;viewport&quot; content=&quot;width=device-width,\n",
       "                initial-scale=1.0, maximum-scale=1.0, user-scalable=no&quot; /&gt;\n",
       "            &lt;style&gt;\n",
       "                #map_38a0d7f1594d572fcd91ce4a3bda5bf2 {\n",
       "                    position: relative;\n",
       "                    width: 100.0%;\n",
       "                    height: 100.0%;\n",
       "                    left: 0.0%;\n",
       "                    top: 0.0%;\n",
       "                }\n",
       "                .leaflet-container { font-size: 1rem; }\n",
       "            &lt;/style&gt;\n",
       "        \n",
       "&lt;/head&gt;\n",
       "&lt;body&gt;\n",
       "    \n",
       "    \n",
       "            &lt;div class=&quot;folium-map&quot; id=&quot;map_38a0d7f1594d572fcd91ce4a3bda5bf2&quot; &gt;&lt;/div&gt;\n",
       "        \n",
       "&lt;/body&gt;\n",
       "&lt;script&gt;\n",
       "    \n",
       "    \n",
       "            var map_38a0d7f1594d572fcd91ce4a3bda5bf2 = L.map(\n",
       "                &quot;map_38a0d7f1594d572fcd91ce4a3bda5bf2&quot;,\n",
       "                {\n",
       "                    center: [21.5, 89.0],\n",
       "                    crs: L.CRS.EPSG3857,\n",
       "                    zoom: 6,\n",
       "                    zoomControl: true,\n",
       "                    preferCanvas: false,\n",
       "                }\n",
       "            );\n",
       "\n",
       "            \n",
       "\n",
       "        \n",
       "    \n",
       "            var tile_layer_38422ee31de28c1452c1bcc8a3b80695 = L.tileLayer(\n",
       "                &quot;https://tile.openstreetmap.org/{z}/{x}/{y}.png&quot;,\n",
       "                {&quot;attribution&quot;: &quot;\\u0026copy; \\u003ca href=\\&quot;https://www.openstreetmap.org/copyright\\&quot;\\u003eOpenStreetMap\\u003c/a\\u003e contributors&quot;, &quot;detectRetina&quot;: false, &quot;maxNativeZoom&quot;: 19, &quot;maxZoom&quot;: 19, &quot;minZoom&quot;: 0, &quot;noWrap&quot;: false, &quot;opacity&quot;: 1, &quot;subdomains&quot;: &quot;abc&quot;, &quot;tms&quot;: false}\n",
       "            );\n",
       "        \n",
       "    \n",
       "            tile_layer_38422ee31de28c1452c1bcc8a3b80695.addTo(map_38a0d7f1594d572fcd91ce4a3bda5bf2);\n",
       "        \n",
       "    \n",
       "\n",
       "        function geo_json_4039aac7d5c43816dc7c6ee34a4fb54b_onEachFeature(feature, layer) {\n",
       "            layer.on({\n",
       "            });\n",
       "        };\n",
       "        var geo_json_4039aac7d5c43816dc7c6ee34a4fb54b = L.geoJson(null, {\n",
       "                onEachFeature: geo_json_4039aac7d5c43816dc7c6ee34a4fb54b_onEachFeature,\n",
       "            \n",
       "        });\n",
       "\n",
       "        function geo_json_4039aac7d5c43816dc7c6ee34a4fb54b_add (data) {\n",
       "            geo_json_4039aac7d5c43816dc7c6ee34a4fb54b\n",
       "                .addData(data);\n",
       "        }\n",
       "            geo_json_4039aac7d5c43816dc7c6ee34a4fb54b_add({&quot;geometry&quot;: {&quot;coordinates&quot;: [[[88.0, 22.0], [89.9, 22.0], [89.9, 21.0], [88.0, 21.0], [88.0, 22.0]]], &quot;type&quot;: &quot;Polygon&quot;}, &quot;properties&quot;: {}, &quot;type&quot;: &quot;Feature&quot;});\n",
       "        geo_json_4039aac7d5c43816dc7c6ee34a4fb54b.setStyle(function(feature) {return feature.properties.style;});\n",
       "\n",
       "        \n",
       "    \n",
       "            geo_json_4039aac7d5c43816dc7c6ee34a4fb54b.addTo(map_38a0d7f1594d572fcd91ce4a3bda5bf2);\n",
       "        \n",
       "    \n",
       "            var marker_e55a84f3cdfaeaf99d777e3408f4bbd9 = L.marker(\n",
       "                [21.5, 89.0],\n",
       "                {}\n",
       "            ).addTo(map_38a0d7f1594d572fcd91ce4a3bda5bf2);\n",
       "        \n",
       "    \n",
       "        var popup_408e558c6539e66b384501f8f206a292 = L.popup({&quot;maxWidth&quot;: &quot;100%&quot;});\n",
       "\n",
       "        \n",
       "            \n",
       "                var html_ca488c82dab6dc88f438208c2373f99a = $(`&lt;div id=&quot;html_ca488c82dab6dc88f438208c2373f99a&quot; style=&quot;width: 100.0%; height: 100.0%;&quot;&gt;Sundarbans Mangroves&lt;/div&gt;`)[0];\n",
       "                popup_408e558c6539e66b384501f8f206a292.setContent(html_ca488c82dab6dc88f438208c2373f99a);\n",
       "            \n",
       "        \n",
       "\n",
       "        marker_e55a84f3cdfaeaf99d777e3408f4bbd9.bindPopup(popup_408e558c6539e66b384501f8f206a292)\n",
       "        ;\n",
       "\n",
       "        \n",
       "    \n",
       "&lt;/script&gt;\n",
       "&lt;/html&gt;\" style=\"position:absolute;width:100%;height:100%;left:0;top:0;border:none !important;\" allowfullscreen webkitallowfullscreen mozallowfullscreen></iframe></div></div>"
      ],
      "text/plain": [
       "<folium.folium.Map at 0x168688d4b00>"
      ]
     },
     "execution_count": 4,
     "metadata": {},
     "output_type": "execute_result"
    }
   ],
   "source": [
    "import folium\n",
    "\n",
    "# Create Sundarbans Mangroves Map\n",
    "sundarbans_map = folium.Map(location=[21.5, 89.0], zoom_start=6)\n",
    "\n",
    "# Use `folium.GeoJson` instead of `GeoJson`\n",
    "folium.GeoJson(sundarbans_aoi, name=\"Sundarbans Mangroves ROI\").add_to(sundarbans_map)\n",
    "\n",
    "# Add marker for reference\n",
    "folium.Marker([21.5, 89.0], popup='Sundarbans Mangroves').add_to(sundarbans_map)\n",
    "\n",
    "# Display Sundarbans Mangroves Map\n",
    "sundarbans_map\n"
   ]
  },
  {
   "cell_type": "markdown",
   "metadata": {},
   "source": [
    "Why We Defined ROIs: Emphasize that defining the ROIs helps focus the analysis on the exact areas where mangroves are located, making the comparison between regions more accurate and meaningful.\n",
    "\n",
    "\n",
    "Significance of the Regions: Explain how the Kenyan Mangroves are shrinking due to human activities, while the Sundarbans remains a major carbon sink despite its own environmental challenges."
   ]
  },
  {
   "cell_type": "markdown",
   "metadata": {},
   "source": [
    "## Retrieve CO₂ Flux Data for Both Regions"
   ]
  },
  {
   "cell_type": "markdown",
   "metadata": {},
   "source": [
    "Define RASTER API for Data Retrieval"
   ]
  },
  {
   "cell_type": "code",
   "execution_count": 5,
   "metadata": {},
   "outputs": [],
   "source": [
    "import requests\n",
    "\n",
    "RASTER_API_URL = \"https://earth.gov/ghgcenter/api/raster\"\n",
    "collection_name = \"eccodarwin-co2flux-monthgrid-v5\"\n",
    "asset_name = \"co2\"  # CO₂ flux dataset\n"
   ]
  },
  {
   "cell_type": "markdown",
   "metadata": {},
   "source": [
    "## Visualize CO₂ Flux Data for Both Regions on Maps"
   ]
  },
  {
   "cell_type": "markdown",
   "metadata": {},
   "source": [
    "Retrieve Data for Kenyan Mangroves and Sundarbans"
   ]
  },
  {
   "cell_type": "code",
   "execution_count": 6,
   "metadata": {},
   "outputs": [],
   "source": [
    "# Retrieve CO₂ flux data for Kenyan Mangroves (September 2022)\n",
    "kenya_flux_tile = requests.get(\n",
    "    f\"{RASTER_API_URL}/collections/{collection_name}/items/eccodarwin-co2flux-monthgrid-v5-202209/tilejson.json?\"\n",
    "    f\"&assets={asset_name}&color_formula=gamma+r+1.05&colormap_name=magma&rescale=-0.0007,0.0007\"\n",
    ").json()\n",
    "\n",
    "# Retrieve CO₂ flux data for Sundarbans (September 2022)\n",
    "sundarbans_flux_tile = requests.get(\n",
    "    f\"{RASTER_API_URL}/collections/{collection_name}/items/eccodarwin-co2flux-monthgrid-v5-202209/tilejson.json?\"\n",
    "    f\"&assets={asset_name}&color_formula=gamma+r+1.05&colormap_name=magma&rescale=-0.0007,0.0007\"\n",
    ").json()\n"
   ]
  },
  {
   "cell_type": "markdown",
   "metadata": {},
   "source": [
    "## Visualize CO₂ Flux Data for Both Regions on Maps"
   ]
  },
  {
   "cell_type": "markdown",
   "metadata": {},
   "source": [
    "Kenyan Mangroves Map"
   ]
  },
  {
   "cell_type": "code",
   "execution_count": 7,
   "metadata": {},
   "outputs": [
    {
     "data": {
      "text/html": [
       "<div style=\"width:100%;\"><div style=\"position:relative;width:100%;height:0;padding-bottom:60%;\"><span style=\"color:#565656\">Make this Notebook Trusted to load map: File -> Trust Notebook</span><iframe srcdoc=\"&lt;!DOCTYPE html&gt;\n",
       "&lt;html&gt;\n",
       "&lt;head&gt;\n",
       "    \n",
       "    &lt;meta http-equiv=&quot;content-type&quot; content=&quot;text/html; charset=UTF-8&quot; /&gt;\n",
       "    \n",
       "        &lt;script&gt;\n",
       "            L_NO_TOUCH = false;\n",
       "            L_DISABLE_3D = false;\n",
       "        &lt;/script&gt;\n",
       "    \n",
       "    &lt;style&gt;html, body {width: 100%;height: 100%;margin: 0;padding: 0;}&lt;/style&gt;\n",
       "    &lt;style&gt;#map {position:absolute;top:0;bottom:0;right:0;left:0;}&lt;/style&gt;\n",
       "    &lt;script src=&quot;https://cdn.jsdelivr.net/npm/leaflet@1.9.3/dist/leaflet.js&quot;&gt;&lt;/script&gt;\n",
       "    &lt;script src=&quot;https://code.jquery.com/jquery-3.7.1.min.js&quot;&gt;&lt;/script&gt;\n",
       "    &lt;script src=&quot;https://cdn.jsdelivr.net/npm/bootstrap@5.2.2/dist/js/bootstrap.bundle.min.js&quot;&gt;&lt;/script&gt;\n",
       "    &lt;script src=&quot;https://cdnjs.cloudflare.com/ajax/libs/Leaflet.awesome-markers/2.0.2/leaflet.awesome-markers.js&quot;&gt;&lt;/script&gt;\n",
       "    &lt;link rel=&quot;stylesheet&quot; href=&quot;https://cdn.jsdelivr.net/npm/leaflet@1.9.3/dist/leaflet.css&quot;/&gt;\n",
       "    &lt;link rel=&quot;stylesheet&quot; href=&quot;https://cdn.jsdelivr.net/npm/bootstrap@5.2.2/dist/css/bootstrap.min.css&quot;/&gt;\n",
       "    &lt;link rel=&quot;stylesheet&quot; href=&quot;https://netdna.bootstrapcdn.com/bootstrap/3.0.0/css/bootstrap-glyphicons.css&quot;/&gt;\n",
       "    &lt;link rel=&quot;stylesheet&quot; href=&quot;https://cdn.jsdelivr.net/npm/@fortawesome/fontawesome-free@6.2.0/css/all.min.css&quot;/&gt;\n",
       "    &lt;link rel=&quot;stylesheet&quot; href=&quot;https://cdnjs.cloudflare.com/ajax/libs/Leaflet.awesome-markers/2.0.2/leaflet.awesome-markers.css&quot;/&gt;\n",
       "    &lt;link rel=&quot;stylesheet&quot; href=&quot;https://cdn.jsdelivr.net/gh/python-visualization/folium/folium/templates/leaflet.awesome.rotate.min.css&quot;/&gt;\n",
       "    \n",
       "            &lt;meta name=&quot;viewport&quot; content=&quot;width=device-width,\n",
       "                initial-scale=1.0, maximum-scale=1.0, user-scalable=no&quot; /&gt;\n",
       "            &lt;style&gt;\n",
       "                #map_c87b0521165c711a90e2e11c00047200 {\n",
       "                    position: relative;\n",
       "                    width: 100.0%;\n",
       "                    height: 100.0%;\n",
       "                    left: 0.0%;\n",
       "                    top: 0.0%;\n",
       "                }\n",
       "                .leaflet-container { font-size: 1rem; }\n",
       "            &lt;/style&gt;\n",
       "        \n",
       "&lt;/head&gt;\n",
       "&lt;body&gt;\n",
       "    \n",
       "    &lt;svg height=&quot;40&quot; width=&quot;450&quot;&gt;&lt;line x1=&quot;0&quot; y1=&quot;15&quot; x2=&quot;0&quot; y2=&quot;27&quot; style=&quot;stroke:#0000ffff;stroke-width:2;&quot; /&gt;&lt;line x1=&quot;1&quot; y1=&quot;15&quot; x2=&quot;1&quot; y2=&quot;27&quot; style=&quot;stroke:#0002ffff;stroke-width:2;&quot; /&gt;&lt;line x1=&quot;2&quot; y1=&quot;15&quot; x2=&quot;2&quot; y2=&quot;27&quot; style=&quot;stroke:#0104ffff;stroke-width:2;&quot; /&gt;&lt;line x1=&quot;3&quot; y1=&quot;15&quot; x2=&quot;3&quot; y2=&quot;27&quot; style=&quot;stroke:#0206ffff;stroke-width:2;&quot; /&gt;&lt;line x1=&quot;4&quot; y1=&quot;15&quot; x2=&quot;4&quot; y2=&quot;27&quot; style=&quot;stroke:#0208ffff;stroke-width:2;&quot; /&gt;&lt;line x1=&quot;5&quot; y1=&quot;15&quot; x2=&quot;5&quot; y2=&quot;27&quot; style=&quot;stroke:#030affff;stroke-width:2;&quot; /&gt;&lt;line x1=&quot;6&quot; y1=&quot;15&quot; x2=&quot;6&quot; y2=&quot;27&quot; style=&quot;stroke:#040cffff;stroke-width:2;&quot; /&gt;&lt;line x1=&quot;7&quot; y1=&quot;15&quot; x2=&quot;7&quot; y2=&quot;27&quot; style=&quot;stroke:#040effff;stroke-width:2;&quot; /&gt;&lt;line x1=&quot;8&quot; y1=&quot;15&quot; x2=&quot;8&quot; y2=&quot;27&quot; style=&quot;stroke:#0510ffff;stroke-width:2;&quot; /&gt;&lt;line x1=&quot;9&quot; y1=&quot;15&quot; x2=&quot;9&quot; y2=&quot;27&quot; style=&quot;stroke:#0612ffff;stroke-width:2;&quot; /&gt;&lt;line x1=&quot;10&quot; y1=&quot;15&quot; x2=&quot;10&quot; y2=&quot;27&quot; style=&quot;stroke:#0614ffff;stroke-width:2;&quot; /&gt;&lt;line x1=&quot;11&quot; y1=&quot;15&quot; x2=&quot;11&quot; y2=&quot;27&quot; style=&quot;stroke:#0716ffff;stroke-width:2;&quot; /&gt;&lt;line x1=&quot;12&quot; y1=&quot;15&quot; x2=&quot;12&quot; y2=&quot;27&quot; style=&quot;stroke:#0818ffff;stroke-width:2;&quot; /&gt;&lt;line x1=&quot;13&quot; y1=&quot;15&quot; x2=&quot;13&quot; y2=&quot;27&quot; style=&quot;stroke:#081affff;stroke-width:2;&quot; /&gt;&lt;line x1=&quot;14&quot; y1=&quot;15&quot; x2=&quot;14&quot; y2=&quot;27&quot; style=&quot;stroke:#091cffff;stroke-width:2;&quot; /&gt;&lt;line x1=&quot;15&quot; y1=&quot;15&quot; x2=&quot;15&quot; y2=&quot;27&quot; style=&quot;stroke:#0a1effff;stroke-width:2;&quot; /&gt;&lt;line x1=&quot;16&quot; y1=&quot;15&quot; x2=&quot;16&quot; y2=&quot;27&quot; style=&quot;stroke:#0a20ffff;stroke-width:2;&quot; /&gt;&lt;line x1=&quot;17&quot; y1=&quot;15&quot; x2=&quot;17&quot; y2=&quot;27&quot; style=&quot;stroke:#0b22ffff;stroke-width:2;&quot; /&gt;&lt;line x1=&quot;18&quot; y1=&quot;15&quot; x2=&quot;18&quot; y2=&quot;27&quot; style=&quot;stroke:#0c24ffff;stroke-width:2;&quot; /&gt;&lt;line x1=&quot;19&quot; y1=&quot;15&quot; x2=&quot;19&quot; y2=&quot;27&quot; style=&quot;stroke:#0c26ffff;stroke-width:2;&quot; /&gt;&lt;line x1=&quot;20&quot; y1=&quot;15&quot; x2=&quot;20&quot; y2=&quot;27&quot; style=&quot;stroke:#0d29ffff;stroke-width:2;&quot; /&gt;&lt;line x1=&quot;21&quot; y1=&quot;15&quot; x2=&quot;21&quot; y2=&quot;27&quot; style=&quot;stroke:#0e2bffff;stroke-width:2;&quot; /&gt;&lt;line x1=&quot;22&quot; y1=&quot;15&quot; x2=&quot;22&quot; y2=&quot;27&quot; style=&quot;stroke:#0f2dffff;stroke-width:2;&quot; /&gt;&lt;line x1=&quot;23&quot; y1=&quot;15&quot; x2=&quot;23&quot; y2=&quot;27&quot; style=&quot;stroke:#0f2fffff;stroke-width:2;&quot; /&gt;&lt;line x1=&quot;24&quot; y1=&quot;15&quot; x2=&quot;24&quot; y2=&quot;27&quot; style=&quot;stroke:#1031ffff;stroke-width:2;&quot; /&gt;&lt;line x1=&quot;25&quot; y1=&quot;15&quot; x2=&quot;25&quot; y2=&quot;27&quot; style=&quot;stroke:#1133ffff;stroke-width:2;&quot; /&gt;&lt;line x1=&quot;26&quot; y1=&quot;15&quot; x2=&quot;26&quot; y2=&quot;27&quot; style=&quot;stroke:#1135ffff;stroke-width:2;&quot; /&gt;&lt;line x1=&quot;27&quot; y1=&quot;15&quot; x2=&quot;27&quot; y2=&quot;27&quot; style=&quot;stroke:#1237ffff;stroke-width:2;&quot; /&gt;&lt;line x1=&quot;28&quot; y1=&quot;15&quot; x2=&quot;28&quot; y2=&quot;27&quot; style=&quot;stroke:#1339ffff;stroke-width:2;&quot; /&gt;&lt;line x1=&quot;29&quot; y1=&quot;15&quot; x2=&quot;29&quot; y2=&quot;27&quot; style=&quot;stroke:#133bffff;stroke-width:2;&quot; /&gt;&lt;line x1=&quot;30&quot; y1=&quot;15&quot; x2=&quot;30&quot; y2=&quot;27&quot; style=&quot;stroke:#143dffff;stroke-width:2;&quot; /&gt;&lt;line x1=&quot;31&quot; y1=&quot;15&quot; x2=&quot;31&quot; y2=&quot;27&quot; style=&quot;stroke:#153fffff;stroke-width:2;&quot; /&gt;&lt;line x1=&quot;32&quot; y1=&quot;15&quot; x2=&quot;32&quot; y2=&quot;27&quot; style=&quot;stroke:#1541ffff;stroke-width:2;&quot; /&gt;&lt;line x1=&quot;33&quot; y1=&quot;15&quot; x2=&quot;33&quot; y2=&quot;27&quot; style=&quot;stroke:#1643ffff;stroke-width:2;&quot; /&gt;&lt;line x1=&quot;34&quot; y1=&quot;15&quot; x2=&quot;34&quot; y2=&quot;27&quot; style=&quot;stroke:#1745ffff;stroke-width:2;&quot; /&gt;&lt;line x1=&quot;35&quot; y1=&quot;15&quot; x2=&quot;35&quot; y2=&quot;27&quot; style=&quot;stroke:#1747ffff;stroke-width:2;&quot; /&gt;&lt;line x1=&quot;36&quot; y1=&quot;15&quot; x2=&quot;36&quot; y2=&quot;27&quot; style=&quot;stroke:#1849ffff;stroke-width:2;&quot; /&gt;&lt;line x1=&quot;37&quot; y1=&quot;15&quot; x2=&quot;37&quot; y2=&quot;27&quot; style=&quot;stroke:#194bffff;stroke-width:2;&quot; /&gt;&lt;line x1=&quot;38&quot; y1=&quot;15&quot; x2=&quot;38&quot; y2=&quot;27&quot; style=&quot;stroke:#194dffff;stroke-width:2;&quot; /&gt;&lt;line x1=&quot;39&quot; y1=&quot;15&quot; x2=&quot;39&quot; y2=&quot;27&quot; style=&quot;stroke:#1a50ffff;stroke-width:2;&quot; /&gt;&lt;line x1=&quot;40&quot; y1=&quot;15&quot; x2=&quot;40&quot; y2=&quot;27&quot; style=&quot;stroke:#1b52ffff;stroke-width:2;&quot; /&gt;&lt;line x1=&quot;41&quot; y1=&quot;15&quot; x2=&quot;41&quot; y2=&quot;27&quot; style=&quot;stroke:#1c54ffff;stroke-width:2;&quot; /&gt;&lt;line x1=&quot;42&quot; y1=&quot;15&quot; x2=&quot;42&quot; y2=&quot;27&quot; style=&quot;stroke:#1c56ffff;stroke-width:2;&quot; /&gt;&lt;line x1=&quot;43&quot; y1=&quot;15&quot; x2=&quot;43&quot; y2=&quot;27&quot; style=&quot;stroke:#1d58ffff;stroke-width:2;&quot; /&gt;&lt;line x1=&quot;44&quot; y1=&quot;15&quot; x2=&quot;44&quot; y2=&quot;27&quot; style=&quot;stroke:#1e5affff;stroke-width:2;&quot; /&gt;&lt;line x1=&quot;45&quot; y1=&quot;15&quot; x2=&quot;45&quot; y2=&quot;27&quot; style=&quot;stroke:#1e5cffff;stroke-width:2;&quot; /&gt;&lt;line x1=&quot;46&quot; y1=&quot;15&quot; x2=&quot;46&quot; y2=&quot;27&quot; style=&quot;stroke:#1f5effff;stroke-width:2;&quot; /&gt;&lt;line x1=&quot;47&quot; y1=&quot;15&quot; x2=&quot;47&quot; y2=&quot;27&quot; style=&quot;stroke:#2060ffff;stroke-width:2;&quot; /&gt;&lt;line x1=&quot;48&quot; y1=&quot;15&quot; x2=&quot;48&quot; y2=&quot;27&quot; style=&quot;stroke:#2062ffff;stroke-width:2;&quot; /&gt;&lt;line x1=&quot;49&quot; y1=&quot;15&quot; x2=&quot;49&quot; y2=&quot;27&quot; style=&quot;stroke:#2164ffff;stroke-width:2;&quot; /&gt;&lt;line x1=&quot;50&quot; y1=&quot;15&quot; x2=&quot;50&quot; y2=&quot;27&quot; style=&quot;stroke:#2266ffff;stroke-width:2;&quot; /&gt;&lt;line x1=&quot;51&quot; y1=&quot;15&quot; x2=&quot;51&quot; y2=&quot;27&quot; style=&quot;stroke:#2268ffff;stroke-width:2;&quot; /&gt;&lt;line x1=&quot;52&quot; y1=&quot;15&quot; x2=&quot;52&quot; y2=&quot;27&quot; style=&quot;stroke:#236affff;stroke-width:2;&quot; /&gt;&lt;line x1=&quot;53&quot; y1=&quot;15&quot; x2=&quot;53&quot; y2=&quot;27&quot; style=&quot;stroke:#246cffff;stroke-width:2;&quot; /&gt;&lt;line x1=&quot;54&quot; y1=&quot;15&quot; x2=&quot;54&quot; y2=&quot;27&quot; style=&quot;stroke:#246effff;stroke-width:2;&quot; /&gt;&lt;line x1=&quot;55&quot; y1=&quot;15&quot; x2=&quot;55&quot; y2=&quot;27&quot; style=&quot;stroke:#2570ffff;stroke-width:2;&quot; /&gt;&lt;line x1=&quot;56&quot; y1=&quot;15&quot; x2=&quot;56&quot; y2=&quot;27&quot; style=&quot;stroke:#2672ffff;stroke-width:2;&quot; /&gt;&lt;line x1=&quot;57&quot; y1=&quot;15&quot; x2=&quot;57&quot; y2=&quot;27&quot; style=&quot;stroke:#2674ffff;stroke-width:2;&quot; /&gt;&lt;line x1=&quot;58&quot; y1=&quot;15&quot; x2=&quot;58&quot; y2=&quot;27&quot; style=&quot;stroke:#2777ffff;stroke-width:2;&quot; /&gt;&lt;line x1=&quot;59&quot; y1=&quot;15&quot; x2=&quot;59&quot; y2=&quot;27&quot; style=&quot;stroke:#2879ffff;stroke-width:2;&quot; /&gt;&lt;line x1=&quot;60&quot; y1=&quot;15&quot; x2=&quot;60&quot; y2=&quot;27&quot; style=&quot;stroke:#297bffff;stroke-width:2;&quot; /&gt;&lt;line x1=&quot;61&quot; y1=&quot;15&quot; x2=&quot;61&quot; y2=&quot;27&quot; style=&quot;stroke:#297dffff;stroke-width:2;&quot; /&gt;&lt;line x1=&quot;62&quot; y1=&quot;15&quot; x2=&quot;62&quot; y2=&quot;27&quot; style=&quot;stroke:#2a7fffff;stroke-width:2;&quot; /&gt;&lt;line x1=&quot;63&quot; y1=&quot;15&quot; x2=&quot;63&quot; y2=&quot;27&quot; style=&quot;stroke:#2b81ffff;stroke-width:2;&quot; /&gt;&lt;line x1=&quot;64&quot; y1=&quot;15&quot; x2=&quot;64&quot; y2=&quot;27&quot; style=&quot;stroke:#2b83ffff;stroke-width:2;&quot; /&gt;&lt;line x1=&quot;65&quot; y1=&quot;15&quot; x2=&quot;65&quot; y2=&quot;27&quot; style=&quot;stroke:#2c85ffff;stroke-width:2;&quot; /&gt;&lt;line x1=&quot;66&quot; y1=&quot;15&quot; x2=&quot;66&quot; y2=&quot;27&quot; style=&quot;stroke:#2d87ffff;stroke-width:2;&quot; /&gt;&lt;line x1=&quot;67&quot; y1=&quot;15&quot; x2=&quot;67&quot; y2=&quot;27&quot; style=&quot;stroke:#2d89ffff;stroke-width:2;&quot; /&gt;&lt;line x1=&quot;68&quot; y1=&quot;15&quot; x2=&quot;68&quot; y2=&quot;27&quot; style=&quot;stroke:#2e8bffff;stroke-width:2;&quot; /&gt;&lt;line x1=&quot;69&quot; y1=&quot;15&quot; x2=&quot;69&quot; y2=&quot;27&quot; style=&quot;stroke:#2f8dffff;stroke-width:2;&quot; /&gt;&lt;line x1=&quot;70&quot; y1=&quot;15&quot; x2=&quot;70&quot; y2=&quot;27&quot; style=&quot;stroke:#2f8fffff;stroke-width:2;&quot; /&gt;&lt;line x1=&quot;71&quot; y1=&quot;15&quot; x2=&quot;71&quot; y2=&quot;27&quot; style=&quot;stroke:#3091ffff;stroke-width:2;&quot; /&gt;&lt;line x1=&quot;72&quot; y1=&quot;15&quot; x2=&quot;72&quot; y2=&quot;27&quot; style=&quot;stroke:#3193ffff;stroke-width:2;&quot; /&gt;&lt;line x1=&quot;73&quot; y1=&quot;15&quot; x2=&quot;73&quot; y2=&quot;27&quot; style=&quot;stroke:#3195ffff;stroke-width:2;&quot; /&gt;&lt;line x1=&quot;74&quot; y1=&quot;15&quot; x2=&quot;74&quot; y2=&quot;27&quot; style=&quot;stroke:#3297ffff;stroke-width:2;&quot; /&gt;&lt;line x1=&quot;75&quot; y1=&quot;15&quot; x2=&quot;75&quot; y2=&quot;27&quot; style=&quot;stroke:#3399ffff;stroke-width:2;&quot; /&gt;&lt;line x1=&quot;76&quot; y1=&quot;15&quot; x2=&quot;76&quot; y2=&quot;27&quot; style=&quot;stroke:#339affff;stroke-width:2;&quot; /&gt;&lt;line x1=&quot;77&quot; y1=&quot;15&quot; x2=&quot;77&quot; y2=&quot;27&quot; style=&quot;stroke:#349bffff;stroke-width:2;&quot; /&gt;&lt;line x1=&quot;78&quot; y1=&quot;15&quot; x2=&quot;78&quot; y2=&quot;27&quot; style=&quot;stroke:#359bffff;stroke-width:2;&quot; /&gt;&lt;line x1=&quot;79&quot; y1=&quot;15&quot; x2=&quot;79&quot; y2=&quot;27&quot; style=&quot;stroke:#369cffff;stroke-width:2;&quot; /&gt;&lt;line x1=&quot;80&quot; y1=&quot;15&quot; x2=&quot;80&quot; y2=&quot;27&quot; style=&quot;stroke:#369dffff;stroke-width:2;&quot; /&gt;&lt;line x1=&quot;81&quot; y1=&quot;15&quot; x2=&quot;81&quot; y2=&quot;27&quot; style=&quot;stroke:#379dffff;stroke-width:2;&quot; /&gt;&lt;line x1=&quot;82&quot; y1=&quot;15&quot; x2=&quot;82&quot; y2=&quot;27&quot; style=&quot;stroke:#389effff;stroke-width:2;&quot; /&gt;&lt;line x1=&quot;83&quot; y1=&quot;15&quot; x2=&quot;83&quot; y2=&quot;27&quot; style=&quot;stroke:#389fffff;stroke-width:2;&quot; /&gt;&lt;line x1=&quot;84&quot; y1=&quot;15&quot; x2=&quot;84&quot; y2=&quot;27&quot; style=&quot;stroke:#399fffff;stroke-width:2;&quot; /&gt;&lt;line x1=&quot;85&quot; y1=&quot;15&quot; x2=&quot;85&quot; y2=&quot;27&quot; style=&quot;stroke:#3aa0ffff;stroke-width:2;&quot; /&gt;&lt;line x1=&quot;86&quot; y1=&quot;15&quot; x2=&quot;86&quot; y2=&quot;27&quot; style=&quot;stroke:#3aa1ffff;stroke-width:2;&quot; /&gt;&lt;line x1=&quot;87&quot; y1=&quot;15&quot; x2=&quot;87&quot; y2=&quot;27&quot; style=&quot;stroke:#3ba1ffff;stroke-width:2;&quot; /&gt;&lt;line x1=&quot;88&quot; y1=&quot;15&quot; x2=&quot;88&quot; y2=&quot;27&quot; style=&quot;stroke:#3ca2ffff;stroke-width:2;&quot; /&gt;&lt;line x1=&quot;89&quot; y1=&quot;15&quot; x2=&quot;89&quot; y2=&quot;27&quot; style=&quot;stroke:#3ca3ffff;stroke-width:2;&quot; /&gt;&lt;line x1=&quot;90&quot; y1=&quot;15&quot; x2=&quot;90&quot; y2=&quot;27&quot; style=&quot;stroke:#3da3ffff;stroke-width:2;&quot; /&gt;&lt;line x1=&quot;91&quot; y1=&quot;15&quot; x2=&quot;91&quot; y2=&quot;27&quot; style=&quot;stroke:#3ea4ffff;stroke-width:2;&quot; /&gt;&lt;line x1=&quot;92&quot; y1=&quot;15&quot; x2=&quot;92&quot; y2=&quot;27&quot; style=&quot;stroke:#3ea5ffff;stroke-width:2;&quot; /&gt;&lt;line x1=&quot;93&quot; y1=&quot;15&quot; x2=&quot;93&quot; y2=&quot;27&quot; style=&quot;stroke:#3fa6ffff;stroke-width:2;&quot; /&gt;&lt;line x1=&quot;94&quot; y1=&quot;15&quot; x2=&quot;94&quot; y2=&quot;27&quot; style=&quot;stroke:#40a6ffff;stroke-width:2;&quot; /&gt;&lt;line x1=&quot;95&quot; y1=&quot;15&quot; x2=&quot;95&quot; y2=&quot;27&quot; style=&quot;stroke:#40a7ffff;stroke-width:2;&quot; /&gt;&lt;line x1=&quot;96&quot; y1=&quot;15&quot; x2=&quot;96&quot; y2=&quot;27&quot; style=&quot;stroke:#41a8ffff;stroke-width:2;&quot; /&gt;&lt;line x1=&quot;97&quot; y1=&quot;15&quot; x2=&quot;97&quot; y2=&quot;27&quot; style=&quot;stroke:#42a8ffff;stroke-width:2;&quot; /&gt;&lt;line x1=&quot;98&quot; y1=&quot;15&quot; x2=&quot;98&quot; y2=&quot;27&quot; style=&quot;stroke:#43a9ffff;stroke-width:2;&quot; /&gt;&lt;line x1=&quot;99&quot; y1=&quot;15&quot; x2=&quot;99&quot; y2=&quot;27&quot; style=&quot;stroke:#43aaffff;stroke-width:2;&quot; /&gt;&lt;line x1=&quot;100&quot; y1=&quot;15&quot; x2=&quot;100&quot; y2=&quot;27&quot; style=&quot;stroke:#44aaffff;stroke-width:2;&quot; /&gt;&lt;line x1=&quot;101&quot; y1=&quot;15&quot; x2=&quot;101&quot; y2=&quot;27&quot; style=&quot;stroke:#45abffff;stroke-width:2;&quot; /&gt;&lt;line x1=&quot;102&quot; y1=&quot;15&quot; x2=&quot;102&quot; y2=&quot;27&quot; style=&quot;stroke:#45acffff;stroke-width:2;&quot; /&gt;&lt;line x1=&quot;103&quot; y1=&quot;15&quot; x2=&quot;103&quot; y2=&quot;27&quot; style=&quot;stroke:#46acffff;stroke-width:2;&quot; /&gt;&lt;line x1=&quot;104&quot; y1=&quot;15&quot; x2=&quot;104&quot; y2=&quot;27&quot; style=&quot;stroke:#47adffff;stroke-width:2;&quot; /&gt;&lt;line x1=&quot;105&quot; y1=&quot;15&quot; x2=&quot;105&quot; y2=&quot;27&quot; style=&quot;stroke:#47aeffff;stroke-width:2;&quot; /&gt;&lt;line x1=&quot;106&quot; y1=&quot;15&quot; x2=&quot;106&quot; y2=&quot;27&quot; style=&quot;stroke:#48aeffff;stroke-width:2;&quot; /&gt;&lt;line x1=&quot;107&quot; y1=&quot;15&quot; x2=&quot;107&quot; y2=&quot;27&quot; style=&quot;stroke:#49afffff;stroke-width:2;&quot; /&gt;&lt;line x1=&quot;108&quot; y1=&quot;15&quot; x2=&quot;108&quot; y2=&quot;27&quot; style=&quot;stroke:#49b0ffff;stroke-width:2;&quot; /&gt;&lt;line x1=&quot;109&quot; y1=&quot;15&quot; x2=&quot;109&quot; y2=&quot;27&quot; style=&quot;stroke:#4ab0ffff;stroke-width:2;&quot; /&gt;&lt;line x1=&quot;110&quot; y1=&quot;15&quot; x2=&quot;110&quot; y2=&quot;27&quot; style=&quot;stroke:#4bb1ffff;stroke-width:2;&quot; /&gt;&lt;line x1=&quot;111&quot; y1=&quot;15&quot; x2=&quot;111&quot; y2=&quot;27&quot; style=&quot;stroke:#4bb2ffff;stroke-width:2;&quot; /&gt;&lt;line x1=&quot;112&quot; y1=&quot;15&quot; x2=&quot;112&quot; y2=&quot;27&quot; style=&quot;stroke:#4cb3ffff;stroke-width:2;&quot; /&gt;&lt;line x1=&quot;113&quot; y1=&quot;15&quot; x2=&quot;113&quot; y2=&quot;27&quot; style=&quot;stroke:#4db3ffff;stroke-width:2;&quot; /&gt;&lt;line x1=&quot;114&quot; y1=&quot;15&quot; x2=&quot;114&quot; y2=&quot;27&quot; style=&quot;stroke:#4db4ffff;stroke-width:2;&quot; /&gt;&lt;line x1=&quot;115&quot; y1=&quot;15&quot; x2=&quot;115&quot; y2=&quot;27&quot; style=&quot;stroke:#4eb5ffff;stroke-width:2;&quot; /&gt;&lt;line x1=&quot;116&quot; y1=&quot;15&quot; x2=&quot;116&quot; y2=&quot;27&quot; style=&quot;stroke:#4fb5ffff;stroke-width:2;&quot; /&gt;&lt;line x1=&quot;117&quot; y1=&quot;15&quot; x2=&quot;117&quot; y2=&quot;27&quot; style=&quot;stroke:#50b6ffff;stroke-width:2;&quot; /&gt;&lt;line x1=&quot;118&quot; y1=&quot;15&quot; x2=&quot;118&quot; y2=&quot;27&quot; style=&quot;stroke:#50b7ffff;stroke-width:2;&quot; /&gt;&lt;line x1=&quot;119&quot; y1=&quot;15&quot; x2=&quot;119&quot; y2=&quot;27&quot; style=&quot;stroke:#51b7ffff;stroke-width:2;&quot; /&gt;&lt;line x1=&quot;120&quot; y1=&quot;15&quot; x2=&quot;120&quot; y2=&quot;27&quot; style=&quot;stroke:#52b8ffff;stroke-width:2;&quot; /&gt;&lt;line x1=&quot;121&quot; y1=&quot;15&quot; x2=&quot;121&quot; y2=&quot;27&quot; style=&quot;stroke:#52b9ffff;stroke-width:2;&quot; /&gt;&lt;line x1=&quot;122&quot; y1=&quot;15&quot; x2=&quot;122&quot; y2=&quot;27&quot; style=&quot;stroke:#53b9ffff;stroke-width:2;&quot; /&gt;&lt;line x1=&quot;123&quot; y1=&quot;15&quot; x2=&quot;123&quot; y2=&quot;27&quot; style=&quot;stroke:#54baffff;stroke-width:2;&quot; /&gt;&lt;line x1=&quot;124&quot; y1=&quot;15&quot; x2=&quot;124&quot; y2=&quot;27&quot; style=&quot;stroke:#54bbffff;stroke-width:2;&quot; /&gt;&lt;line x1=&quot;125&quot; y1=&quot;15&quot; x2=&quot;125&quot; y2=&quot;27&quot; style=&quot;stroke:#55bbffff;stroke-width:2;&quot; /&gt;&lt;line x1=&quot;126&quot; y1=&quot;15&quot; x2=&quot;126&quot; y2=&quot;27&quot; style=&quot;stroke:#56bcffff;stroke-width:2;&quot; /&gt;&lt;line x1=&quot;127&quot; y1=&quot;15&quot; x2=&quot;127&quot; y2=&quot;27&quot; style=&quot;stroke:#56bdffff;stroke-width:2;&quot; /&gt;&lt;line x1=&quot;128&quot; y1=&quot;15&quot; x2=&quot;128&quot; y2=&quot;27&quot; style=&quot;stroke:#57bdffff;stroke-width:2;&quot; /&gt;&lt;line x1=&quot;129&quot; y1=&quot;15&quot; x2=&quot;129&quot; y2=&quot;27&quot; style=&quot;stroke:#58beffff;stroke-width:2;&quot; /&gt;&lt;line x1=&quot;130&quot; y1=&quot;15&quot; x2=&quot;130&quot; y2=&quot;27&quot; style=&quot;stroke:#58bfffff;stroke-width:2;&quot; /&gt;&lt;line x1=&quot;131&quot; y1=&quot;15&quot; x2=&quot;131&quot; y2=&quot;27&quot; style=&quot;stroke:#59c0ffff;stroke-width:2;&quot; /&gt;&lt;line x1=&quot;132&quot; y1=&quot;15&quot; x2=&quot;132&quot; y2=&quot;27&quot; style=&quot;stroke:#5ac0ffff;stroke-width:2;&quot; /&gt;&lt;line x1=&quot;133&quot; y1=&quot;15&quot; x2=&quot;133&quot; y2=&quot;27&quot; style=&quot;stroke:#5ac1ffff;stroke-width:2;&quot; /&gt;&lt;line x1=&quot;134&quot; y1=&quot;15&quot; x2=&quot;134&quot; y2=&quot;27&quot; style=&quot;stroke:#5bc2ffff;stroke-width:2;&quot; /&gt;&lt;line x1=&quot;135&quot; y1=&quot;15&quot; x2=&quot;135&quot; y2=&quot;27&quot; style=&quot;stroke:#5cc2ffff;stroke-width:2;&quot; /&gt;&lt;line x1=&quot;136&quot; y1=&quot;15&quot; x2=&quot;136&quot; y2=&quot;27&quot; style=&quot;stroke:#5dc3ffff;stroke-width:2;&quot; /&gt;&lt;line x1=&quot;137&quot; y1=&quot;15&quot; x2=&quot;137&quot; y2=&quot;27&quot; style=&quot;stroke:#5dc4ffff;stroke-width:2;&quot; /&gt;&lt;line x1=&quot;138&quot; y1=&quot;15&quot; x2=&quot;138&quot; y2=&quot;27&quot; style=&quot;stroke:#5ec4ffff;stroke-width:2;&quot; /&gt;&lt;line x1=&quot;139&quot; y1=&quot;15&quot; x2=&quot;139&quot; y2=&quot;27&quot; style=&quot;stroke:#5fc5ffff;stroke-width:2;&quot; /&gt;&lt;line x1=&quot;140&quot; y1=&quot;15&quot; x2=&quot;140&quot; y2=&quot;27&quot; style=&quot;stroke:#5fc6ffff;stroke-width:2;&quot; /&gt;&lt;line x1=&quot;141&quot; y1=&quot;15&quot; x2=&quot;141&quot; y2=&quot;27&quot; style=&quot;stroke:#60c6ffff;stroke-width:2;&quot; /&gt;&lt;line x1=&quot;142&quot; y1=&quot;15&quot; x2=&quot;142&quot; y2=&quot;27&quot; style=&quot;stroke:#61c7ffff;stroke-width:2;&quot; /&gt;&lt;line x1=&quot;143&quot; y1=&quot;15&quot; x2=&quot;143&quot; y2=&quot;27&quot; style=&quot;stroke:#61c8ffff;stroke-width:2;&quot; /&gt;&lt;line x1=&quot;144&quot; y1=&quot;15&quot; x2=&quot;144&quot; y2=&quot;27&quot; style=&quot;stroke:#62c8ffff;stroke-width:2;&quot; /&gt;&lt;line x1=&quot;145&quot; y1=&quot;15&quot; x2=&quot;145&quot; y2=&quot;27&quot; style=&quot;stroke:#63c9ffff;stroke-width:2;&quot; /&gt;&lt;line x1=&quot;146&quot; y1=&quot;15&quot; x2=&quot;146&quot; y2=&quot;27&quot; style=&quot;stroke:#63caffff;stroke-width:2;&quot; /&gt;&lt;line x1=&quot;147&quot; y1=&quot;15&quot; x2=&quot;147&quot; y2=&quot;27&quot; style=&quot;stroke:#64caffff;stroke-width:2;&quot; /&gt;&lt;line x1=&quot;148&quot; y1=&quot;15&quot; x2=&quot;148&quot; y2=&quot;27&quot; style=&quot;stroke:#65cbffff;stroke-width:2;&quot; /&gt;&lt;line x1=&quot;149&quot; y1=&quot;15&quot; x2=&quot;149&quot; y2=&quot;27&quot; style=&quot;stroke:#65ccffff;stroke-width:2;&quot; /&gt;&lt;line x1=&quot;150&quot; y1=&quot;15&quot; x2=&quot;150&quot; y2=&quot;27&quot; style=&quot;stroke:#67cdffff;stroke-width:2;&quot; /&gt;&lt;line x1=&quot;151&quot; y1=&quot;15&quot; x2=&quot;151&quot; y2=&quot;27&quot; style=&quot;stroke:#69cdffff;stroke-width:2;&quot; /&gt;&lt;line x1=&quot;152&quot; y1=&quot;15&quot; x2=&quot;152&quot; y2=&quot;27&quot; style=&quot;stroke:#6bceffff;stroke-width:2;&quot; /&gt;&lt;line x1=&quot;153&quot; y1=&quot;15&quot; x2=&quot;153&quot; y2=&quot;27&quot; style=&quot;stroke:#6dcfffff;stroke-width:2;&quot; /&gt;&lt;line x1=&quot;154&quot; y1=&quot;15&quot; x2=&quot;154&quot; y2=&quot;27&quot; style=&quot;stroke:#6fcfffff;stroke-width:2;&quot; /&gt;&lt;line x1=&quot;155&quot; y1=&quot;15&quot; x2=&quot;155&quot; y2=&quot;27&quot; style=&quot;stroke:#71d0ffff;stroke-width:2;&quot; /&gt;&lt;line x1=&quot;156&quot; y1=&quot;15&quot; x2=&quot;156&quot; y2=&quot;27&quot; style=&quot;stroke:#73d1ffff;stroke-width:2;&quot; /&gt;&lt;line x1=&quot;157&quot; y1=&quot;15&quot; x2=&quot;157&quot; y2=&quot;27&quot; style=&quot;stroke:#75d1ffff;stroke-width:2;&quot; /&gt;&lt;line x1=&quot;158&quot; y1=&quot;15&quot; x2=&quot;158&quot; y2=&quot;27&quot; style=&quot;stroke:#77d2ffff;stroke-width:2;&quot; /&gt;&lt;line x1=&quot;159&quot; y1=&quot;15&quot; x2=&quot;159&quot; y2=&quot;27&quot; style=&quot;stroke:#79d3ffff;stroke-width:2;&quot; /&gt;&lt;line x1=&quot;160&quot; y1=&quot;15&quot; x2=&quot;160&quot; y2=&quot;27&quot; style=&quot;stroke:#7bd3ffff;stroke-width:2;&quot; /&gt;&lt;line x1=&quot;161&quot; y1=&quot;15&quot; x2=&quot;161&quot; y2=&quot;27&quot; style=&quot;stroke:#7dd4ffff;stroke-width:2;&quot; /&gt;&lt;line x1=&quot;162&quot; y1=&quot;15&quot; x2=&quot;162&quot; y2=&quot;27&quot; style=&quot;stroke:#7fd5ffff;stroke-width:2;&quot; /&gt;&lt;line x1=&quot;163&quot; y1=&quot;15&quot; x2=&quot;163&quot; y2=&quot;27&quot; style=&quot;stroke:#81d5ffff;stroke-width:2;&quot; /&gt;&lt;line x1=&quot;164&quot; y1=&quot;15&quot; x2=&quot;164&quot; y2=&quot;27&quot; style=&quot;stroke:#83d6ffff;stroke-width:2;&quot; /&gt;&lt;line x1=&quot;165&quot; y1=&quot;15&quot; x2=&quot;165&quot; y2=&quot;27&quot; style=&quot;stroke:#85d7ffff;stroke-width:2;&quot; /&gt;&lt;line x1=&quot;166&quot; y1=&quot;15&quot; x2=&quot;166&quot; y2=&quot;27&quot; style=&quot;stroke:#87d7ffff;stroke-width:2;&quot; /&gt;&lt;line x1=&quot;167&quot; y1=&quot;15&quot; x2=&quot;167&quot; y2=&quot;27&quot; style=&quot;stroke:#89d8ffff;stroke-width:2;&quot; /&gt;&lt;line x1=&quot;168&quot; y1=&quot;15&quot; x2=&quot;168&quot; y2=&quot;27&quot; style=&quot;stroke:#8cd9ffff;stroke-width:2;&quot; /&gt;&lt;line x1=&quot;169&quot; y1=&quot;15&quot; x2=&quot;169&quot; y2=&quot;27&quot; style=&quot;stroke:#8edaffff;stroke-width:2;&quot; /&gt;&lt;line x1=&quot;170&quot; y1=&quot;15&quot; x2=&quot;170&quot; y2=&quot;27&quot; style=&quot;stroke:#90daffff;stroke-width:2;&quot; /&gt;&lt;line x1=&quot;171&quot; y1=&quot;15&quot; x2=&quot;171&quot; y2=&quot;27&quot; style=&quot;stroke:#92dbffff;stroke-width:2;&quot; /&gt;&lt;line x1=&quot;172&quot; y1=&quot;15&quot; x2=&quot;172&quot; y2=&quot;27&quot; style=&quot;stroke:#94dcffff;stroke-width:2;&quot; /&gt;&lt;line x1=&quot;173&quot; y1=&quot;15&quot; x2=&quot;173&quot; y2=&quot;27&quot; style=&quot;stroke:#96dcffff;stroke-width:2;&quot; /&gt;&lt;line x1=&quot;174&quot; y1=&quot;15&quot; x2=&quot;174&quot; y2=&quot;27&quot; style=&quot;stroke:#98ddffff;stroke-width:2;&quot; /&gt;&lt;line x1=&quot;175&quot; y1=&quot;15&quot; x2=&quot;175&quot; y2=&quot;27&quot; style=&quot;stroke:#9adeffff;stroke-width:2;&quot; /&gt;&lt;line x1=&quot;176&quot; y1=&quot;15&quot; x2=&quot;176&quot; y2=&quot;27&quot; style=&quot;stroke:#9cdeffff;stroke-width:2;&quot; /&gt;&lt;line x1=&quot;177&quot; y1=&quot;15&quot; x2=&quot;177&quot; y2=&quot;27&quot; style=&quot;stroke:#9edfffff;stroke-width:2;&quot; /&gt;&lt;line x1=&quot;178&quot; y1=&quot;15&quot; x2=&quot;178&quot; y2=&quot;27&quot; style=&quot;stroke:#a0e0ffff;stroke-width:2;&quot; /&gt;&lt;line x1=&quot;179&quot; y1=&quot;15&quot; x2=&quot;179&quot; y2=&quot;27&quot; style=&quot;stroke:#a2e0ffff;stroke-width:2;&quot; /&gt;&lt;line x1=&quot;180&quot; y1=&quot;15&quot; x2=&quot;180&quot; y2=&quot;27&quot; style=&quot;stroke:#a4e1ffff;stroke-width:2;&quot; /&gt;&lt;line x1=&quot;181&quot; y1=&quot;15&quot; x2=&quot;181&quot; y2=&quot;27&quot; style=&quot;stroke:#a6e2ffff;stroke-width:2;&quot; /&gt;&lt;line x1=&quot;182&quot; y1=&quot;15&quot; x2=&quot;182&quot; y2=&quot;27&quot; style=&quot;stroke:#a8e2ffff;stroke-width:2;&quot; /&gt;&lt;line x1=&quot;183&quot; y1=&quot;15&quot; x2=&quot;183&quot; y2=&quot;27&quot; style=&quot;stroke:#aae3ffff;stroke-width:2;&quot; /&gt;&lt;line x1=&quot;184&quot; y1=&quot;15&quot; x2=&quot;184&quot; y2=&quot;27&quot; style=&quot;stroke:#ace4ffff;stroke-width:2;&quot; /&gt;&lt;line x1=&quot;185&quot; y1=&quot;15&quot; x2=&quot;185&quot; y2=&quot;27&quot; style=&quot;stroke:#aee4ffff;stroke-width:2;&quot; /&gt;&lt;line x1=&quot;186&quot; y1=&quot;15&quot; x2=&quot;186&quot; y2=&quot;27&quot; style=&quot;stroke:#b0e5ffff;stroke-width:2;&quot; /&gt;&lt;line x1=&quot;187&quot; y1=&quot;15&quot; x2=&quot;187&quot; y2=&quot;27&quot; style=&quot;stroke:#b3e6ffff;stroke-width:2;&quot; /&gt;&lt;line x1=&quot;188&quot; y1=&quot;15&quot; x2=&quot;188&quot; y2=&quot;27&quot; style=&quot;stroke:#b5e7ffff;stroke-width:2;&quot; /&gt;&lt;line x1=&quot;189&quot; y1=&quot;15&quot; x2=&quot;189&quot; y2=&quot;27&quot; style=&quot;stroke:#b7e7ffff;stroke-width:2;&quot; /&gt;&lt;line x1=&quot;190&quot; y1=&quot;15&quot; x2=&quot;190&quot; y2=&quot;27&quot; style=&quot;stroke:#b9e8ffff;stroke-width:2;&quot; /&gt;&lt;line x1=&quot;191&quot; y1=&quot;15&quot; x2=&quot;191&quot; y2=&quot;27&quot; style=&quot;stroke:#bbe9ffff;stroke-width:2;&quot; /&gt;&lt;line x1=&quot;192&quot; y1=&quot;15&quot; x2=&quot;192&quot; y2=&quot;27&quot; style=&quot;stroke:#bde9ffff;stroke-width:2;&quot; /&gt;&lt;line x1=&quot;193&quot; y1=&quot;15&quot; x2=&quot;193&quot; y2=&quot;27&quot; style=&quot;stroke:#bfeaffff;stroke-width:2;&quot; /&gt;&lt;line x1=&quot;194&quot; y1=&quot;15&quot; x2=&quot;194&quot; y2=&quot;27&quot; style=&quot;stroke:#c1ebffff;stroke-width:2;&quot; /&gt;&lt;line x1=&quot;195&quot; y1=&quot;15&quot; x2=&quot;195&quot; y2=&quot;27&quot; style=&quot;stroke:#c3ebffff;stroke-width:2;&quot; /&gt;&lt;line x1=&quot;196&quot; y1=&quot;15&quot; x2=&quot;196&quot; y2=&quot;27&quot; style=&quot;stroke:#c5ecffff;stroke-width:2;&quot; /&gt;&lt;line x1=&quot;197&quot; y1=&quot;15&quot; x2=&quot;197&quot; y2=&quot;27&quot; style=&quot;stroke:#c7edffff;stroke-width:2;&quot; /&gt;&lt;line x1=&quot;198&quot; y1=&quot;15&quot; x2=&quot;198&quot; y2=&quot;27&quot; style=&quot;stroke:#c9edffff;stroke-width:2;&quot; /&gt;&lt;line x1=&quot;199&quot; y1=&quot;15&quot; x2=&quot;199&quot; y2=&quot;27&quot; style=&quot;stroke:#cbeeffff;stroke-width:2;&quot; /&gt;&lt;line x1=&quot;200&quot; y1=&quot;15&quot; x2=&quot;200&quot; y2=&quot;27&quot; style=&quot;stroke:#cdefffff;stroke-width:2;&quot; /&gt;&lt;line x1=&quot;201&quot; y1=&quot;15&quot; x2=&quot;201&quot; y2=&quot;27&quot; style=&quot;stroke:#cfefffff;stroke-width:2;&quot; /&gt;&lt;line x1=&quot;202&quot; y1=&quot;15&quot; x2=&quot;202&quot; y2=&quot;27&quot; style=&quot;stroke:#d1f0ffff;stroke-width:2;&quot; /&gt;&lt;line x1=&quot;203&quot; y1=&quot;15&quot; x2=&quot;203&quot; y2=&quot;27&quot; style=&quot;stroke:#d3f1ffff;stroke-width:2;&quot; /&gt;&lt;line x1=&quot;204&quot; y1=&quot;15&quot; x2=&quot;204&quot; y2=&quot;27&quot; style=&quot;stroke:#d5f1ffff;stroke-width:2;&quot; /&gt;&lt;line x1=&quot;205&quot; y1=&quot;15&quot; x2=&quot;205&quot; y2=&quot;27&quot; style=&quot;stroke:#d7f2ffff;stroke-width:2;&quot; /&gt;&lt;line x1=&quot;206&quot; y1=&quot;15&quot; x2=&quot;206&quot; y2=&quot;27&quot; style=&quot;stroke:#daf3ffff;stroke-width:2;&quot; /&gt;&lt;line x1=&quot;207&quot; y1=&quot;15&quot; x2=&quot;207&quot; y2=&quot;27&quot; style=&quot;stroke:#dcf4ffff;stroke-width:2;&quot; /&gt;&lt;line x1=&quot;208&quot; y1=&quot;15&quot; x2=&quot;208&quot; y2=&quot;27&quot; style=&quot;stroke:#def4ffff;stroke-width:2;&quot; /&gt;&lt;line x1=&quot;209&quot; y1=&quot;15&quot; x2=&quot;209&quot; y2=&quot;27&quot; style=&quot;stroke:#e0f5ffff;stroke-width:2;&quot; /&gt;&lt;line x1=&quot;210&quot; y1=&quot;15&quot; x2=&quot;210&quot; y2=&quot;27&quot; style=&quot;stroke:#e2f6ffff;stroke-width:2;&quot; /&gt;&lt;line x1=&quot;211&quot; y1=&quot;15&quot; x2=&quot;211&quot; y2=&quot;27&quot; style=&quot;stroke:#e4f6ffff;stroke-width:2;&quot; /&gt;&lt;line x1=&quot;212&quot; y1=&quot;15&quot; x2=&quot;212&quot; y2=&quot;27&quot; style=&quot;stroke:#e6f7ffff;stroke-width:2;&quot; /&gt;&lt;line x1=&quot;213&quot; y1=&quot;15&quot; x2=&quot;213&quot; y2=&quot;27&quot; style=&quot;stroke:#e8f8ffff;stroke-width:2;&quot; /&gt;&lt;line x1=&quot;214&quot; y1=&quot;15&quot; x2=&quot;214&quot; y2=&quot;27&quot; style=&quot;stroke:#eaf8ffff;stroke-width:2;&quot; /&gt;&lt;line x1=&quot;215&quot; y1=&quot;15&quot; x2=&quot;215&quot; y2=&quot;27&quot; style=&quot;stroke:#ecf9ffff;stroke-width:2;&quot; /&gt;&lt;line x1=&quot;216&quot; y1=&quot;15&quot; x2=&quot;216&quot; y2=&quot;27&quot; style=&quot;stroke:#eefaffff;stroke-width:2;&quot; /&gt;&lt;line x1=&quot;217&quot; y1=&quot;15&quot; x2=&quot;217&quot; y2=&quot;27&quot; style=&quot;stroke:#f0faffff;stroke-width:2;&quot; /&gt;&lt;line x1=&quot;218&quot; y1=&quot;15&quot; x2=&quot;218&quot; y2=&quot;27&quot; style=&quot;stroke:#f2fbffff;stroke-width:2;&quot; /&gt;&lt;line x1=&quot;219&quot; y1=&quot;15&quot; x2=&quot;219&quot; y2=&quot;27&quot; style=&quot;stroke:#f4fcffff;stroke-width:2;&quot; /&gt;&lt;line x1=&quot;220&quot; y1=&quot;15&quot; x2=&quot;220&quot; y2=&quot;27&quot; style=&quot;stroke:#f6fcffff;stroke-width:2;&quot; /&gt;&lt;line x1=&quot;221&quot; y1=&quot;15&quot; x2=&quot;221&quot; y2=&quot;27&quot; style=&quot;stroke:#f8fdffff;stroke-width:2;&quot; /&gt;&lt;line x1=&quot;222&quot; y1=&quot;15&quot; x2=&quot;222&quot; y2=&quot;27&quot; style=&quot;stroke:#fafeffff;stroke-width:2;&quot; /&gt;&lt;line x1=&quot;223&quot; y1=&quot;15&quot; x2=&quot;223&quot; y2=&quot;27&quot; style=&quot;stroke:#fcfeffff;stroke-width:2;&quot; /&gt;&lt;line x1=&quot;224&quot; y1=&quot;15&quot; x2=&quot;224&quot; y2=&quot;27&quot; style=&quot;stroke:#feffffff;stroke-width:2;&quot; /&gt;&lt;line x1=&quot;225&quot; y1=&quot;15&quot; x2=&quot;225&quot; y2=&quot;27&quot; style=&quot;stroke:#fffeffff;stroke-width:2;&quot; /&gt;&lt;line x1=&quot;226&quot; y1=&quot;15&quot; x2=&quot;226&quot; y2=&quot;27&quot; style=&quot;stroke:#fffcfeff;stroke-width:2;&quot; /&gt;&lt;line x1=&quot;227&quot; y1=&quot;15&quot; x2=&quot;227&quot; y2=&quot;27&quot; style=&quot;stroke:#fffafeff;stroke-width:2;&quot; /&gt;&lt;line x1=&quot;228&quot; y1=&quot;15&quot; x2=&quot;228&quot; y2=&quot;27&quot; style=&quot;stroke:#fff8fdff;stroke-width:2;&quot; /&gt;&lt;line x1=&quot;229&quot; y1=&quot;15&quot; x2=&quot;229&quot; y2=&quot;27&quot; style=&quot;stroke:#fff6fcff;stroke-width:2;&quot; /&gt;&lt;line x1=&quot;230&quot; y1=&quot;15&quot; x2=&quot;230&quot; y2=&quot;27&quot; style=&quot;stroke:#fff4fcff;stroke-width:2;&quot; /&gt;&lt;line x1=&quot;231&quot; y1=&quot;15&quot; x2=&quot;231&quot; y2=&quot;27&quot; style=&quot;stroke:#fff2fbff;stroke-width:2;&quot; /&gt;&lt;line x1=&quot;232&quot; y1=&quot;15&quot; x2=&quot;232&quot; y2=&quot;27&quot; style=&quot;stroke:#fff0faff;stroke-width:2;&quot; /&gt;&lt;line x1=&quot;233&quot; y1=&quot;15&quot; x2=&quot;233&quot; y2=&quot;27&quot; style=&quot;stroke:#ffeefaff;stroke-width:2;&quot; /&gt;&lt;line x1=&quot;234&quot; y1=&quot;15&quot; x2=&quot;234&quot; y2=&quot;27&quot; style=&quot;stroke:#ffecf9ff;stroke-width:2;&quot; /&gt;&lt;line x1=&quot;235&quot; y1=&quot;15&quot; x2=&quot;235&quot; y2=&quot;27&quot; style=&quot;stroke:#ffeaf8ff;stroke-width:2;&quot; /&gt;&lt;line x1=&quot;236&quot; y1=&quot;15&quot; x2=&quot;236&quot; y2=&quot;27&quot; style=&quot;stroke:#ffe8f8ff;stroke-width:2;&quot; /&gt;&lt;line x1=&quot;237&quot; y1=&quot;15&quot; x2=&quot;237&quot; y2=&quot;27&quot; style=&quot;stroke:#ffe6f7ff;stroke-width:2;&quot; /&gt;&lt;line x1=&quot;238&quot; y1=&quot;15&quot; x2=&quot;238&quot; y2=&quot;27&quot; style=&quot;stroke:#ffe4f6ff;stroke-width:2;&quot; /&gt;&lt;line x1=&quot;239&quot; y1=&quot;15&quot; x2=&quot;239&quot; y2=&quot;27&quot; style=&quot;stroke:#ffe2f6ff;stroke-width:2;&quot; /&gt;&lt;line x1=&quot;240&quot; y1=&quot;15&quot; x2=&quot;240&quot; y2=&quot;27&quot; style=&quot;stroke:#ffe0f5ff;stroke-width:2;&quot; /&gt;&lt;line x1=&quot;241&quot; y1=&quot;15&quot; x2=&quot;241&quot; y2=&quot;27&quot; style=&quot;stroke:#ffdef4ff;stroke-width:2;&quot; /&gt;&lt;line x1=&quot;242&quot; y1=&quot;15&quot; x2=&quot;242&quot; y2=&quot;27&quot; style=&quot;stroke:#ffdcf4ff;stroke-width:2;&quot; /&gt;&lt;line x1=&quot;243&quot; y1=&quot;15&quot; x2=&quot;243&quot; y2=&quot;27&quot; style=&quot;stroke:#ffdaf3ff;stroke-width:2;&quot; /&gt;&lt;line x1=&quot;244&quot; y1=&quot;15&quot; x2=&quot;244&quot; y2=&quot;27&quot; style=&quot;stroke:#ffd7f2ff;stroke-width:2;&quot; /&gt;&lt;line x1=&quot;245&quot; y1=&quot;15&quot; x2=&quot;245&quot; y2=&quot;27&quot; style=&quot;stroke:#ffd5f1ff;stroke-width:2;&quot; /&gt;&lt;line x1=&quot;246&quot; y1=&quot;15&quot; x2=&quot;246&quot; y2=&quot;27&quot; style=&quot;stroke:#ffd3f1ff;stroke-width:2;&quot; /&gt;&lt;line x1=&quot;247&quot; y1=&quot;15&quot; x2=&quot;247&quot; y2=&quot;27&quot; style=&quot;stroke:#ffd1f0ff;stroke-width:2;&quot; /&gt;&lt;line x1=&quot;248&quot; y1=&quot;15&quot; x2=&quot;248&quot; y2=&quot;27&quot; style=&quot;stroke:#ffcfefff;stroke-width:2;&quot; /&gt;&lt;line x1=&quot;249&quot; y1=&quot;15&quot; x2=&quot;249&quot; y2=&quot;27&quot; style=&quot;stroke:#ffcdefff;stroke-width:2;&quot; /&gt;&lt;line x1=&quot;250&quot; y1=&quot;15&quot; x2=&quot;250&quot; y2=&quot;27&quot; style=&quot;stroke:#ffcbeeff;stroke-width:2;&quot; /&gt;&lt;line x1=&quot;251&quot; y1=&quot;15&quot; x2=&quot;251&quot; y2=&quot;27&quot; style=&quot;stroke:#ffc9edff;stroke-width:2;&quot; /&gt;&lt;line x1=&quot;252&quot; y1=&quot;15&quot; x2=&quot;252&quot; y2=&quot;27&quot; style=&quot;stroke:#ffc7edff;stroke-width:2;&quot; /&gt;&lt;line x1=&quot;253&quot; y1=&quot;15&quot; x2=&quot;253&quot; y2=&quot;27&quot; style=&quot;stroke:#ffc5ecff;stroke-width:2;&quot; /&gt;&lt;line x1=&quot;254&quot; y1=&quot;15&quot; x2=&quot;254&quot; y2=&quot;27&quot; style=&quot;stroke:#ffc3ebff;stroke-width:2;&quot; /&gt;&lt;line x1=&quot;255&quot; y1=&quot;15&quot; x2=&quot;255&quot; y2=&quot;27&quot; style=&quot;stroke:#ffc1ebff;stroke-width:2;&quot; /&gt;&lt;line x1=&quot;256&quot; y1=&quot;15&quot; x2=&quot;256&quot; y2=&quot;27&quot; style=&quot;stroke:#ffbfeaff;stroke-width:2;&quot; /&gt;&lt;line x1=&quot;257&quot; y1=&quot;15&quot; x2=&quot;257&quot; y2=&quot;27&quot; style=&quot;stroke:#ffbde9ff;stroke-width:2;&quot; /&gt;&lt;line x1=&quot;258&quot; y1=&quot;15&quot; x2=&quot;258&quot; y2=&quot;27&quot; style=&quot;stroke:#ffbbe9ff;stroke-width:2;&quot; /&gt;&lt;line x1=&quot;259&quot; y1=&quot;15&quot; x2=&quot;259&quot; y2=&quot;27&quot; style=&quot;stroke:#ffb9e8ff;stroke-width:2;&quot; /&gt;&lt;line x1=&quot;260&quot; y1=&quot;15&quot; x2=&quot;260&quot; y2=&quot;27&quot; style=&quot;stroke:#ffb7e7ff;stroke-width:2;&quot; /&gt;&lt;line x1=&quot;261&quot; y1=&quot;15&quot; x2=&quot;261&quot; y2=&quot;27&quot; style=&quot;stroke:#ffb5e7ff;stroke-width:2;&quot; /&gt;&lt;line x1=&quot;262&quot; y1=&quot;15&quot; x2=&quot;262&quot; y2=&quot;27&quot; style=&quot;stroke:#ffb3e6ff;stroke-width:2;&quot; /&gt;&lt;line x1=&quot;263&quot; y1=&quot;15&quot; x2=&quot;263&quot; y2=&quot;27&quot; style=&quot;stroke:#ffb0e5ff;stroke-width:2;&quot; /&gt;&lt;line x1=&quot;264&quot; y1=&quot;15&quot; x2=&quot;264&quot; y2=&quot;27&quot; style=&quot;stroke:#ffaee4ff;stroke-width:2;&quot; /&gt;&lt;line x1=&quot;265&quot; y1=&quot;15&quot; x2=&quot;265&quot; y2=&quot;27&quot; style=&quot;stroke:#fface4ff;stroke-width:2;&quot; /&gt;&lt;line x1=&quot;266&quot; y1=&quot;15&quot; x2=&quot;266&quot; y2=&quot;27&quot; style=&quot;stroke:#ffaae3ff;stroke-width:2;&quot; /&gt;&lt;line x1=&quot;267&quot; y1=&quot;15&quot; x2=&quot;267&quot; y2=&quot;27&quot; style=&quot;stroke:#ffa8e2ff;stroke-width:2;&quot; /&gt;&lt;line x1=&quot;268&quot; y1=&quot;15&quot; x2=&quot;268&quot; y2=&quot;27&quot; style=&quot;stroke:#ffa6e2ff;stroke-width:2;&quot; /&gt;&lt;line x1=&quot;269&quot; y1=&quot;15&quot; x2=&quot;269&quot; y2=&quot;27&quot; style=&quot;stroke:#ffa4e1ff;stroke-width:2;&quot; /&gt;&lt;line x1=&quot;270&quot; y1=&quot;15&quot; x2=&quot;270&quot; y2=&quot;27&quot; style=&quot;stroke:#ffa2e0ff;stroke-width:2;&quot; /&gt;&lt;line x1=&quot;271&quot; y1=&quot;15&quot; x2=&quot;271&quot; y2=&quot;27&quot; style=&quot;stroke:#ffa0e0ff;stroke-width:2;&quot; /&gt;&lt;line x1=&quot;272&quot; y1=&quot;15&quot; x2=&quot;272&quot; y2=&quot;27&quot; style=&quot;stroke:#ff9edfff;stroke-width:2;&quot; /&gt;&lt;line x1=&quot;273&quot; y1=&quot;15&quot; x2=&quot;273&quot; y2=&quot;27&quot; style=&quot;stroke:#ff9cdeff;stroke-width:2;&quot; /&gt;&lt;line x1=&quot;274&quot; y1=&quot;15&quot; x2=&quot;274&quot; y2=&quot;27&quot; style=&quot;stroke:#ff9adeff;stroke-width:2;&quot; /&gt;&lt;line x1=&quot;275&quot; y1=&quot;15&quot; x2=&quot;275&quot; y2=&quot;27&quot; style=&quot;stroke:#ff98ddff;stroke-width:2;&quot; /&gt;&lt;line x1=&quot;276&quot; y1=&quot;15&quot; x2=&quot;276&quot; y2=&quot;27&quot; style=&quot;stroke:#ff96dcff;stroke-width:2;&quot; /&gt;&lt;line x1=&quot;277&quot; y1=&quot;15&quot; x2=&quot;277&quot; y2=&quot;27&quot; style=&quot;stroke:#ff94dcff;stroke-width:2;&quot; /&gt;&lt;line x1=&quot;278&quot; y1=&quot;15&quot; x2=&quot;278&quot; y2=&quot;27&quot; style=&quot;stroke:#ff92dbff;stroke-width:2;&quot; /&gt;&lt;line x1=&quot;279&quot; y1=&quot;15&quot; x2=&quot;279&quot; y2=&quot;27&quot; style=&quot;stroke:#ff90daff;stroke-width:2;&quot; /&gt;&lt;line x1=&quot;280&quot; y1=&quot;15&quot; x2=&quot;280&quot; y2=&quot;27&quot; style=&quot;stroke:#ff8edaff;stroke-width:2;&quot; /&gt;&lt;line x1=&quot;281&quot; y1=&quot;15&quot; x2=&quot;281&quot; y2=&quot;27&quot; style=&quot;stroke:#ff8cd9ff;stroke-width:2;&quot; /&gt;&lt;line x1=&quot;282&quot; y1=&quot;15&quot; x2=&quot;282&quot; y2=&quot;27&quot; style=&quot;stroke:#ff89d8ff;stroke-width:2;&quot; /&gt;&lt;line x1=&quot;283&quot; y1=&quot;15&quot; x2=&quot;283&quot; y2=&quot;27&quot; style=&quot;stroke:#ff87d7ff;stroke-width:2;&quot; /&gt;&lt;line x1=&quot;284&quot; y1=&quot;15&quot; x2=&quot;284&quot; y2=&quot;27&quot; style=&quot;stroke:#ff85d7ff;stroke-width:2;&quot; /&gt;&lt;line x1=&quot;285&quot; y1=&quot;15&quot; x2=&quot;285&quot; y2=&quot;27&quot; style=&quot;stroke:#ff83d6ff;stroke-width:2;&quot; /&gt;&lt;line x1=&quot;286&quot; y1=&quot;15&quot; x2=&quot;286&quot; y2=&quot;27&quot; style=&quot;stroke:#ff81d5ff;stroke-width:2;&quot; /&gt;&lt;line x1=&quot;287&quot; y1=&quot;15&quot; x2=&quot;287&quot; y2=&quot;27&quot; style=&quot;stroke:#ff7fd5ff;stroke-width:2;&quot; /&gt;&lt;line x1=&quot;288&quot; y1=&quot;15&quot; x2=&quot;288&quot; y2=&quot;27&quot; style=&quot;stroke:#ff7dd4ff;stroke-width:2;&quot; /&gt;&lt;line x1=&quot;289&quot; y1=&quot;15&quot; x2=&quot;289&quot; y2=&quot;27&quot; style=&quot;stroke:#ff7bd3ff;stroke-width:2;&quot; /&gt;&lt;line x1=&quot;290&quot; y1=&quot;15&quot; x2=&quot;290&quot; y2=&quot;27&quot; style=&quot;stroke:#ff79d3ff;stroke-width:2;&quot; /&gt;&lt;line x1=&quot;291&quot; y1=&quot;15&quot; x2=&quot;291&quot; y2=&quot;27&quot; style=&quot;stroke:#ff77d2ff;stroke-width:2;&quot; /&gt;&lt;line x1=&quot;292&quot; y1=&quot;15&quot; x2=&quot;292&quot; y2=&quot;27&quot; style=&quot;stroke:#ff75d1ff;stroke-width:2;&quot; /&gt;&lt;line x1=&quot;293&quot; y1=&quot;15&quot; x2=&quot;293&quot; y2=&quot;27&quot; style=&quot;stroke:#ff73d1ff;stroke-width:2;&quot; /&gt;&lt;line x1=&quot;294&quot; y1=&quot;15&quot; x2=&quot;294&quot; y2=&quot;27&quot; style=&quot;stroke:#ff71d0ff;stroke-width:2;&quot; /&gt;&lt;line x1=&quot;295&quot; y1=&quot;15&quot; x2=&quot;295&quot; y2=&quot;27&quot; style=&quot;stroke:#ff6fcfff;stroke-width:2;&quot; /&gt;&lt;line x1=&quot;296&quot; y1=&quot;15&quot; x2=&quot;296&quot; y2=&quot;27&quot; style=&quot;stroke:#ff6dcfff;stroke-width:2;&quot; /&gt;&lt;line x1=&quot;297&quot; y1=&quot;15&quot; x2=&quot;297&quot; y2=&quot;27&quot; style=&quot;stroke:#ff6bceff;stroke-width:2;&quot; /&gt;&lt;line x1=&quot;298&quot; y1=&quot;15&quot; x2=&quot;298&quot; y2=&quot;27&quot; style=&quot;stroke:#ff69cdff;stroke-width:2;&quot; /&gt;&lt;line x1=&quot;299&quot; y1=&quot;15&quot; x2=&quot;299&quot; y2=&quot;27&quot; style=&quot;stroke:#ff67cdff;stroke-width:2;&quot; /&gt;&lt;line x1=&quot;300&quot; y1=&quot;15&quot; x2=&quot;300&quot; y2=&quot;27&quot; style=&quot;stroke:#ff65ccff;stroke-width:2;&quot; /&gt;&lt;line x1=&quot;301&quot; y1=&quot;15&quot; x2=&quot;301&quot; y2=&quot;27&quot; style=&quot;stroke:#ff65cbff;stroke-width:2;&quot; /&gt;&lt;line x1=&quot;302&quot; y1=&quot;15&quot; x2=&quot;302&quot; y2=&quot;27&quot; style=&quot;stroke:#ff64caff;stroke-width:2;&quot; /&gt;&lt;line x1=&quot;303&quot; y1=&quot;15&quot; x2=&quot;303&quot; y2=&quot;27&quot; style=&quot;stroke:#ff63caff;stroke-width:2;&quot; /&gt;&lt;line x1=&quot;304&quot; y1=&quot;15&quot; x2=&quot;304&quot; y2=&quot;27&quot; style=&quot;stroke:#ff63c9ff;stroke-width:2;&quot; /&gt;&lt;line x1=&quot;305&quot; y1=&quot;15&quot; x2=&quot;305&quot; y2=&quot;27&quot; style=&quot;stroke:#ff62c8ff;stroke-width:2;&quot; /&gt;&lt;line x1=&quot;306&quot; y1=&quot;15&quot; x2=&quot;306&quot; y2=&quot;27&quot; style=&quot;stroke:#ff61c8ff;stroke-width:2;&quot; /&gt;&lt;line x1=&quot;307&quot; y1=&quot;15&quot; x2=&quot;307&quot; y2=&quot;27&quot; style=&quot;stroke:#ff61c7ff;stroke-width:2;&quot; /&gt;&lt;line x1=&quot;308&quot; y1=&quot;15&quot; x2=&quot;308&quot; y2=&quot;27&quot; style=&quot;stroke:#ff60c6ff;stroke-width:2;&quot; /&gt;&lt;line x1=&quot;309&quot; y1=&quot;15&quot; x2=&quot;309&quot; y2=&quot;27&quot; style=&quot;stroke:#ff5fc6ff;stroke-width:2;&quot; /&gt;&lt;line x1=&quot;310&quot; y1=&quot;15&quot; x2=&quot;310&quot; y2=&quot;27&quot; style=&quot;stroke:#ff5fc5ff;stroke-width:2;&quot; /&gt;&lt;line x1=&quot;311&quot; y1=&quot;15&quot; x2=&quot;311&quot; y2=&quot;27&quot; style=&quot;stroke:#ff5ec4ff;stroke-width:2;&quot; /&gt;&lt;line x1=&quot;312&quot; y1=&quot;15&quot; x2=&quot;312&quot; y2=&quot;27&quot; style=&quot;stroke:#ff5dc4ff;stroke-width:2;&quot; /&gt;&lt;line x1=&quot;313&quot; y1=&quot;15&quot; x2=&quot;313&quot; y2=&quot;27&quot; style=&quot;stroke:#ff5dc3ff;stroke-width:2;&quot; /&gt;&lt;line x1=&quot;314&quot; y1=&quot;15&quot; x2=&quot;314&quot; y2=&quot;27&quot; style=&quot;stroke:#ff5cc2ff;stroke-width:2;&quot; /&gt;&lt;line x1=&quot;315&quot; y1=&quot;15&quot; x2=&quot;315&quot; y2=&quot;27&quot; style=&quot;stroke:#ff5bc2ff;stroke-width:2;&quot; /&gt;&lt;line x1=&quot;316&quot; y1=&quot;15&quot; x2=&quot;316&quot; y2=&quot;27&quot; style=&quot;stroke:#ff5ac1ff;stroke-width:2;&quot; /&gt;&lt;line x1=&quot;317&quot; y1=&quot;15&quot; x2=&quot;317&quot; y2=&quot;27&quot; style=&quot;stroke:#ff5ac0ff;stroke-width:2;&quot; /&gt;&lt;line x1=&quot;318&quot; y1=&quot;15&quot; x2=&quot;318&quot; y2=&quot;27&quot; style=&quot;stroke:#ff59c0ff;stroke-width:2;&quot; /&gt;&lt;line x1=&quot;319&quot; y1=&quot;15&quot; x2=&quot;319&quot; y2=&quot;27&quot; style=&quot;stroke:#ff58bfff;stroke-width:2;&quot; /&gt;&lt;line x1=&quot;320&quot; y1=&quot;15&quot; x2=&quot;320&quot; y2=&quot;27&quot; style=&quot;stroke:#ff58beff;stroke-width:2;&quot; /&gt;&lt;line x1=&quot;321&quot; y1=&quot;15&quot; x2=&quot;321&quot; y2=&quot;27&quot; style=&quot;stroke:#ff57bdff;stroke-width:2;&quot; /&gt;&lt;line x1=&quot;322&quot; y1=&quot;15&quot; x2=&quot;322&quot; y2=&quot;27&quot; style=&quot;stroke:#ff56bdff;stroke-width:2;&quot; /&gt;&lt;line x1=&quot;323&quot; y1=&quot;15&quot; x2=&quot;323&quot; y2=&quot;27&quot; style=&quot;stroke:#ff56bcff;stroke-width:2;&quot; /&gt;&lt;line x1=&quot;324&quot; y1=&quot;15&quot; x2=&quot;324&quot; y2=&quot;27&quot; style=&quot;stroke:#ff55bbff;stroke-width:2;&quot; /&gt;&lt;line x1=&quot;325&quot; y1=&quot;15&quot; x2=&quot;325&quot; y2=&quot;27&quot; style=&quot;stroke:#ff54bbff;stroke-width:2;&quot; /&gt;&lt;line x1=&quot;326&quot; y1=&quot;15&quot; x2=&quot;326&quot; y2=&quot;27&quot; style=&quot;stroke:#ff54baff;stroke-width:2;&quot; /&gt;&lt;line x1=&quot;327&quot; y1=&quot;15&quot; x2=&quot;327&quot; y2=&quot;27&quot; style=&quot;stroke:#ff53b9ff;stroke-width:2;&quot; /&gt;&lt;line x1=&quot;328&quot; y1=&quot;15&quot; x2=&quot;328&quot; y2=&quot;27&quot; style=&quot;stroke:#ff52b9ff;stroke-width:2;&quot; /&gt;&lt;line x1=&quot;329&quot; y1=&quot;15&quot; x2=&quot;329&quot; y2=&quot;27&quot; style=&quot;stroke:#ff52b8ff;stroke-width:2;&quot; /&gt;&lt;line x1=&quot;330&quot; y1=&quot;15&quot; x2=&quot;330&quot; y2=&quot;27&quot; style=&quot;stroke:#ff51b7ff;stroke-width:2;&quot; /&gt;&lt;line x1=&quot;331&quot; y1=&quot;15&quot; x2=&quot;331&quot; y2=&quot;27&quot; style=&quot;stroke:#ff50b7ff;stroke-width:2;&quot; /&gt;&lt;line x1=&quot;332&quot; y1=&quot;15&quot; x2=&quot;332&quot; y2=&quot;27&quot; style=&quot;stroke:#ff50b6ff;stroke-width:2;&quot; /&gt;&lt;line x1=&quot;333&quot; y1=&quot;15&quot; x2=&quot;333&quot; y2=&quot;27&quot; style=&quot;stroke:#ff4fb5ff;stroke-width:2;&quot; /&gt;&lt;line x1=&quot;334&quot; y1=&quot;15&quot; x2=&quot;334&quot; y2=&quot;27&quot; style=&quot;stroke:#ff4eb5ff;stroke-width:2;&quot; /&gt;&lt;line x1=&quot;335&quot; y1=&quot;15&quot; x2=&quot;335&quot; y2=&quot;27&quot; style=&quot;stroke:#ff4db4ff;stroke-width:2;&quot; /&gt;&lt;line x1=&quot;336&quot; y1=&quot;15&quot; x2=&quot;336&quot; y2=&quot;27&quot; style=&quot;stroke:#ff4db3ff;stroke-width:2;&quot; /&gt;&lt;line x1=&quot;337&quot; y1=&quot;15&quot; x2=&quot;337&quot; y2=&quot;27&quot; style=&quot;stroke:#ff4cb3ff;stroke-width:2;&quot; /&gt;&lt;line x1=&quot;338&quot; y1=&quot;15&quot; x2=&quot;338&quot; y2=&quot;27&quot; style=&quot;stroke:#ff4bb2ff;stroke-width:2;&quot; /&gt;&lt;line x1=&quot;339&quot; y1=&quot;15&quot; x2=&quot;339&quot; y2=&quot;27&quot; style=&quot;stroke:#ff4bb1ff;stroke-width:2;&quot; /&gt;&lt;line x1=&quot;340&quot; y1=&quot;15&quot; x2=&quot;340&quot; y2=&quot;27&quot; style=&quot;stroke:#ff4ab0ff;stroke-width:2;&quot; /&gt;&lt;line x1=&quot;341&quot; y1=&quot;15&quot; x2=&quot;341&quot; y2=&quot;27&quot; style=&quot;stroke:#ff49b0ff;stroke-width:2;&quot; /&gt;&lt;line x1=&quot;342&quot; y1=&quot;15&quot; x2=&quot;342&quot; y2=&quot;27&quot; style=&quot;stroke:#ff49afff;stroke-width:2;&quot; /&gt;&lt;line x1=&quot;343&quot; y1=&quot;15&quot; x2=&quot;343&quot; y2=&quot;27&quot; style=&quot;stroke:#ff48aeff;stroke-width:2;&quot; /&gt;&lt;line x1=&quot;344&quot; y1=&quot;15&quot; x2=&quot;344&quot; y2=&quot;27&quot; style=&quot;stroke:#ff47aeff;stroke-width:2;&quot; /&gt;&lt;line x1=&quot;345&quot; y1=&quot;15&quot; x2=&quot;345&quot; y2=&quot;27&quot; style=&quot;stroke:#ff47adff;stroke-width:2;&quot; /&gt;&lt;line x1=&quot;346&quot; y1=&quot;15&quot; x2=&quot;346&quot; y2=&quot;27&quot; style=&quot;stroke:#ff46acff;stroke-width:2;&quot; /&gt;&lt;line x1=&quot;347&quot; y1=&quot;15&quot; x2=&quot;347&quot; y2=&quot;27&quot; style=&quot;stroke:#ff45acff;stroke-width:2;&quot; /&gt;&lt;line x1=&quot;348&quot; y1=&quot;15&quot; x2=&quot;348&quot; y2=&quot;27&quot; style=&quot;stroke:#ff45abff;stroke-width:2;&quot; /&gt;&lt;line x1=&quot;349&quot; y1=&quot;15&quot; x2=&quot;349&quot; y2=&quot;27&quot; style=&quot;stroke:#ff44aaff;stroke-width:2;&quot; /&gt;&lt;line x1=&quot;350&quot; y1=&quot;15&quot; x2=&quot;350&quot; y2=&quot;27&quot; style=&quot;stroke:#ff43aaff;stroke-width:2;&quot; /&gt;&lt;line x1=&quot;351&quot; y1=&quot;15&quot; x2=&quot;351&quot; y2=&quot;27&quot; style=&quot;stroke:#ff43a9ff;stroke-width:2;&quot; /&gt;&lt;line x1=&quot;352&quot; y1=&quot;15&quot; x2=&quot;352&quot; y2=&quot;27&quot; style=&quot;stroke:#ff42a8ff;stroke-width:2;&quot; /&gt;&lt;line x1=&quot;353&quot; y1=&quot;15&quot; x2=&quot;353&quot; y2=&quot;27&quot; style=&quot;stroke:#ff41a8ff;stroke-width:2;&quot; /&gt;&lt;line x1=&quot;354&quot; y1=&quot;15&quot; x2=&quot;354&quot; y2=&quot;27&quot; style=&quot;stroke:#ff40a7ff;stroke-width:2;&quot; /&gt;&lt;line x1=&quot;355&quot; y1=&quot;15&quot; x2=&quot;355&quot; y2=&quot;27&quot; style=&quot;stroke:#ff40a6ff;stroke-width:2;&quot; /&gt;&lt;line x1=&quot;356&quot; y1=&quot;15&quot; x2=&quot;356&quot; y2=&quot;27&quot; style=&quot;stroke:#ff3fa6ff;stroke-width:2;&quot; /&gt;&lt;line x1=&quot;357&quot; y1=&quot;15&quot; x2=&quot;357&quot; y2=&quot;27&quot; style=&quot;stroke:#ff3ea5ff;stroke-width:2;&quot; /&gt;&lt;line x1=&quot;358&quot; y1=&quot;15&quot; x2=&quot;358&quot; y2=&quot;27&quot; style=&quot;stroke:#ff3ea4ff;stroke-width:2;&quot; /&gt;&lt;line x1=&quot;359&quot; y1=&quot;15&quot; x2=&quot;359&quot; y2=&quot;27&quot; style=&quot;stroke:#ff3da3ff;stroke-width:2;&quot; /&gt;&lt;line x1=&quot;360&quot; y1=&quot;15&quot; x2=&quot;360&quot; y2=&quot;27&quot; style=&quot;stroke:#ff3ca3ff;stroke-width:2;&quot; /&gt;&lt;line x1=&quot;361&quot; y1=&quot;15&quot; x2=&quot;361&quot; y2=&quot;27&quot; style=&quot;stroke:#ff3ca2ff;stroke-width:2;&quot; /&gt;&lt;line x1=&quot;362&quot; y1=&quot;15&quot; x2=&quot;362&quot; y2=&quot;27&quot; style=&quot;stroke:#ff3ba1ff;stroke-width:2;&quot; /&gt;&lt;line x1=&quot;363&quot; y1=&quot;15&quot; x2=&quot;363&quot; y2=&quot;27&quot; style=&quot;stroke:#ff3aa1ff;stroke-width:2;&quot; /&gt;&lt;line x1=&quot;364&quot; y1=&quot;15&quot; x2=&quot;364&quot; y2=&quot;27&quot; style=&quot;stroke:#ff3aa0ff;stroke-width:2;&quot; /&gt;&lt;line x1=&quot;365&quot; y1=&quot;15&quot; x2=&quot;365&quot; y2=&quot;27&quot; style=&quot;stroke:#ff399fff;stroke-width:2;&quot; /&gt;&lt;line x1=&quot;366&quot; y1=&quot;15&quot; x2=&quot;366&quot; y2=&quot;27&quot; style=&quot;stroke:#ff389fff;stroke-width:2;&quot; /&gt;&lt;line x1=&quot;367&quot; y1=&quot;15&quot; x2=&quot;367&quot; y2=&quot;27&quot; style=&quot;stroke:#ff389eff;stroke-width:2;&quot; /&gt;&lt;line x1=&quot;368&quot; y1=&quot;15&quot; x2=&quot;368&quot; y2=&quot;27&quot; style=&quot;stroke:#ff379dff;stroke-width:2;&quot; /&gt;&lt;line x1=&quot;369&quot; y1=&quot;15&quot; x2=&quot;369&quot; y2=&quot;27&quot; style=&quot;stroke:#ff369dff;stroke-width:2;&quot; /&gt;&lt;line x1=&quot;370&quot; y1=&quot;15&quot; x2=&quot;370&quot; y2=&quot;27&quot; style=&quot;stroke:#ff369cff;stroke-width:2;&quot; /&gt;&lt;line x1=&quot;371&quot; y1=&quot;15&quot; x2=&quot;371&quot; y2=&quot;27&quot; style=&quot;stroke:#ff359bff;stroke-width:2;&quot; /&gt;&lt;line x1=&quot;372&quot; y1=&quot;15&quot; x2=&quot;372&quot; y2=&quot;27&quot; style=&quot;stroke:#ff349bff;stroke-width:2;&quot; /&gt;&lt;line x1=&quot;373&quot; y1=&quot;15&quot; x2=&quot;373&quot; y2=&quot;27&quot; style=&quot;stroke:#ff339aff;stroke-width:2;&quot; /&gt;&lt;line x1=&quot;374&quot; y1=&quot;15&quot; x2=&quot;374&quot; y2=&quot;27&quot; style=&quot;stroke:#ff3399ff;stroke-width:2;&quot; /&gt;&lt;line x1=&quot;375&quot; y1=&quot;15&quot; x2=&quot;375&quot; y2=&quot;27&quot; style=&quot;stroke:#ff3297ff;stroke-width:2;&quot; /&gt;&lt;line x1=&quot;376&quot; y1=&quot;15&quot; x2=&quot;376&quot; y2=&quot;27&quot; style=&quot;stroke:#ff3195ff;stroke-width:2;&quot; /&gt;&lt;line x1=&quot;377&quot; y1=&quot;15&quot; x2=&quot;377&quot; y2=&quot;27&quot; style=&quot;stroke:#ff3193ff;stroke-width:2;&quot; /&gt;&lt;line x1=&quot;378&quot; y1=&quot;15&quot; x2=&quot;378&quot; y2=&quot;27&quot; style=&quot;stroke:#ff3091ff;stroke-width:2;&quot; /&gt;&lt;line x1=&quot;379&quot; y1=&quot;15&quot; x2=&quot;379&quot; y2=&quot;27&quot; style=&quot;stroke:#ff2f8fff;stroke-width:2;&quot; /&gt;&lt;line x1=&quot;380&quot; y1=&quot;15&quot; x2=&quot;380&quot; y2=&quot;27&quot; style=&quot;stroke:#ff2f8dff;stroke-width:2;&quot; /&gt;&lt;line x1=&quot;381&quot; y1=&quot;15&quot; x2=&quot;381&quot; y2=&quot;27&quot; style=&quot;stroke:#ff2e8bff;stroke-width:2;&quot; /&gt;&lt;line x1=&quot;382&quot; y1=&quot;15&quot; x2=&quot;382&quot; y2=&quot;27&quot; style=&quot;stroke:#ff2d89ff;stroke-width:2;&quot; /&gt;&lt;line x1=&quot;383&quot; y1=&quot;15&quot; x2=&quot;383&quot; y2=&quot;27&quot; style=&quot;stroke:#ff2d87ff;stroke-width:2;&quot; /&gt;&lt;line x1=&quot;384&quot; y1=&quot;15&quot; x2=&quot;384&quot; y2=&quot;27&quot; style=&quot;stroke:#ff2c85ff;stroke-width:2;&quot; /&gt;&lt;line x1=&quot;385&quot; y1=&quot;15&quot; x2=&quot;385&quot; y2=&quot;27&quot; style=&quot;stroke:#ff2b83ff;stroke-width:2;&quot; /&gt;&lt;line x1=&quot;386&quot; y1=&quot;15&quot; x2=&quot;386&quot; y2=&quot;27&quot; style=&quot;stroke:#ff2b81ff;stroke-width:2;&quot; /&gt;&lt;line x1=&quot;387&quot; y1=&quot;15&quot; x2=&quot;387&quot; y2=&quot;27&quot; style=&quot;stroke:#ff2a7fff;stroke-width:2;&quot; /&gt;&lt;line x1=&quot;388&quot; y1=&quot;15&quot; x2=&quot;388&quot; y2=&quot;27&quot; style=&quot;stroke:#ff297dff;stroke-width:2;&quot; /&gt;&lt;line x1=&quot;389&quot; y1=&quot;15&quot; x2=&quot;389&quot; y2=&quot;27&quot; style=&quot;stroke:#ff297bff;stroke-width:2;&quot; /&gt;&lt;line x1=&quot;390&quot; y1=&quot;15&quot; x2=&quot;390&quot; y2=&quot;27&quot; style=&quot;stroke:#ff2879ff;stroke-width:2;&quot; /&gt;&lt;line x1=&quot;391&quot; y1=&quot;15&quot; x2=&quot;391&quot; y2=&quot;27&quot; style=&quot;stroke:#ff2777ff;stroke-width:2;&quot; /&gt;&lt;line x1=&quot;392&quot; y1=&quot;15&quot; x2=&quot;392&quot; y2=&quot;27&quot; style=&quot;stroke:#ff2674ff;stroke-width:2;&quot; /&gt;&lt;line x1=&quot;393&quot; y1=&quot;15&quot; x2=&quot;393&quot; y2=&quot;27&quot; style=&quot;stroke:#ff2672ff;stroke-width:2;&quot; /&gt;&lt;line x1=&quot;394&quot; y1=&quot;15&quot; x2=&quot;394&quot; y2=&quot;27&quot; style=&quot;stroke:#ff2570ff;stroke-width:2;&quot; /&gt;&lt;line x1=&quot;395&quot; y1=&quot;15&quot; x2=&quot;395&quot; y2=&quot;27&quot; style=&quot;stroke:#ff246eff;stroke-width:2;&quot; /&gt;&lt;line x1=&quot;396&quot; y1=&quot;15&quot; x2=&quot;396&quot; y2=&quot;27&quot; style=&quot;stroke:#ff246cff;stroke-width:2;&quot; /&gt;&lt;line x1=&quot;397&quot; y1=&quot;15&quot; x2=&quot;397&quot; y2=&quot;27&quot; style=&quot;stroke:#ff236aff;stroke-width:2;&quot; /&gt;&lt;line x1=&quot;398&quot; y1=&quot;15&quot; x2=&quot;398&quot; y2=&quot;27&quot; style=&quot;stroke:#ff2268ff;stroke-width:2;&quot; /&gt;&lt;line x1=&quot;399&quot; y1=&quot;15&quot; x2=&quot;399&quot; y2=&quot;27&quot; style=&quot;stroke:#ff2266ff;stroke-width:2;&quot; /&gt;&lt;line x1=&quot;400&quot; y1=&quot;15&quot; x2=&quot;400&quot; y2=&quot;27&quot; style=&quot;stroke:#ff2164ff;stroke-width:2;&quot; /&gt;&lt;line x1=&quot;401&quot; y1=&quot;15&quot; x2=&quot;401&quot; y2=&quot;27&quot; style=&quot;stroke:#ff2062ff;stroke-width:2;&quot; /&gt;&lt;line x1=&quot;402&quot; y1=&quot;15&quot; x2=&quot;402&quot; y2=&quot;27&quot; style=&quot;stroke:#ff2060ff;stroke-width:2;&quot; /&gt;&lt;line x1=&quot;403&quot; y1=&quot;15&quot; x2=&quot;403&quot; y2=&quot;27&quot; style=&quot;stroke:#ff1f5eff;stroke-width:2;&quot; /&gt;&lt;line x1=&quot;404&quot; y1=&quot;15&quot; x2=&quot;404&quot; y2=&quot;27&quot; style=&quot;stroke:#ff1e5cff;stroke-width:2;&quot; /&gt;&lt;line x1=&quot;405&quot; y1=&quot;15&quot; x2=&quot;405&quot; y2=&quot;27&quot; style=&quot;stroke:#ff1e5aff;stroke-width:2;&quot; /&gt;&lt;line x1=&quot;406&quot; y1=&quot;15&quot; x2=&quot;406&quot; y2=&quot;27&quot; style=&quot;stroke:#ff1d58ff;stroke-width:2;&quot; /&gt;&lt;line x1=&quot;407&quot; y1=&quot;15&quot; x2=&quot;407&quot; y2=&quot;27&quot; style=&quot;stroke:#ff1c56ff;stroke-width:2;&quot; /&gt;&lt;line x1=&quot;408&quot; y1=&quot;15&quot; x2=&quot;408&quot; y2=&quot;27&quot; style=&quot;stroke:#ff1c54ff;stroke-width:2;&quot; /&gt;&lt;line x1=&quot;409&quot; y1=&quot;15&quot; x2=&quot;409&quot; y2=&quot;27&quot; style=&quot;stroke:#ff1b52ff;stroke-width:2;&quot; /&gt;&lt;line x1=&quot;410&quot; y1=&quot;15&quot; x2=&quot;410&quot; y2=&quot;27&quot; style=&quot;stroke:#ff1a50ff;stroke-width:2;&quot; /&gt;&lt;line x1=&quot;411&quot; y1=&quot;15&quot; x2=&quot;411&quot; y2=&quot;27&quot; style=&quot;stroke:#ff194dff;stroke-width:2;&quot; /&gt;&lt;line x1=&quot;412&quot; y1=&quot;15&quot; x2=&quot;412&quot; y2=&quot;27&quot; style=&quot;stroke:#ff194bff;stroke-width:2;&quot; /&gt;&lt;line x1=&quot;413&quot; y1=&quot;15&quot; x2=&quot;413&quot; y2=&quot;27&quot; style=&quot;stroke:#ff1849ff;stroke-width:2;&quot; /&gt;&lt;line x1=&quot;414&quot; y1=&quot;15&quot; x2=&quot;414&quot; y2=&quot;27&quot; style=&quot;stroke:#ff1747ff;stroke-width:2;&quot; /&gt;&lt;line x1=&quot;415&quot; y1=&quot;15&quot; x2=&quot;415&quot; y2=&quot;27&quot; style=&quot;stroke:#ff1745ff;stroke-width:2;&quot; /&gt;&lt;line x1=&quot;416&quot; y1=&quot;15&quot; x2=&quot;416&quot; y2=&quot;27&quot; style=&quot;stroke:#ff1643ff;stroke-width:2;&quot; /&gt;&lt;line x1=&quot;417&quot; y1=&quot;15&quot; x2=&quot;417&quot; y2=&quot;27&quot; style=&quot;stroke:#ff1541ff;stroke-width:2;&quot; /&gt;&lt;line x1=&quot;418&quot; y1=&quot;15&quot; x2=&quot;418&quot; y2=&quot;27&quot; style=&quot;stroke:#ff153fff;stroke-width:2;&quot; /&gt;&lt;line x1=&quot;419&quot; y1=&quot;15&quot; x2=&quot;419&quot; y2=&quot;27&quot; style=&quot;stroke:#ff143dff;stroke-width:2;&quot; /&gt;&lt;line x1=&quot;420&quot; y1=&quot;15&quot; x2=&quot;420&quot; y2=&quot;27&quot; style=&quot;stroke:#ff133bff;stroke-width:2;&quot; /&gt;&lt;line x1=&quot;421&quot; y1=&quot;15&quot; x2=&quot;421&quot; y2=&quot;27&quot; style=&quot;stroke:#ff1339ff;stroke-width:2;&quot; /&gt;&lt;line x1=&quot;422&quot; y1=&quot;15&quot; x2=&quot;422&quot; y2=&quot;27&quot; style=&quot;stroke:#ff1237ff;stroke-width:2;&quot; /&gt;&lt;line x1=&quot;423&quot; y1=&quot;15&quot; x2=&quot;423&quot; y2=&quot;27&quot; style=&quot;stroke:#ff1135ff;stroke-width:2;&quot; /&gt;&lt;line x1=&quot;424&quot; y1=&quot;15&quot; x2=&quot;424&quot; y2=&quot;27&quot; style=&quot;stroke:#ff1133ff;stroke-width:2;&quot; /&gt;&lt;line x1=&quot;425&quot; y1=&quot;15&quot; x2=&quot;425&quot; y2=&quot;27&quot; style=&quot;stroke:#ff1031ff;stroke-width:2;&quot; /&gt;&lt;line x1=&quot;426&quot; y1=&quot;15&quot; x2=&quot;426&quot; y2=&quot;27&quot; style=&quot;stroke:#ff0f2fff;stroke-width:2;&quot; /&gt;&lt;line x1=&quot;427&quot; y1=&quot;15&quot; x2=&quot;427&quot; y2=&quot;27&quot; style=&quot;stroke:#ff0f2dff;stroke-width:2;&quot; /&gt;&lt;line x1=&quot;428&quot; y1=&quot;15&quot; x2=&quot;428&quot; y2=&quot;27&quot; style=&quot;stroke:#ff0e2bff;stroke-width:2;&quot; /&gt;&lt;line x1=&quot;429&quot; y1=&quot;15&quot; x2=&quot;429&quot; y2=&quot;27&quot; style=&quot;stroke:#ff0d29ff;stroke-width:2;&quot; /&gt;&lt;line x1=&quot;430&quot; y1=&quot;15&quot; x2=&quot;430&quot; y2=&quot;27&quot; style=&quot;stroke:#ff0c26ff;stroke-width:2;&quot; /&gt;&lt;line x1=&quot;431&quot; y1=&quot;15&quot; x2=&quot;431&quot; y2=&quot;27&quot; style=&quot;stroke:#ff0c24ff;stroke-width:2;&quot; /&gt;&lt;line x1=&quot;432&quot; y1=&quot;15&quot; x2=&quot;432&quot; y2=&quot;27&quot; style=&quot;stroke:#ff0b22ff;stroke-width:2;&quot; /&gt;&lt;line x1=&quot;433&quot; y1=&quot;15&quot; x2=&quot;433&quot; y2=&quot;27&quot; style=&quot;stroke:#ff0a20ff;stroke-width:2;&quot; /&gt;&lt;line x1=&quot;434&quot; y1=&quot;15&quot; x2=&quot;434&quot; y2=&quot;27&quot; style=&quot;stroke:#ff0a1eff;stroke-width:2;&quot; /&gt;&lt;line x1=&quot;435&quot; y1=&quot;15&quot; x2=&quot;435&quot; y2=&quot;27&quot; style=&quot;stroke:#ff091cff;stroke-width:2;&quot; /&gt;&lt;line x1=&quot;436&quot; y1=&quot;15&quot; x2=&quot;436&quot; y2=&quot;27&quot; style=&quot;stroke:#ff081aff;stroke-width:2;&quot; /&gt;&lt;line x1=&quot;437&quot; y1=&quot;15&quot; x2=&quot;437&quot; y2=&quot;27&quot; style=&quot;stroke:#ff0818ff;stroke-width:2;&quot; /&gt;&lt;line x1=&quot;438&quot; y1=&quot;15&quot; x2=&quot;438&quot; y2=&quot;27&quot; style=&quot;stroke:#ff0716ff;stroke-width:2;&quot; /&gt;&lt;line x1=&quot;439&quot; y1=&quot;15&quot; x2=&quot;439&quot; y2=&quot;27&quot; style=&quot;stroke:#ff0614ff;stroke-width:2;&quot; /&gt;&lt;line x1=&quot;440&quot; y1=&quot;15&quot; x2=&quot;440&quot; y2=&quot;27&quot; style=&quot;stroke:#ff0612ff;stroke-width:2;&quot; /&gt;&lt;line x1=&quot;441&quot; y1=&quot;15&quot; x2=&quot;441&quot; y2=&quot;27&quot; style=&quot;stroke:#ff0510ff;stroke-width:2;&quot; /&gt;&lt;line x1=&quot;442&quot; y1=&quot;15&quot; x2=&quot;442&quot; y2=&quot;27&quot; style=&quot;stroke:#ff040eff;stroke-width:2;&quot; /&gt;&lt;line x1=&quot;443&quot; y1=&quot;15&quot; x2=&quot;443&quot; y2=&quot;27&quot; style=&quot;stroke:#ff040cff;stroke-width:2;&quot; /&gt;&lt;line x1=&quot;444&quot; y1=&quot;15&quot; x2=&quot;444&quot; y2=&quot;27&quot; style=&quot;stroke:#ff030aff;stroke-width:2;&quot; /&gt;&lt;line x1=&quot;445&quot; y1=&quot;15&quot; x2=&quot;445&quot; y2=&quot;27&quot; style=&quot;stroke:#ff0208ff;stroke-width:2;&quot; /&gt;&lt;line x1=&quot;446&quot; y1=&quot;15&quot; x2=&quot;446&quot; y2=&quot;27&quot; style=&quot;stroke:#ff0206ff;stroke-width:2;&quot; /&gt;&lt;line x1=&quot;447&quot; y1=&quot;15&quot; x2=&quot;447&quot; y2=&quot;27&quot; style=&quot;stroke:#ff0104ff;stroke-width:2;&quot; /&gt;&lt;line x1=&quot;448&quot; y1=&quot;15&quot; x2=&quot;448&quot; y2=&quot;27&quot; style=&quot;stroke:#ff0002ff;stroke-width:2;&quot; /&gt;&lt;line x1=&quot;449&quot; y1=&quot;15&quot; x2=&quot;449&quot; y2=&quot;27&quot; style=&quot;stroke:#ff0000ff;stroke-width:2;&quot; /&gt;&lt;text x=&quot;0&quot; y=&quot;38&quot; style=&quot;text-anchor:start; font-size:11px; font:Arial; fill:black&quot;&gt;-0.0007&lt;/text&gt;&lt;text x=&quot;75&quot; y=&quot;38&quot;; style=&quot;text-anchor:middle; font-size:11px; font:Arial; fill:black&quot;&gt;-0.0&lt;/text&gt;&lt;text x=&quot;150&quot; y=&quot;38&quot;; style=&quot;text-anchor:middle; font-size:11px; font:Arial; fill:black&quot;&gt;-0.0&lt;/text&gt;&lt;text x=&quot;225&quot; y=&quot;38&quot;; style=&quot;text-anchor:middle; font-size:11px; font:Arial; fill:black&quot;&gt;0.0&lt;/text&gt;&lt;text x=&quot;300&quot; y=&quot;38&quot;; style=&quot;text-anchor:middle; font-size:11px; font:Arial; fill:black&quot;&gt;0.0&lt;/text&gt;&lt;text x=&quot;375&quot; y=&quot;38&quot;; style=&quot;text-anchor:middle; font-size:11px; font:Arial; fill:black&quot;&gt;0.0&lt;/text&gt;&lt;text x=&quot;450&quot; y=&quot;38&quot; style=&quot;text-anchor:end; font-size:11px; font:Arial; fill:black&quot;&gt;0.0007&lt;/text&gt;&lt;text x=&quot;0&quot; y=&quot;12&quot; style=&quot;font-size:11px; font:Arial; fill:black&quot;&gt;CO₂ Flux (mmol/m²/s)&lt;/text&gt;&lt;/svg&gt;\n",
       "    \n",
       "            &lt;div class=&quot;folium-map&quot; id=&quot;map_c87b0521165c711a90e2e11c00047200&quot; &gt;&lt;/div&gt;\n",
       "        \n",
       "&lt;/body&gt;\n",
       "&lt;script&gt;\n",
       "    \n",
       "    \n",
       "            var map_c87b0521165c711a90e2e11c00047200 = L.map(\n",
       "                &quot;map_c87b0521165c711a90e2e11c00047200&quot;,\n",
       "                {\n",
       "                    center: [-2.0, 40.8],\n",
       "                    crs: L.CRS.EPSG3857,\n",
       "                    zoom: 6,\n",
       "                    zoomControl: true,\n",
       "                    preferCanvas: false,\n",
       "                }\n",
       "            );\n",
       "\n",
       "            \n",
       "\n",
       "        \n",
       "    \n",
       "            var tile_layer_00c8b16b329c62fe4d4453dfa072b67e = L.tileLayer(\n",
       "                &quot;https://tile.openstreetmap.org/{z}/{x}/{y}.png&quot;,\n",
       "                {&quot;attribution&quot;: &quot;\\u0026copy; \\u003ca href=\\&quot;https://www.openstreetmap.org/copyright\\&quot;\\u003eOpenStreetMap\\u003c/a\\u003e contributors&quot;, &quot;detectRetina&quot;: false, &quot;maxNativeZoom&quot;: 19, &quot;maxZoom&quot;: 19, &quot;minZoom&quot;: 0, &quot;noWrap&quot;: false, &quot;opacity&quot;: 1, &quot;subdomains&quot;: &quot;abc&quot;, &quot;tms&quot;: false}\n",
       "            );\n",
       "        \n",
       "    \n",
       "            tile_layer_00c8b16b329c62fe4d4453dfa072b67e.addTo(map_c87b0521165c711a90e2e11c00047200);\n",
       "        \n",
       "    \n",
       "            var tile_layer_56a2c89ff9c575d9fd5084b1678c8c35 = L.tileLayer(\n",
       "                &quot;https://earth.gov/ghgcenter/api/raster/collections/eccodarwin-co2flux-monthgrid-v5/items/eccodarwin-co2flux-monthgrid-v5-202209/tiles/WebMercatorQuad/{z}/{x}/{y}@1x?assets=co2\\u0026color_formula=gamma+r+1.05\\u0026colormap_name=magma\\u0026rescale=-0.0007%2C0.0007&quot;,\n",
       "                {&quot;attribution&quot;: &quot;GHG&quot;, &quot;detectRetina&quot;: false, &quot;maxZoom&quot;: 18, &quot;minZoom&quot;: 0, &quot;noWrap&quot;: false, &quot;opacity&quot;: 0.7, &quot;subdomains&quot;: &quot;abc&quot;, &quot;tms&quot;: false}\n",
       "            );\n",
       "        \n",
       "    \n",
       "            tile_layer_56a2c89ff9c575d9fd5084b1678c8c35.addTo(map_c87b0521165c711a90e2e11c00047200);\n",
       "        \n",
       "&lt;/script&gt;\n",
       "&lt;/html&gt;\" style=\"position:absolute;width:100%;height:100%;left:0;top:0;border:none !important;\" allowfullscreen webkitallowfullscreen mozallowfullscreen></iframe></div></div>"
      ],
      "text/plain": [
       "<folium.folium.Map at 0x16859a945c0>"
      ]
     },
     "execution_count": 7,
     "metadata": {},
     "output_type": "execute_result"
    }
   ],
   "source": [
    "import folium\n",
    "from folium import TileLayer\n",
    "import branca\n",
    "\n",
    "# Create a map centered over Kenya Mangroves\n",
    "kenya_map = folium.Map(location=[-2.0, 40.8], zoom_start=6)\n",
    "\n",
    "# Add CO₂ flux layer for Kenyan Mangroves\n",
    "TileLayer(tiles=kenya_flux_tile['tiles'][0], attr='GHG', opacity=0.7).add_to(kenya_map)\n",
    "\n",
    "# Add a color legend\n",
    "colormap = branca.colormap.LinearColormap(\n",
    "    colors=[\"#0000FF\", \"#3399FF\", \"#66CCFF\", \"#FFFFFF\", \"#FF66CC\", \"#FF3399\", \"#FF0000\"],\n",
    "    vmin=-0.0007, vmax=0.0007\n",
    ")\n",
    "colormap.caption = 'CO₂ Flux (mmol/m²/s)'\n",
    "legend_html = colormap._repr_html_()\n",
    "kenya_map.get_root().html.add_child(folium.Element(legend_html))\n",
    "\n",
    "# Show the Kenyan Mangroves Map\n",
    "kenya_map\n"
   ]
  },
  {
   "cell_type": "markdown",
   "metadata": {},
   "source": [
    "Sundarbans Mangroves Map"
   ]
  },
  {
   "cell_type": "code",
   "execution_count": 8,
   "metadata": {},
   "outputs": [
    {
     "data": {
      "text/html": [
       "<div style=\"width:100%;\"><div style=\"position:relative;width:100%;height:0;padding-bottom:60%;\"><span style=\"color:#565656\">Make this Notebook Trusted to load map: File -> Trust Notebook</span><iframe srcdoc=\"&lt;!DOCTYPE html&gt;\n",
       "&lt;html&gt;\n",
       "&lt;head&gt;\n",
       "    \n",
       "    &lt;meta http-equiv=&quot;content-type&quot; content=&quot;text/html; charset=UTF-8&quot; /&gt;\n",
       "    \n",
       "        &lt;script&gt;\n",
       "            L_NO_TOUCH = false;\n",
       "            L_DISABLE_3D = false;\n",
       "        &lt;/script&gt;\n",
       "    \n",
       "    &lt;style&gt;html, body {width: 100%;height: 100%;margin: 0;padding: 0;}&lt;/style&gt;\n",
       "    &lt;style&gt;#map {position:absolute;top:0;bottom:0;right:0;left:0;}&lt;/style&gt;\n",
       "    &lt;script src=&quot;https://cdn.jsdelivr.net/npm/leaflet@1.9.3/dist/leaflet.js&quot;&gt;&lt;/script&gt;\n",
       "    &lt;script src=&quot;https://code.jquery.com/jquery-3.7.1.min.js&quot;&gt;&lt;/script&gt;\n",
       "    &lt;script src=&quot;https://cdn.jsdelivr.net/npm/bootstrap@5.2.2/dist/js/bootstrap.bundle.min.js&quot;&gt;&lt;/script&gt;\n",
       "    &lt;script src=&quot;https://cdnjs.cloudflare.com/ajax/libs/Leaflet.awesome-markers/2.0.2/leaflet.awesome-markers.js&quot;&gt;&lt;/script&gt;\n",
       "    &lt;link rel=&quot;stylesheet&quot; href=&quot;https://cdn.jsdelivr.net/npm/leaflet@1.9.3/dist/leaflet.css&quot;/&gt;\n",
       "    &lt;link rel=&quot;stylesheet&quot; href=&quot;https://cdn.jsdelivr.net/npm/bootstrap@5.2.2/dist/css/bootstrap.min.css&quot;/&gt;\n",
       "    &lt;link rel=&quot;stylesheet&quot; href=&quot;https://netdna.bootstrapcdn.com/bootstrap/3.0.0/css/bootstrap-glyphicons.css&quot;/&gt;\n",
       "    &lt;link rel=&quot;stylesheet&quot; href=&quot;https://cdn.jsdelivr.net/npm/@fortawesome/fontawesome-free@6.2.0/css/all.min.css&quot;/&gt;\n",
       "    &lt;link rel=&quot;stylesheet&quot; href=&quot;https://cdnjs.cloudflare.com/ajax/libs/Leaflet.awesome-markers/2.0.2/leaflet.awesome-markers.css&quot;/&gt;\n",
       "    &lt;link rel=&quot;stylesheet&quot; href=&quot;https://cdn.jsdelivr.net/gh/python-visualization/folium/folium/templates/leaflet.awesome.rotate.min.css&quot;/&gt;\n",
       "    \n",
       "            &lt;meta name=&quot;viewport&quot; content=&quot;width=device-width,\n",
       "                initial-scale=1.0, maximum-scale=1.0, user-scalable=no&quot; /&gt;\n",
       "            &lt;style&gt;\n",
       "                #map_ef47d385bffbf0172e7033982694158f {\n",
       "                    position: relative;\n",
       "                    width: 100.0%;\n",
       "                    height: 100.0%;\n",
       "                    left: 0.0%;\n",
       "                    top: 0.0%;\n",
       "                }\n",
       "                .leaflet-container { font-size: 1rem; }\n",
       "            &lt;/style&gt;\n",
       "        \n",
       "&lt;/head&gt;\n",
       "&lt;body&gt;\n",
       "    \n",
       "    &lt;svg height=&quot;40&quot; width=&quot;450&quot;&gt;&lt;line x1=&quot;0&quot; y1=&quot;15&quot; x2=&quot;0&quot; y2=&quot;27&quot; style=&quot;stroke:#0000ffff;stroke-width:2;&quot; /&gt;&lt;line x1=&quot;1&quot; y1=&quot;15&quot; x2=&quot;1&quot; y2=&quot;27&quot; style=&quot;stroke:#0002ffff;stroke-width:2;&quot; /&gt;&lt;line x1=&quot;2&quot; y1=&quot;15&quot; x2=&quot;2&quot; y2=&quot;27&quot; style=&quot;stroke:#0104ffff;stroke-width:2;&quot; /&gt;&lt;line x1=&quot;3&quot; y1=&quot;15&quot; x2=&quot;3&quot; y2=&quot;27&quot; style=&quot;stroke:#0206ffff;stroke-width:2;&quot; /&gt;&lt;line x1=&quot;4&quot; y1=&quot;15&quot; x2=&quot;4&quot; y2=&quot;27&quot; style=&quot;stroke:#0208ffff;stroke-width:2;&quot; /&gt;&lt;line x1=&quot;5&quot; y1=&quot;15&quot; x2=&quot;5&quot; y2=&quot;27&quot; style=&quot;stroke:#030affff;stroke-width:2;&quot; /&gt;&lt;line x1=&quot;6&quot; y1=&quot;15&quot; x2=&quot;6&quot; y2=&quot;27&quot; style=&quot;stroke:#040cffff;stroke-width:2;&quot; /&gt;&lt;line x1=&quot;7&quot; y1=&quot;15&quot; x2=&quot;7&quot; y2=&quot;27&quot; style=&quot;stroke:#040effff;stroke-width:2;&quot; /&gt;&lt;line x1=&quot;8&quot; y1=&quot;15&quot; x2=&quot;8&quot; y2=&quot;27&quot; style=&quot;stroke:#0510ffff;stroke-width:2;&quot; /&gt;&lt;line x1=&quot;9&quot; y1=&quot;15&quot; x2=&quot;9&quot; y2=&quot;27&quot; style=&quot;stroke:#0612ffff;stroke-width:2;&quot; /&gt;&lt;line x1=&quot;10&quot; y1=&quot;15&quot; x2=&quot;10&quot; y2=&quot;27&quot; style=&quot;stroke:#0614ffff;stroke-width:2;&quot; /&gt;&lt;line x1=&quot;11&quot; y1=&quot;15&quot; x2=&quot;11&quot; y2=&quot;27&quot; style=&quot;stroke:#0716ffff;stroke-width:2;&quot; /&gt;&lt;line x1=&quot;12&quot; y1=&quot;15&quot; x2=&quot;12&quot; y2=&quot;27&quot; style=&quot;stroke:#0818ffff;stroke-width:2;&quot; /&gt;&lt;line x1=&quot;13&quot; y1=&quot;15&quot; x2=&quot;13&quot; y2=&quot;27&quot; style=&quot;stroke:#081affff;stroke-width:2;&quot; /&gt;&lt;line x1=&quot;14&quot; y1=&quot;15&quot; x2=&quot;14&quot; y2=&quot;27&quot; style=&quot;stroke:#091cffff;stroke-width:2;&quot; /&gt;&lt;line x1=&quot;15&quot; y1=&quot;15&quot; x2=&quot;15&quot; y2=&quot;27&quot; style=&quot;stroke:#0a1effff;stroke-width:2;&quot; /&gt;&lt;line x1=&quot;16&quot; y1=&quot;15&quot; x2=&quot;16&quot; y2=&quot;27&quot; style=&quot;stroke:#0a20ffff;stroke-width:2;&quot; /&gt;&lt;line x1=&quot;17&quot; y1=&quot;15&quot; x2=&quot;17&quot; y2=&quot;27&quot; style=&quot;stroke:#0b22ffff;stroke-width:2;&quot; /&gt;&lt;line x1=&quot;18&quot; y1=&quot;15&quot; x2=&quot;18&quot; y2=&quot;27&quot; style=&quot;stroke:#0c24ffff;stroke-width:2;&quot; /&gt;&lt;line x1=&quot;19&quot; y1=&quot;15&quot; x2=&quot;19&quot; y2=&quot;27&quot; style=&quot;stroke:#0c26ffff;stroke-width:2;&quot; /&gt;&lt;line x1=&quot;20&quot; y1=&quot;15&quot; x2=&quot;20&quot; y2=&quot;27&quot; style=&quot;stroke:#0d29ffff;stroke-width:2;&quot; /&gt;&lt;line x1=&quot;21&quot; y1=&quot;15&quot; x2=&quot;21&quot; y2=&quot;27&quot; style=&quot;stroke:#0e2bffff;stroke-width:2;&quot; /&gt;&lt;line x1=&quot;22&quot; y1=&quot;15&quot; x2=&quot;22&quot; y2=&quot;27&quot; style=&quot;stroke:#0f2dffff;stroke-width:2;&quot; /&gt;&lt;line x1=&quot;23&quot; y1=&quot;15&quot; x2=&quot;23&quot; y2=&quot;27&quot; style=&quot;stroke:#0f2fffff;stroke-width:2;&quot; /&gt;&lt;line x1=&quot;24&quot; y1=&quot;15&quot; x2=&quot;24&quot; y2=&quot;27&quot; style=&quot;stroke:#1031ffff;stroke-width:2;&quot; /&gt;&lt;line x1=&quot;25&quot; y1=&quot;15&quot; x2=&quot;25&quot; y2=&quot;27&quot; style=&quot;stroke:#1133ffff;stroke-width:2;&quot; /&gt;&lt;line x1=&quot;26&quot; y1=&quot;15&quot; x2=&quot;26&quot; y2=&quot;27&quot; style=&quot;stroke:#1135ffff;stroke-width:2;&quot; /&gt;&lt;line x1=&quot;27&quot; y1=&quot;15&quot; x2=&quot;27&quot; y2=&quot;27&quot; style=&quot;stroke:#1237ffff;stroke-width:2;&quot; /&gt;&lt;line x1=&quot;28&quot; y1=&quot;15&quot; x2=&quot;28&quot; y2=&quot;27&quot; style=&quot;stroke:#1339ffff;stroke-width:2;&quot; /&gt;&lt;line x1=&quot;29&quot; y1=&quot;15&quot; x2=&quot;29&quot; y2=&quot;27&quot; style=&quot;stroke:#133bffff;stroke-width:2;&quot; /&gt;&lt;line x1=&quot;30&quot; y1=&quot;15&quot; x2=&quot;30&quot; y2=&quot;27&quot; style=&quot;stroke:#143dffff;stroke-width:2;&quot; /&gt;&lt;line x1=&quot;31&quot; y1=&quot;15&quot; x2=&quot;31&quot; y2=&quot;27&quot; style=&quot;stroke:#153fffff;stroke-width:2;&quot; /&gt;&lt;line x1=&quot;32&quot; y1=&quot;15&quot; x2=&quot;32&quot; y2=&quot;27&quot; style=&quot;stroke:#1541ffff;stroke-width:2;&quot; /&gt;&lt;line x1=&quot;33&quot; y1=&quot;15&quot; x2=&quot;33&quot; y2=&quot;27&quot; style=&quot;stroke:#1643ffff;stroke-width:2;&quot; /&gt;&lt;line x1=&quot;34&quot; y1=&quot;15&quot; x2=&quot;34&quot; y2=&quot;27&quot; style=&quot;stroke:#1745ffff;stroke-width:2;&quot; /&gt;&lt;line x1=&quot;35&quot; y1=&quot;15&quot; x2=&quot;35&quot; y2=&quot;27&quot; style=&quot;stroke:#1747ffff;stroke-width:2;&quot; /&gt;&lt;line x1=&quot;36&quot; y1=&quot;15&quot; x2=&quot;36&quot; y2=&quot;27&quot; style=&quot;stroke:#1849ffff;stroke-width:2;&quot; /&gt;&lt;line x1=&quot;37&quot; y1=&quot;15&quot; x2=&quot;37&quot; y2=&quot;27&quot; style=&quot;stroke:#194bffff;stroke-width:2;&quot; /&gt;&lt;line x1=&quot;38&quot; y1=&quot;15&quot; x2=&quot;38&quot; y2=&quot;27&quot; style=&quot;stroke:#194dffff;stroke-width:2;&quot; /&gt;&lt;line x1=&quot;39&quot; y1=&quot;15&quot; x2=&quot;39&quot; y2=&quot;27&quot; style=&quot;stroke:#1a50ffff;stroke-width:2;&quot; /&gt;&lt;line x1=&quot;40&quot; y1=&quot;15&quot; x2=&quot;40&quot; y2=&quot;27&quot; style=&quot;stroke:#1b52ffff;stroke-width:2;&quot; /&gt;&lt;line x1=&quot;41&quot; y1=&quot;15&quot; x2=&quot;41&quot; y2=&quot;27&quot; style=&quot;stroke:#1c54ffff;stroke-width:2;&quot; /&gt;&lt;line x1=&quot;42&quot; y1=&quot;15&quot; x2=&quot;42&quot; y2=&quot;27&quot; style=&quot;stroke:#1c56ffff;stroke-width:2;&quot; /&gt;&lt;line x1=&quot;43&quot; y1=&quot;15&quot; x2=&quot;43&quot; y2=&quot;27&quot; style=&quot;stroke:#1d58ffff;stroke-width:2;&quot; /&gt;&lt;line x1=&quot;44&quot; y1=&quot;15&quot; x2=&quot;44&quot; y2=&quot;27&quot; style=&quot;stroke:#1e5affff;stroke-width:2;&quot; /&gt;&lt;line x1=&quot;45&quot; y1=&quot;15&quot; x2=&quot;45&quot; y2=&quot;27&quot; style=&quot;stroke:#1e5cffff;stroke-width:2;&quot; /&gt;&lt;line x1=&quot;46&quot; y1=&quot;15&quot; x2=&quot;46&quot; y2=&quot;27&quot; style=&quot;stroke:#1f5effff;stroke-width:2;&quot; /&gt;&lt;line x1=&quot;47&quot; y1=&quot;15&quot; x2=&quot;47&quot; y2=&quot;27&quot; style=&quot;stroke:#2060ffff;stroke-width:2;&quot; /&gt;&lt;line x1=&quot;48&quot; y1=&quot;15&quot; x2=&quot;48&quot; y2=&quot;27&quot; style=&quot;stroke:#2062ffff;stroke-width:2;&quot; /&gt;&lt;line x1=&quot;49&quot; y1=&quot;15&quot; x2=&quot;49&quot; y2=&quot;27&quot; style=&quot;stroke:#2164ffff;stroke-width:2;&quot; /&gt;&lt;line x1=&quot;50&quot; y1=&quot;15&quot; x2=&quot;50&quot; y2=&quot;27&quot; style=&quot;stroke:#2266ffff;stroke-width:2;&quot; /&gt;&lt;line x1=&quot;51&quot; y1=&quot;15&quot; x2=&quot;51&quot; y2=&quot;27&quot; style=&quot;stroke:#2268ffff;stroke-width:2;&quot; /&gt;&lt;line x1=&quot;52&quot; y1=&quot;15&quot; x2=&quot;52&quot; y2=&quot;27&quot; style=&quot;stroke:#236affff;stroke-width:2;&quot; /&gt;&lt;line x1=&quot;53&quot; y1=&quot;15&quot; x2=&quot;53&quot; y2=&quot;27&quot; style=&quot;stroke:#246cffff;stroke-width:2;&quot; /&gt;&lt;line x1=&quot;54&quot; y1=&quot;15&quot; x2=&quot;54&quot; y2=&quot;27&quot; style=&quot;stroke:#246effff;stroke-width:2;&quot; /&gt;&lt;line x1=&quot;55&quot; y1=&quot;15&quot; x2=&quot;55&quot; y2=&quot;27&quot; style=&quot;stroke:#2570ffff;stroke-width:2;&quot; /&gt;&lt;line x1=&quot;56&quot; y1=&quot;15&quot; x2=&quot;56&quot; y2=&quot;27&quot; style=&quot;stroke:#2672ffff;stroke-width:2;&quot; /&gt;&lt;line x1=&quot;57&quot; y1=&quot;15&quot; x2=&quot;57&quot; y2=&quot;27&quot; style=&quot;stroke:#2674ffff;stroke-width:2;&quot; /&gt;&lt;line x1=&quot;58&quot; y1=&quot;15&quot; x2=&quot;58&quot; y2=&quot;27&quot; style=&quot;stroke:#2777ffff;stroke-width:2;&quot; /&gt;&lt;line x1=&quot;59&quot; y1=&quot;15&quot; x2=&quot;59&quot; y2=&quot;27&quot; style=&quot;stroke:#2879ffff;stroke-width:2;&quot; /&gt;&lt;line x1=&quot;60&quot; y1=&quot;15&quot; x2=&quot;60&quot; y2=&quot;27&quot; style=&quot;stroke:#297bffff;stroke-width:2;&quot; /&gt;&lt;line x1=&quot;61&quot; y1=&quot;15&quot; x2=&quot;61&quot; y2=&quot;27&quot; style=&quot;stroke:#297dffff;stroke-width:2;&quot; /&gt;&lt;line x1=&quot;62&quot; y1=&quot;15&quot; x2=&quot;62&quot; y2=&quot;27&quot; style=&quot;stroke:#2a7fffff;stroke-width:2;&quot; /&gt;&lt;line x1=&quot;63&quot; y1=&quot;15&quot; x2=&quot;63&quot; y2=&quot;27&quot; style=&quot;stroke:#2b81ffff;stroke-width:2;&quot; /&gt;&lt;line x1=&quot;64&quot; y1=&quot;15&quot; x2=&quot;64&quot; y2=&quot;27&quot; style=&quot;stroke:#2b83ffff;stroke-width:2;&quot; /&gt;&lt;line x1=&quot;65&quot; y1=&quot;15&quot; x2=&quot;65&quot; y2=&quot;27&quot; style=&quot;stroke:#2c85ffff;stroke-width:2;&quot; /&gt;&lt;line x1=&quot;66&quot; y1=&quot;15&quot; x2=&quot;66&quot; y2=&quot;27&quot; style=&quot;stroke:#2d87ffff;stroke-width:2;&quot; /&gt;&lt;line x1=&quot;67&quot; y1=&quot;15&quot; x2=&quot;67&quot; y2=&quot;27&quot; style=&quot;stroke:#2d89ffff;stroke-width:2;&quot; /&gt;&lt;line x1=&quot;68&quot; y1=&quot;15&quot; x2=&quot;68&quot; y2=&quot;27&quot; style=&quot;stroke:#2e8bffff;stroke-width:2;&quot; /&gt;&lt;line x1=&quot;69&quot; y1=&quot;15&quot; x2=&quot;69&quot; y2=&quot;27&quot; style=&quot;stroke:#2f8dffff;stroke-width:2;&quot; /&gt;&lt;line x1=&quot;70&quot; y1=&quot;15&quot; x2=&quot;70&quot; y2=&quot;27&quot; style=&quot;stroke:#2f8fffff;stroke-width:2;&quot; /&gt;&lt;line x1=&quot;71&quot; y1=&quot;15&quot; x2=&quot;71&quot; y2=&quot;27&quot; style=&quot;stroke:#3091ffff;stroke-width:2;&quot; /&gt;&lt;line x1=&quot;72&quot; y1=&quot;15&quot; x2=&quot;72&quot; y2=&quot;27&quot; style=&quot;stroke:#3193ffff;stroke-width:2;&quot; /&gt;&lt;line x1=&quot;73&quot; y1=&quot;15&quot; x2=&quot;73&quot; y2=&quot;27&quot; style=&quot;stroke:#3195ffff;stroke-width:2;&quot; /&gt;&lt;line x1=&quot;74&quot; y1=&quot;15&quot; x2=&quot;74&quot; y2=&quot;27&quot; style=&quot;stroke:#3297ffff;stroke-width:2;&quot; /&gt;&lt;line x1=&quot;75&quot; y1=&quot;15&quot; x2=&quot;75&quot; y2=&quot;27&quot; style=&quot;stroke:#3399ffff;stroke-width:2;&quot; /&gt;&lt;line x1=&quot;76&quot; y1=&quot;15&quot; x2=&quot;76&quot; y2=&quot;27&quot; style=&quot;stroke:#339affff;stroke-width:2;&quot; /&gt;&lt;line x1=&quot;77&quot; y1=&quot;15&quot; x2=&quot;77&quot; y2=&quot;27&quot; style=&quot;stroke:#349bffff;stroke-width:2;&quot; /&gt;&lt;line x1=&quot;78&quot; y1=&quot;15&quot; x2=&quot;78&quot; y2=&quot;27&quot; style=&quot;stroke:#359bffff;stroke-width:2;&quot; /&gt;&lt;line x1=&quot;79&quot; y1=&quot;15&quot; x2=&quot;79&quot; y2=&quot;27&quot; style=&quot;stroke:#369cffff;stroke-width:2;&quot; /&gt;&lt;line x1=&quot;80&quot; y1=&quot;15&quot; x2=&quot;80&quot; y2=&quot;27&quot; style=&quot;stroke:#369dffff;stroke-width:2;&quot; /&gt;&lt;line x1=&quot;81&quot; y1=&quot;15&quot; x2=&quot;81&quot; y2=&quot;27&quot; style=&quot;stroke:#379dffff;stroke-width:2;&quot; /&gt;&lt;line x1=&quot;82&quot; y1=&quot;15&quot; x2=&quot;82&quot; y2=&quot;27&quot; style=&quot;stroke:#389effff;stroke-width:2;&quot; /&gt;&lt;line x1=&quot;83&quot; y1=&quot;15&quot; x2=&quot;83&quot; y2=&quot;27&quot; style=&quot;stroke:#389fffff;stroke-width:2;&quot; /&gt;&lt;line x1=&quot;84&quot; y1=&quot;15&quot; x2=&quot;84&quot; y2=&quot;27&quot; style=&quot;stroke:#399fffff;stroke-width:2;&quot; /&gt;&lt;line x1=&quot;85&quot; y1=&quot;15&quot; x2=&quot;85&quot; y2=&quot;27&quot; style=&quot;stroke:#3aa0ffff;stroke-width:2;&quot; /&gt;&lt;line x1=&quot;86&quot; y1=&quot;15&quot; x2=&quot;86&quot; y2=&quot;27&quot; style=&quot;stroke:#3aa1ffff;stroke-width:2;&quot; /&gt;&lt;line x1=&quot;87&quot; y1=&quot;15&quot; x2=&quot;87&quot; y2=&quot;27&quot; style=&quot;stroke:#3ba1ffff;stroke-width:2;&quot; /&gt;&lt;line x1=&quot;88&quot; y1=&quot;15&quot; x2=&quot;88&quot; y2=&quot;27&quot; style=&quot;stroke:#3ca2ffff;stroke-width:2;&quot; /&gt;&lt;line x1=&quot;89&quot; y1=&quot;15&quot; x2=&quot;89&quot; y2=&quot;27&quot; style=&quot;stroke:#3ca3ffff;stroke-width:2;&quot; /&gt;&lt;line x1=&quot;90&quot; y1=&quot;15&quot; x2=&quot;90&quot; y2=&quot;27&quot; style=&quot;stroke:#3da3ffff;stroke-width:2;&quot; /&gt;&lt;line x1=&quot;91&quot; y1=&quot;15&quot; x2=&quot;91&quot; y2=&quot;27&quot; style=&quot;stroke:#3ea4ffff;stroke-width:2;&quot; /&gt;&lt;line x1=&quot;92&quot; y1=&quot;15&quot; x2=&quot;92&quot; y2=&quot;27&quot; style=&quot;stroke:#3ea5ffff;stroke-width:2;&quot; /&gt;&lt;line x1=&quot;93&quot; y1=&quot;15&quot; x2=&quot;93&quot; y2=&quot;27&quot; style=&quot;stroke:#3fa6ffff;stroke-width:2;&quot; /&gt;&lt;line x1=&quot;94&quot; y1=&quot;15&quot; x2=&quot;94&quot; y2=&quot;27&quot; style=&quot;stroke:#40a6ffff;stroke-width:2;&quot; /&gt;&lt;line x1=&quot;95&quot; y1=&quot;15&quot; x2=&quot;95&quot; y2=&quot;27&quot; style=&quot;stroke:#40a7ffff;stroke-width:2;&quot; /&gt;&lt;line x1=&quot;96&quot; y1=&quot;15&quot; x2=&quot;96&quot; y2=&quot;27&quot; style=&quot;stroke:#41a8ffff;stroke-width:2;&quot; /&gt;&lt;line x1=&quot;97&quot; y1=&quot;15&quot; x2=&quot;97&quot; y2=&quot;27&quot; style=&quot;stroke:#42a8ffff;stroke-width:2;&quot; /&gt;&lt;line x1=&quot;98&quot; y1=&quot;15&quot; x2=&quot;98&quot; y2=&quot;27&quot; style=&quot;stroke:#43a9ffff;stroke-width:2;&quot; /&gt;&lt;line x1=&quot;99&quot; y1=&quot;15&quot; x2=&quot;99&quot; y2=&quot;27&quot; style=&quot;stroke:#43aaffff;stroke-width:2;&quot; /&gt;&lt;line x1=&quot;100&quot; y1=&quot;15&quot; x2=&quot;100&quot; y2=&quot;27&quot; style=&quot;stroke:#44aaffff;stroke-width:2;&quot; /&gt;&lt;line x1=&quot;101&quot; y1=&quot;15&quot; x2=&quot;101&quot; y2=&quot;27&quot; style=&quot;stroke:#45abffff;stroke-width:2;&quot; /&gt;&lt;line x1=&quot;102&quot; y1=&quot;15&quot; x2=&quot;102&quot; y2=&quot;27&quot; style=&quot;stroke:#45acffff;stroke-width:2;&quot; /&gt;&lt;line x1=&quot;103&quot; y1=&quot;15&quot; x2=&quot;103&quot; y2=&quot;27&quot; style=&quot;stroke:#46acffff;stroke-width:2;&quot; /&gt;&lt;line x1=&quot;104&quot; y1=&quot;15&quot; x2=&quot;104&quot; y2=&quot;27&quot; style=&quot;stroke:#47adffff;stroke-width:2;&quot; /&gt;&lt;line x1=&quot;105&quot; y1=&quot;15&quot; x2=&quot;105&quot; y2=&quot;27&quot; style=&quot;stroke:#47aeffff;stroke-width:2;&quot; /&gt;&lt;line x1=&quot;106&quot; y1=&quot;15&quot; x2=&quot;106&quot; y2=&quot;27&quot; style=&quot;stroke:#48aeffff;stroke-width:2;&quot; /&gt;&lt;line x1=&quot;107&quot; y1=&quot;15&quot; x2=&quot;107&quot; y2=&quot;27&quot; style=&quot;stroke:#49afffff;stroke-width:2;&quot; /&gt;&lt;line x1=&quot;108&quot; y1=&quot;15&quot; x2=&quot;108&quot; y2=&quot;27&quot; style=&quot;stroke:#49b0ffff;stroke-width:2;&quot; /&gt;&lt;line x1=&quot;109&quot; y1=&quot;15&quot; x2=&quot;109&quot; y2=&quot;27&quot; style=&quot;stroke:#4ab0ffff;stroke-width:2;&quot; /&gt;&lt;line x1=&quot;110&quot; y1=&quot;15&quot; x2=&quot;110&quot; y2=&quot;27&quot; style=&quot;stroke:#4bb1ffff;stroke-width:2;&quot; /&gt;&lt;line x1=&quot;111&quot; y1=&quot;15&quot; x2=&quot;111&quot; y2=&quot;27&quot; style=&quot;stroke:#4bb2ffff;stroke-width:2;&quot; /&gt;&lt;line x1=&quot;112&quot; y1=&quot;15&quot; x2=&quot;112&quot; y2=&quot;27&quot; style=&quot;stroke:#4cb3ffff;stroke-width:2;&quot; /&gt;&lt;line x1=&quot;113&quot; y1=&quot;15&quot; x2=&quot;113&quot; y2=&quot;27&quot; style=&quot;stroke:#4db3ffff;stroke-width:2;&quot; /&gt;&lt;line x1=&quot;114&quot; y1=&quot;15&quot; x2=&quot;114&quot; y2=&quot;27&quot; style=&quot;stroke:#4db4ffff;stroke-width:2;&quot; /&gt;&lt;line x1=&quot;115&quot; y1=&quot;15&quot; x2=&quot;115&quot; y2=&quot;27&quot; style=&quot;stroke:#4eb5ffff;stroke-width:2;&quot; /&gt;&lt;line x1=&quot;116&quot; y1=&quot;15&quot; x2=&quot;116&quot; y2=&quot;27&quot; style=&quot;stroke:#4fb5ffff;stroke-width:2;&quot; /&gt;&lt;line x1=&quot;117&quot; y1=&quot;15&quot; x2=&quot;117&quot; y2=&quot;27&quot; style=&quot;stroke:#50b6ffff;stroke-width:2;&quot; /&gt;&lt;line x1=&quot;118&quot; y1=&quot;15&quot; x2=&quot;118&quot; y2=&quot;27&quot; style=&quot;stroke:#50b7ffff;stroke-width:2;&quot; /&gt;&lt;line x1=&quot;119&quot; y1=&quot;15&quot; x2=&quot;119&quot; y2=&quot;27&quot; style=&quot;stroke:#51b7ffff;stroke-width:2;&quot; /&gt;&lt;line x1=&quot;120&quot; y1=&quot;15&quot; x2=&quot;120&quot; y2=&quot;27&quot; style=&quot;stroke:#52b8ffff;stroke-width:2;&quot; /&gt;&lt;line x1=&quot;121&quot; y1=&quot;15&quot; x2=&quot;121&quot; y2=&quot;27&quot; style=&quot;stroke:#52b9ffff;stroke-width:2;&quot; /&gt;&lt;line x1=&quot;122&quot; y1=&quot;15&quot; x2=&quot;122&quot; y2=&quot;27&quot; style=&quot;stroke:#53b9ffff;stroke-width:2;&quot; /&gt;&lt;line x1=&quot;123&quot; y1=&quot;15&quot; x2=&quot;123&quot; y2=&quot;27&quot; style=&quot;stroke:#54baffff;stroke-width:2;&quot; /&gt;&lt;line x1=&quot;124&quot; y1=&quot;15&quot; x2=&quot;124&quot; y2=&quot;27&quot; style=&quot;stroke:#54bbffff;stroke-width:2;&quot; /&gt;&lt;line x1=&quot;125&quot; y1=&quot;15&quot; x2=&quot;125&quot; y2=&quot;27&quot; style=&quot;stroke:#55bbffff;stroke-width:2;&quot; /&gt;&lt;line x1=&quot;126&quot; y1=&quot;15&quot; x2=&quot;126&quot; y2=&quot;27&quot; style=&quot;stroke:#56bcffff;stroke-width:2;&quot; /&gt;&lt;line x1=&quot;127&quot; y1=&quot;15&quot; x2=&quot;127&quot; y2=&quot;27&quot; style=&quot;stroke:#56bdffff;stroke-width:2;&quot; /&gt;&lt;line x1=&quot;128&quot; y1=&quot;15&quot; x2=&quot;128&quot; y2=&quot;27&quot; style=&quot;stroke:#57bdffff;stroke-width:2;&quot; /&gt;&lt;line x1=&quot;129&quot; y1=&quot;15&quot; x2=&quot;129&quot; y2=&quot;27&quot; style=&quot;stroke:#58beffff;stroke-width:2;&quot; /&gt;&lt;line x1=&quot;130&quot; y1=&quot;15&quot; x2=&quot;130&quot; y2=&quot;27&quot; style=&quot;stroke:#58bfffff;stroke-width:2;&quot; /&gt;&lt;line x1=&quot;131&quot; y1=&quot;15&quot; x2=&quot;131&quot; y2=&quot;27&quot; style=&quot;stroke:#59c0ffff;stroke-width:2;&quot; /&gt;&lt;line x1=&quot;132&quot; y1=&quot;15&quot; x2=&quot;132&quot; y2=&quot;27&quot; style=&quot;stroke:#5ac0ffff;stroke-width:2;&quot; /&gt;&lt;line x1=&quot;133&quot; y1=&quot;15&quot; x2=&quot;133&quot; y2=&quot;27&quot; style=&quot;stroke:#5ac1ffff;stroke-width:2;&quot; /&gt;&lt;line x1=&quot;134&quot; y1=&quot;15&quot; x2=&quot;134&quot; y2=&quot;27&quot; style=&quot;stroke:#5bc2ffff;stroke-width:2;&quot; /&gt;&lt;line x1=&quot;135&quot; y1=&quot;15&quot; x2=&quot;135&quot; y2=&quot;27&quot; style=&quot;stroke:#5cc2ffff;stroke-width:2;&quot; /&gt;&lt;line x1=&quot;136&quot; y1=&quot;15&quot; x2=&quot;136&quot; y2=&quot;27&quot; style=&quot;stroke:#5dc3ffff;stroke-width:2;&quot; /&gt;&lt;line x1=&quot;137&quot; y1=&quot;15&quot; x2=&quot;137&quot; y2=&quot;27&quot; style=&quot;stroke:#5dc4ffff;stroke-width:2;&quot; /&gt;&lt;line x1=&quot;138&quot; y1=&quot;15&quot; x2=&quot;138&quot; y2=&quot;27&quot; style=&quot;stroke:#5ec4ffff;stroke-width:2;&quot; /&gt;&lt;line x1=&quot;139&quot; y1=&quot;15&quot; x2=&quot;139&quot; y2=&quot;27&quot; style=&quot;stroke:#5fc5ffff;stroke-width:2;&quot; /&gt;&lt;line x1=&quot;140&quot; y1=&quot;15&quot; x2=&quot;140&quot; y2=&quot;27&quot; style=&quot;stroke:#5fc6ffff;stroke-width:2;&quot; /&gt;&lt;line x1=&quot;141&quot; y1=&quot;15&quot; x2=&quot;141&quot; y2=&quot;27&quot; style=&quot;stroke:#60c6ffff;stroke-width:2;&quot; /&gt;&lt;line x1=&quot;142&quot; y1=&quot;15&quot; x2=&quot;142&quot; y2=&quot;27&quot; style=&quot;stroke:#61c7ffff;stroke-width:2;&quot; /&gt;&lt;line x1=&quot;143&quot; y1=&quot;15&quot; x2=&quot;143&quot; y2=&quot;27&quot; style=&quot;stroke:#61c8ffff;stroke-width:2;&quot; /&gt;&lt;line x1=&quot;144&quot; y1=&quot;15&quot; x2=&quot;144&quot; y2=&quot;27&quot; style=&quot;stroke:#62c8ffff;stroke-width:2;&quot; /&gt;&lt;line x1=&quot;145&quot; y1=&quot;15&quot; x2=&quot;145&quot; y2=&quot;27&quot; style=&quot;stroke:#63c9ffff;stroke-width:2;&quot; /&gt;&lt;line x1=&quot;146&quot; y1=&quot;15&quot; x2=&quot;146&quot; y2=&quot;27&quot; style=&quot;stroke:#63caffff;stroke-width:2;&quot; /&gt;&lt;line x1=&quot;147&quot; y1=&quot;15&quot; x2=&quot;147&quot; y2=&quot;27&quot; style=&quot;stroke:#64caffff;stroke-width:2;&quot; /&gt;&lt;line x1=&quot;148&quot; y1=&quot;15&quot; x2=&quot;148&quot; y2=&quot;27&quot; style=&quot;stroke:#65cbffff;stroke-width:2;&quot; /&gt;&lt;line x1=&quot;149&quot; y1=&quot;15&quot; x2=&quot;149&quot; y2=&quot;27&quot; style=&quot;stroke:#65ccffff;stroke-width:2;&quot; /&gt;&lt;line x1=&quot;150&quot; y1=&quot;15&quot; x2=&quot;150&quot; y2=&quot;27&quot; style=&quot;stroke:#67cdffff;stroke-width:2;&quot; /&gt;&lt;line x1=&quot;151&quot; y1=&quot;15&quot; x2=&quot;151&quot; y2=&quot;27&quot; style=&quot;stroke:#69cdffff;stroke-width:2;&quot; /&gt;&lt;line x1=&quot;152&quot; y1=&quot;15&quot; x2=&quot;152&quot; y2=&quot;27&quot; style=&quot;stroke:#6bceffff;stroke-width:2;&quot; /&gt;&lt;line x1=&quot;153&quot; y1=&quot;15&quot; x2=&quot;153&quot; y2=&quot;27&quot; style=&quot;stroke:#6dcfffff;stroke-width:2;&quot; /&gt;&lt;line x1=&quot;154&quot; y1=&quot;15&quot; x2=&quot;154&quot; y2=&quot;27&quot; style=&quot;stroke:#6fcfffff;stroke-width:2;&quot; /&gt;&lt;line x1=&quot;155&quot; y1=&quot;15&quot; x2=&quot;155&quot; y2=&quot;27&quot; style=&quot;stroke:#71d0ffff;stroke-width:2;&quot; /&gt;&lt;line x1=&quot;156&quot; y1=&quot;15&quot; x2=&quot;156&quot; y2=&quot;27&quot; style=&quot;stroke:#73d1ffff;stroke-width:2;&quot; /&gt;&lt;line x1=&quot;157&quot; y1=&quot;15&quot; x2=&quot;157&quot; y2=&quot;27&quot; style=&quot;stroke:#75d1ffff;stroke-width:2;&quot; /&gt;&lt;line x1=&quot;158&quot; y1=&quot;15&quot; x2=&quot;158&quot; y2=&quot;27&quot; style=&quot;stroke:#77d2ffff;stroke-width:2;&quot; /&gt;&lt;line x1=&quot;159&quot; y1=&quot;15&quot; x2=&quot;159&quot; y2=&quot;27&quot; style=&quot;stroke:#79d3ffff;stroke-width:2;&quot; /&gt;&lt;line x1=&quot;160&quot; y1=&quot;15&quot; x2=&quot;160&quot; y2=&quot;27&quot; style=&quot;stroke:#7bd3ffff;stroke-width:2;&quot; /&gt;&lt;line x1=&quot;161&quot; y1=&quot;15&quot; x2=&quot;161&quot; y2=&quot;27&quot; style=&quot;stroke:#7dd4ffff;stroke-width:2;&quot; /&gt;&lt;line x1=&quot;162&quot; y1=&quot;15&quot; x2=&quot;162&quot; y2=&quot;27&quot; style=&quot;stroke:#7fd5ffff;stroke-width:2;&quot; /&gt;&lt;line x1=&quot;163&quot; y1=&quot;15&quot; x2=&quot;163&quot; y2=&quot;27&quot; style=&quot;stroke:#81d5ffff;stroke-width:2;&quot; /&gt;&lt;line x1=&quot;164&quot; y1=&quot;15&quot; x2=&quot;164&quot; y2=&quot;27&quot; style=&quot;stroke:#83d6ffff;stroke-width:2;&quot; /&gt;&lt;line x1=&quot;165&quot; y1=&quot;15&quot; x2=&quot;165&quot; y2=&quot;27&quot; style=&quot;stroke:#85d7ffff;stroke-width:2;&quot; /&gt;&lt;line x1=&quot;166&quot; y1=&quot;15&quot; x2=&quot;166&quot; y2=&quot;27&quot; style=&quot;stroke:#87d7ffff;stroke-width:2;&quot; /&gt;&lt;line x1=&quot;167&quot; y1=&quot;15&quot; x2=&quot;167&quot; y2=&quot;27&quot; style=&quot;stroke:#89d8ffff;stroke-width:2;&quot; /&gt;&lt;line x1=&quot;168&quot; y1=&quot;15&quot; x2=&quot;168&quot; y2=&quot;27&quot; style=&quot;stroke:#8cd9ffff;stroke-width:2;&quot; /&gt;&lt;line x1=&quot;169&quot; y1=&quot;15&quot; x2=&quot;169&quot; y2=&quot;27&quot; style=&quot;stroke:#8edaffff;stroke-width:2;&quot; /&gt;&lt;line x1=&quot;170&quot; y1=&quot;15&quot; x2=&quot;170&quot; y2=&quot;27&quot; style=&quot;stroke:#90daffff;stroke-width:2;&quot; /&gt;&lt;line x1=&quot;171&quot; y1=&quot;15&quot; x2=&quot;171&quot; y2=&quot;27&quot; style=&quot;stroke:#92dbffff;stroke-width:2;&quot; /&gt;&lt;line x1=&quot;172&quot; y1=&quot;15&quot; x2=&quot;172&quot; y2=&quot;27&quot; style=&quot;stroke:#94dcffff;stroke-width:2;&quot; /&gt;&lt;line x1=&quot;173&quot; y1=&quot;15&quot; x2=&quot;173&quot; y2=&quot;27&quot; style=&quot;stroke:#96dcffff;stroke-width:2;&quot; /&gt;&lt;line x1=&quot;174&quot; y1=&quot;15&quot; x2=&quot;174&quot; y2=&quot;27&quot; style=&quot;stroke:#98ddffff;stroke-width:2;&quot; /&gt;&lt;line x1=&quot;175&quot; y1=&quot;15&quot; x2=&quot;175&quot; y2=&quot;27&quot; style=&quot;stroke:#9adeffff;stroke-width:2;&quot; /&gt;&lt;line x1=&quot;176&quot; y1=&quot;15&quot; x2=&quot;176&quot; y2=&quot;27&quot; style=&quot;stroke:#9cdeffff;stroke-width:2;&quot; /&gt;&lt;line x1=&quot;177&quot; y1=&quot;15&quot; x2=&quot;177&quot; y2=&quot;27&quot; style=&quot;stroke:#9edfffff;stroke-width:2;&quot; /&gt;&lt;line x1=&quot;178&quot; y1=&quot;15&quot; x2=&quot;178&quot; y2=&quot;27&quot; style=&quot;stroke:#a0e0ffff;stroke-width:2;&quot; /&gt;&lt;line x1=&quot;179&quot; y1=&quot;15&quot; x2=&quot;179&quot; y2=&quot;27&quot; style=&quot;stroke:#a2e0ffff;stroke-width:2;&quot; /&gt;&lt;line x1=&quot;180&quot; y1=&quot;15&quot; x2=&quot;180&quot; y2=&quot;27&quot; style=&quot;stroke:#a4e1ffff;stroke-width:2;&quot; /&gt;&lt;line x1=&quot;181&quot; y1=&quot;15&quot; x2=&quot;181&quot; y2=&quot;27&quot; style=&quot;stroke:#a6e2ffff;stroke-width:2;&quot; /&gt;&lt;line x1=&quot;182&quot; y1=&quot;15&quot; x2=&quot;182&quot; y2=&quot;27&quot; style=&quot;stroke:#a8e2ffff;stroke-width:2;&quot; /&gt;&lt;line x1=&quot;183&quot; y1=&quot;15&quot; x2=&quot;183&quot; y2=&quot;27&quot; style=&quot;stroke:#aae3ffff;stroke-width:2;&quot; /&gt;&lt;line x1=&quot;184&quot; y1=&quot;15&quot; x2=&quot;184&quot; y2=&quot;27&quot; style=&quot;stroke:#ace4ffff;stroke-width:2;&quot; /&gt;&lt;line x1=&quot;185&quot; y1=&quot;15&quot; x2=&quot;185&quot; y2=&quot;27&quot; style=&quot;stroke:#aee4ffff;stroke-width:2;&quot; /&gt;&lt;line x1=&quot;186&quot; y1=&quot;15&quot; x2=&quot;186&quot; y2=&quot;27&quot; style=&quot;stroke:#b0e5ffff;stroke-width:2;&quot; /&gt;&lt;line x1=&quot;187&quot; y1=&quot;15&quot; x2=&quot;187&quot; y2=&quot;27&quot; style=&quot;stroke:#b3e6ffff;stroke-width:2;&quot; /&gt;&lt;line x1=&quot;188&quot; y1=&quot;15&quot; x2=&quot;188&quot; y2=&quot;27&quot; style=&quot;stroke:#b5e7ffff;stroke-width:2;&quot; /&gt;&lt;line x1=&quot;189&quot; y1=&quot;15&quot; x2=&quot;189&quot; y2=&quot;27&quot; style=&quot;stroke:#b7e7ffff;stroke-width:2;&quot; /&gt;&lt;line x1=&quot;190&quot; y1=&quot;15&quot; x2=&quot;190&quot; y2=&quot;27&quot; style=&quot;stroke:#b9e8ffff;stroke-width:2;&quot; /&gt;&lt;line x1=&quot;191&quot; y1=&quot;15&quot; x2=&quot;191&quot; y2=&quot;27&quot; style=&quot;stroke:#bbe9ffff;stroke-width:2;&quot; /&gt;&lt;line x1=&quot;192&quot; y1=&quot;15&quot; x2=&quot;192&quot; y2=&quot;27&quot; style=&quot;stroke:#bde9ffff;stroke-width:2;&quot; /&gt;&lt;line x1=&quot;193&quot; y1=&quot;15&quot; x2=&quot;193&quot; y2=&quot;27&quot; style=&quot;stroke:#bfeaffff;stroke-width:2;&quot; /&gt;&lt;line x1=&quot;194&quot; y1=&quot;15&quot; x2=&quot;194&quot; y2=&quot;27&quot; style=&quot;stroke:#c1ebffff;stroke-width:2;&quot; /&gt;&lt;line x1=&quot;195&quot; y1=&quot;15&quot; x2=&quot;195&quot; y2=&quot;27&quot; style=&quot;stroke:#c3ebffff;stroke-width:2;&quot; /&gt;&lt;line x1=&quot;196&quot; y1=&quot;15&quot; x2=&quot;196&quot; y2=&quot;27&quot; style=&quot;stroke:#c5ecffff;stroke-width:2;&quot; /&gt;&lt;line x1=&quot;197&quot; y1=&quot;15&quot; x2=&quot;197&quot; y2=&quot;27&quot; style=&quot;stroke:#c7edffff;stroke-width:2;&quot; /&gt;&lt;line x1=&quot;198&quot; y1=&quot;15&quot; x2=&quot;198&quot; y2=&quot;27&quot; style=&quot;stroke:#c9edffff;stroke-width:2;&quot; /&gt;&lt;line x1=&quot;199&quot; y1=&quot;15&quot; x2=&quot;199&quot; y2=&quot;27&quot; style=&quot;stroke:#cbeeffff;stroke-width:2;&quot; /&gt;&lt;line x1=&quot;200&quot; y1=&quot;15&quot; x2=&quot;200&quot; y2=&quot;27&quot; style=&quot;stroke:#cdefffff;stroke-width:2;&quot; /&gt;&lt;line x1=&quot;201&quot; y1=&quot;15&quot; x2=&quot;201&quot; y2=&quot;27&quot; style=&quot;stroke:#cfefffff;stroke-width:2;&quot; /&gt;&lt;line x1=&quot;202&quot; y1=&quot;15&quot; x2=&quot;202&quot; y2=&quot;27&quot; style=&quot;stroke:#d1f0ffff;stroke-width:2;&quot; /&gt;&lt;line x1=&quot;203&quot; y1=&quot;15&quot; x2=&quot;203&quot; y2=&quot;27&quot; style=&quot;stroke:#d3f1ffff;stroke-width:2;&quot; /&gt;&lt;line x1=&quot;204&quot; y1=&quot;15&quot; x2=&quot;204&quot; y2=&quot;27&quot; style=&quot;stroke:#d5f1ffff;stroke-width:2;&quot; /&gt;&lt;line x1=&quot;205&quot; y1=&quot;15&quot; x2=&quot;205&quot; y2=&quot;27&quot; style=&quot;stroke:#d7f2ffff;stroke-width:2;&quot; /&gt;&lt;line x1=&quot;206&quot; y1=&quot;15&quot; x2=&quot;206&quot; y2=&quot;27&quot; style=&quot;stroke:#daf3ffff;stroke-width:2;&quot; /&gt;&lt;line x1=&quot;207&quot; y1=&quot;15&quot; x2=&quot;207&quot; y2=&quot;27&quot; style=&quot;stroke:#dcf4ffff;stroke-width:2;&quot; /&gt;&lt;line x1=&quot;208&quot; y1=&quot;15&quot; x2=&quot;208&quot; y2=&quot;27&quot; style=&quot;stroke:#def4ffff;stroke-width:2;&quot; /&gt;&lt;line x1=&quot;209&quot; y1=&quot;15&quot; x2=&quot;209&quot; y2=&quot;27&quot; style=&quot;stroke:#e0f5ffff;stroke-width:2;&quot; /&gt;&lt;line x1=&quot;210&quot; y1=&quot;15&quot; x2=&quot;210&quot; y2=&quot;27&quot; style=&quot;stroke:#e2f6ffff;stroke-width:2;&quot; /&gt;&lt;line x1=&quot;211&quot; y1=&quot;15&quot; x2=&quot;211&quot; y2=&quot;27&quot; style=&quot;stroke:#e4f6ffff;stroke-width:2;&quot; /&gt;&lt;line x1=&quot;212&quot; y1=&quot;15&quot; x2=&quot;212&quot; y2=&quot;27&quot; style=&quot;stroke:#e6f7ffff;stroke-width:2;&quot; /&gt;&lt;line x1=&quot;213&quot; y1=&quot;15&quot; x2=&quot;213&quot; y2=&quot;27&quot; style=&quot;stroke:#e8f8ffff;stroke-width:2;&quot; /&gt;&lt;line x1=&quot;214&quot; y1=&quot;15&quot; x2=&quot;214&quot; y2=&quot;27&quot; style=&quot;stroke:#eaf8ffff;stroke-width:2;&quot; /&gt;&lt;line x1=&quot;215&quot; y1=&quot;15&quot; x2=&quot;215&quot; y2=&quot;27&quot; style=&quot;stroke:#ecf9ffff;stroke-width:2;&quot; /&gt;&lt;line x1=&quot;216&quot; y1=&quot;15&quot; x2=&quot;216&quot; y2=&quot;27&quot; style=&quot;stroke:#eefaffff;stroke-width:2;&quot; /&gt;&lt;line x1=&quot;217&quot; y1=&quot;15&quot; x2=&quot;217&quot; y2=&quot;27&quot; style=&quot;stroke:#f0faffff;stroke-width:2;&quot; /&gt;&lt;line x1=&quot;218&quot; y1=&quot;15&quot; x2=&quot;218&quot; y2=&quot;27&quot; style=&quot;stroke:#f2fbffff;stroke-width:2;&quot; /&gt;&lt;line x1=&quot;219&quot; y1=&quot;15&quot; x2=&quot;219&quot; y2=&quot;27&quot; style=&quot;stroke:#f4fcffff;stroke-width:2;&quot; /&gt;&lt;line x1=&quot;220&quot; y1=&quot;15&quot; x2=&quot;220&quot; y2=&quot;27&quot; style=&quot;stroke:#f6fcffff;stroke-width:2;&quot; /&gt;&lt;line x1=&quot;221&quot; y1=&quot;15&quot; x2=&quot;221&quot; y2=&quot;27&quot; style=&quot;stroke:#f8fdffff;stroke-width:2;&quot; /&gt;&lt;line x1=&quot;222&quot; y1=&quot;15&quot; x2=&quot;222&quot; y2=&quot;27&quot; style=&quot;stroke:#fafeffff;stroke-width:2;&quot; /&gt;&lt;line x1=&quot;223&quot; y1=&quot;15&quot; x2=&quot;223&quot; y2=&quot;27&quot; style=&quot;stroke:#fcfeffff;stroke-width:2;&quot; /&gt;&lt;line x1=&quot;224&quot; y1=&quot;15&quot; x2=&quot;224&quot; y2=&quot;27&quot; style=&quot;stroke:#feffffff;stroke-width:2;&quot; /&gt;&lt;line x1=&quot;225&quot; y1=&quot;15&quot; x2=&quot;225&quot; y2=&quot;27&quot; style=&quot;stroke:#fffeffff;stroke-width:2;&quot; /&gt;&lt;line x1=&quot;226&quot; y1=&quot;15&quot; x2=&quot;226&quot; y2=&quot;27&quot; style=&quot;stroke:#fffcfeff;stroke-width:2;&quot; /&gt;&lt;line x1=&quot;227&quot; y1=&quot;15&quot; x2=&quot;227&quot; y2=&quot;27&quot; style=&quot;stroke:#fffafeff;stroke-width:2;&quot; /&gt;&lt;line x1=&quot;228&quot; y1=&quot;15&quot; x2=&quot;228&quot; y2=&quot;27&quot; style=&quot;stroke:#fff8fdff;stroke-width:2;&quot; /&gt;&lt;line x1=&quot;229&quot; y1=&quot;15&quot; x2=&quot;229&quot; y2=&quot;27&quot; style=&quot;stroke:#fff6fcff;stroke-width:2;&quot; /&gt;&lt;line x1=&quot;230&quot; y1=&quot;15&quot; x2=&quot;230&quot; y2=&quot;27&quot; style=&quot;stroke:#fff4fcff;stroke-width:2;&quot; /&gt;&lt;line x1=&quot;231&quot; y1=&quot;15&quot; x2=&quot;231&quot; y2=&quot;27&quot; style=&quot;stroke:#fff2fbff;stroke-width:2;&quot; /&gt;&lt;line x1=&quot;232&quot; y1=&quot;15&quot; x2=&quot;232&quot; y2=&quot;27&quot; style=&quot;stroke:#fff0faff;stroke-width:2;&quot; /&gt;&lt;line x1=&quot;233&quot; y1=&quot;15&quot; x2=&quot;233&quot; y2=&quot;27&quot; style=&quot;stroke:#ffeefaff;stroke-width:2;&quot; /&gt;&lt;line x1=&quot;234&quot; y1=&quot;15&quot; x2=&quot;234&quot; y2=&quot;27&quot; style=&quot;stroke:#ffecf9ff;stroke-width:2;&quot; /&gt;&lt;line x1=&quot;235&quot; y1=&quot;15&quot; x2=&quot;235&quot; y2=&quot;27&quot; style=&quot;stroke:#ffeaf8ff;stroke-width:2;&quot; /&gt;&lt;line x1=&quot;236&quot; y1=&quot;15&quot; x2=&quot;236&quot; y2=&quot;27&quot; style=&quot;stroke:#ffe8f8ff;stroke-width:2;&quot; /&gt;&lt;line x1=&quot;237&quot; y1=&quot;15&quot; x2=&quot;237&quot; y2=&quot;27&quot; style=&quot;stroke:#ffe6f7ff;stroke-width:2;&quot; /&gt;&lt;line x1=&quot;238&quot; y1=&quot;15&quot; x2=&quot;238&quot; y2=&quot;27&quot; style=&quot;stroke:#ffe4f6ff;stroke-width:2;&quot; /&gt;&lt;line x1=&quot;239&quot; y1=&quot;15&quot; x2=&quot;239&quot; y2=&quot;27&quot; style=&quot;stroke:#ffe2f6ff;stroke-width:2;&quot; /&gt;&lt;line x1=&quot;240&quot; y1=&quot;15&quot; x2=&quot;240&quot; y2=&quot;27&quot; style=&quot;stroke:#ffe0f5ff;stroke-width:2;&quot; /&gt;&lt;line x1=&quot;241&quot; y1=&quot;15&quot; x2=&quot;241&quot; y2=&quot;27&quot; style=&quot;stroke:#ffdef4ff;stroke-width:2;&quot; /&gt;&lt;line x1=&quot;242&quot; y1=&quot;15&quot; x2=&quot;242&quot; y2=&quot;27&quot; style=&quot;stroke:#ffdcf4ff;stroke-width:2;&quot; /&gt;&lt;line x1=&quot;243&quot; y1=&quot;15&quot; x2=&quot;243&quot; y2=&quot;27&quot; style=&quot;stroke:#ffdaf3ff;stroke-width:2;&quot; /&gt;&lt;line x1=&quot;244&quot; y1=&quot;15&quot; x2=&quot;244&quot; y2=&quot;27&quot; style=&quot;stroke:#ffd7f2ff;stroke-width:2;&quot; /&gt;&lt;line x1=&quot;245&quot; y1=&quot;15&quot; x2=&quot;245&quot; y2=&quot;27&quot; style=&quot;stroke:#ffd5f1ff;stroke-width:2;&quot; /&gt;&lt;line x1=&quot;246&quot; y1=&quot;15&quot; x2=&quot;246&quot; y2=&quot;27&quot; style=&quot;stroke:#ffd3f1ff;stroke-width:2;&quot; /&gt;&lt;line x1=&quot;247&quot; y1=&quot;15&quot; x2=&quot;247&quot; y2=&quot;27&quot; style=&quot;stroke:#ffd1f0ff;stroke-width:2;&quot; /&gt;&lt;line x1=&quot;248&quot; y1=&quot;15&quot; x2=&quot;248&quot; y2=&quot;27&quot; style=&quot;stroke:#ffcfefff;stroke-width:2;&quot; /&gt;&lt;line x1=&quot;249&quot; y1=&quot;15&quot; x2=&quot;249&quot; y2=&quot;27&quot; style=&quot;stroke:#ffcdefff;stroke-width:2;&quot; /&gt;&lt;line x1=&quot;250&quot; y1=&quot;15&quot; x2=&quot;250&quot; y2=&quot;27&quot; style=&quot;stroke:#ffcbeeff;stroke-width:2;&quot; /&gt;&lt;line x1=&quot;251&quot; y1=&quot;15&quot; x2=&quot;251&quot; y2=&quot;27&quot; style=&quot;stroke:#ffc9edff;stroke-width:2;&quot; /&gt;&lt;line x1=&quot;252&quot; y1=&quot;15&quot; x2=&quot;252&quot; y2=&quot;27&quot; style=&quot;stroke:#ffc7edff;stroke-width:2;&quot; /&gt;&lt;line x1=&quot;253&quot; y1=&quot;15&quot; x2=&quot;253&quot; y2=&quot;27&quot; style=&quot;stroke:#ffc5ecff;stroke-width:2;&quot; /&gt;&lt;line x1=&quot;254&quot; y1=&quot;15&quot; x2=&quot;254&quot; y2=&quot;27&quot; style=&quot;stroke:#ffc3ebff;stroke-width:2;&quot; /&gt;&lt;line x1=&quot;255&quot; y1=&quot;15&quot; x2=&quot;255&quot; y2=&quot;27&quot; style=&quot;stroke:#ffc1ebff;stroke-width:2;&quot; /&gt;&lt;line x1=&quot;256&quot; y1=&quot;15&quot; x2=&quot;256&quot; y2=&quot;27&quot; style=&quot;stroke:#ffbfeaff;stroke-width:2;&quot; /&gt;&lt;line x1=&quot;257&quot; y1=&quot;15&quot; x2=&quot;257&quot; y2=&quot;27&quot; style=&quot;stroke:#ffbde9ff;stroke-width:2;&quot; /&gt;&lt;line x1=&quot;258&quot; y1=&quot;15&quot; x2=&quot;258&quot; y2=&quot;27&quot; style=&quot;stroke:#ffbbe9ff;stroke-width:2;&quot; /&gt;&lt;line x1=&quot;259&quot; y1=&quot;15&quot; x2=&quot;259&quot; y2=&quot;27&quot; style=&quot;stroke:#ffb9e8ff;stroke-width:2;&quot; /&gt;&lt;line x1=&quot;260&quot; y1=&quot;15&quot; x2=&quot;260&quot; y2=&quot;27&quot; style=&quot;stroke:#ffb7e7ff;stroke-width:2;&quot; /&gt;&lt;line x1=&quot;261&quot; y1=&quot;15&quot; x2=&quot;261&quot; y2=&quot;27&quot; style=&quot;stroke:#ffb5e7ff;stroke-width:2;&quot; /&gt;&lt;line x1=&quot;262&quot; y1=&quot;15&quot; x2=&quot;262&quot; y2=&quot;27&quot; style=&quot;stroke:#ffb3e6ff;stroke-width:2;&quot; /&gt;&lt;line x1=&quot;263&quot; y1=&quot;15&quot; x2=&quot;263&quot; y2=&quot;27&quot; style=&quot;stroke:#ffb0e5ff;stroke-width:2;&quot; /&gt;&lt;line x1=&quot;264&quot; y1=&quot;15&quot; x2=&quot;264&quot; y2=&quot;27&quot; style=&quot;stroke:#ffaee4ff;stroke-width:2;&quot; /&gt;&lt;line x1=&quot;265&quot; y1=&quot;15&quot; x2=&quot;265&quot; y2=&quot;27&quot; style=&quot;stroke:#fface4ff;stroke-width:2;&quot; /&gt;&lt;line x1=&quot;266&quot; y1=&quot;15&quot; x2=&quot;266&quot; y2=&quot;27&quot; style=&quot;stroke:#ffaae3ff;stroke-width:2;&quot; /&gt;&lt;line x1=&quot;267&quot; y1=&quot;15&quot; x2=&quot;267&quot; y2=&quot;27&quot; style=&quot;stroke:#ffa8e2ff;stroke-width:2;&quot; /&gt;&lt;line x1=&quot;268&quot; y1=&quot;15&quot; x2=&quot;268&quot; y2=&quot;27&quot; style=&quot;stroke:#ffa6e2ff;stroke-width:2;&quot; /&gt;&lt;line x1=&quot;269&quot; y1=&quot;15&quot; x2=&quot;269&quot; y2=&quot;27&quot; style=&quot;stroke:#ffa4e1ff;stroke-width:2;&quot; /&gt;&lt;line x1=&quot;270&quot; y1=&quot;15&quot; x2=&quot;270&quot; y2=&quot;27&quot; style=&quot;stroke:#ffa2e0ff;stroke-width:2;&quot; /&gt;&lt;line x1=&quot;271&quot; y1=&quot;15&quot; x2=&quot;271&quot; y2=&quot;27&quot; style=&quot;stroke:#ffa0e0ff;stroke-width:2;&quot; /&gt;&lt;line x1=&quot;272&quot; y1=&quot;15&quot; x2=&quot;272&quot; y2=&quot;27&quot; style=&quot;stroke:#ff9edfff;stroke-width:2;&quot; /&gt;&lt;line x1=&quot;273&quot; y1=&quot;15&quot; x2=&quot;273&quot; y2=&quot;27&quot; style=&quot;stroke:#ff9cdeff;stroke-width:2;&quot; /&gt;&lt;line x1=&quot;274&quot; y1=&quot;15&quot; x2=&quot;274&quot; y2=&quot;27&quot; style=&quot;stroke:#ff9adeff;stroke-width:2;&quot; /&gt;&lt;line x1=&quot;275&quot; y1=&quot;15&quot; x2=&quot;275&quot; y2=&quot;27&quot; style=&quot;stroke:#ff98ddff;stroke-width:2;&quot; /&gt;&lt;line x1=&quot;276&quot; y1=&quot;15&quot; x2=&quot;276&quot; y2=&quot;27&quot; style=&quot;stroke:#ff96dcff;stroke-width:2;&quot; /&gt;&lt;line x1=&quot;277&quot; y1=&quot;15&quot; x2=&quot;277&quot; y2=&quot;27&quot; style=&quot;stroke:#ff94dcff;stroke-width:2;&quot; /&gt;&lt;line x1=&quot;278&quot; y1=&quot;15&quot; x2=&quot;278&quot; y2=&quot;27&quot; style=&quot;stroke:#ff92dbff;stroke-width:2;&quot; /&gt;&lt;line x1=&quot;279&quot; y1=&quot;15&quot; x2=&quot;279&quot; y2=&quot;27&quot; style=&quot;stroke:#ff90daff;stroke-width:2;&quot; /&gt;&lt;line x1=&quot;280&quot; y1=&quot;15&quot; x2=&quot;280&quot; y2=&quot;27&quot; style=&quot;stroke:#ff8edaff;stroke-width:2;&quot; /&gt;&lt;line x1=&quot;281&quot; y1=&quot;15&quot; x2=&quot;281&quot; y2=&quot;27&quot; style=&quot;stroke:#ff8cd9ff;stroke-width:2;&quot; /&gt;&lt;line x1=&quot;282&quot; y1=&quot;15&quot; x2=&quot;282&quot; y2=&quot;27&quot; style=&quot;stroke:#ff89d8ff;stroke-width:2;&quot; /&gt;&lt;line x1=&quot;283&quot; y1=&quot;15&quot; x2=&quot;283&quot; y2=&quot;27&quot; style=&quot;stroke:#ff87d7ff;stroke-width:2;&quot; /&gt;&lt;line x1=&quot;284&quot; y1=&quot;15&quot; x2=&quot;284&quot; y2=&quot;27&quot; style=&quot;stroke:#ff85d7ff;stroke-width:2;&quot; /&gt;&lt;line x1=&quot;285&quot; y1=&quot;15&quot; x2=&quot;285&quot; y2=&quot;27&quot; style=&quot;stroke:#ff83d6ff;stroke-width:2;&quot; /&gt;&lt;line x1=&quot;286&quot; y1=&quot;15&quot; x2=&quot;286&quot; y2=&quot;27&quot; style=&quot;stroke:#ff81d5ff;stroke-width:2;&quot; /&gt;&lt;line x1=&quot;287&quot; y1=&quot;15&quot; x2=&quot;287&quot; y2=&quot;27&quot; style=&quot;stroke:#ff7fd5ff;stroke-width:2;&quot; /&gt;&lt;line x1=&quot;288&quot; y1=&quot;15&quot; x2=&quot;288&quot; y2=&quot;27&quot; style=&quot;stroke:#ff7dd4ff;stroke-width:2;&quot; /&gt;&lt;line x1=&quot;289&quot; y1=&quot;15&quot; x2=&quot;289&quot; y2=&quot;27&quot; style=&quot;stroke:#ff7bd3ff;stroke-width:2;&quot; /&gt;&lt;line x1=&quot;290&quot; y1=&quot;15&quot; x2=&quot;290&quot; y2=&quot;27&quot; style=&quot;stroke:#ff79d3ff;stroke-width:2;&quot; /&gt;&lt;line x1=&quot;291&quot; y1=&quot;15&quot; x2=&quot;291&quot; y2=&quot;27&quot; style=&quot;stroke:#ff77d2ff;stroke-width:2;&quot; /&gt;&lt;line x1=&quot;292&quot; y1=&quot;15&quot; x2=&quot;292&quot; y2=&quot;27&quot; style=&quot;stroke:#ff75d1ff;stroke-width:2;&quot; /&gt;&lt;line x1=&quot;293&quot; y1=&quot;15&quot; x2=&quot;293&quot; y2=&quot;27&quot; style=&quot;stroke:#ff73d1ff;stroke-width:2;&quot; /&gt;&lt;line x1=&quot;294&quot; y1=&quot;15&quot; x2=&quot;294&quot; y2=&quot;27&quot; style=&quot;stroke:#ff71d0ff;stroke-width:2;&quot; /&gt;&lt;line x1=&quot;295&quot; y1=&quot;15&quot; x2=&quot;295&quot; y2=&quot;27&quot; style=&quot;stroke:#ff6fcfff;stroke-width:2;&quot; /&gt;&lt;line x1=&quot;296&quot; y1=&quot;15&quot; x2=&quot;296&quot; y2=&quot;27&quot; style=&quot;stroke:#ff6dcfff;stroke-width:2;&quot; /&gt;&lt;line x1=&quot;297&quot; y1=&quot;15&quot; x2=&quot;297&quot; y2=&quot;27&quot; style=&quot;stroke:#ff6bceff;stroke-width:2;&quot; /&gt;&lt;line x1=&quot;298&quot; y1=&quot;15&quot; x2=&quot;298&quot; y2=&quot;27&quot; style=&quot;stroke:#ff69cdff;stroke-width:2;&quot; /&gt;&lt;line x1=&quot;299&quot; y1=&quot;15&quot; x2=&quot;299&quot; y2=&quot;27&quot; style=&quot;stroke:#ff67cdff;stroke-width:2;&quot; /&gt;&lt;line x1=&quot;300&quot; y1=&quot;15&quot; x2=&quot;300&quot; y2=&quot;27&quot; style=&quot;stroke:#ff65ccff;stroke-width:2;&quot; /&gt;&lt;line x1=&quot;301&quot; y1=&quot;15&quot; x2=&quot;301&quot; y2=&quot;27&quot; style=&quot;stroke:#ff65cbff;stroke-width:2;&quot; /&gt;&lt;line x1=&quot;302&quot; y1=&quot;15&quot; x2=&quot;302&quot; y2=&quot;27&quot; style=&quot;stroke:#ff64caff;stroke-width:2;&quot; /&gt;&lt;line x1=&quot;303&quot; y1=&quot;15&quot; x2=&quot;303&quot; y2=&quot;27&quot; style=&quot;stroke:#ff63caff;stroke-width:2;&quot; /&gt;&lt;line x1=&quot;304&quot; y1=&quot;15&quot; x2=&quot;304&quot; y2=&quot;27&quot; style=&quot;stroke:#ff63c9ff;stroke-width:2;&quot; /&gt;&lt;line x1=&quot;305&quot; y1=&quot;15&quot; x2=&quot;305&quot; y2=&quot;27&quot; style=&quot;stroke:#ff62c8ff;stroke-width:2;&quot; /&gt;&lt;line x1=&quot;306&quot; y1=&quot;15&quot; x2=&quot;306&quot; y2=&quot;27&quot; style=&quot;stroke:#ff61c8ff;stroke-width:2;&quot; /&gt;&lt;line x1=&quot;307&quot; y1=&quot;15&quot; x2=&quot;307&quot; y2=&quot;27&quot; style=&quot;stroke:#ff61c7ff;stroke-width:2;&quot; /&gt;&lt;line x1=&quot;308&quot; y1=&quot;15&quot; x2=&quot;308&quot; y2=&quot;27&quot; style=&quot;stroke:#ff60c6ff;stroke-width:2;&quot; /&gt;&lt;line x1=&quot;309&quot; y1=&quot;15&quot; x2=&quot;309&quot; y2=&quot;27&quot; style=&quot;stroke:#ff5fc6ff;stroke-width:2;&quot; /&gt;&lt;line x1=&quot;310&quot; y1=&quot;15&quot; x2=&quot;310&quot; y2=&quot;27&quot; style=&quot;stroke:#ff5fc5ff;stroke-width:2;&quot; /&gt;&lt;line x1=&quot;311&quot; y1=&quot;15&quot; x2=&quot;311&quot; y2=&quot;27&quot; style=&quot;stroke:#ff5ec4ff;stroke-width:2;&quot; /&gt;&lt;line x1=&quot;312&quot; y1=&quot;15&quot; x2=&quot;312&quot; y2=&quot;27&quot; style=&quot;stroke:#ff5dc4ff;stroke-width:2;&quot; /&gt;&lt;line x1=&quot;313&quot; y1=&quot;15&quot; x2=&quot;313&quot; y2=&quot;27&quot; style=&quot;stroke:#ff5dc3ff;stroke-width:2;&quot; /&gt;&lt;line x1=&quot;314&quot; y1=&quot;15&quot; x2=&quot;314&quot; y2=&quot;27&quot; style=&quot;stroke:#ff5cc2ff;stroke-width:2;&quot; /&gt;&lt;line x1=&quot;315&quot; y1=&quot;15&quot; x2=&quot;315&quot; y2=&quot;27&quot; style=&quot;stroke:#ff5bc2ff;stroke-width:2;&quot; /&gt;&lt;line x1=&quot;316&quot; y1=&quot;15&quot; x2=&quot;316&quot; y2=&quot;27&quot; style=&quot;stroke:#ff5ac1ff;stroke-width:2;&quot; /&gt;&lt;line x1=&quot;317&quot; y1=&quot;15&quot; x2=&quot;317&quot; y2=&quot;27&quot; style=&quot;stroke:#ff5ac0ff;stroke-width:2;&quot; /&gt;&lt;line x1=&quot;318&quot; y1=&quot;15&quot; x2=&quot;318&quot; y2=&quot;27&quot; style=&quot;stroke:#ff59c0ff;stroke-width:2;&quot; /&gt;&lt;line x1=&quot;319&quot; y1=&quot;15&quot; x2=&quot;319&quot; y2=&quot;27&quot; style=&quot;stroke:#ff58bfff;stroke-width:2;&quot; /&gt;&lt;line x1=&quot;320&quot; y1=&quot;15&quot; x2=&quot;320&quot; y2=&quot;27&quot; style=&quot;stroke:#ff58beff;stroke-width:2;&quot; /&gt;&lt;line x1=&quot;321&quot; y1=&quot;15&quot; x2=&quot;321&quot; y2=&quot;27&quot; style=&quot;stroke:#ff57bdff;stroke-width:2;&quot; /&gt;&lt;line x1=&quot;322&quot; y1=&quot;15&quot; x2=&quot;322&quot; y2=&quot;27&quot; style=&quot;stroke:#ff56bdff;stroke-width:2;&quot; /&gt;&lt;line x1=&quot;323&quot; y1=&quot;15&quot; x2=&quot;323&quot; y2=&quot;27&quot; style=&quot;stroke:#ff56bcff;stroke-width:2;&quot; /&gt;&lt;line x1=&quot;324&quot; y1=&quot;15&quot; x2=&quot;324&quot; y2=&quot;27&quot; style=&quot;stroke:#ff55bbff;stroke-width:2;&quot; /&gt;&lt;line x1=&quot;325&quot; y1=&quot;15&quot; x2=&quot;325&quot; y2=&quot;27&quot; style=&quot;stroke:#ff54bbff;stroke-width:2;&quot; /&gt;&lt;line x1=&quot;326&quot; y1=&quot;15&quot; x2=&quot;326&quot; y2=&quot;27&quot; style=&quot;stroke:#ff54baff;stroke-width:2;&quot; /&gt;&lt;line x1=&quot;327&quot; y1=&quot;15&quot; x2=&quot;327&quot; y2=&quot;27&quot; style=&quot;stroke:#ff53b9ff;stroke-width:2;&quot; /&gt;&lt;line x1=&quot;328&quot; y1=&quot;15&quot; x2=&quot;328&quot; y2=&quot;27&quot; style=&quot;stroke:#ff52b9ff;stroke-width:2;&quot; /&gt;&lt;line x1=&quot;329&quot; y1=&quot;15&quot; x2=&quot;329&quot; y2=&quot;27&quot; style=&quot;stroke:#ff52b8ff;stroke-width:2;&quot; /&gt;&lt;line x1=&quot;330&quot; y1=&quot;15&quot; x2=&quot;330&quot; y2=&quot;27&quot; style=&quot;stroke:#ff51b7ff;stroke-width:2;&quot; /&gt;&lt;line x1=&quot;331&quot; y1=&quot;15&quot; x2=&quot;331&quot; y2=&quot;27&quot; style=&quot;stroke:#ff50b7ff;stroke-width:2;&quot; /&gt;&lt;line x1=&quot;332&quot; y1=&quot;15&quot; x2=&quot;332&quot; y2=&quot;27&quot; style=&quot;stroke:#ff50b6ff;stroke-width:2;&quot; /&gt;&lt;line x1=&quot;333&quot; y1=&quot;15&quot; x2=&quot;333&quot; y2=&quot;27&quot; style=&quot;stroke:#ff4fb5ff;stroke-width:2;&quot; /&gt;&lt;line x1=&quot;334&quot; y1=&quot;15&quot; x2=&quot;334&quot; y2=&quot;27&quot; style=&quot;stroke:#ff4eb5ff;stroke-width:2;&quot; /&gt;&lt;line x1=&quot;335&quot; y1=&quot;15&quot; x2=&quot;335&quot; y2=&quot;27&quot; style=&quot;stroke:#ff4db4ff;stroke-width:2;&quot; /&gt;&lt;line x1=&quot;336&quot; y1=&quot;15&quot; x2=&quot;336&quot; y2=&quot;27&quot; style=&quot;stroke:#ff4db3ff;stroke-width:2;&quot; /&gt;&lt;line x1=&quot;337&quot; y1=&quot;15&quot; x2=&quot;337&quot; y2=&quot;27&quot; style=&quot;stroke:#ff4cb3ff;stroke-width:2;&quot; /&gt;&lt;line x1=&quot;338&quot; y1=&quot;15&quot; x2=&quot;338&quot; y2=&quot;27&quot; style=&quot;stroke:#ff4bb2ff;stroke-width:2;&quot; /&gt;&lt;line x1=&quot;339&quot; y1=&quot;15&quot; x2=&quot;339&quot; y2=&quot;27&quot; style=&quot;stroke:#ff4bb1ff;stroke-width:2;&quot; /&gt;&lt;line x1=&quot;340&quot; y1=&quot;15&quot; x2=&quot;340&quot; y2=&quot;27&quot; style=&quot;stroke:#ff4ab0ff;stroke-width:2;&quot; /&gt;&lt;line x1=&quot;341&quot; y1=&quot;15&quot; x2=&quot;341&quot; y2=&quot;27&quot; style=&quot;stroke:#ff49b0ff;stroke-width:2;&quot; /&gt;&lt;line x1=&quot;342&quot; y1=&quot;15&quot; x2=&quot;342&quot; y2=&quot;27&quot; style=&quot;stroke:#ff49afff;stroke-width:2;&quot; /&gt;&lt;line x1=&quot;343&quot; y1=&quot;15&quot; x2=&quot;343&quot; y2=&quot;27&quot; style=&quot;stroke:#ff48aeff;stroke-width:2;&quot; /&gt;&lt;line x1=&quot;344&quot; y1=&quot;15&quot; x2=&quot;344&quot; y2=&quot;27&quot; style=&quot;stroke:#ff47aeff;stroke-width:2;&quot; /&gt;&lt;line x1=&quot;345&quot; y1=&quot;15&quot; x2=&quot;345&quot; y2=&quot;27&quot; style=&quot;stroke:#ff47adff;stroke-width:2;&quot; /&gt;&lt;line x1=&quot;346&quot; y1=&quot;15&quot; x2=&quot;346&quot; y2=&quot;27&quot; style=&quot;stroke:#ff46acff;stroke-width:2;&quot; /&gt;&lt;line x1=&quot;347&quot; y1=&quot;15&quot; x2=&quot;347&quot; y2=&quot;27&quot; style=&quot;stroke:#ff45acff;stroke-width:2;&quot; /&gt;&lt;line x1=&quot;348&quot; y1=&quot;15&quot; x2=&quot;348&quot; y2=&quot;27&quot; style=&quot;stroke:#ff45abff;stroke-width:2;&quot; /&gt;&lt;line x1=&quot;349&quot; y1=&quot;15&quot; x2=&quot;349&quot; y2=&quot;27&quot; style=&quot;stroke:#ff44aaff;stroke-width:2;&quot; /&gt;&lt;line x1=&quot;350&quot; y1=&quot;15&quot; x2=&quot;350&quot; y2=&quot;27&quot; style=&quot;stroke:#ff43aaff;stroke-width:2;&quot; /&gt;&lt;line x1=&quot;351&quot; y1=&quot;15&quot; x2=&quot;351&quot; y2=&quot;27&quot; style=&quot;stroke:#ff43a9ff;stroke-width:2;&quot; /&gt;&lt;line x1=&quot;352&quot; y1=&quot;15&quot; x2=&quot;352&quot; y2=&quot;27&quot; style=&quot;stroke:#ff42a8ff;stroke-width:2;&quot; /&gt;&lt;line x1=&quot;353&quot; y1=&quot;15&quot; x2=&quot;353&quot; y2=&quot;27&quot; style=&quot;stroke:#ff41a8ff;stroke-width:2;&quot; /&gt;&lt;line x1=&quot;354&quot; y1=&quot;15&quot; x2=&quot;354&quot; y2=&quot;27&quot; style=&quot;stroke:#ff40a7ff;stroke-width:2;&quot; /&gt;&lt;line x1=&quot;355&quot; y1=&quot;15&quot; x2=&quot;355&quot; y2=&quot;27&quot; style=&quot;stroke:#ff40a6ff;stroke-width:2;&quot; /&gt;&lt;line x1=&quot;356&quot; y1=&quot;15&quot; x2=&quot;356&quot; y2=&quot;27&quot; style=&quot;stroke:#ff3fa6ff;stroke-width:2;&quot; /&gt;&lt;line x1=&quot;357&quot; y1=&quot;15&quot; x2=&quot;357&quot; y2=&quot;27&quot; style=&quot;stroke:#ff3ea5ff;stroke-width:2;&quot; /&gt;&lt;line x1=&quot;358&quot; y1=&quot;15&quot; x2=&quot;358&quot; y2=&quot;27&quot; style=&quot;stroke:#ff3ea4ff;stroke-width:2;&quot; /&gt;&lt;line x1=&quot;359&quot; y1=&quot;15&quot; x2=&quot;359&quot; y2=&quot;27&quot; style=&quot;stroke:#ff3da3ff;stroke-width:2;&quot; /&gt;&lt;line x1=&quot;360&quot; y1=&quot;15&quot; x2=&quot;360&quot; y2=&quot;27&quot; style=&quot;stroke:#ff3ca3ff;stroke-width:2;&quot; /&gt;&lt;line x1=&quot;361&quot; y1=&quot;15&quot; x2=&quot;361&quot; y2=&quot;27&quot; style=&quot;stroke:#ff3ca2ff;stroke-width:2;&quot; /&gt;&lt;line x1=&quot;362&quot; y1=&quot;15&quot; x2=&quot;362&quot; y2=&quot;27&quot; style=&quot;stroke:#ff3ba1ff;stroke-width:2;&quot; /&gt;&lt;line x1=&quot;363&quot; y1=&quot;15&quot; x2=&quot;363&quot; y2=&quot;27&quot; style=&quot;stroke:#ff3aa1ff;stroke-width:2;&quot; /&gt;&lt;line x1=&quot;364&quot; y1=&quot;15&quot; x2=&quot;364&quot; y2=&quot;27&quot; style=&quot;stroke:#ff3aa0ff;stroke-width:2;&quot; /&gt;&lt;line x1=&quot;365&quot; y1=&quot;15&quot; x2=&quot;365&quot; y2=&quot;27&quot; style=&quot;stroke:#ff399fff;stroke-width:2;&quot; /&gt;&lt;line x1=&quot;366&quot; y1=&quot;15&quot; x2=&quot;366&quot; y2=&quot;27&quot; style=&quot;stroke:#ff389fff;stroke-width:2;&quot; /&gt;&lt;line x1=&quot;367&quot; y1=&quot;15&quot; x2=&quot;367&quot; y2=&quot;27&quot; style=&quot;stroke:#ff389eff;stroke-width:2;&quot; /&gt;&lt;line x1=&quot;368&quot; y1=&quot;15&quot; x2=&quot;368&quot; y2=&quot;27&quot; style=&quot;stroke:#ff379dff;stroke-width:2;&quot; /&gt;&lt;line x1=&quot;369&quot; y1=&quot;15&quot; x2=&quot;369&quot; y2=&quot;27&quot; style=&quot;stroke:#ff369dff;stroke-width:2;&quot; /&gt;&lt;line x1=&quot;370&quot; y1=&quot;15&quot; x2=&quot;370&quot; y2=&quot;27&quot; style=&quot;stroke:#ff369cff;stroke-width:2;&quot; /&gt;&lt;line x1=&quot;371&quot; y1=&quot;15&quot; x2=&quot;371&quot; y2=&quot;27&quot; style=&quot;stroke:#ff359bff;stroke-width:2;&quot; /&gt;&lt;line x1=&quot;372&quot; y1=&quot;15&quot; x2=&quot;372&quot; y2=&quot;27&quot; style=&quot;stroke:#ff349bff;stroke-width:2;&quot; /&gt;&lt;line x1=&quot;373&quot; y1=&quot;15&quot; x2=&quot;373&quot; y2=&quot;27&quot; style=&quot;stroke:#ff339aff;stroke-width:2;&quot; /&gt;&lt;line x1=&quot;374&quot; y1=&quot;15&quot; x2=&quot;374&quot; y2=&quot;27&quot; style=&quot;stroke:#ff3399ff;stroke-width:2;&quot; /&gt;&lt;line x1=&quot;375&quot; y1=&quot;15&quot; x2=&quot;375&quot; y2=&quot;27&quot; style=&quot;stroke:#ff3297ff;stroke-width:2;&quot; /&gt;&lt;line x1=&quot;376&quot; y1=&quot;15&quot; x2=&quot;376&quot; y2=&quot;27&quot; style=&quot;stroke:#ff3195ff;stroke-width:2;&quot; /&gt;&lt;line x1=&quot;377&quot; y1=&quot;15&quot; x2=&quot;377&quot; y2=&quot;27&quot; style=&quot;stroke:#ff3193ff;stroke-width:2;&quot; /&gt;&lt;line x1=&quot;378&quot; y1=&quot;15&quot; x2=&quot;378&quot; y2=&quot;27&quot; style=&quot;stroke:#ff3091ff;stroke-width:2;&quot; /&gt;&lt;line x1=&quot;379&quot; y1=&quot;15&quot; x2=&quot;379&quot; y2=&quot;27&quot; style=&quot;stroke:#ff2f8fff;stroke-width:2;&quot; /&gt;&lt;line x1=&quot;380&quot; y1=&quot;15&quot; x2=&quot;380&quot; y2=&quot;27&quot; style=&quot;stroke:#ff2f8dff;stroke-width:2;&quot; /&gt;&lt;line x1=&quot;381&quot; y1=&quot;15&quot; x2=&quot;381&quot; y2=&quot;27&quot; style=&quot;stroke:#ff2e8bff;stroke-width:2;&quot; /&gt;&lt;line x1=&quot;382&quot; y1=&quot;15&quot; x2=&quot;382&quot; y2=&quot;27&quot; style=&quot;stroke:#ff2d89ff;stroke-width:2;&quot; /&gt;&lt;line x1=&quot;383&quot; y1=&quot;15&quot; x2=&quot;383&quot; y2=&quot;27&quot; style=&quot;stroke:#ff2d87ff;stroke-width:2;&quot; /&gt;&lt;line x1=&quot;384&quot; y1=&quot;15&quot; x2=&quot;384&quot; y2=&quot;27&quot; style=&quot;stroke:#ff2c85ff;stroke-width:2;&quot; /&gt;&lt;line x1=&quot;385&quot; y1=&quot;15&quot; x2=&quot;385&quot; y2=&quot;27&quot; style=&quot;stroke:#ff2b83ff;stroke-width:2;&quot; /&gt;&lt;line x1=&quot;386&quot; y1=&quot;15&quot; x2=&quot;386&quot; y2=&quot;27&quot; style=&quot;stroke:#ff2b81ff;stroke-width:2;&quot; /&gt;&lt;line x1=&quot;387&quot; y1=&quot;15&quot; x2=&quot;387&quot; y2=&quot;27&quot; style=&quot;stroke:#ff2a7fff;stroke-width:2;&quot; /&gt;&lt;line x1=&quot;388&quot; y1=&quot;15&quot; x2=&quot;388&quot; y2=&quot;27&quot; style=&quot;stroke:#ff297dff;stroke-width:2;&quot; /&gt;&lt;line x1=&quot;389&quot; y1=&quot;15&quot; x2=&quot;389&quot; y2=&quot;27&quot; style=&quot;stroke:#ff297bff;stroke-width:2;&quot; /&gt;&lt;line x1=&quot;390&quot; y1=&quot;15&quot; x2=&quot;390&quot; y2=&quot;27&quot; style=&quot;stroke:#ff2879ff;stroke-width:2;&quot; /&gt;&lt;line x1=&quot;391&quot; y1=&quot;15&quot; x2=&quot;391&quot; y2=&quot;27&quot; style=&quot;stroke:#ff2777ff;stroke-width:2;&quot; /&gt;&lt;line x1=&quot;392&quot; y1=&quot;15&quot; x2=&quot;392&quot; y2=&quot;27&quot; style=&quot;stroke:#ff2674ff;stroke-width:2;&quot; /&gt;&lt;line x1=&quot;393&quot; y1=&quot;15&quot; x2=&quot;393&quot; y2=&quot;27&quot; style=&quot;stroke:#ff2672ff;stroke-width:2;&quot; /&gt;&lt;line x1=&quot;394&quot; y1=&quot;15&quot; x2=&quot;394&quot; y2=&quot;27&quot; style=&quot;stroke:#ff2570ff;stroke-width:2;&quot; /&gt;&lt;line x1=&quot;395&quot; y1=&quot;15&quot; x2=&quot;395&quot; y2=&quot;27&quot; style=&quot;stroke:#ff246eff;stroke-width:2;&quot; /&gt;&lt;line x1=&quot;396&quot; y1=&quot;15&quot; x2=&quot;396&quot; y2=&quot;27&quot; style=&quot;stroke:#ff246cff;stroke-width:2;&quot; /&gt;&lt;line x1=&quot;397&quot; y1=&quot;15&quot; x2=&quot;397&quot; y2=&quot;27&quot; style=&quot;stroke:#ff236aff;stroke-width:2;&quot; /&gt;&lt;line x1=&quot;398&quot; y1=&quot;15&quot; x2=&quot;398&quot; y2=&quot;27&quot; style=&quot;stroke:#ff2268ff;stroke-width:2;&quot; /&gt;&lt;line x1=&quot;399&quot; y1=&quot;15&quot; x2=&quot;399&quot; y2=&quot;27&quot; style=&quot;stroke:#ff2266ff;stroke-width:2;&quot; /&gt;&lt;line x1=&quot;400&quot; y1=&quot;15&quot; x2=&quot;400&quot; y2=&quot;27&quot; style=&quot;stroke:#ff2164ff;stroke-width:2;&quot; /&gt;&lt;line x1=&quot;401&quot; y1=&quot;15&quot; x2=&quot;401&quot; y2=&quot;27&quot; style=&quot;stroke:#ff2062ff;stroke-width:2;&quot; /&gt;&lt;line x1=&quot;402&quot; y1=&quot;15&quot; x2=&quot;402&quot; y2=&quot;27&quot; style=&quot;stroke:#ff2060ff;stroke-width:2;&quot; /&gt;&lt;line x1=&quot;403&quot; y1=&quot;15&quot; x2=&quot;403&quot; y2=&quot;27&quot; style=&quot;stroke:#ff1f5eff;stroke-width:2;&quot; /&gt;&lt;line x1=&quot;404&quot; y1=&quot;15&quot; x2=&quot;404&quot; y2=&quot;27&quot; style=&quot;stroke:#ff1e5cff;stroke-width:2;&quot; /&gt;&lt;line x1=&quot;405&quot; y1=&quot;15&quot; x2=&quot;405&quot; y2=&quot;27&quot; style=&quot;stroke:#ff1e5aff;stroke-width:2;&quot; /&gt;&lt;line x1=&quot;406&quot; y1=&quot;15&quot; x2=&quot;406&quot; y2=&quot;27&quot; style=&quot;stroke:#ff1d58ff;stroke-width:2;&quot; /&gt;&lt;line x1=&quot;407&quot; y1=&quot;15&quot; x2=&quot;407&quot; y2=&quot;27&quot; style=&quot;stroke:#ff1c56ff;stroke-width:2;&quot; /&gt;&lt;line x1=&quot;408&quot; y1=&quot;15&quot; x2=&quot;408&quot; y2=&quot;27&quot; style=&quot;stroke:#ff1c54ff;stroke-width:2;&quot; /&gt;&lt;line x1=&quot;409&quot; y1=&quot;15&quot; x2=&quot;409&quot; y2=&quot;27&quot; style=&quot;stroke:#ff1b52ff;stroke-width:2;&quot; /&gt;&lt;line x1=&quot;410&quot; y1=&quot;15&quot; x2=&quot;410&quot; y2=&quot;27&quot; style=&quot;stroke:#ff1a50ff;stroke-width:2;&quot; /&gt;&lt;line x1=&quot;411&quot; y1=&quot;15&quot; x2=&quot;411&quot; y2=&quot;27&quot; style=&quot;stroke:#ff194dff;stroke-width:2;&quot; /&gt;&lt;line x1=&quot;412&quot; y1=&quot;15&quot; x2=&quot;412&quot; y2=&quot;27&quot; style=&quot;stroke:#ff194bff;stroke-width:2;&quot; /&gt;&lt;line x1=&quot;413&quot; y1=&quot;15&quot; x2=&quot;413&quot; y2=&quot;27&quot; style=&quot;stroke:#ff1849ff;stroke-width:2;&quot; /&gt;&lt;line x1=&quot;414&quot; y1=&quot;15&quot; x2=&quot;414&quot; y2=&quot;27&quot; style=&quot;stroke:#ff1747ff;stroke-width:2;&quot; /&gt;&lt;line x1=&quot;415&quot; y1=&quot;15&quot; x2=&quot;415&quot; y2=&quot;27&quot; style=&quot;stroke:#ff1745ff;stroke-width:2;&quot; /&gt;&lt;line x1=&quot;416&quot; y1=&quot;15&quot; x2=&quot;416&quot; y2=&quot;27&quot; style=&quot;stroke:#ff1643ff;stroke-width:2;&quot; /&gt;&lt;line x1=&quot;417&quot; y1=&quot;15&quot; x2=&quot;417&quot; y2=&quot;27&quot; style=&quot;stroke:#ff1541ff;stroke-width:2;&quot; /&gt;&lt;line x1=&quot;418&quot; y1=&quot;15&quot; x2=&quot;418&quot; y2=&quot;27&quot; style=&quot;stroke:#ff153fff;stroke-width:2;&quot; /&gt;&lt;line x1=&quot;419&quot; y1=&quot;15&quot; x2=&quot;419&quot; y2=&quot;27&quot; style=&quot;stroke:#ff143dff;stroke-width:2;&quot; /&gt;&lt;line x1=&quot;420&quot; y1=&quot;15&quot; x2=&quot;420&quot; y2=&quot;27&quot; style=&quot;stroke:#ff133bff;stroke-width:2;&quot; /&gt;&lt;line x1=&quot;421&quot; y1=&quot;15&quot; x2=&quot;421&quot; y2=&quot;27&quot; style=&quot;stroke:#ff1339ff;stroke-width:2;&quot; /&gt;&lt;line x1=&quot;422&quot; y1=&quot;15&quot; x2=&quot;422&quot; y2=&quot;27&quot; style=&quot;stroke:#ff1237ff;stroke-width:2;&quot; /&gt;&lt;line x1=&quot;423&quot; y1=&quot;15&quot; x2=&quot;423&quot; y2=&quot;27&quot; style=&quot;stroke:#ff1135ff;stroke-width:2;&quot; /&gt;&lt;line x1=&quot;424&quot; y1=&quot;15&quot; x2=&quot;424&quot; y2=&quot;27&quot; style=&quot;stroke:#ff1133ff;stroke-width:2;&quot; /&gt;&lt;line x1=&quot;425&quot; y1=&quot;15&quot; x2=&quot;425&quot; y2=&quot;27&quot; style=&quot;stroke:#ff1031ff;stroke-width:2;&quot; /&gt;&lt;line x1=&quot;426&quot; y1=&quot;15&quot; x2=&quot;426&quot; y2=&quot;27&quot; style=&quot;stroke:#ff0f2fff;stroke-width:2;&quot; /&gt;&lt;line x1=&quot;427&quot; y1=&quot;15&quot; x2=&quot;427&quot; y2=&quot;27&quot; style=&quot;stroke:#ff0f2dff;stroke-width:2;&quot; /&gt;&lt;line x1=&quot;428&quot; y1=&quot;15&quot; x2=&quot;428&quot; y2=&quot;27&quot; style=&quot;stroke:#ff0e2bff;stroke-width:2;&quot; /&gt;&lt;line x1=&quot;429&quot; y1=&quot;15&quot; x2=&quot;429&quot; y2=&quot;27&quot; style=&quot;stroke:#ff0d29ff;stroke-width:2;&quot; /&gt;&lt;line x1=&quot;430&quot; y1=&quot;15&quot; x2=&quot;430&quot; y2=&quot;27&quot; style=&quot;stroke:#ff0c26ff;stroke-width:2;&quot; /&gt;&lt;line x1=&quot;431&quot; y1=&quot;15&quot; x2=&quot;431&quot; y2=&quot;27&quot; style=&quot;stroke:#ff0c24ff;stroke-width:2;&quot; /&gt;&lt;line x1=&quot;432&quot; y1=&quot;15&quot; x2=&quot;432&quot; y2=&quot;27&quot; style=&quot;stroke:#ff0b22ff;stroke-width:2;&quot; /&gt;&lt;line x1=&quot;433&quot; y1=&quot;15&quot; x2=&quot;433&quot; y2=&quot;27&quot; style=&quot;stroke:#ff0a20ff;stroke-width:2;&quot; /&gt;&lt;line x1=&quot;434&quot; y1=&quot;15&quot; x2=&quot;434&quot; y2=&quot;27&quot; style=&quot;stroke:#ff0a1eff;stroke-width:2;&quot; /&gt;&lt;line x1=&quot;435&quot; y1=&quot;15&quot; x2=&quot;435&quot; y2=&quot;27&quot; style=&quot;stroke:#ff091cff;stroke-width:2;&quot; /&gt;&lt;line x1=&quot;436&quot; y1=&quot;15&quot; x2=&quot;436&quot; y2=&quot;27&quot; style=&quot;stroke:#ff081aff;stroke-width:2;&quot; /&gt;&lt;line x1=&quot;437&quot; y1=&quot;15&quot; x2=&quot;437&quot; y2=&quot;27&quot; style=&quot;stroke:#ff0818ff;stroke-width:2;&quot; /&gt;&lt;line x1=&quot;438&quot; y1=&quot;15&quot; x2=&quot;438&quot; y2=&quot;27&quot; style=&quot;stroke:#ff0716ff;stroke-width:2;&quot; /&gt;&lt;line x1=&quot;439&quot; y1=&quot;15&quot; x2=&quot;439&quot; y2=&quot;27&quot; style=&quot;stroke:#ff0614ff;stroke-width:2;&quot; /&gt;&lt;line x1=&quot;440&quot; y1=&quot;15&quot; x2=&quot;440&quot; y2=&quot;27&quot; style=&quot;stroke:#ff0612ff;stroke-width:2;&quot; /&gt;&lt;line x1=&quot;441&quot; y1=&quot;15&quot; x2=&quot;441&quot; y2=&quot;27&quot; style=&quot;stroke:#ff0510ff;stroke-width:2;&quot; /&gt;&lt;line x1=&quot;442&quot; y1=&quot;15&quot; x2=&quot;442&quot; y2=&quot;27&quot; style=&quot;stroke:#ff040eff;stroke-width:2;&quot; /&gt;&lt;line x1=&quot;443&quot; y1=&quot;15&quot; x2=&quot;443&quot; y2=&quot;27&quot; style=&quot;stroke:#ff040cff;stroke-width:2;&quot; /&gt;&lt;line x1=&quot;444&quot; y1=&quot;15&quot; x2=&quot;444&quot; y2=&quot;27&quot; style=&quot;stroke:#ff030aff;stroke-width:2;&quot; /&gt;&lt;line x1=&quot;445&quot; y1=&quot;15&quot; x2=&quot;445&quot; y2=&quot;27&quot; style=&quot;stroke:#ff0208ff;stroke-width:2;&quot; /&gt;&lt;line x1=&quot;446&quot; y1=&quot;15&quot; x2=&quot;446&quot; y2=&quot;27&quot; style=&quot;stroke:#ff0206ff;stroke-width:2;&quot; /&gt;&lt;line x1=&quot;447&quot; y1=&quot;15&quot; x2=&quot;447&quot; y2=&quot;27&quot; style=&quot;stroke:#ff0104ff;stroke-width:2;&quot; /&gt;&lt;line x1=&quot;448&quot; y1=&quot;15&quot; x2=&quot;448&quot; y2=&quot;27&quot; style=&quot;stroke:#ff0002ff;stroke-width:2;&quot; /&gt;&lt;line x1=&quot;449&quot; y1=&quot;15&quot; x2=&quot;449&quot; y2=&quot;27&quot; style=&quot;stroke:#ff0000ff;stroke-width:2;&quot; /&gt;&lt;text x=&quot;0&quot; y=&quot;38&quot; style=&quot;text-anchor:start; font-size:11px; font:Arial; fill:black&quot;&gt;-0.0007&lt;/text&gt;&lt;text x=&quot;75&quot; y=&quot;38&quot;; style=&quot;text-anchor:middle; font-size:11px; font:Arial; fill:black&quot;&gt;-0.0&lt;/text&gt;&lt;text x=&quot;150&quot; y=&quot;38&quot;; style=&quot;text-anchor:middle; font-size:11px; font:Arial; fill:black&quot;&gt;-0.0&lt;/text&gt;&lt;text x=&quot;225&quot; y=&quot;38&quot;; style=&quot;text-anchor:middle; font-size:11px; font:Arial; fill:black&quot;&gt;0.0&lt;/text&gt;&lt;text x=&quot;300&quot; y=&quot;38&quot;; style=&quot;text-anchor:middle; font-size:11px; font:Arial; fill:black&quot;&gt;0.0&lt;/text&gt;&lt;text x=&quot;375&quot; y=&quot;38&quot;; style=&quot;text-anchor:middle; font-size:11px; font:Arial; fill:black&quot;&gt;0.0&lt;/text&gt;&lt;text x=&quot;450&quot; y=&quot;38&quot; style=&quot;text-anchor:end; font-size:11px; font:Arial; fill:black&quot;&gt;0.0007&lt;/text&gt;&lt;text x=&quot;0&quot; y=&quot;12&quot; style=&quot;font-size:11px; font:Arial; fill:black&quot;&gt;CO₂ Flux (mmol/m²/s)&lt;/text&gt;&lt;/svg&gt;\n",
       "    \n",
       "            &lt;div class=&quot;folium-map&quot; id=&quot;map_ef47d385bffbf0172e7033982694158f&quot; &gt;&lt;/div&gt;\n",
       "        \n",
       "&lt;/body&gt;\n",
       "&lt;script&gt;\n",
       "    \n",
       "    \n",
       "            var map_ef47d385bffbf0172e7033982694158f = L.map(\n",
       "                &quot;map_ef47d385bffbf0172e7033982694158f&quot;,\n",
       "                {\n",
       "                    center: [21.5, 88.5],\n",
       "                    crs: L.CRS.EPSG3857,\n",
       "                    zoom: 6,\n",
       "                    zoomControl: true,\n",
       "                    preferCanvas: false,\n",
       "                }\n",
       "            );\n",
       "\n",
       "            \n",
       "\n",
       "        \n",
       "    \n",
       "            var tile_layer_28e2d70ea1433ff68a741327c9f2f7c7 = L.tileLayer(\n",
       "                &quot;https://tile.openstreetmap.org/{z}/{x}/{y}.png&quot;,\n",
       "                {&quot;attribution&quot;: &quot;\\u0026copy; \\u003ca href=\\&quot;https://www.openstreetmap.org/copyright\\&quot;\\u003eOpenStreetMap\\u003c/a\\u003e contributors&quot;, &quot;detectRetina&quot;: false, &quot;maxNativeZoom&quot;: 19, &quot;maxZoom&quot;: 19, &quot;minZoom&quot;: 0, &quot;noWrap&quot;: false, &quot;opacity&quot;: 1, &quot;subdomains&quot;: &quot;abc&quot;, &quot;tms&quot;: false}\n",
       "            );\n",
       "        \n",
       "    \n",
       "            tile_layer_28e2d70ea1433ff68a741327c9f2f7c7.addTo(map_ef47d385bffbf0172e7033982694158f);\n",
       "        \n",
       "    \n",
       "            var tile_layer_6b069ec56a1a8d37240e92af208e41b5 = L.tileLayer(\n",
       "                &quot;https://earth.gov/ghgcenter/api/raster/collections/eccodarwin-co2flux-monthgrid-v5/items/eccodarwin-co2flux-monthgrid-v5-202209/tiles/WebMercatorQuad/{z}/{x}/{y}@1x?assets=co2\\u0026color_formula=gamma+r+1.05\\u0026colormap_name=magma\\u0026rescale=-0.0007%2C0.0007&quot;,\n",
       "                {&quot;attribution&quot;: &quot;GHG&quot;, &quot;detectRetina&quot;: false, &quot;maxZoom&quot;: 18, &quot;minZoom&quot;: 0, &quot;noWrap&quot;: false, &quot;opacity&quot;: 0.7, &quot;subdomains&quot;: &quot;abc&quot;, &quot;tms&quot;: false}\n",
       "            );\n",
       "        \n",
       "    \n",
       "            tile_layer_6b069ec56a1a8d37240e92af208e41b5.addTo(map_ef47d385bffbf0172e7033982694158f);\n",
       "        \n",
       "&lt;/script&gt;\n",
       "&lt;/html&gt;\" style=\"position:absolute;width:100%;height:100%;left:0;top:0;border:none !important;\" allowfullscreen webkitallowfullscreen mozallowfullscreen></iframe></div></div>"
      ],
      "text/plain": [
       "<folium.folium.Map at 0x1686a23c740>"
      ]
     },
     "execution_count": 8,
     "metadata": {},
     "output_type": "execute_result"
    }
   ],
   "source": [
    "# Create a map centered over Sundarbans Mangroves (Bangladesh & India)\n",
    "sundarbans_map = folium.Map(location=[21.5, 88.5], zoom_start=6)\n",
    "\n",
    "# Add CO₂ flux layer for Sundarbans Mangroves\n",
    "TileLayer(tiles=sundarbans_flux_tile['tiles'][0], attr='GHG', opacity=0.7).add_to(sundarbans_map)\n",
    "\n",
    "# Add a color legend\n",
    "colormap = branca.colormap.LinearColormap(\n",
    "    colors=[\"#0000FF\", \"#3399FF\", \"#66CCFF\", \"#FFFFFF\", \"#FF66CC\", \"#FF3399\", \"#FF0000\"],\n",
    "    vmin=-0.0007, vmax=0.0007\n",
    ")\n",
    "colormap.caption = 'CO₂ Flux (mmol/m²/s)'\n",
    "legend_html = colormap._repr_html_()\n",
    "sundarbans_map.get_root().html.add_child(folium.Element(legend_html))\n",
    "\n",
    "# Show the Sundarbans Map\n",
    "sundarbans_map\n"
   ]
  },
  {
   "cell_type": "markdown",
   "metadata": {},
   "source": [
    "## Zonal Statistics for Both Regions"
   ]
  },
  {
   "cell_type": "code",
   "execution_count": 9,
   "metadata": {},
   "outputs": [],
   "source": [
    "import requests\n",
    "\n",
    "# STAC and RASTER API URLs\n",
    "STAC_API_URL = \"https://earth.gov/ghgcenter/api/stac\"\n",
    "RASTER_API_URL = \"https://earth.gov/ghgcenter/api/raster\"\n",
    "\n",
    "# Collection name for the CO₂ flux dataset\n",
    "collection_name = \"eccodarwin-co2flux-monthgrid-v5\"\n",
    "\n",
    "# Fetch all items (granules) in the collection\n",
    "items = requests.get(f\"{STAC_API_URL}/collections/{collection_name}/items?limit=600\").json()[\"features\"]\n",
    "\n",
    "# Select an item for a specific month (e.g., September 2022 for CO₂ flux data)\n",
    "kenya_flux_tile = items[3]  # You can replace with the correct index for the date you need\n",
    "sundarbans_flux_tile = items[3]  # Similarly, replace with the correct index\n"
   ]
  },
  {
   "cell_type": "code",
   "execution_count": 10,
   "metadata": {},
   "outputs": [],
   "source": [
    "def generate_stats(geojson, flux_tile):\n",
    "    \"\"\"Retrieve zonal statistics for a given region using the RASTER API.\"\"\"\n",
    "    try:\n",
    "        # Use the correct URL from the flux_tile data\n",
    "        dataset_url = flux_tile[\"assets\"][\"co2\"][\"href\"]\n",
    "\n",
    "        # Call the RASTER API to get zonal statistics\n",
    "        response = requests.post(\n",
    "            f\"{RASTER_API_URL}/cog/statistics\",\n",
    "            params={\"url\": dataset_url},\n",
    "            json=geojson\n",
    "        )\n",
    "\n",
    "        if response.status_code == 200:\n",
    "            return response.json()  # Return the statistics\n",
    "        else:\n",
    "            print(f\"Error: Unable to retrieve statistics. HTTP Status: {response.status_code}\")\n",
    "            return None\n",
    "    except KeyError as e:\n",
    "        print(f\"KeyError: {e} - It seems the expected key is missing from the response.\")\n",
    "        return None\n"
   ]
  },
  {
   "cell_type": "code",
   "execution_count": 11,
   "metadata": {},
   "outputs": [
    {
     "name": "stdout",
     "output_type": "stream",
     "text": [
      "Kenyan Mangroves Stats: {'type': 'Feature', 'geometry': {'type': 'Polygon', 'coordinates': [[[40.8916, -2.0155], [40.95, -1.5], [40.18, -4.7], [39.64, -4.6], [40.8916, -2.0155]]]}, 'properties': {'statistics': {'b1': {'min': -4.345345231725034e-05, 'max': -1.9500591179186733e-05, 'mean': -3.3564426953798155e-05, 'count': 9.299999237060547, 'sum': -0.0003121491450626973, 'std': 6.080172005842744e-06, 'median': -3.5806237180792844e-05, 'majority': -4.345345231725034e-05, 'minority': -4.345345231725034e-05, 'unique': 15.0, 'histogram': [[2.0, 3.0, 2.0, 1.0, 1.0, 3.0, 1.0, 0.0, 1.0, 1.0], [-4.345345231725034e-05, -4.105816620344398e-05, -3.866288008963762e-05, -3.626759397583126e-05, -3.38723078620249e-05, -3.147702174821854e-05, -2.9081735634412172e-05, -2.6686449520605812e-05, -2.4291163406799453e-05, -2.1895877292993093e-05, -1.9500591179186733e-05]], 'valid_percent': 19.23, 'masked_pixels': 63.0, 'valid_pixels': 15.0, 'percentile_2': -4.187724961285602e-05, 'percentile_98': -1.9500591179186733e-05}}}}\n",
      "Sundarbans Mangroves Stats: {'type': 'Feature', 'geometry': {'type': 'Polygon', 'coordinates': [[[88.0, 22.0], [89.9, 22.0], [89.9, 21.0], [88.0, 21.0], [88.0, 22.0]]]}, 'properties': {'statistics': {'b1': {'min': -6.174531957578051e-05, 'max': -2.3300900379582937e-05, 'mean': -5.655252928408962e-05, 'count': 7.0400004386901855, 'sum': -0.0003981298309690305, 'std': 4.762672473824383e-06, 'median': -5.686636475634742e-05, 'majority': -6.174531957578051e-05, 'minority': -6.174531957578051e-05, 'unique': 11.0, 'histogram': [[4.0, 4.0, 2.0, 0.0, 0.0, 0.0, 0.0, 0.0, 0.0, 1.0], [-6.174531957578051e-05, -5.790087765616075e-05, -5.4056435736541e-05, -5.021199381692124e-05, -4.6367551897301485e-05, -4.2523109977681726e-05, -3.8678668058061966e-05, -3.483422613844221e-05, -3.098978421882245e-05, -2.7145342299202693e-05, -2.3300900379582937e-05]], 'valid_percent': 24.44, 'masked_pixels': 34.0, 'valid_pixels': 11.0, 'percentile_2': -6.174531957578051e-05, 'percentile_98': -5.083972112801149e-05}}}}\n"
     ]
    }
   ],
   "source": [
    "# Generate statistics for Kenyan Mangroves\n",
    "kenya_stats = generate_stats(kenya_mangroves_aoi, kenya_flux_tile)\n",
    "\n",
    "# Generate statistics for Sundarbans Mangroves\n",
    "sundarbans_stats = generate_stats(sundarbans_aoi, sundarbans_flux_tile)\n",
    "\n",
    "# Display the retrieved statistics for each region\n",
    "print(f\"Kenyan Mangroves Stats: {kenya_stats}\")\n",
    "print(f\"Sundarbans Mangroves Stats: {sundarbans_stats}\")\n"
   ]
  },
  {
   "cell_type": "code",
   "execution_count": 59,
   "metadata": {},
   "outputs": [
    {
     "data": {
      "application/vnd.plotly.v1+json": {
       "config": {
        "plotlyServerURL": "https://plot.ly"
       },
       "data": [
        {
         "hoverinfo": "y",
         "marker": {
          "color": "blue"
         },
         "name": "Mean CO₂ Flux",
         "type": "bar",
         "x": [
          "Kenya",
          "Sundarbans"
         ],
         "y": [
          -0.000033564426953798155,
          -0.00005655252928408962
         ]
        },
        {
         "hoverinfo": "y",
         "marker": {
          "color": "green"
         },
         "name": "Max CO₂ Flux",
         "type": "bar",
         "x": [
          "Kenya",
          "Sundarbans"
         ],
         "y": [
          -0.000019500591179186733,
          -0.000023300900379582937
         ]
        },
        {
         "hoverinfo": "y",
         "marker": {
          "color": "red"
         },
         "name": "Min CO₂ Flux",
         "type": "bar",
         "x": [
          "Kenya",
          "Sundarbans"
         ],
         "y": [
          -0.00004345345231725034,
          -0.00006174531957578051
         ]
        }
       ],
       "layout": {
        "barmode": "group",
        "template": {
         "data": {
          "bar": [
           {
            "error_x": {
             "color": "#2a3f5f"
            },
            "error_y": {
             "color": "#2a3f5f"
            },
            "marker": {
             "line": {
              "color": "#E5ECF6",
              "width": 0.5
             },
             "pattern": {
              "fillmode": "overlay",
              "size": 10,
              "solidity": 0.2
             }
            },
            "type": "bar"
           }
          ],
          "barpolar": [
           {
            "marker": {
             "line": {
              "color": "#E5ECF6",
              "width": 0.5
             },
             "pattern": {
              "fillmode": "overlay",
              "size": 10,
              "solidity": 0.2
             }
            },
            "type": "barpolar"
           }
          ],
          "carpet": [
           {
            "aaxis": {
             "endlinecolor": "#2a3f5f",
             "gridcolor": "white",
             "linecolor": "white",
             "minorgridcolor": "white",
             "startlinecolor": "#2a3f5f"
            },
            "baxis": {
             "endlinecolor": "#2a3f5f",
             "gridcolor": "white",
             "linecolor": "white",
             "minorgridcolor": "white",
             "startlinecolor": "#2a3f5f"
            },
            "type": "carpet"
           }
          ],
          "choropleth": [
           {
            "colorbar": {
             "outlinewidth": 0,
             "ticks": ""
            },
            "type": "choropleth"
           }
          ],
          "contour": [
           {
            "colorbar": {
             "outlinewidth": 0,
             "ticks": ""
            },
            "colorscale": [
             [
              0,
              "#0d0887"
             ],
             [
              0.1111111111111111,
              "#46039f"
             ],
             [
              0.2222222222222222,
              "#7201a8"
             ],
             [
              0.3333333333333333,
              "#9c179e"
             ],
             [
              0.4444444444444444,
              "#bd3786"
             ],
             [
              0.5555555555555556,
              "#d8576b"
             ],
             [
              0.6666666666666666,
              "#ed7953"
             ],
             [
              0.7777777777777778,
              "#fb9f3a"
             ],
             [
              0.8888888888888888,
              "#fdca26"
             ],
             [
              1,
              "#f0f921"
             ]
            ],
            "type": "contour"
           }
          ],
          "contourcarpet": [
           {
            "colorbar": {
             "outlinewidth": 0,
             "ticks": ""
            },
            "type": "contourcarpet"
           }
          ],
          "heatmap": [
           {
            "colorbar": {
             "outlinewidth": 0,
             "ticks": ""
            },
            "colorscale": [
             [
              0,
              "#0d0887"
             ],
             [
              0.1111111111111111,
              "#46039f"
             ],
             [
              0.2222222222222222,
              "#7201a8"
             ],
             [
              0.3333333333333333,
              "#9c179e"
             ],
             [
              0.4444444444444444,
              "#bd3786"
             ],
             [
              0.5555555555555556,
              "#d8576b"
             ],
             [
              0.6666666666666666,
              "#ed7953"
             ],
             [
              0.7777777777777778,
              "#fb9f3a"
             ],
             [
              0.8888888888888888,
              "#fdca26"
             ],
             [
              1,
              "#f0f921"
             ]
            ],
            "type": "heatmap"
           }
          ],
          "heatmapgl": [
           {
            "colorbar": {
             "outlinewidth": 0,
             "ticks": ""
            },
            "colorscale": [
             [
              0,
              "#0d0887"
             ],
             [
              0.1111111111111111,
              "#46039f"
             ],
             [
              0.2222222222222222,
              "#7201a8"
             ],
             [
              0.3333333333333333,
              "#9c179e"
             ],
             [
              0.4444444444444444,
              "#bd3786"
             ],
             [
              0.5555555555555556,
              "#d8576b"
             ],
             [
              0.6666666666666666,
              "#ed7953"
             ],
             [
              0.7777777777777778,
              "#fb9f3a"
             ],
             [
              0.8888888888888888,
              "#fdca26"
             ],
             [
              1,
              "#f0f921"
             ]
            ],
            "type": "heatmapgl"
           }
          ],
          "histogram": [
           {
            "marker": {
             "pattern": {
              "fillmode": "overlay",
              "size": 10,
              "solidity": 0.2
             }
            },
            "type": "histogram"
           }
          ],
          "histogram2d": [
           {
            "colorbar": {
             "outlinewidth": 0,
             "ticks": ""
            },
            "colorscale": [
             [
              0,
              "#0d0887"
             ],
             [
              0.1111111111111111,
              "#46039f"
             ],
             [
              0.2222222222222222,
              "#7201a8"
             ],
             [
              0.3333333333333333,
              "#9c179e"
             ],
             [
              0.4444444444444444,
              "#bd3786"
             ],
             [
              0.5555555555555556,
              "#d8576b"
             ],
             [
              0.6666666666666666,
              "#ed7953"
             ],
             [
              0.7777777777777778,
              "#fb9f3a"
             ],
             [
              0.8888888888888888,
              "#fdca26"
             ],
             [
              1,
              "#f0f921"
             ]
            ],
            "type": "histogram2d"
           }
          ],
          "histogram2dcontour": [
           {
            "colorbar": {
             "outlinewidth": 0,
             "ticks": ""
            },
            "colorscale": [
             [
              0,
              "#0d0887"
             ],
             [
              0.1111111111111111,
              "#46039f"
             ],
             [
              0.2222222222222222,
              "#7201a8"
             ],
             [
              0.3333333333333333,
              "#9c179e"
             ],
             [
              0.4444444444444444,
              "#bd3786"
             ],
             [
              0.5555555555555556,
              "#d8576b"
             ],
             [
              0.6666666666666666,
              "#ed7953"
             ],
             [
              0.7777777777777778,
              "#fb9f3a"
             ],
             [
              0.8888888888888888,
              "#fdca26"
             ],
             [
              1,
              "#f0f921"
             ]
            ],
            "type": "histogram2dcontour"
           }
          ],
          "mesh3d": [
           {
            "colorbar": {
             "outlinewidth": 0,
             "ticks": ""
            },
            "type": "mesh3d"
           }
          ],
          "parcoords": [
           {
            "line": {
             "colorbar": {
              "outlinewidth": 0,
              "ticks": ""
             }
            },
            "type": "parcoords"
           }
          ],
          "pie": [
           {
            "automargin": true,
            "type": "pie"
           }
          ],
          "scatter": [
           {
            "fillpattern": {
             "fillmode": "overlay",
             "size": 10,
             "solidity": 0.2
            },
            "type": "scatter"
           }
          ],
          "scatter3d": [
           {
            "line": {
             "colorbar": {
              "outlinewidth": 0,
              "ticks": ""
             }
            },
            "marker": {
             "colorbar": {
              "outlinewidth": 0,
              "ticks": ""
             }
            },
            "type": "scatter3d"
           }
          ],
          "scattercarpet": [
           {
            "marker": {
             "colorbar": {
              "outlinewidth": 0,
              "ticks": ""
             }
            },
            "type": "scattercarpet"
           }
          ],
          "scattergeo": [
           {
            "marker": {
             "colorbar": {
              "outlinewidth": 0,
              "ticks": ""
             }
            },
            "type": "scattergeo"
           }
          ],
          "scattergl": [
           {
            "marker": {
             "colorbar": {
              "outlinewidth": 0,
              "ticks": ""
             }
            },
            "type": "scattergl"
           }
          ],
          "scattermapbox": [
           {
            "marker": {
             "colorbar": {
              "outlinewidth": 0,
              "ticks": ""
             }
            },
            "type": "scattermapbox"
           }
          ],
          "scatterpolar": [
           {
            "marker": {
             "colorbar": {
              "outlinewidth": 0,
              "ticks": ""
             }
            },
            "type": "scatterpolar"
           }
          ],
          "scatterpolargl": [
           {
            "marker": {
             "colorbar": {
              "outlinewidth": 0,
              "ticks": ""
             }
            },
            "type": "scatterpolargl"
           }
          ],
          "scatterternary": [
           {
            "marker": {
             "colorbar": {
              "outlinewidth": 0,
              "ticks": ""
             }
            },
            "type": "scatterternary"
           }
          ],
          "surface": [
           {
            "colorbar": {
             "outlinewidth": 0,
             "ticks": ""
            },
            "colorscale": [
             [
              0,
              "#0d0887"
             ],
             [
              0.1111111111111111,
              "#46039f"
             ],
             [
              0.2222222222222222,
              "#7201a8"
             ],
             [
              0.3333333333333333,
              "#9c179e"
             ],
             [
              0.4444444444444444,
              "#bd3786"
             ],
             [
              0.5555555555555556,
              "#d8576b"
             ],
             [
              0.6666666666666666,
              "#ed7953"
             ],
             [
              0.7777777777777778,
              "#fb9f3a"
             ],
             [
              0.8888888888888888,
              "#fdca26"
             ],
             [
              1,
              "#f0f921"
             ]
            ],
            "type": "surface"
           }
          ],
          "table": [
           {
            "cells": {
             "fill": {
              "color": "#EBF0F8"
             },
             "line": {
              "color": "white"
             }
            },
            "header": {
             "fill": {
              "color": "#C8D4E3"
             },
             "line": {
              "color": "white"
             }
            },
            "type": "table"
           }
          ]
         },
         "layout": {
          "annotationdefaults": {
           "arrowcolor": "#2a3f5f",
           "arrowhead": 0,
           "arrowwidth": 1
          },
          "autotypenumbers": "strict",
          "coloraxis": {
           "colorbar": {
            "outlinewidth": 0,
            "ticks": ""
           }
          },
          "colorscale": {
           "diverging": [
            [
             0,
             "#8e0152"
            ],
            [
             0.1,
             "#c51b7d"
            ],
            [
             0.2,
             "#de77ae"
            ],
            [
             0.3,
             "#f1b6da"
            ],
            [
             0.4,
             "#fde0ef"
            ],
            [
             0.5,
             "#f7f7f7"
            ],
            [
             0.6,
             "#e6f5d0"
            ],
            [
             0.7,
             "#b8e186"
            ],
            [
             0.8,
             "#7fbc41"
            ],
            [
             0.9,
             "#4d9221"
            ],
            [
             1,
             "#276419"
            ]
           ],
           "sequential": [
            [
             0,
             "#0d0887"
            ],
            [
             0.1111111111111111,
             "#46039f"
            ],
            [
             0.2222222222222222,
             "#7201a8"
            ],
            [
             0.3333333333333333,
             "#9c179e"
            ],
            [
             0.4444444444444444,
             "#bd3786"
            ],
            [
             0.5555555555555556,
             "#d8576b"
            ],
            [
             0.6666666666666666,
             "#ed7953"
            ],
            [
             0.7777777777777778,
             "#fb9f3a"
            ],
            [
             0.8888888888888888,
             "#fdca26"
            ],
            [
             1,
             "#f0f921"
            ]
           ],
           "sequentialminus": [
            [
             0,
             "#0d0887"
            ],
            [
             0.1111111111111111,
             "#46039f"
            ],
            [
             0.2222222222222222,
             "#7201a8"
            ],
            [
             0.3333333333333333,
             "#9c179e"
            ],
            [
             0.4444444444444444,
             "#bd3786"
            ],
            [
             0.5555555555555556,
             "#d8576b"
            ],
            [
             0.6666666666666666,
             "#ed7953"
            ],
            [
             0.7777777777777778,
             "#fb9f3a"
            ],
            [
             0.8888888888888888,
             "#fdca26"
            ],
            [
             1,
             "#f0f921"
            ]
           ]
          },
          "colorway": [
           "#636efa",
           "#EF553B",
           "#00cc96",
           "#ab63fa",
           "#FFA15A",
           "#19d3f3",
           "#FF6692",
           "#B6E880",
           "#FF97FF",
           "#FECB52"
          ],
          "font": {
           "color": "#2a3f5f"
          },
          "geo": {
           "bgcolor": "white",
           "lakecolor": "white",
           "landcolor": "#E5ECF6",
           "showlakes": true,
           "showland": true,
           "subunitcolor": "white"
          },
          "hoverlabel": {
           "align": "left"
          },
          "hovermode": "closest",
          "mapbox": {
           "style": "light"
          },
          "paper_bgcolor": "white",
          "plot_bgcolor": "#E5ECF6",
          "polar": {
           "angularaxis": {
            "gridcolor": "white",
            "linecolor": "white",
            "ticks": ""
           },
           "bgcolor": "#E5ECF6",
           "radialaxis": {
            "gridcolor": "white",
            "linecolor": "white",
            "ticks": ""
           }
          },
          "scene": {
           "xaxis": {
            "backgroundcolor": "#E5ECF6",
            "gridcolor": "white",
            "gridwidth": 2,
            "linecolor": "white",
            "showbackground": true,
            "ticks": "",
            "zerolinecolor": "white"
           },
           "yaxis": {
            "backgroundcolor": "#E5ECF6",
            "gridcolor": "white",
            "gridwidth": 2,
            "linecolor": "white",
            "showbackground": true,
            "ticks": "",
            "zerolinecolor": "white"
           },
           "zaxis": {
            "backgroundcolor": "#E5ECF6",
            "gridcolor": "white",
            "gridwidth": 2,
            "linecolor": "white",
            "showbackground": true,
            "ticks": "",
            "zerolinecolor": "white"
           }
          },
          "shapedefaults": {
           "line": {
            "color": "#2a3f5f"
           }
          },
          "ternary": {
           "aaxis": {
            "gridcolor": "white",
            "linecolor": "white",
            "ticks": ""
           },
           "baxis": {
            "gridcolor": "white",
            "linecolor": "white",
            "ticks": ""
           },
           "bgcolor": "#E5ECF6",
           "caxis": {
            "gridcolor": "white",
            "linecolor": "white",
            "ticks": ""
           }
          },
          "title": {
           "x": 0.05
          },
          "xaxis": {
           "automargin": true,
           "gridcolor": "white",
           "linecolor": "white",
           "ticks": "",
           "title": {
            "standoff": 15
           },
           "zerolinecolor": "white",
           "zerolinewidth": 2
          },
          "yaxis": {
           "automargin": true,
           "gridcolor": "white",
           "linecolor": "white",
           "ticks": "",
           "title": {
            "standoff": 15
           },
           "zerolinecolor": "white",
           "zerolinewidth": 2
          }
         }
        },
        "title": {
         "text": "CO₂ Flux Comparison (Kenya vs Sundarbans - September 2022)"
        },
        "xaxis": {
         "title": {
          "text": "Region"
         }
        },
        "yaxis": {
         "title": {
          "text": "CO₂ Flux (mmol/m²/s)"
         }
        }
       }
      }
     },
     "metadata": {},
     "output_type": "display_data"
    }
   ],
   "source": [
    "import plotly.graph_objects as go\n",
    "\n",
    "# Zonal statistics for both regions\n",
    "kenya_stats = {\n",
    "    \"mean\": -3.3564426953798155e-05,\n",
    "    \"min\": -4.345345231725034e-05,\n",
    "    \"max\": -1.9500591179186733e-05\n",
    "}\n",
    "sundarbans_stats = {\n",
    "    \"mean\": -5.655252928408962e-05,\n",
    "    \"min\": -6.174531957578051e-05,\n",
    "    \"max\": -2.3300900379582937e-05\n",
    "}\n",
    "\n",
    "# Data for the bar graph\n",
    "regions = ['Kenya', 'Sundarbans']\n",
    "mean_flux = [kenya_stats['mean'], sundarbans_stats['mean']]\n",
    "max_flux = [kenya_stats['max'], sundarbans_stats['max']]\n",
    "min_flux = [kenya_stats['min'], sundarbans_stats['min']]\n",
    "\n",
    "# Create the interactive bar chart\n",
    "fig = go.Figure()\n",
    "\n",
    "# Adding mean flux bars\n",
    "fig.add_trace(go.Bar(\n",
    "    x=regions,\n",
    "    y=mean_flux,\n",
    "    name='Mean CO₂ Flux',\n",
    "    marker=dict(color='blue'),\n",
    "    hoverinfo='y'\n",
    "))\n",
    "\n",
    "# Adding max flux bars\n",
    "fig.add_trace(go.Bar(\n",
    "    x=regions,\n",
    "    y=max_flux,\n",
    "    name='Max CO₂ Flux',\n",
    "    marker=dict(color='green'),\n",
    "    hoverinfo='y'\n",
    "))\n",
    "\n",
    "# Adding min flux bars\n",
    "fig.add_trace(go.Bar(\n",
    "    x=regions,\n",
    "    y=min_flux,\n",
    "    name='Min CO₂ Flux',\n",
    "    marker=dict(color='red'),\n",
    "    hoverinfo='y'\n",
    "))\n",
    "\n",
    "# Layout for the bar chart\n",
    "fig.update_layout(\n",
    "    title=\"CO₂ Flux Comparison (Kenya vs Sundarbans - September 2022)\",\n",
    "    xaxis_title=\"Region\",\n",
    "    yaxis_title=\"CO₂ Flux (mmol/m²/s)\",\n",
    "    barmode='group'\n",
    ")\n",
    "\n",
    "# Show the interactive bar chart\n",
    "fig.show()\n"
   ]
  },
  {
   "cell_type": "code",
   "execution_count": 39,
   "metadata": {},
   "outputs": [],
   "source": [
    "import requests\n",
    "import pandas as pd\n",
    "import matplotlib.pyplot as plt\n",
    "\n",
    "# API Endpoints\n",
    "STAC_API_URL = \"https://earth.gov/ghgcenter/api/stac\"\n",
    "RASTER_API_URL = \"https://earth.gov/ghgcenter/api/raster\"\n",
    "collection_name = \"eccodarwin-co2flux-monthgrid-v5\"\n",
    "\n"
   ]
  },
  {
   "cell_type": "code",
   "execution_count": 40,
   "metadata": {},
   "outputs": [],
   "source": [
    "# Function to generate statistics for each granule\n",
    "def generate_stats(item, geojson):\n",
    "    # Access the \"co2\" asset and send the POST request for statistics\n",
    "    result = requests.post(\n",
    "        f\"{RASTER_API_URL}/cog/statistics\",\n",
    "        params={\"url\": item[\"assets\"][\"co2\"][\"href\"]},  # Use the correct asset name: \"co2\"\n",
    "        json=geojson,  # The AOI polygon in GeoJSON format\n",
    "    ).json()\n",
    "\n",
    "    # Print the result for debugging purposes\n",
    "    print(result)\n",
    "\n",
    "    # Return the statistics and datetime of the granule\n",
    "    return {\n",
    "        **result[\"properties\"],\n",
    "        \"datetime\": item[\"properties\"][\"start_datetime\"],\n",
    "    }"
   ]
  },
  {
   "cell_type": "code",
   "execution_count": 41,
   "metadata": {},
   "outputs": [
    {
     "name": "stdout",
     "output_type": "stream",
     "text": [
      "Found 36 items\n"
     ]
    }
   ],
   "source": [
    "\n",
    "\n",
    "# Step 1: Retrieve the items (granules) from the collection\n",
    "items = requests.get(f\"{STAC_API_URL}/collections/{collection_name}/items?limit=600\").json()[\"features\"]\n",
    "\n",
    "# Print the total number of items (for debugging purposes)\n",
    "print(f\"Found {len(items)} items\")"
   ]
  },
  {
   "cell_type": "code",
   "execution_count": 53,
   "metadata": {},
   "outputs": [
    {
     "name": "stdout",
     "output_type": "stream",
     "text": [
      "{'type': 'Feature', 'geometry': {'type': 'Polygon', 'coordinates': [[[40.8916, -2.0155], [40.95, -1.5], [40.18, -4.7], [39.64, -4.6], [40.8916, -2.0155]]]}, 'properties': {'statistics': {'b1': {'min': 1.1227775493412656e-05, 'max': 1.4942676363486535e-05, 'mean': 1.2920054235036292e-05, 'count': 9.299999237060547, 'sum': 0.0001201564945286184, 'std': 1.064730774445727e-06, 'median': 1.3051593474249156e-05, 'majority': 1.1227775493412656e-05, 'minority': 1.1227775493412656e-05, 'unique': 15.0, 'histogram': [[2.0, 2.0, 0.0, 1.0, 1.0, 0.0, 4.0, 1.0, 1.0, 3.0], [1.1227775493412656e-05, 1.1599265580420044e-05, 1.1970755667427431e-05, 1.234224575443482e-05, 1.2713735841442207e-05, 1.3085225928449595e-05, 1.3456716015456982e-05, 1.3828206102464372e-05, 1.419969618947176e-05, 1.4571186276479147e-05, 1.4942676363486535e-05]], 'valid_percent': 19.23, 'masked_pixels': 63.0, 'valid_pixels': 15.0, 'percentile_2': 1.1227775493412656e-05, 'percentile_98': 1.4699638090777449e-05}}}}\n",
      "{'type': 'Feature', 'geometry': {'type': 'Polygon', 'coordinates': [[[40.8916, -2.0155], [40.95, -1.5], [40.18, -4.7], [39.64, -4.6], [40.8916, -2.0155]]]}, 'properties': {'statistics': {'b1': {'min': -4.472995198421262e-08, 'max': 6.709880430417467e-06, 'mean': 8.941665649989299e-07, 'count': 9.299999237060547, 'sum': 8.315748372295097e-06, 'std': 1.681010712815678e-06, 'median': 3.806457926840163e-07, 'majority': -4.472995198421262e-08, 'minority': -4.472995198421262e-08, 'unique': 15.0, 'histogram': [[9.0, 2.0, 2.0, 0.0, 0.0, 0.0, 1.0, 0.0, 0.0, 1.0], [-4.472995198421262e-08, 6.307310862559554e-07, 1.3061921244961234e-06, 1.9816531627362916e-06, 2.6571142009764594e-06, 3.332575239216627e-06, 4.008036277456795e-06, 4.683497315696963e-06, 5.358958353937131e-06, 6.034419392177299e-06, 6.709880430417467e-06]], 'valid_percent': 19.23, 'masked_pixels': 63.0, 'valid_pixels': 15.0, 'percentile_2': -4.472995198421262e-08, 'percentile_98': 6.709880430417467e-06}}}}\n",
      "{'type': 'Feature', 'geometry': {'type': 'Polygon', 'coordinates': [[[40.8916, -2.0155], [40.95, -1.5], [40.18, -4.7], [39.64, -4.6], [40.8916, -2.0155]]]}, 'properties': {'statistics': {'b1': {'min': -2.0719314138178265e-05, 'max': -6.335877132031885e-06, 'mean': -1.7119700577784346e-05, 'count': 9.299999237060547, 'sum': -0.00015921320231209943, 'std': 3.7040798357978123e-06, 'median': -1.8953459239686623e-05, 'majority': -2.0719314138178265e-05, 'minority': -2.0719314138178265e-05, 'unique': 15.0, 'histogram': [[6.0, 2.0, 2.0, 2.0, 0.0, 0.0, 2.0, 0.0, 0.0, 1.0], [-2.0719314138178265e-05, -1.9280970437563626e-05, -1.784262673694899e-05, -1.640428303633435e-05, -1.4965939335719713e-05, -1.3527595635105076e-05, -1.2089251934490436e-05, -1.0650908233875799e-05, -9.212564533261161e-06, -7.774220832646524e-06, -6.335877132031885e-06]], 'valid_percent': 19.23, 'masked_pixels': 63.0, 'valid_pixels': 15.0, 'percentile_2': -2.0719314138178265e-05, 'percentile_98': -6.335877132031885e-06}}}}\n",
      "{'type': 'Feature', 'geometry': {'type': 'Polygon', 'coordinates': [[[40.8916, -2.0155], [40.95, -1.5], [40.18, -4.7], [39.64, -4.6], [40.8916, -2.0155]]]}, 'properties': {'statistics': {'b1': {'min': -4.345345231725034e-05, 'max': -1.9500591179186733e-05, 'mean': -3.3564426953798155e-05, 'count': 9.299999237060547, 'sum': -0.0003121491450626973, 'std': 6.080172005842744e-06, 'median': -3.5806237180792844e-05, 'majority': -4.345345231725034e-05, 'minority': -4.345345231725034e-05, 'unique': 15.0, 'histogram': [[2.0, 3.0, 2.0, 1.0, 1.0, 3.0, 1.0, 0.0, 1.0, 1.0], [-4.345345231725034e-05, -4.105816620344398e-05, -3.866288008963762e-05, -3.626759397583126e-05, -3.38723078620249e-05, -3.147702174821854e-05, -2.9081735634412172e-05, -2.6686449520605812e-05, -2.4291163406799453e-05, -2.1895877292993093e-05, -1.9500591179186733e-05]], 'valid_percent': 19.23, 'masked_pixels': 63.0, 'valid_pixels': 15.0, 'percentile_2': -4.187724961285602e-05, 'percentile_98': -1.9500591179186733e-05}}}}\n",
      "{'type': 'Feature', 'geometry': {'type': 'Polygon', 'coordinates': [[[40.8916, -2.0155], [40.95, -1.5], [40.18, -4.7], [39.64, -4.6], [40.8916, -2.0155]]]}, 'properties': {'statistics': {'b1': {'min': -5.030484985565905e-05, 'max': -2.7072464592079517e-05, 'mean': -4.16739141827701e-05, 'count': 9.299999237060547, 'sum': -0.0003875673701050886, 'std': 6.234257476839912e-06, 'median': -4.303018511691801e-05, 'majority': -5.030484985565905e-05, 'minority': -5.030484985565905e-05, 'unique': 15.0, 'histogram': [[3.0, 3.0, 1.0, 1.0, 2.0, 1.0, 2.0, 1.0, 0.0, 1.0], [-5.030484985565905e-05, -4.79816113293011e-05, -4.565837280294314e-05, -4.333513427658519e-05, -4.101189575022724e-05, -3.868865722386929e-05, -3.636541869751133e-05, -3.404218017115338e-05, -3.171894164479542e-05, -2.9395703118437468e-05, -2.7072464592079517e-05]], 'valid_percent': 19.23, 'masked_pixels': 63.0, 'valid_pixels': 15.0, 'percentile_2': -4.917726559922272e-05, 'percentile_98': -2.7072464592079517e-05}}}}\n",
      "{'type': 'Feature', 'geometry': {'type': 'Polygon', 'coordinates': [[[40.8916, -2.0155], [40.95, -1.5], [40.18, -4.7], [39.64, -4.6], [40.8916, -2.0155]]]}, 'properties': {'statistics': {'b1': {'min': -1.7773946396780673e-05, 'max': -2.549066187248562e-06, 'mean': -1.1488754720553036e-05, 'count': 9.299999237060547, 'sum': -0.00010684541013591899, 'std': 4.165059962496394e-06, 'median': -1.2421942075557221e-05, 'majority': -1.7773946396780673e-05, 'minority': -1.7773946396780673e-05, 'unique': 15.0, 'histogram': [[3.0, 2.0, 1.0, 3.0, 1.0, 1.0, 0.0, 3.0, 0.0, 1.0], [-1.7773946396780673e-05, -1.6251458375827462e-05, -1.472897035487425e-05, -1.320648233392104e-05, -1.1683994312967829e-05, -1.0161506292014618e-05, -8.639018271061408e-06, -7.116530250108196e-06, -5.594042229154985e-06, -4.0715542082017734e-06, -2.549066187248562e-06]], 'valid_percent': 19.23, 'masked_pixels': 63.0, 'valid_pixels': 15.0, 'percentile_2': -1.723368218597398e-05, 'percentile_98': -2.549066187248562e-06}}}}\n",
      "{'type': 'Feature', 'geometry': {'type': 'Polygon', 'coordinates': [[[40.8916, -2.0155], [40.95, -1.5], [40.18, -4.7], [39.64, -4.6], [40.8916, -2.0155]]]}, 'properties': {'statistics': {'b1': {'min': 2.2486734381124808e-05, 'max': 2.782889707782615e-05, 'mean': 2.5449036481029917e-05, 'count': 9.299999237060547, 'sum': 0.00023667601985750427, 'std': 1.7384274825785766e-06, 'median': 2.4750858892027275e-05, 'majority': 2.2486734381124808e-05, 'minority': 2.2486734381124808e-05, 'unique': 15.0, 'histogram': [[3.0, 0.0, 2.0, 3.0, 2.0, 0.0, 0.0, 2.0, 1.0, 2.0], [2.2486734381124808e-05, 2.302095065079494e-05, 2.3555166920465077e-05, 2.408938319013521e-05, 2.4623599459805344e-05, 2.515781572947548e-05, 2.5692031999145613e-05, 2.6226248268815746e-05, 2.676046453848588e-05, 2.7294680808156015e-05, 2.782889707782615e-05]], 'valid_percent': 19.23, 'masked_pixels': 63.0, 'valid_pixels': 15.0, 'percentile_2': 2.272923612611853e-05, 'percentile_98': 2.782889707782615e-05}}}}\n",
      "{'type': 'Feature', 'geometry': {'type': 'Polygon', 'coordinates': [[[40.8916, -2.0155], [40.95, -1.5], [40.18, -4.7], [39.64, -4.6], [40.8916, -2.0155]]]}, 'properties': {'statistics': {'b1': {'min': 3.183880374608347e-05, 'max': 4.1347019907793136e-05, 'mean': 3.7081845841724495e-05, 'count': 9.299999237060547, 'sum': 0.00034486113803683464, 'std': 3.035028354640502e-06, 'median': 3.67257064052398e-05, 'majority': 3.183880374608347e-05, 'minority': 3.183880374608347e-05, 'unique': 15.0, 'histogram': [[2.0, 1.0, 1.0, 1.0, 2.0, 1.0, 1.0, 2.0, 1.0, 3.0], [3.183880374608347e-05, 3.278962536225444e-05, 3.37404469784254e-05, 3.469126859459637e-05, 3.564209021076734e-05, 3.65929118269383e-05, 3.754373344310927e-05, 3.849455505928024e-05, 3.9445376675451205e-05, 4.039619829162217e-05, 4.1347019907793136e-05]], 'valid_percent': 19.23, 'masked_pixels': 63.0, 'valid_pixels': 15.0, 'percentile_2': 3.183880374608347e-05, 'percentile_98': 4.1347019907793136e-05}}}}\n",
      "{'type': 'Feature', 'geometry': {'type': 'Polygon', 'coordinates': [[[40.8916, -2.0155], [40.95, -1.5], [40.18, -4.7], [39.64, -4.6], [40.8916, -2.0155]]]}, 'properties': {'statistics': {'b1': {'min': 1.6929662925136992e-05, 'max': 2.9073606173112618e-05, 'mean': 2.6161205653693316e-05, 'count': 9.299999237060547, 'sum': 0.0002432991926199319, 'std': 2.622506714953528e-06, 'median': 2.7341166154005608e-05, 'majority': 1.6929662925136992e-05, 'minority': 1.6929662925136992e-05, 'unique': 15.0, 'histogram': [[1.0, 0.0, 0.0, 1.0, 2.0, 1.0, 2.0, 1.0, 2.0, 5.0], [1.6929662925136992e-05, 1.8144057249934554e-05, 1.9358451574732116e-05, 2.057284589952968e-05, 2.1787240224327243e-05, 2.3001634549124805e-05, 2.4216028873922367e-05, 2.543042319871993e-05, 2.6644817523517494e-05, 2.7859211848315053e-05, 2.9073606173112618e-05]], 'valid_percent': 19.23, 'masked_pixels': 63.0, 'valid_pixels': 15.0, 'percentile_2': 2.168170395238025e-05, 'percentile_98': 2.9073606173112618e-05}}}}\n",
      "{'type': 'Feature', 'geometry': {'type': 'Polygon', 'coordinates': [[[40.8916, -2.0155], [40.95, -1.5], [40.18, -4.7], [39.64, -4.6], [40.8916, -2.0155]]]}, 'properties': {'statistics': {'b1': {'min': 1.5705940835133023e-05, 'max': 3.0490096922891677e-05, 'mean': 2.644307068948748e-05, 'count': 9.299999237060547, 'sum': 0.0002459205372377717, 'std': 3.1408223638690113e-06, 'median': 2.734137564433407e-05, 'majority': 1.5705940835133023e-05, 'minority': 1.5705940835133023e-05, 'unique': 15.0, 'histogram': [[1.0, 0.0, 0.0, 1.0, 1.0, 2.0, 2.0, 2.0, 1.0, 5.0], [1.5705940835133023e-05, 1.7184356443908887e-05, 1.8662772052684755e-05, 2.014118766146062e-05, 2.1619603270236484e-05, 2.3098018879012348e-05, 2.4576434487788216e-05, 2.605485009656408e-05, 2.7533265705339948e-05, 2.9011681314115812e-05, 3.0490096922891677e-05]], 'valid_percent': 19.23, 'masked_pixels': 63.0, 'valid_pixels': 15.0, 'percentile_2': 2.105105818286907e-05, 'percentile_98': 3.0490096922891677e-05}}}}\n",
      "{'type': 'Feature', 'geometry': {'type': 'Polygon', 'coordinates': [[[40.8916, -2.0155], [40.95, -1.5], [40.18, -4.7], [39.64, -4.6], [40.8916, -2.0155]]]}, 'properties': {'statistics': {'b1': {'min': 2.885600993677566e-05, 'max': 5.261008114254624e-05, 'mean': 4.134740278234207e-05, 'count': 9.299999237060547, 'sum': 0.0003845308143302164, 'std': 6.816889797972929e-06, 'median': 4.278305488544361e-05, 'majority': 2.885600993677566e-05, 'minority': 2.885600993677566e-05, 'unique': 15.0, 'histogram': [[3.0, 0.0, 0.0, 3.0, 0.0, 2.0, 2.0, 1.0, 2.0, 2.0], [2.885600993677566e-05, 3.1231417057352716e-05, 3.360682417792978e-05, 3.598223129850683e-05, 3.8357638419083893e-05, 4.073304553966095e-05, 4.310845266023801e-05, 4.5483859780815064e-05, 4.7859266901392125e-05, 5.0234674021969186e-05, 5.261008114254624e-05]], 'valid_percent': 19.23, 'masked_pixels': 63.0, 'valid_pixels': 15.0, 'percentile_2': 2.885600993677566e-05, 'percentile_98': 5.261008114254624e-05}}}}\n",
      "{'type': 'Feature', 'geometry': {'type': 'Polygon', 'coordinates': [[[40.8916, -2.0155], [40.95, -1.5], [40.18, -4.7], [39.64, -4.6], [40.8916, -2.0155]]]}, 'properties': {'statistics': {'b1': {'min': 3.2437204918171707e-05, 'max': 5.796669376386376e-05, 'mean': 4.7378390618850246e-05, 'count': 9.299999237060547, 'sum': 0.0004406189966084639, 'std': 6.852341345816745e-06, 'median': 4.933549363815545e-05, 'majority': 3.2437204918171707e-05, 'minority': 3.2437204918171707e-05, 'unique': 15.0, 'histogram': [[1.0, 1.0, 1.0, 0.0, 2.0, 2.0, 3.0, 0.0, 3.0, 2.0], [3.2437204918171707e-05, 3.499015380274091e-05, 3.7543102687310115e-05, 4.0096051571879326e-05, 4.264900045644853e-05, 4.5201949341017734e-05, 4.775489822558694e-05, 5.030784711015614e-05, 5.286079599472535e-05, 5.541374487929455e-05, 5.796669376386376e-05]], 'valid_percent': 19.23, 'masked_pixels': 63.0, 'valid_pixels': 15.0, 'percentile_2': 3.2437204918171707e-05, 'percentile_98': 5.796669376386376e-05}}}}\n",
      "{'type': 'Feature', 'geometry': {'type': 'Polygon', 'coordinates': [[[40.8916, -2.0155], [40.95, -1.5], [40.18, -4.7], [39.64, -4.6], [40.8916, -2.0155]]]}, 'properties': {'statistics': {'b1': {'min': 1.694716471428433e-05, 'max': 1.9809565849127143e-05, 'mean': 1.8240640621158553e-05, 'count': 9.299999237060547, 'sum': 0.00016963794386027018, 'std': 1.0722455641081026e-06, 'median': 1.8490583525811313e-05, 'majority': 1.694716471428433e-05, 'minority': 1.694716471428433e-05, 'unique': 15.0, 'histogram': [[4.0, 1.0, 1.0, 0.0, 0.0, 2.0, 0.0, 1.0, 3.0, 3.0], [1.694716471428433e-05, 1.723340482776861e-05, 1.7519644941252892e-05, 1.7805885054737174e-05, 1.8092125168221456e-05, 1.8378365281705734e-05, 1.8664605395190016e-05, 1.8950845508674298e-05, 1.923708562215858e-05, 1.952332573564286e-05, 1.9809565849127143e-05]], 'valid_percent': 19.23, 'masked_pixels': 63.0, 'valid_pixels': 15.0, 'percentile_2': 1.694716471428433e-05, 'percentile_98': 1.9809565849127143e-05}}}}\n",
      "{'type': 'Feature', 'geometry': {'type': 'Polygon', 'coordinates': [[[40.8916, -2.0155], [40.95, -1.5], [40.18, -4.7], [39.64, -4.6], [40.8916, -2.0155]]]}, 'properties': {'statistics': {'b1': {'min': 1.6918273604070545e-05, 'max': 2.2084048542764142e-05, 'mean': 1.9838109652571357e-05, 'count': 9.299999237060547, 'sum': 0.0001844944046336371, 'std': 1.761033847587836e-06, 'median': 2.0168541153191845e-05, 'majority': 1.6918273604070545e-05, 'minority': 1.6918273604070545e-05, 'unique': 15.0, 'histogram': [[2.0, 1.0, 0.0, 2.0, 0.0, 1.0, 1.0, 1.0, 3.0, 4.0], [1.6918273604070545e-05, 1.7434851097939903e-05, 1.7951428591809264e-05, 1.8468006085678626e-05, 1.8984583579547984e-05, 1.9501161073417342e-05, 2.0017738567286703e-05, 2.0534316061156065e-05, 2.1050893555025423e-05, 2.156747104889478e-05, 2.2084048542764142e-05]], 'valid_percent': 19.23, 'masked_pixels': 63.0, 'valid_pixels': 15.0, 'percentile_2': 1.6918273604070545e-05, 'percentile_98': 2.1738675047442807e-05}}}}\n",
      "{'type': 'Feature', 'geometry': {'type': 'Polygon', 'coordinates': [[[40.8916, -2.0155], [40.95, -1.5], [40.18, -4.7], [39.64, -4.6], [40.8916, -2.0155]]]}, 'properties': {'statistics': {'b1': {'min': 1.0401810595064342e-05, 'max': 1.4866283989283868e-05, 'mean': 1.2252998920548467e-05, 'count': 9.299999237060547, 'sum': 0.00011395288061280445, 'std': 1.2084659385505033e-06, 'median': 1.2112226575014539e-05, 'majority': 1.0401810595064342e-05, 'minority': 1.0401810595064342e-05, 'unique': 15.0, 'histogram': [[2.0, 2.0, 1.0, 2.0, 0.0, 2.0, 4.0, 0.0, 1.0, 1.0], [1.0401810595064342e-05, 1.0848257934486295e-05, 1.1294705273908247e-05, 1.17411526133302e-05, 1.2187599952752152e-05, 1.2634047292174105e-05, 1.3080494631596058e-05, 1.352694197101801e-05, 1.3973389310439963e-05, 1.4419836649861914e-05, 1.4866283989283868e-05]], 'valid_percent': 19.23, 'masked_pixels': 63.0, 'valid_pixels': 15.0, 'percentile_2': 1.0401810595064342e-05, 'percentile_98': 1.4866283989283868e-05}}}}\n",
      "{'type': 'Feature', 'geometry': {'type': 'Polygon', 'coordinates': [[[40.8916, -2.0155], [40.95, -1.5], [40.18, -4.7], [39.64, -4.6], [40.8916, -2.0155]]]}, 'properties': {'statistics': {'b1': {'min': -1.0084895970600735e-05, 'max': 3.350555880009938e-07, 'mean': -7.242508687296065e-06, 'count': 9.299999237060547, 'sum': -6.735532526625778e-05, 'std': 2.5203684262485183e-06, 'median': -8.101503690042933e-06, 'majority': -1.0084895970600735e-05, 'minority': -1.0084895970600735e-05, 'unique': 15.0, 'histogram': [[4.0, 4.0, 1.0, 3.0, 0.0, 2.0, 0.0, 0.0, 0.0, 1.0], [-1.0084895970600735e-05, -9.042900814740563e-06, -8.000905658880389e-06, -6.958910503020216e-06, -5.916915347160043e-06, -4.874920191299871e-06, -3.832925035439698e-06, -2.790929879579525e-06, -1.7489347237193522e-06, -7.069395678591803e-07, 3.350555880009938e-07]], 'valid_percent': 19.23, 'masked_pixels': 63.0, 'valid_pixels': 15.0, 'percentile_2': -9.83216484833725e-06, 'percentile_98': 3.350555880009938e-07}}}}\n",
      "{'type': 'Feature', 'geometry': {'type': 'Polygon', 'coordinates': [[[40.8916, -2.0155], [40.95, -1.5], [40.18, -4.7], [39.64, -4.6], [40.8916, -2.0155]]]}, 'properties': {'statistics': {'b1': {'min': -3.235604969709407e-05, 'max': -1.4337820046446692e-05, 'mean': -2.6784110935710362e-05, 'count': 9.299999237060547, 'sum': -0.0002490922112674514, 'std': 4.858729147656382e-06, 'median': -2.7092139750353048e-05, 'majority': -3.235604969709407e-05, 'minority': -3.235604969709407e-05, 'unique': 15.0, 'histogram': [[4.0, 3.0, 1.0, 3.0, 1.0, 0.0, 1.0, 1.0, 0.0, 1.0], [-3.235604969709407e-05, -3.055422673202933e-05, -2.8752403766964594e-05, -2.6950580801899855e-05, -2.514875783683512e-05, -2.334693487177038e-05, -2.154511190670564e-05, -1.97432889416409e-05, -1.7941465976576166e-05, -1.6139643011511427e-05, -1.4337820046446692e-05]], 'valid_percent': 19.23, 'masked_pixels': 63.0, 'valid_pixels': 15.0, 'percentile_2': -3.235604969709407e-05, 'percentile_98': -1.4337820046446692e-05}}}}\n",
      "{'type': 'Feature', 'geometry': {'type': 'Polygon', 'coordinates': [[[40.8916, -2.0155], [40.95, -1.5], [40.18, -4.7], [39.64, -4.6], [40.8916, -2.0155]]]}, 'properties': {'statistics': {'b1': {'min': -5.671952297094854e-05, 'max': -2.824729665626151e-05, 'mean': -4.81621350027007e-05, 'count': 9.299999237060547, 'sum': -0.0004479078187803236, 'std': 7.342796133420693e-06, 'median': -4.946694850058015e-05, 'majority': -5.671952297094854e-05, 'minority': -5.671952297094854e-05, 'unique': 15.0, 'histogram': [[5.0, 1.0, 2.0, 3.0, 0.0, 1.0, 2.0, 0.0, 0.0, 1.0], [-5.671952297094854e-05, -5.387230033947984e-05, -5.1025077708011135e-05, -4.817785507654243e-05, -4.533063244507373e-05, -4.248340981360503e-05, -3.963618718213632e-05, -3.6788964550667616e-05, -3.3941741919198914e-05, -3.109451928773021e-05, -2.824729665626151e-05]], 'valid_percent': 19.23, 'masked_pixels': 63.0, 'valid_pixels': 15.0, 'percentile_2': -5.663554076591755e-05, 'percentile_98': -2.824729665626151e-05}}}}\n",
      "{'type': 'Feature', 'geometry': {'type': 'Polygon', 'coordinates': [[[40.8916, -2.0155], [40.95, -1.5], [40.18, -4.7], [39.64, -4.6], [40.8916, -2.0155]]]}, 'properties': {'statistics': {'b1': {'min': -3.285560198055185e-05, 'max': -1.084562077577426e-05, 'mean': -2.434722574379725e-05, 'count': 9.299999237060547, 'sum': -0.00022642918084185532, 'std': 5.2752463316321885e-06, 'median': -2.453384660416405e-05, 'majority': -3.285560198055185e-05, 'minority': -3.285560198055185e-05, 'unique': 15.0, 'histogram': [[2.0, 3.0, 1.0, 4.0, 1.0, 0.0, 2.0, 1.0, 0.0, 1.0], [-3.285560198055185e-05, -3.065460386007409e-05, -2.845360573959633e-05, -2.6252607619118573e-05, -2.405160949864081e-05, -2.1850611378163054e-05, -1.9649613257685296e-05, -1.7448615137207535e-05, -1.5247617016729778e-05, -1.304661889625202e-05, -1.084562077577426e-05]], 'valid_percent': 19.23, 'masked_pixels': 63.0, 'valid_pixels': 15.0, 'percentile_2': -3.079229746451339e-05, 'percentile_98': -1.084562077577426e-05}}}}\n",
      "{'type': 'Feature', 'geometry': {'type': 'Polygon', 'coordinates': [[[40.8916, -2.0155], [40.95, -1.5], [40.18, -4.7], [39.64, -4.6], [40.8916, -2.0155]]]}, 'properties': {'statistics': {'b1': {'min': -1.4490658575836627e-05, 'max': 1.8261139010372806e-06, 'mean': -8.49186399000901e-06, 'count': 9.299999237060547, 'sum': -7.897432862830573e-05, 'std': 3.9045422607536705e-06, 'median': -9.145437390882087e-06, 'majority': -1.4490658575836627e-05, 'minority': -1.4490658575836627e-05, 'unique': 15.0, 'histogram': [[3.0, 2.0, 2.0, 3.0, 1.0, 0.0, 2.0, 1.0, 0.0, 1.0], [-1.4490658575836627e-05, -1.2858981328149235e-05, -1.1227304080461846e-05, -9.595626832774455e-06, -7.963949585087064e-06, -6.332272337399673e-06, -4.700595089712283e-06, -3.0689178420248923e-06, -1.4372405943375012e-06, 1.944366533498899e-07, 1.8261139010372806e-06]], 'valid_percent': 19.23, 'masked_pixels': 63.0, 'valid_pixels': 15.0, 'percentile_2': -1.3305586433518391e-05, 'percentile_98': 1.8261139010372806e-06}}}}\n",
      "{'type': 'Feature', 'geometry': {'type': 'Polygon', 'coordinates': [[[40.8916, -2.0155], [40.95, -1.5], [40.18, -4.7], [39.64, -4.6], [40.8916, -2.0155]]]}, 'properties': {'statistics': {'b1': {'min': 1.909597640043449e-05, 'max': 2.9664976220918033e-05, 'mean': 2.6319773296358974e-05, 'count': 9.299999237060547, 'sum': 0.000244773871575745, 'std': 2.791315737127461e-06, 'median': 2.6653260886335705e-05, 'majority': 1.909597640043449e-05, 'minority': 1.909597640043449e-05, 'unique': 15.0, 'histogram': [[1.0, 0.0, 2.0, 1.0, 2.0, 2.0, 1.0, 2.0, 0.0, 4.0], [1.909597640043449e-05, 2.0152876382482843e-05, 2.12097763645312e-05, 2.2266676346579552e-05, 2.332357632862791e-05, 2.438047631067626e-05, 2.5437376292724614e-05, 2.649427627477297e-05, 2.7551176256821324e-05, 2.8608076238869677e-05, 2.9664976220918033e-05]], 'valid_percent': 19.23, 'masked_pixels': 63.0, 'valid_pixels': 15.0, 'percentile_2': 1.909597640043449e-05, 'percentile_98': 2.9664976220918033e-05}}}}\n",
      "{'type': 'Feature', 'geometry': {'type': 'Polygon', 'coordinates': [[[40.8916, -2.0155], [40.95, -1.5], [40.18, -4.7], [39.64, -4.6], [40.8916, -2.0155]]]}, 'properties': {'statistics': {'b1': {'min': 1.1461919988008806e-05, 'max': 1.888645764589034e-05, 'mean': 1.677239175246519e-05, 'count': 9.299999237060547, 'sum': 0.00015598323050160687, 'std': 1.7913780459543264e-06, 'median': 1.735505426412388e-05, 'majority': 1.1461919988008806e-05, 'minority': 1.1461919988008806e-05, 'unique': 15.0, 'histogram': [[1.0, 1.0, 1.0, 1.0, 1.0, 1.0, 1.0, 2.0, 2.0, 4.0], [1.1461919988008806e-05, 1.220437375379696e-05, 1.2946827519585112e-05, 1.3689281285373266e-05, 1.4431735051161419e-05, 1.5174188816949573e-05, 1.5916642582737727e-05, 1.665909634852588e-05, 1.740155011431403e-05, 1.8144003880102187e-05, 1.888645764589034e-05]], 'valid_percent': 19.23, 'masked_pixels': 63.0, 'valid_pixels': 15.0, 'percentile_2': 1.2789218079466766e-05, 'percentile_98': 1.888645764589034e-05}}}}\n",
      "{'type': 'Feature', 'geometry': {'type': 'Polygon', 'coordinates': [[[40.8916, -2.0155], [40.95, -1.5], [40.18, -4.7], [39.64, -4.6], [40.8916, -2.0155]]]}, 'properties': {'statistics': {'b1': {'min': 4.892329686368177e-06, 'max': 1.6212095630134928e-05, 'mean': 1.2527821223942712e-05, 'count': 9.299999237060547, 'sum': 0.00011650872782469815, 'std': 2.521739910244762e-06, 'median': 1.2844367220544037e-05, 'majority': 4.892329686368177e-06, 'minority': 4.892329686368177e-06, 'unique': 15.0, 'histogram': [[1.0, 0.0, 1.0, 1.0, 1.0, 1.0, 2.0, 2.0, 4.0, 2.0], [4.892329686368177e-06, 6.024306280744853e-06, 7.1562828751215274e-06, 8.288259469498202e-06, 9.420236063874877e-06, 1.0552212658251553e-05, 1.1684189252628228e-05, 1.2816165847004902e-05, 1.3948142441381579e-05, 1.5080119035758252e-05, 1.6212095630134928e-05]], 'valid_percent': 19.23, 'masked_pixels': 63.0, 'valid_pixels': 15.0, 'percentile_2': 7.460784416284599e-06, 'percentile_98': 1.6212095630134928e-05}}}}\n",
      "{'type': 'Feature', 'geometry': {'type': 'Polygon', 'coordinates': [[[40.8916, -2.0155], [40.95, -1.5], [40.18, -4.7], [39.64, -4.6], [40.8916, -2.0155]]]}, 'properties': {'statistics': {'b1': {'min': 7.82147304246976e-06, 'max': 1.7496735811039475e-05, 'mean': 1.3031613733558553e-05, 'count': 9.299999237060547, 'sum': 0.00012119399777976229, 'std': 2.622791062679288e-06, 'median': 1.3962214638798752e-05, 'majority': 7.82147304246976e-06, 'minority': 7.82147304246976e-06, 'unique': 15.0, 'histogram': [[2.0, 1.0, 1.0, 2.0, 1.0, 1.0, 2.0, 1.0, 2.0, 2.0], [7.82147304246976e-06, 8.788999319326731e-06, 9.756525596183703e-06, 1.0724051873040674e-05, 1.1691578149897647e-05, 1.2659104426754618e-05, 1.3626630703611588e-05, 1.4594156980468561e-05, 1.556168325732553e-05, 1.6529209534182503e-05, 1.7496735811039475e-05]], 'valid_percent': 19.23, 'masked_pixels': 63.0, 'valid_pixels': 15.0, 'percentile_2': 8.01068877416385e-06, 'percentile_98': 1.7496735811039475e-05}}}}\n",
      "{'type': 'Feature', 'geometry': {'type': 'Polygon', 'coordinates': [[[40.8916, -2.0155], [40.95, -1.5], [40.18, -4.7], [39.64, -4.6], [40.8916, -2.0155]]]}, 'properties': {'statistics': {'b1': {'min': 1.973546826152692e-05, 'max': 2.5233863702726923e-05, 'mean': 2.2126319416433974e-05, 'count': 9.299999237060547, 'sum': 0.0002057747536917939, 'std': 1.8319988134732661e-06, 'median': 2.2281262111283387e-05, 'majority': 1.973546826152692e-05, 'minority': 1.973546826152692e-05, 'unique': 15.0, 'histogram': [[3.0, 2.0, 1.0, 0.0, 1.0, 1.0, 1.0, 3.0, 1.0, 2.0], [1.973546826152692e-05, 2.028530780564692e-05, 2.0835147349766923e-05, 2.138498689388692e-05, 2.1934826438006924e-05, 2.2484665982126922e-05, 2.3034505526246925e-05, 2.3584345070366924e-05, 2.4134184614486922e-05, 2.4684024158606925e-05, 2.5233863702726923e-05]], 'valid_percent': 19.23, 'masked_pixels': 63.0, 'valid_pixels': 15.0, 'percentile_2': 1.973546826152692e-05, 'percentile_98': 2.488073791253487e-05}}}}\n",
      "{'type': 'Feature', 'geometry': {'type': 'Polygon', 'coordinates': [[[40.8916, -2.0155], [40.95, -1.5], [40.18, -4.7], [39.64, -4.6], [40.8916, -2.0155]]]}, 'properties': {'statistics': {'b1': {'min': 6.70337234199046e-06, 'max': 9.9072946826082e-06, 'mean': 8.15273380549264e-06, 'count': 9.299999237060547, 'sum': 7.582041817103928e-05, 'std': 9.724960352748513e-07, 'median': 8.334195311792579e-06, 'majority': 6.70337234199046e-06, 'minority': 6.70337234199046e-06, 'unique': 15.0, 'histogram': [[3.0, 0.0, 1.0, 1.0, 1.0, 2.0, 3.0, 1.0, 0.0, 3.0], [6.70337234199046e-06, 7.023764576052234e-06, 7.344156810114008e-06, 7.664549044175782e-06, 7.984941278237556e-06, 8.30533351229933e-06, 8.625725746361104e-06, 8.946117980422878e-06, 9.266510214484652e-06, 9.586902448546426e-06, 9.9072946826082e-06]], 'valid_percent': 19.23, 'masked_pixels': 63.0, 'valid_pixels': 15.0, 'percentile_2': 6.70337234199046e-06, 'percentile_98': 9.9072946826082e-06}}}}\n",
      "{'type': 'Feature', 'geometry': {'type': 'Polygon', 'coordinates': [[[40.8916, -2.0155], [40.95, -1.5], [40.18, -4.7], [39.64, -4.6], [40.8916, -2.0155]]]}, 'properties': {'statistics': {'b1': {'min': 1.7563433088792206e-06, 'max': 7.931449231545008e-06, 'mean': 2.8852049833495026e-06, 'count': 9.299999237060547, 'sum': 2.6832404143913664e-05, 'std': 1.454685819427731e-06, 'median': 2.654449259629329e-06, 'majority': 1.7563433088792206e-06, 'minority': 1.7563433088792206e-06, 'unique': 15.0, 'histogram': [[5.0, 6.0, 2.0, 0.0, 0.0, 0.0, 1.0, 0.0, 0.0, 1.0], [1.7563433088792206e-06, 2.3738539011457996e-06, 2.991364493412378e-06, 3.6088750856789566e-06, 4.226385677945536e-06, 4.8438962702121146e-06, 5.461406862478693e-06, 6.078917454745272e-06, 6.6964280470118506e-06, 7.3139386392784295e-06, 7.931449231545008e-06]], 'valid_percent': 19.23, 'masked_pixels': 63.0, 'valid_pixels': 15.0, 'percentile_2': 1.7563433088792206e-06, 'percentile_98': 7.931449231545008e-06}}}}\n",
      "{'type': 'Feature', 'geometry': {'type': 'Polygon', 'coordinates': [[[40.8916, -2.0155], [40.95, -1.5], [40.18, -4.7], [39.64, -4.6], [40.8916, -2.0155]]]}, 'properties': {'statistics': {'b1': {'min': -2.838814426369357e-05, 'max': -9.769292523821444e-06, 'mean': -2.166169257278627e-05, 'count': 9.299999237060547, 'sum': -0.0002014537244003524, 'std': 4.650222326905619e-06, 'median': -2.352144873637922e-05, 'majority': -2.838814426369357e-05, 'minority': -2.838814426369357e-05, 'unique': 15.0, 'histogram': [[2.0, 4.0, 2.0, 0.0, 4.0, 0.0, 1.0, 1.0, 0.0, 1.0], [-2.838814426369357e-05, -2.6526259089706357e-05, -2.4664373915719147e-05, -2.2802488741731933e-05, -2.094060356774472e-05, -1.907871839375751e-05, -1.7216833219770296e-05, -1.5354948045783082e-05, -1.349306287179587e-05, -1.1631177697808658e-05, -9.769292523821444e-06]], 'valid_percent': 19.23, 'masked_pixels': 63.0, 'valid_pixels': 15.0, 'percentile_2': -2.7162611245874288e-05, 'percentile_98': -9.769292523821444e-06}}}}\n",
      "{'type': 'Feature', 'geometry': {'type': 'Polygon', 'coordinates': [[[40.8916, -2.0155], [40.95, -1.5], [40.18, -4.7], [39.64, -4.6], [40.8916, -2.0155]]]}, 'properties': {'statistics': {'b1': {'min': -4.4960998497138585e-05, 'max': -2.0657409558129177e-05, 'mean': -3.6492915464629723e-05, 'count': 9.299999237060547, 'sum': -0.00033938408597917146, 'std': 6.1323892918799725e-06, 'median': -3.8735724968603054e-05, 'majority': -4.4960998497138585e-05, 'minority': -4.4960998497138585e-05, 'unique': 15.0, 'histogram': [[3.0, 2.0, 3.0, 0.0, 4.0, 0.0, 1.0, 1.0, 0.0, 1.0], [-4.4960998497138585e-05, -4.253063960323764e-05, -4.01002807093367e-05, -3.766992181543576e-05, -3.523956292153482e-05, -3.2809204027633876e-05, -3.037884513373294e-05, -2.7948486239832e-05, -2.5518127345931057e-05, -2.3087768452030115e-05, -2.0657409558129177e-05]], 'valid_percent': 19.23, 'masked_pixels': 63.0, 'valid_pixels': 15.0, 'percentile_2': -4.3576796018541946e-05, 'percentile_98': -2.0657409558129177e-05}}}}\n",
      "{'type': 'Feature', 'geometry': {'type': 'Polygon', 'coordinates': [[[40.8916, -2.0155], [40.95, -1.5], [40.18, -4.7], [39.64, -4.6], [40.8916, -2.0155]]]}, 'properties': {'statistics': {'b1': {'min': -6.99555073044778e-05, 'max': -3.4331164562058906e-05, 'mean': -5.9399971287075825e-05, 'count': 9.299999237060547, 'sum': -0.0005524196876512236, 'std': 9.124095281082802e-06, 'median': -6.072415177162856e-05, 'majority': -6.99555073044778e-05, 'minority': -6.99555073044778e-05, 'unique': 15.0, 'histogram': [[5.0, 1.0, 2.0, 3.0, 0.0, 1.0, 1.0, 1.0, 0.0, 1.0], [-6.99555073044778e-05, -6.639307303023591e-05, -6.283063875599401e-05, -5.926820448175213e-05, -5.570577020751024e-05, -5.214333593326835e-05, -4.858090165902646e-05, -4.501846738478457e-05, -4.1456033110542686e-05, -3.7893598836300796e-05, -3.4331164562058906e-05]], 'valid_percent': 19.23, 'masked_pixels': 63.0, 'valid_pixels': 15.0, 'percentile_2': -6.99555073044778e-05, 'percentile_98': -3.4331164562058906e-05}}}}\n",
      "{'type': 'Feature', 'geometry': {'type': 'Polygon', 'coordinates': [[[40.8916, -2.0155], [40.95, -1.5], [40.18, -4.7], [39.64, -4.6], [40.8916, -2.0155]]]}, 'properties': {'statistics': {'b1': {'min': -3.594327210614214e-05, 'max': -1.7117737164348297e-05, 'mean': -3.060405563376426e-05, 'count': 9.299999237060547, 'sum': -0.0002846176940449661, 'std': 4.8427701382207016e-06, 'median': -3.1440798078051294e-05, 'majority': -3.594327210614214e-05, 'minority': -3.594327210614214e-05, 'unique': 15.0, 'histogram': [[5.0, 2.0, 3.0, 1.0, 1.0, 0.0, 1.0, 1.0, 0.0, 1.0], [-3.594327210614214e-05, -3.406071861196276e-05, -3.2178165117783374e-05, -3.0295611623603987e-05, -2.8413058129424604e-05, -2.6530504635245217e-05, -2.4647951141065834e-05, -2.276539764688645e-05, -2.0882844152707067e-05, -1.900029065852768e-05, -1.7117737164348297e-05]], 'valid_percent': 19.23, 'masked_pixels': 63.0, 'valid_pixels': 15.0, 'percentile_2': -3.594327210614214e-05, 'percentile_98': -1.7117737164348297e-05}}}}\n",
      "{'type': 'Feature', 'geometry': {'type': 'Polygon', 'coordinates': [[[40.8916, -2.0155], [40.95, -1.5], [40.18, -4.7], [39.64, -4.6], [40.8916, -2.0155]]]}, 'properties': {'statistics': {'b1': {'min': 3.2132807570725455e-08, 'max': 4.983872583319276e-06, 'mean': 3.2131880714425273e-06, 'count': 9.299999237060547, 'sum': 2.9882646612947556e-05, 'std': 1.2124141931050011e-06, 'median': 3.4061860143405216e-06, 'majority': 3.2132807570725455e-08, 'minority': 3.2132807570725455e-08, 'unique': 15.0, 'histogram': [[1.0, 3.0, 1.0, 0.0, 2.0, 1.0, 2.0, 1.0, 1.0, 3.0], [3.2132807570725455e-08, 5.273067851455806e-07, 1.0224807627204357e-06, 1.5176547402952907e-06, 2.012828717870146e-06, 2.5080026954450007e-06, 3.003176673019856e-06, 3.4983506505947113e-06, 3.993524628169566e-06, 4.488698605744421e-06, 4.983872583319276e-06]], 'valid_percent': 19.23, 'masked_pixels': 63.0, 'valid_pixels': 15.0, 'percentile_2': 9.279749521289612e-07, 'percentile_98': 4.983872583319276e-06}}}}\n",
      "{'type': 'Feature', 'geometry': {'type': 'Polygon', 'coordinates': [[[40.8916, -2.0155], [40.95, -1.5], [40.18, -4.7], [39.64, -4.6], [40.8916, -2.0155]]]}, 'properties': {'statistics': {'b1': {'min': 1.7930190603790166e-05, 'max': 2.5367098090052427e-05, 'mean': 2.265832262146795e-05, 'count': 9.299999237060547, 'sum': 0.0002107223830927237, 'std': 1.8722267694586021e-06, 'median': 2.2871024379154964e-05, 'majority': 1.7930190603790166e-05, 'minority': 1.7930190603790166e-05, 'unique': 15.0, 'histogram': [[1.0, 1.0, 0.0, 1.0, 0.0, 4.0, 3.0, 3.0, 0.0, 2.0], [1.7930190603790166e-05, 1.867388135241639e-05, 1.941757210104262e-05, 2.0161262849668845e-05, 2.090495359829507e-05, 2.16486443469213e-05, 2.2392335095547524e-05, 2.313602584417375e-05, 2.3879716592799977e-05, 2.4623407341426202e-05, 2.5367098090052427e-05]], 'valid_percent': 19.23, 'masked_pixels': 63.0, 'valid_pixels': 15.0, 'percentile_2': 1.7930190603790166e-05, 'percentile_98': 2.5367098090052427e-05}}}}\n",
      "{'type': 'Feature', 'geometry': {'type': 'Polygon', 'coordinates': [[[40.8916, -2.0155], [40.95, -1.5], [40.18, -4.7], [39.64, -4.6], [40.8916, -2.0155]]]}, 'properties': {'statistics': {'b1': {'min': 1.7491810125830398e-05, 'max': 2.5370021659036648e-05, 'mean': 2.1476479838824232e-05, 'count': 9.299999237060547, 'sum': 0.00019973124611581157, 'std': 2.1543829601112333e-06, 'median': 2.241030039645553e-05, 'majority': 1.7491810125830398e-05, 'minority': 1.7491810125830398e-05, 'unique': 15.0, 'histogram': [[1.0, 2.0, 1.0, 1.0, 1.0, 0.0, 4.0, 2.0, 2.0, 1.0], [1.7491810125830398e-05, 1.8279631279151023e-05, 1.9067452432471647e-05, 1.985527358579227e-05, 2.06430947391129e-05, 2.1430915892433523e-05, 2.2218737045754147e-05, 2.300655819907477e-05, 2.37943793523954e-05, 2.4582200505716024e-05, 2.5370021659036648e-05]], 'valid_percent': 19.23, 'masked_pixels': 63.0, 'valid_pixels': 15.0, 'percentile_2': 1.7491810125830398e-05, 'percentile_98': 2.424989086862163e-05}}}}\n",
      "{'type': 'Feature', 'geometry': {'type': 'Polygon', 'coordinates': [[[40.8916, -2.0155], [40.95, -1.5], [40.18, -4.7], [39.64, -4.6], [40.8916, -2.0155]]]}, 'properties': {'statistics': {'b1': {'min': 1.6798543143043153e-05, 'max': 2.2531367271242842e-05, 'mean': 1.9904995877205348e-05, 'count': 9.299999237060547, 'sum': 0.00018511644647170307, 'std': 1.511123827312131e-06, 'median': 1.9309074786274498e-05, 'majority': 1.6798543143043153e-05, 'minority': 1.6798543143043153e-05, 'unique': 15.0, 'histogram': [[2.0, 0.0, 0.0, 4.0, 3.0, 1.0, 1.0, 1.0, 1.0, 2.0], [1.6798543143043153e-05, 1.7371825555863122e-05, 1.7945107968683092e-05, 1.8518390381503058e-05, 1.9091672794323028e-05, 1.9664955207142997e-05, 2.0238237619962967e-05, 2.0811520032782937e-05, 2.1384802445602903e-05, 2.1958084858422873e-05, 2.2531367271242842e-05]], 'valid_percent': 19.23, 'masked_pixels': 63.0, 'valid_pixels': 15.0, 'percentile_2': 1.680440622124407e-05, 'percentile_98': 2.2531367271242842e-05}}}}\n",
      "{'type': 'Feature', 'geometry': {'type': 'Polygon', 'coordinates': [[[40.8916, -2.0155], [40.95, -1.5], [40.18, -4.7], [39.64, -4.6], [40.8916, -2.0155]]]}, 'properties': {'statistics': {'b1': {'min': 1.3586848562020304e-05, 'max': 2.3315514109234716e-05, 'mean': 1.8473468696230912e-05, 'count': 9.299999237060547, 'sum': 0.00017180324478080939, 'std': 2.344037252884648e-06, 'median': 1.8426913709389846e-05, 'majority': 1.3586848562020304e-05, 'minority': 1.3586848562020304e-05, 'unique': 15.0, 'histogram': [[1.0, 0.0, 2.0, 1.0, 4.0, 2.0, 1.0, 2.0, 0.0, 2.0], [1.3586848562020304e-05, 1.4559715116741745e-05, 1.5532581671463186e-05, 1.650544822618463e-05, 1.747831478090607e-05, 1.845118133562751e-05, 1.9424047890348953e-05, 2.0396914445070392e-05, 2.1369780999791835e-05, 2.2342647554513277e-05, 2.3315514109234716e-05]], 'valid_percent': 19.23, 'masked_pixels': 63.0, 'valid_pixels': 15.0, 'percentile_2': 1.3586848562020304e-05, 'percentile_98': 2.3315514109234716e-05}}}}\n"
     ]
    }
   ],
   "source": [
    "# Step 1: Apply the zonal statistics function to each granule for Kenyan Mangroves\n",
    "stats = {}\n",
    "for item in items:\n",
    "    date = item[\"properties\"][\"start_datetime\"]  # Get the associated date\n",
    "    year_month = date[:7].replace('-', '')  # Convert datetime to year-month (e.g., '202212')\n",
    "    \n",
    "    # Compute the statistics for the granule within the Kenyan Mangroves AOI\n",
    "    stats[year_month] = generate_stats(item, kenya_mangroves_aoi)\n",
    "\n",
    "# Step 2: Clean and structure the stats into a DataFrame for Kenyan Mangroves\n",
    "kenya_df = clean_stats(stats)\n",
    "\n",
    "# Step 3: Sort the DataFrame by date for plotting\n",
    "kenya_df_sorted = kenya_df.sort_values(by=\"date\")\n"
   ]
  },
  {
   "cell_type": "code",
   "execution_count": 54,
   "metadata": {},
   "outputs": [
    {
     "name": "stdout",
     "output_type": "stream",
     "text": [
      "{'type': 'Feature', 'geometry': {'type': 'Polygon', 'coordinates': [[[88.0, 22.0], [89.9, 22.0], [89.9, 21.0], [88.0, 21.0], [88.0, 22.0]]]}, 'properties': {'statistics': {'b1': {'min': -4.7084098062910736e-05, 'max': -2.1849258294959816e-05, 'mean': -3.9583635939880864e-05, 'count': 7.0400004386901855, 'sum': -0.0002786688143817139, 'std': 5.672566341691385e-06, 'median': -3.696174785223297e-05, 'majority': -4.7084098062910736e-05, 'minority': -4.7084098062910736e-05, 'unique': 11.0, 'histogram': [[3.0, 1.0, 1.0, 0.0, 2.0, 2.0, 1.0, 0.0, 0.0, 1.0], [-4.7084098062910736e-05, -4.4560614086115644e-05, -4.203713010932055e-05, -3.951364613252546e-05, -3.699016215573037e-05, -3.4466678178935276e-05, -3.1943194202140184e-05, -2.9419710225345092e-05, -2.689622624855e-05, -2.4372742271754908e-05, -2.1849258294959816e-05]], 'valid_percent': 24.44, 'masked_pixels': 34.0, 'valid_pixels': 11.0, 'percentile_2': -4.7084098062910736e-05, 'percentile_98': -3.131638732284355e-05}}}}\n",
      "{'type': 'Feature', 'geometry': {'type': 'Polygon', 'coordinates': [[[88.0, 22.0], [89.9, 22.0], [89.9, 21.0], [88.0, 21.0], [88.0, 22.0]]]}, 'properties': {'statistics': {'b1': {'min': -4.7389682417604355e-05, 'max': -1.4576330443963151e-05, 'mean': -4.0179897979373575e-05, 'count': 7.0400004386901855, 'sum': -0.00028286649940131685, 'std': 5.190180697051557e-06, 'median': -4.02675080893556e-05, 'majority': -4.7389682417604355e-05, 'minority': -4.7389682417604355e-05, 'unique': 11.0, 'histogram': [[3.0, 1.0, 1.0, 4.0, 1.0, 0.0, 0.0, 0.0, 0.0, 1.0], [-4.7389682417604355e-05, -4.4108347220240236e-05, -4.082701202287612e-05, -3.7545676825512e-05, -3.426434162814787e-05, -3.098300643078375e-05, -2.7701671233419634e-05, -2.442033603605551e-05, -2.1139000838691393e-05, -1.7857665641327274e-05, -1.4576330443963151e-05]], 'valid_percent': 24.44, 'masked_pixels': 34.0, 'valid_pixels': 11.0, 'percentile_2': -4.7389682417604355e-05, 'percentile_98': -3.139838380938575e-05}}}}\n",
      "{'type': 'Feature', 'geometry': {'type': 'Polygon', 'coordinates': [[[88.0, 22.0], [89.9, 22.0], [89.9, 21.0], [88.0, 21.0], [88.0, 22.0]]]}, 'properties': {'statistics': {'b1': {'min': -6.592140717567417e-05, 'max': -1.8068109274674806e-05, 'mean': -5.781198189528834e-05, 'count': 7.0400004386901855, 'sum': -0.000406996377904379, 'std': 8.183186910547614e-06, 'median': -5.856711945612627e-05, 'majority': -6.592140717567417e-05, 'minority': -6.592140717567417e-05, 'unique': 11.0, 'histogram': [[4.0, 1.0, 1.0, 3.0, 0.0, 1.0, 0.0, 0.0, 0.0, 1.0], [-6.592140717567417e-05, -6.113607738557423e-05, -5.63507475954743e-05, -5.1565417805374355e-05, -4.678008801527442e-05, -4.1994758225174485e-05, -3.720942843507454e-05, -3.242409864497461e-05, -2.7638768854874673e-05, -2.2853439064774738e-05, -1.8068109274674806e-05]], 'valid_percent': 24.44, 'masked_pixels': 34.0, 'valid_pixels': 11.0, 'percentile_2': -6.592140717567417e-05, 'percentile_98': -4.176199493731264e-05}}}}\n",
      "{'type': 'Feature', 'geometry': {'type': 'Polygon', 'coordinates': [[[88.0, 22.0], [89.9, 22.0], [89.9, 21.0], [88.0, 21.0], [88.0, 22.0]]]}, 'properties': {'statistics': {'b1': {'min': -6.174531957578051e-05, 'max': -2.3300900379582937e-05, 'mean': -5.655252928408962e-05, 'count': 7.0400004386901855, 'sum': -0.0003981298309690305, 'std': 4.762672473824383e-06, 'median': -5.686636475634742e-05, 'majority': -6.174531957578051e-05, 'minority': -6.174531957578051e-05, 'unique': 11.0, 'histogram': [[4.0, 4.0, 2.0, 0.0, 0.0, 0.0, 0.0, 0.0, 0.0, 1.0], [-6.174531957578051e-05, -5.790087765616075e-05, -5.4056435736541e-05, -5.021199381692124e-05, -4.6367551897301485e-05, -4.2523109977681726e-05, -3.8678668058061966e-05, -3.483422613844221e-05, -3.098978421882245e-05, -2.7145342299202693e-05, -2.3300900379582937e-05]], 'valid_percent': 24.44, 'masked_pixels': 34.0, 'valid_pixels': 11.0, 'percentile_2': -6.174531957578051e-05, 'percentile_98': -5.083972112801149e-05}}}}\n",
      "{'type': 'Feature', 'geometry': {'type': 'Polygon', 'coordinates': [[[88.0, 22.0], [89.9, 22.0], [89.9, 21.0], [88.0, 21.0], [88.0, 22.0]]]}, 'properties': {'statistics': {'b1': {'min': -4.738381513867395e-05, 'max': -1.330429873302565e-05, 'mean': -4.383595102116477e-05, 'count': 7.0400004386901855, 'sum': -0.00030860511441940146, 'std': 4.512178064775011e-06, 'median': -4.515827188425177e-05, 'majority': -4.738381513867395e-05, 'minority': -4.738381513867395e-05, 'unique': 11.0, 'histogram': [[5.0, 3.0, 2.0, 0.0, 0.0, 0.0, 0.0, 0.0, 0.0, 1.0], [-4.738381513867395e-05, -4.397586349810912e-05, -4.056791185754429e-05, -3.715996021697946e-05, -3.375200857641463e-05, -3.03440569358498e-05, -2.693610529528497e-05, -2.3528153654720138e-05, -2.012020201415531e-05, -1.6712250373590477e-05, -1.330429873302565e-05]], 'valid_percent': 24.44, 'masked_pixels': 34.0, 'valid_pixels': 11.0, 'percentile_2': -4.738381513867395e-05, 'percentile_98': -3.7237106501064e-05}}}}\n",
      "{'type': 'Feature', 'geometry': {'type': 'Polygon', 'coordinates': [[[88.0, 22.0], [89.9, 22.0], [89.9, 21.0], [88.0, 21.0], [88.0, 22.0]]]}, 'properties': {'statistics': {'b1': {'min': -1.1904145115305597e-05, 'max': 1.0380785073518729e-05, 'mean': -3.118096368826019e-06, 'count': 7.0400004386901855, 'sum': -2.195139980441345e-05, 'std': 6.6310780666942915e-06, 'median': -7.352178439502523e-06, 'majority': -1.1904145115305597e-05, 'minority': -1.1904145115305597e-05, 'unique': 11.0, 'histogram': [[2.0, 2.0, 2.0, 1.0, 0.0, 0.0, 1.0, 0.0, 1.0, 2.0], [-1.1904145115305597e-05, -9.675652096423164e-06, -7.4471590775407316e-06, -5.218666058658299e-06, -2.990173039775866e-06, -7.616800208934332e-07, 1.4668129979889996e-06, 3.6953060168714324e-06, 5.923799035753865e-06, 8.152292054636298e-06, 1.0380785073518729e-05]], 'valid_percent': 24.44, 'masked_pixels': 34.0, 'valid_pixels': 11.0, 'percentile_2': -1.04641545144225e-05, 'percentile_98': 1.0380785073518729e-05}}}}\n",
      "{'type': 'Feature', 'geometry': {'type': 'Polygon', 'coordinates': [[[88.0, 22.0], [89.9, 22.0], [89.9, 21.0], [88.0, 21.0], [88.0, 22.0]]]}, 'properties': {'statistics': {'b1': {'min': -3.1560904501360344e-07, 'max': 1.2911033103761247e-05, 'mean': 3.480758670670723e-06, 'count': 7.0400004386901855, 'sum': 2.4504542568496558e-05, 'std': 2.716591145006038e-06, 'median': 3.4157946396827104e-06, 'majority': -3.1560904501360344e-07, 'minority': -3.1560904501360344e-07, 'unique': 11.0, 'histogram': [[3.0, 1.0, 3.0, 1.0, 0.0, 1.0, 1.0, 0.0, 0.0, 1.0], [-3.1560904501360344e-07, 1.0070551698638817e-06, 2.3297193847413668e-06, 3.6523835996188523e-06, 4.975047814496337e-06, 6.297712029373822e-06, 7.6203762442513085e-06, 8.943040459128793e-06, 1.0265704674006278e-05, 1.1588368888883763e-05, 1.2911033103761247e-05]], 'valid_percent': 24.44, 'masked_pixels': 34.0, 'valid_pixels': 11.0, 'percentile_2': -2.055448160383074e-07, 'percentile_98': 8.94152785874469e-06}}}}\n",
      "{'type': 'Feature', 'geometry': {'type': 'Polygon', 'coordinates': [[[88.0, 22.0], [89.9, 22.0], [89.9, 21.0], [88.0, 21.0], [88.0, 22.0]]]}, 'properties': {'statistics': {'b1': {'min': -1.9828893470624445e-05, 'max': -4.4388374488817927e-07, 'mean': -1.6763448090260455e-05, 'count': 7.0400004386901855, 'sum': -0.00011801468190939375, 'std': 2.2526940727056197e-06, 'median': -1.7463699854781124e-05, 'majority': -1.9828893470624445e-05, 'minority': -1.9828893470624445e-05, 'unique': 11.0, 'histogram': [[4.0, 4.0, 2.0, 0.0, 0.0, 0.0, 0.0, 0.0, 0.0, 1.0], [-1.9828893470624445e-05, -1.7890392498050818e-05, -1.595189152547719e-05, -1.4013390552903565e-05, -1.2074889580329938e-05, -1.0136388607756311e-05, -8.197887635182685e-06, -6.259386662609058e-06, -4.320885690035431e-06, -2.3823847174618047e-06, -4.4388374488817927e-07]], 'valid_percent': 24.44, 'masked_pixels': 34.0, 'valid_pixels': 11.0, 'percentile_2': -1.812567388774131e-05, 'percentile_98': -1.539598693795089e-05}}}}\n",
      "{'type': 'Feature', 'geometry': {'type': 'Polygon', 'coordinates': [[[88.0, 22.0], [89.9, 22.0], [89.9, 21.0], [88.0, 21.0], [88.0, 22.0]]]}, 'properties': {'statistics': {'b1': {'min': -3.423310353655627e-05, 'max': -1.5516003531369284e-05, 'mean': -2.9285073017350248e-05, 'count': 7.0400004386901855, 'sum': -0.00020616692688921987, 'std': 2.348491622344945e-06, 'median': -2.920043119691037e-05, 'majority': -3.423310353655627e-05, 'minority': -3.423310353655627e-05, 'unique': 11.0, 'histogram': [[2.0, 1.0, 4.0, 3.0, 0.0, 0.0, 0.0, 0.0, 0.0, 1.0], [-3.423310353655627e-05, -3.236139353603757e-05, -3.0489683535518872e-05, -2.8617973535000174e-05, -2.6746263534481477e-05, -2.487455353396278e-05, -2.3002843533444078e-05, -2.113113353292538e-05, -1.9259423532406683e-05, -1.738771353188798e-05, -1.5516003531369284e-05]], 'valid_percent': 24.44, 'masked_pixels': 34.0, 'valid_pixels': 11.0, 'percentile_2': -3.252204862580621e-05, 'percentile_98': -2.7126010535026794e-05}}}}\n",
      "{'type': 'Feature', 'geometry': {'type': 'Polygon', 'coordinates': [[[88.0, 22.0], [89.9, 22.0], [89.9, 21.0], [88.0, 21.0], [88.0, 22.0]]]}, 'properties': {'statistics': {'b1': {'min': -4.392206824108569e-05, 'max': -2.5859206334723576e-05, 'mean': -4.119570881114616e-05, 'count': 7.0400004386901855, 'sum': -0.0002900178081026221, 'std': 2.177548560747013e-06, 'median': -4.168353145400224e-05, 'majority': -4.392206824108569e-05, 'minority': -4.392206824108569e-05, 'unique': 11.0, 'histogram': [[5.0, 3.0, 1.0, 0.0, 1.0, 0.0, 0.0, 0.0, 0.0, 1.0], [-4.392206824108569e-05, -4.211578205044948e-05, -4.030949585981327e-05, -3.850320966917706e-05, -3.6696923478540846e-05, -3.489063728790463e-05, -3.308435109726842e-05, -3.1278064906632214e-05, -2.9471778715996e-05, -2.7665492525359788e-05, -2.5859206334723576e-05]], 'valid_percent': 24.44, 'masked_pixels': 34.0, 'valid_pixels': 11.0, 'percentile_2': -4.244596554963649e-05, 'percentile_98': -3.6025084936645365e-05}}}}\n",
      "{'type': 'Feature', 'geometry': {'type': 'Polygon', 'coordinates': [[[88.0, 22.0], [89.9, 22.0], [89.9, 21.0], [88.0, 21.0], [88.0, 22.0]]]}, 'properties': {'statistics': {'b1': {'min': -6.133194169488596e-05, 'max': -3.4178080053386375e-05, 'mean': -5.609939534841076e-05, 'count': 7.0400004386901855, 'sum': -0.0003949397678630659, 'std': 4.740510613846883e-06, 'median': -5.5424667070790956e-05, 'majority': -6.133194169488596e-05, 'minority': -6.133194169488596e-05, 'unique': 11.0, 'histogram': [[4.0, 0.0, 2.0, 3.0, 0.0, 1.0, 0.0, 0.0, 0.0, 1.0], [-6.133194169488596e-05, -5.8616555530736e-05, -5.590116936658604e-05, -5.318578320243608e-05, -5.047039703828612e-05, -4.7755010874136165e-05, -4.503962470998621e-05, -4.232423854583625e-05, -3.960885238168629e-05, -3.689346621753634e-05, -3.4178080053386375e-05]], 'valid_percent': 24.44, 'masked_pixels': 34.0, 'valid_pixels': 11.0, 'percentile_2': -6.133194169488596e-05, 'percentile_98': -4.7178432049172224e-05}}}}\n",
      "{'type': 'Feature', 'geometry': {'type': 'Polygon', 'coordinates': [[[88.0, 22.0], [89.9, 22.0], [89.9, 21.0], [88.0, 21.0], [88.0, 22.0]]]}, 'properties': {'statistics': {'b1': {'min': -0.00011027426117001413, 'max': -6.0504953399162503e-05, 'mean': -0.00010229125346714591, 'count': 7.0400004386901855, 'sum': -0.0007201304692828762, 'std': 7.402536670749046e-06, 'median': -0.00010268074356243042, 'majority': -0.00011027426117001413, 'minority': -0.00011027426117001413, 'unique': 11.0, 'histogram': [[5.0, 1.0, 3.0, 0.0, 1.0, 0.0, 0.0, 0.0, 0.0, 1.0], [-0.00011027426117001413, -0.00010529733039292896, -0.00010032039961584381, -9.534346883875864e-05, -9.036653806167349e-05, -8.538960728458832e-05, -8.041267650750315e-05, -7.543574573041798e-05, -7.045881495333283e-05, -6.548188417624767e-05, -6.0504953399162503e-05]], 'valid_percent': 24.44, 'masked_pixels': 34.0, 'valid_pixels': 11.0, 'percentile_2': -0.00011027426117001413, 'percentile_98': -8.68434322167094e-05}}}}\n",
      "{'type': 'Feature', 'geometry': {'type': 'Polygon', 'coordinates': [[[88.0, 22.0], [89.9, 22.0], [89.9, 21.0], [88.0, 21.0], [88.0, 22.0]]]}, 'properties': {'statistics': {'b1': {'min': -7.507875882982294e-05, 'max': -4.302943814907688e-05, 'mean': -7.064889770712808e-05, 'count': 7.0400004386901855, 'sum': -0.0004973682708511597, 'std': 3.962567567897749e-06, 'median': -7.191540557984127e-05, 'majority': -7.507875882982294e-05, 'minority': -7.507875882982294e-05, 'unique': 11.0, 'histogram': [[6.0, 2.0, 1.0, 1.0, 0.0, 0.0, 0.0, 0.0, 0.0, 1.0], [-7.507875882982294e-05, -7.187382676174833e-05, -6.866889469367372e-05, -6.546396262559913e-05, -6.225903055752452e-05, -5.905409848944991e-05, -5.5849166421375304e-05, -5.26442343533007e-05, -4.943930228522609e-05, -4.623437021715148e-05, -4.302943814907688e-05]], 'valid_percent': 24.44, 'masked_pixels': 34.0, 'valid_pixels': 11.0, 'percentile_2': -7.507875882982294e-05, 'percentile_98': -6.363237287238012e-05}}}}\n",
      "{'type': 'Feature', 'geometry': {'type': 'Polygon', 'coordinates': [[[88.0, 22.0], [89.9, 22.0], [89.9, 21.0], [88.0, 21.0], [88.0, 22.0]]]}, 'properties': {'statistics': {'b1': {'min': -4.735767323782343e-05, 'max': -2.4775617928220717e-05, 'mean': -4.026751135228913e-05, 'count': 7.0400004386901855, 'sum': -0.0002834832975850775, 'std': 2.629437931142489e-06, 'median': -3.9687218435970946e-05, 'majority': -4.735767323782343e-05, 'minority': -4.735767323782343e-05, 'unique': 11.0, 'histogram': [[1.0, 2.0, 1.0, 6.0, 0.0, 0.0, 0.0, 0.0, 0.0, 1.0], [-4.735767323782343e-05, -4.509946770686316e-05, -4.284126217590289e-05, -4.0583056644942617e-05, -3.8324851113982346e-05, -3.6066645583022076e-05, -3.38084400520618e-05, -3.155023452110153e-05, -2.9292028990141258e-05, -2.7033823459180987e-05, -2.4775617928220717e-05]], 'valid_percent': 24.44, 'masked_pixels': 34.0, 'valid_pixels': 11.0, 'percentile_2': -4.364084753364676e-05, 'percentile_98': -3.843387613482124e-05}}}}\n",
      "{'type': 'Feature', 'geometry': {'type': 'Polygon', 'coordinates': [[[88.0, 22.0], [89.9, 22.0], [89.9, 21.0], [88.0, 21.0], [88.0, 22.0]]]}, 'properties': {'statistics': {'b1': {'min': -4.191967513198095e-05, 'max': -1.5558971501169366e-05, 'mean': -3.725244774818515e-05, 'count': 7.0400004386901855, 'sum': -0.00026225724848950665, 'std': 4.082919146986846e-06, 'median': -3.708127598907541e-05, 'majority': -4.191967513198095e-05, 'minority': -4.191967513198095e-05, 'unique': 11.0, 'histogram': [[4.0, 1.0, 4.0, 0.0, 1.0, 0.0, 0.0, 0.0, 0.0, 1.0], [-4.191967513198095e-05, -3.928360476889979e-05, -3.664753440581863e-05, -3.4011464042737474e-05, -3.1375393679656315e-05, -2.8739323316575156e-05, -2.6103252953494e-05, -2.3467182590412842e-05, -2.0831112227331684e-05, -1.8195041864250525e-05, -1.5558971501169366e-05]], 'valid_percent': 24.44, 'masked_pixels': 34.0, 'valid_pixels': 11.0, 'percentile_2': -4.191967513198095e-05, 'percentile_98': -2.879741046521503e-05}}}}\n",
      "{'type': 'Feature', 'geometry': {'type': 'Polygon', 'coordinates': [[[88.0, 22.0], [89.9, 22.0], [89.9, 21.0], [88.0, 21.0], [88.0, 22.0]]]}, 'properties': {'statistics': {'b1': {'min': -7.135992315762586e-05, 'max': -2.464888685524601e-05, 'mean': -6.350017575629122e-05, 'count': 7.0400004386901855, 'sum': -0.0004470412651811941, 'std': 6.410590899451871e-06, 'median': -6.332880508295224e-05, 'majority': -7.135992315762586e-05, 'minority': -7.135992315762586e-05, 'unique': 11.0, 'histogram': [[3.0, 2.0, 4.0, 0.0, 1.0, 0.0, 0.0, 0.0, 0.0, 1.0], [-7.135992315762586e-05, -6.668881952738787e-05, -6.201771589714988e-05, -5.73466122669119e-05, -5.267550863667392e-05, -4.800440500643593e-05, -4.333330137619795e-05, -3.8662197745959964e-05, -3.399109411572198e-05, -2.931999048548399e-05, -2.464888685524601e-05]], 'valid_percent': 24.44, 'masked_pixels': 34.0, 'valid_pixels': 11.0, 'percentile_2': -7.135992315762586e-05, 'percentile_98': -5.183611942726759e-05}}}}\n",
      "{'type': 'Feature', 'geometry': {'type': 'Polygon', 'coordinates': [[[88.0, 22.0], [89.9, 22.0], [89.9, 21.0], [88.0, 21.0], [88.0, 22.0]]]}, 'properties': {'statistics': {'b1': {'min': -6.597866356158712e-05, 'max': -2.406664301540078e-05, 'mean': -6.049723346085417e-05, 'count': 7.0400004386901855, 'sum': -0.00042590055010395593, 'std': 5.7803289040764085e-06, 'median': -6.158097054533905e-05, 'majority': -6.597866356158712e-05, 'minority': -6.597866356158712e-05, 'unique': 11.0, 'histogram': [[3.0, 4.0, 2.0, 1.0, 0.0, 0.0, 0.0, 0.0, 0.0, 1.0], [-6.597866356158712e-05, -6.178746150696849e-05, -5.759625945234985e-05, -5.3405057397731216e-05, -4.9213855343112586e-05, -4.502265328849395e-05, -4.0831451233875314e-05, -3.6640249179256684e-05, -3.244904712463805e-05, -2.825784507001941e-05, -2.406664301540078e-05]], 'valid_percent': 24.44, 'masked_pixels': 34.0, 'valid_pixels': 11.0, 'percentile_2': -6.597866356158712e-05, 'percentile_98': -5.062534080343992e-05}}}}\n",
      "{'type': 'Feature', 'geometry': {'type': 'Polygon', 'coordinates': [[[88.0, 22.0], [89.9, 22.0], [89.9, 21.0], [88.0, 21.0], [88.0, 22.0]]]}, 'properties': {'statistics': {'b1': {'min': -6.227490238066645e-05, 'max': -2.3090327344198376e-05, 'mean': -5.8895460560099746e-05, 'count': 7.0400004386901855, 'sum': -0.00041462406817996275, 'std': 5.0507436066053175e-06, 'median': -6.0320047887082996e-05, 'majority': -6.227490238066645e-05, 'minority': -6.227490238066645e-05, 'unique': 11.0, 'histogram': [[6.0, 2.0, 2.0, 0.0, 0.0, 0.0, 0.0, 0.0, 0.0, 1.0], [-6.227490238066645e-05, -5.8356444877019644e-05, -5.4437987373372835e-05, -5.051952986972603e-05, -4.6601072366079224e-05, -4.2682614862432415e-05, -3.876415735878561e-05, -3.48456998551388e-05, -3.0927242351491994e-05, -2.7008784847845185e-05, -2.3090327344198376e-05]], 'valid_percent': 24.44, 'masked_pixels': 34.0, 'valid_pixels': 11.0, 'percentile_2': -6.227490238066645e-05, 'percentile_98': -5.140423355283064e-05}}}}\n",
      "{'type': 'Feature', 'geometry': {'type': 'Polygon', 'coordinates': [[[88.0, 22.0], [89.9, 22.0], [89.9, 21.0], [88.0, 21.0], [88.0, 22.0]]]}, 'properties': {'statistics': {'b1': {'min': -3.2936377881230814e-05, 'max': -1.3007391309185819e-05, 'mean': -2.6980863243163755e-05, 'count': 7.0400004386901855, 'sum': -0.00018994528906811275, 'std': 3.8348488415524575e-06, 'median': -2.8208499199358166e-05, 'majority': -3.2936377881230814e-05, 'minority': -3.2936377881230814e-05, 'unique': 11.0, 'histogram': [[2.0, 1.0, 5.0, 0.0, 0.0, 1.0, 0.0, 1.0, 0.0, 1.0], [-3.2936377881230814e-05, -3.094347922402631e-05, -2.8950580566821816e-05, -2.6957681909617314e-05, -2.4964783252412815e-05, -2.2971884595208316e-05, -2.0978985938003814e-05, -1.8986087280799315e-05, -1.6993188623594816e-05, -1.5000289966390317e-05, -1.3007391309185819e-05]], 'valid_percent': 24.44, 'masked_pixels': 34.0, 'valid_pixels': 11.0, 'percentile_2': -3.128243904326717e-05, 'percentile_98': -1.809333055627388e-05}}}}\n",
      "{'type': 'Feature', 'geometry': {'type': 'Polygon', 'coordinates': [[[88.0, 22.0], [89.9, 22.0], [89.9, 21.0], [88.0, 21.0], [88.0, 22.0]]]}, 'properties': {'statistics': {'b1': {'min': -8.482916015137802e-07, 'max': 1.1787864284174212e-05, 'mean': 4.987764044002434e-06, 'count': 7.0400004386901855, 'sum': 3.511386105786027e-05, 'std': 2.7727376063996826e-06, 'median': 5.083772562669052e-06, 'majority': -8.482916015137802e-07, 'minority': -8.482916015137802e-07, 'unique': 11.0, 'histogram': [[1.0, 2.0, 1.0, 0.0, 2.0, 1.0, 1.0, 2.0, 0.0, 1.0], [-8.482916015137802e-07, 4.1532398705501897e-07, 1.6789395756238182e-06, 2.942555164192618e-06, 4.206170752761417e-06, 5.469786341330216e-06, 6.733401929899016e-06, 7.997017518467815e-06, 9.260633107036614e-06, 1.0524248695605413e-05, 1.1787864284174212e-05]], 'valid_percent': 24.44, 'masked_pixels': 34.0, 'valid_pixels': 11.0, 'percentile_2': 8.005202520322398e-07, 'percentile_98': 9.252944531609952e-06}}}}\n",
      "{'type': 'Feature', 'geometry': {'type': 'Polygon', 'coordinates': [[[88.0, 22.0], [89.9, 22.0], [89.9, 21.0], [88.0, 21.0], [88.0, 22.0]]]}, 'properties': {'statistics': {'b1': {'min': -1.172628851056642e-05, 'max': 2.2008391312369523e-06, 'mean': -9.041941876006505e-06, 'count': 7.0400004386901855, 'sum': -6.365527477369696e-05, 'std': 2.060472779285827e-06, 'median': -8.501895527908694e-06, 'majority': -1.172628851056642e-05, 'minority': -1.172628851056642e-05, 'unique': 11.0, 'histogram': [[4.0, 1.0, 4.0, 1.0, 0.0, 0.0, 0.0, 0.0, 0.0, 1.0], [-1.172628851056642e-05, -1.0333575746386082e-05, -8.940862982205745e-06, -7.548150218025408e-06, -6.155437453845071e-06, -4.762724689664734e-06, -3.370011925484397e-06, -1.9772991613040598e-06, -5.845863971237227e-07, 8.081263670566144e-07, 2.2008391312369523e-06]], 'valid_percent': 24.44, 'masked_pixels': 34.0, 'valid_pixels': 11.0, 'percentile_2': -1.172628851056642e-05, 'percentile_98': -6.91242682849213e-06}}}}\n",
      "{'type': 'Feature', 'geometry': {'type': 'Polygon', 'coordinates': [[[88.0, 22.0], [89.9, 22.0], [89.9, 21.0], [88.0, 21.0], [88.0, 22.0]]]}, 'properties': {'statistics': {'b1': {'min': -3.3280236591186346e-05, 'max': -1.4464461824936313e-05, 'mean': -3.130440901478372e-05, 'count': 7.0400004386901855, 'sum': -0.0002203830531970144, 'std': 2.4464132225733323e-06, 'median': -3.136931252520729e-05, 'majority': -3.3280236591186346e-05, 'minority': -3.3280236591186346e-05, 'unique': 11.0, 'histogram': [[4.0, 5.0, 0.0, 1.0, 0.0, 0.0, 0.0, 0.0, 0.0, 1.0], [-3.3280236591186346e-05, -3.1398659114561344e-05, -2.951708163793634e-05, -2.7635504161311337e-05, -2.5753926684686332e-05, -2.387234920806133e-05, -2.199077173143633e-05, -2.0109194254811326e-05, -1.822761677818632e-05, -1.634603930156132e-05, -1.4464461824936313e-05]], 'valid_percent': 24.44, 'masked_pixels': 34.0, 'valid_pixels': 11.0, 'percentile_2': -3.3280236591186346e-05, 'percentile_98': -2.6738866118654574e-05}}}}\n",
      "{'type': 'Feature', 'geometry': {'type': 'Polygon', 'coordinates': [[[88.0, 22.0], [89.9, 22.0], [89.9, 21.0], [88.0, 21.0], [88.0, 22.0]]]}, 'properties': {'statistics': {'b1': {'min': -4.343859977418263e-05, 'max': -2.7072149609167205e-05, 'mean': -3.700358684518133e-05, 'count': 7.0400004386901855, 'sum': -0.0002605052676231869, 'std': 2.1959534802264573e-06, 'median': -3.673262106637641e-05, 'majority': -4.343859977418263e-05, 'minority': -4.343859977418263e-05, 'unique': 11.0, 'histogram': [[1.0, 1.0, 0.0, 2.0, 5.0, 1.0, 0.0, 0.0, 0.0, 1.0], [-4.343859977418263e-05, -4.1801954757681086e-05, -4.016530974117954e-05, -3.8528664724678005e-05, -3.689201970817646e-05, -3.525537469167492e-05, -3.3618729675173374e-05, -3.198208465867183e-05, -3.034543964217029e-05, -2.870879462566875e-05, -2.7072149609167205e-05]], 'valid_percent': 24.44, 'masked_pixels': 34.0, 'valid_pixels': 11.0, 'percentile_2': -4.098480941987611e-05, 'percentile_98': -3.4397057243941076e-05}}}}\n",
      "{'type': 'Feature', 'geometry': {'type': 'Polygon', 'coordinates': [[[88.0, 22.0], [89.9, 22.0], [89.9, 21.0], [88.0, 21.0], [88.0, 22.0]]]}, 'properties': {'statistics': {'b1': {'min': -3.9757937816075596e-05, 'max': -2.1779409745361382e-05, 'mean': -3.29454066549276e-05, 'count': 7.0400004386901855, 'sum': -0.00023193567730351683, 'std': 3.6072794840877724e-06, 'median': -3.1408346882821215e-05, 'majority': -3.9757937816075596e-05, 'minority': -3.9757937816075596e-05, 'unique': 11.0, 'histogram': [[1.0, 1.0, 1.0, 2.0, 2.0, 2.0, 1.0, 0.0, 0.0, 1.0], [-3.9757937816075596e-05, -3.796008500900417e-05, -3.6162232201932755e-05, -3.436437939486133e-05, -3.256652658778991e-05, -3.076867378071849e-05, -2.8970820973647068e-05, -2.7172968166575647e-05, -2.5375115359504223e-05, -2.3577262552432803e-05, -2.1779409745361382e-05]], 'valid_percent': 24.44, 'masked_pixels': 34.0, 'valid_pixels': 11.0, 'percentile_2': -3.9757937816075596e-05, 'percentile_98': -2.8183263766029527e-05}}}}\n",
      "{'type': 'Feature', 'geometry': {'type': 'Polygon', 'coordinates': [[[88.0, 22.0], [89.9, 22.0], [89.9, 21.0], [88.0, 21.0], [88.0, 22.0]]]}, 'properties': {'statistics': {'b1': {'min': -4.9558413466652154e-05, 'max': -2.962792629408769e-05, 'mean': -4.119536432259795e-05, 'count': 7.0400004386901855, 'sum': -0.0002900153829030916, 'std': 2.657378258491628e-06, 'median': -4.150996715522081e-05, 'majority': -4.9558413466652154e-05, 'minority': -4.9558413466652154e-05, 'unique': 11.0, 'histogram': [[1.0, 1.0, 0.0, 2.0, 3.0, 2.0, 1.0, 0.0, 0.0, 1.0], [-4.9558413466652154e-05, -4.756536474939571e-05, -4.5572316032139264e-05, -4.357926731488282e-05, -4.158621859762637e-05, -3.959316988036992e-05, -3.760012116311348e-05, -3.560707244585703e-05, -3.361402372860058e-05, -3.1620975011344135e-05, -2.962792629408769e-05]], 'valid_percent': 24.44, 'masked_pixels': 34.0, 'valid_pixels': 11.0, 'percentile_2': -4.5579738721404e-05, 'percentile_98': -3.692126178093647e-05}}}}\n",
      "{'type': 'Feature', 'geometry': {'type': 'Polygon', 'coordinates': [[[88.0, 22.0], [89.9, 22.0], [89.9, 21.0], [88.0, 21.0], [88.0, 22.0]]]}, 'properties': {'statistics': {'b1': {'min': -4.833875887270982e-05, 'max': -2.4554682589051277e-05, 'mean': -3.953005991826165e-05, 'count': 7.0400004386901855, 'sum': -0.00027829163916601136, 'std': 5.025657462128968e-06, 'median': -3.7075937502815213e-05, 'majority': -4.833875887270982e-05, 'minority': -4.833875887270982e-05, 'unique': 11.0, 'histogram': [[2.0, 1.0, 1.0, 1.0, 2.0, 3.0, 0.0, 0.0, 0.0, 1.0], [-4.833875887270982e-05, -4.596035124434397e-05, -4.358194361597811e-05, -4.1203535987612256e-05, -3.8825128359246404e-05, -3.6446720730880545e-05, -3.406831310251469e-05, -3.168990547414884e-05, -2.9311497845782985e-05, -2.693309021741713e-05, -2.4554682589051277e-05]], 'valid_percent': 24.44, 'masked_pixels': 34.0, 'valid_pixels': 11.0, 'percentile_2': -4.833875887270982e-05, 'percentile_98': -3.4409764443057095e-05}}}}\n",
      "{'type': 'Feature', 'geometry': {'type': 'Polygon', 'coordinates': [[[88.0, 22.0], [89.9, 22.0], [89.9, 21.0], [88.0, 21.0], [88.0, 22.0]]]}, 'properties': {'statistics': {'b1': {'min': -4.344934444461543e-05, 'max': -1.7362664550515332e-05, 'mean': -3.802734401456741e-05, 'count': 7.0400004386901855, 'sum': -0.0002677125185447772, 'std': 3.336243321315751e-06, 'median': -3.769026079843003e-05, 'majority': -4.344934444461543e-05, 'minority': -4.344934444461543e-05, 'unique': 11.0, 'histogram': [[2.0, 3.0, 4.0, 1.0, 0.0, 0.0, 0.0, 0.0, 0.0, 1.0], [-4.344934444461543e-05, -4.0840676455205424e-05, -3.823200846579541e-05, -3.56233404763854e-05, -3.3014672486975394e-05, -3.0406004497565382e-05, -2.779733650815537e-05, -2.5188668518745363e-05, -2.2580000529335352e-05, -1.997133253992534e-05, -1.7362664550515332e-05]], 'valid_percent': 24.44, 'masked_pixels': 34.0, 'valid_pixels': 11.0, 'percentile_2': -4.344934444461543e-05, 'percentile_98': -3.516550617369544e-05}}}}\n",
      "{'type': 'Feature', 'geometry': {'type': 'Polygon', 'coordinates': [[[88.0, 22.0], [89.9, 22.0], [89.9, 21.0], [88.0, 21.0], [88.0, 22.0]]]}, 'properties': {'statistics': {'b1': {'min': -6.04248334355183e-05, 'max': -1.7412075101242955e-05, 'mean': -5.2059101007221675e-05, 'count': 7.0400004386901855, 'sum': -0.0003664960939286573, 'std': 7.735024722185102e-06, 'median': -5.167662731595444e-05, 'majority': -6.04248334355183e-05, 'minority': -6.04248334355183e-05, 'unique': 11.0, 'histogram': [[4.0, 0.0, 1.0, 4.0, 1.0, 0.0, 0.0, 0.0, 0.0, 1.0], [-6.04248334355183e-05, -5.6123557602090766e-05, -5.182228176866323e-05, -4.7521005935235696e-05, -4.321973010180816e-05, -3.8918454268380625e-05, -3.4617178434953097e-05, -3.031590260152556e-05, -2.6014626768098026e-05, -2.171335093467049e-05, -1.7412075101242955e-05]], 'valid_percent': 24.44, 'masked_pixels': 34.0, 'valid_pixels': 11.0, 'percentile_2': -6.04248334355183e-05, 'percentile_98': -3.940828593350488e-05}}}}\n",
      "{'type': 'Feature', 'geometry': {'type': 'Polygon', 'coordinates': [[[88.0, 22.0], [89.9, 22.0], [89.9, 21.0], [88.0, 21.0], [88.0, 22.0]]]}, 'properties': {'statistics': {'b1': {'min': -8.415587247073468e-05, 'max': -3.967266779750176e-05, 'mean': -7.969525036047035e-05, 'count': 7.0400004386901855, 'sum': -0.0005610545974992355, 'std': 5.191895253227265e-06, 'median': -8.076987617103835e-05, 'majority': -8.415587247073468e-05, 'minority': -8.415587247073468e-05, 'unique': 11.0, 'histogram': [[5.0, 5.0, 0.0, 0.0, 0.0, 0.0, 0.0, 0.0, 0.0, 1.0], [-8.415587247073468e-05, -7.970755200341139e-05, -7.525923153608809e-05, -7.08109110687648e-05, -6.636259060144152e-05, -6.191427013411822e-05, -5.746594966679493e-05, -5.3017629199471636e-05, -4.856930873214834e-05, -4.412098826482505e-05, -3.967266779750176e-05]], 'valid_percent': 24.44, 'masked_pixels': 34.0, 'valid_pixels': 11.0, 'percentile_2': -8.248192305896853e-05, 'percentile_98': -7.656311282290174e-05}}}}\n",
      "{'type': 'Feature', 'geometry': {'type': 'Polygon', 'coordinates': [[[88.0, 22.0], [89.9, 22.0], [89.9, 21.0], [88.0, 21.0], [88.0, 22.0]]]}, 'properties': {'statistics': {'b1': {'min': -5.993201247345336e-05, 'max': -1.546035368588984e-05, 'mean': -5.323770949335498e-05, 'count': 7.0400004386901855, 'sum': -0.0003747934981880797, 'std': 6.340923243225377e-06, 'median': -5.304136624010499e-05, 'majority': -5.993201247345336e-05, 'minority': -5.993201247345336e-05, 'unique': 11.0, 'histogram': [[3.0, 4.0, 1.0, 2.0, 0.0, 0.0, 0.0, 0.0, 0.0, 1.0], [-5.993201247345336e-05, -5.548484659469701e-05, -5.103768071594066e-05, -4.6590514837184304e-05, -4.2143348958427956e-05, -3.76961830796716e-05, -3.3249017200915246e-05, -2.8801851322158897e-05, -2.4354685443402542e-05, -1.9907519564646187e-05, -1.546035368588984e-05]], 'valid_percent': 24.44, 'masked_pixels': 34.0, 'valid_pixels': 11.0, 'percentile_2': -5.993201247345336e-05, 'percentile_98': -4.222857987949889e-05}}}}\n",
      "{'type': 'Feature', 'geometry': {'type': 'Polygon', 'coordinates': [[[88.0, 22.0], [89.9, 22.0], [89.9, 21.0], [88.0, 21.0], [88.0, 22.0]]]}, 'properties': {'statistics': {'b1': {'min': -3.298500695651636e-05, 'max': -6.785234275996733e-06, 'mean': -2.874159812823448e-05, 'count': 7.0400004386901855, 'sum': -0.00020234086343142775, 'std': 4.659425322263084e-06, 'median': -3.1056323335099006e-05, 'majority': -3.298500695651636e-05, 'minority': -3.298500695651636e-05, 'unique': 11.0, 'histogram': [[4.0, 2.0, 0.0, 2.0, 2.0, 0.0, 0.0, 0.0, 0.0, 1.0], [-3.298500695651636e-05, -3.0365029688464396e-05, -2.7745052420412435e-05, -2.512507515236047e-05, -2.250509788430851e-05, -1.9885120616256546e-05, -1.726514334820458e-05, -1.464516608015262e-05, -1.2025188812100656e-05, -9.405211544048692e-06, -6.785234275996733e-06]], 'valid_percent': 24.44, 'masked_pixels': 34.0, 'valid_pixels': 11.0, 'percentile_2': -3.298500695651636e-05, 'percentile_98': -2.0473694390709106e-05}}}}\n",
      "{'type': 'Feature', 'geometry': {'type': 'Polygon', 'coordinates': [[[88.0, 22.0], [89.9, 22.0], [89.9, 21.0], [88.0, 21.0], [88.0, 22.0]]]}, 'properties': {'statistics': {'b1': {'min': -1.509814688216914e-05, 'max': 7.186324475331835e-06, 'mean': -1.2573232284170027e-05, 'count': 7.0400004386901855, 'sum': -8.85155607963106e-05, 'std': 2.903275296834873e-06, 'median': -1.3502492551494209e-05, 'majority': -1.509814688216914e-05, 'minority': -1.509814688216914e-05, 'unique': 11.0, 'histogram': [[4.0, 4.0, 1.0, 1.0, 0.0, 0.0, 0.0, 0.0, 0.0, 1.0], [-1.509814688216914e-05, -1.2869699746419044e-05, -1.0641252610668945e-05, -8.412805474918846e-06, -6.1843583391687495e-06, -3.955911203418653e-06, -1.727464067668554e-06, 5.009830680815446e-07, 2.7294302038316416e-06, 4.9578773395817385e-06, 7.186324475331835e-06]], 'valid_percent': 24.44, 'masked_pixels': 34.0, 'valid_pixels': 11.0, 'percentile_2': -1.509814688216914e-05, 'percentile_98': -8.062183582062085e-06}}}}\n",
      "{'type': 'Feature', 'geometry': {'type': 'Polygon', 'coordinates': [[[88.0, 22.0], [89.9, 22.0], [89.9, 21.0], [88.0, 21.0], [88.0, 22.0]]]}, 'properties': {'statistics': {'b1': {'min': -1.1559257006832847e-05, 'max': -8.774108649158558e-07, 'mean': -6.6510704242105665e-06, 'count': 7.0400004386901855, 'sum': -4.6823538704201705e-05, 'std': 1.2293376834529304e-06, 'median': -6.42685307454961e-06, 'majority': -1.1559257006832847e-05, 'minority': -1.1559257006832847e-05, 'unique': 11.0, 'histogram': [[1.0, 0.0, 1.0, 2.0, 2.0, 4.0, 0.0, 0.0, 0.0, 1.0], [-1.1559257006832847e-05, -1.0491072392641149e-05, -9.422887778449449e-06, -8.35470316425775e-06, -7.286518550066051e-06, -6.218333935874352e-06, -5.150149321682653e-06, -4.081964707490954e-06, -3.0137800932992546e-06, -1.945595479107556e-06, -8.774108649158558e-07]], 'valid_percent': 24.44, 'masked_pixels': 34.0, 'valid_pixels': 11.0, 'percentile_2': -9.208070268763705e-06, 'percentile_98': -5.811053289124509e-06}}}}\n",
      "{'type': 'Feature', 'geometry': {'type': 'Polygon', 'coordinates': [[[88.0, 22.0], [89.9, 22.0], [89.9, 21.0], [88.0, 21.0], [88.0, 22.0]]]}, 'properties': {'statistics': {'b1': {'min': -1.957263367183076e-05, 'max': -1.0928437639977718e-05, 'mean': -1.8145983019131532e-05, 'count': 7.0400004386901855, 'sum': -0.00012774772841515065, 'std': 1.1899253138103186e-06, 'median': -1.773877881305651e-05, 'majority': -1.957263367183076e-05, 'minority': -1.957263367183076e-05, 'unique': 11.0, 'histogram': [[4.0, 2.0, 4.0, 0.0, 0.0, 0.0, 0.0, 0.0, 0.0, 1.0], [-1.957263367183076e-05, -1.8708214068645454e-05, -1.784379446546015e-05, -1.6979374862274845e-05, -1.611495525908954e-05, -1.5250535655904238e-05, -1.4386116052718934e-05, -1.3521696449533631e-05, -1.2657276846348327e-05, -1.1792857243163023e-05, -1.0928437639977718e-05]], 'valid_percent': 24.44, 'masked_pixels': 34.0, 'valid_pixels': 11.0, 'percentile_2': -1.957263367183076e-05, 'percentile_98': -1.717160223536135e-05}}}}\n",
      "{'type': 'Feature', 'geometry': {'type': 'Polygon', 'coordinates': [[[88.0, 22.0], [89.9, 22.0], [89.9, 21.0], [88.0, 21.0], [88.0, 22.0]]]}, 'properties': {'statistics': {'b1': {'min': -3.656477704425788e-05, 'max': -2.29298030032696e-05, 'mean': -3.2629289381707184e-05, 'count': 7.0400004386901855, 'sum': -0.00022971021156136757, 'std': 1.6110707328843257e-06, 'median': -3.2789463064780145e-05, 'majority': -3.656477704425788e-05, 'minority': -3.656477704425788e-05, 'unique': 11.0, 'histogram': [[1.0, 1.0, 4.0, 3.0, 1.0, 0.0, 0.0, 0.0, 0.0, 1.0], [-3.656477704425788e-05, -3.5201279640159055e-05, -3.383778223606022e-05, -3.2474284831961397e-05, -3.111078742786257e-05, -2.974729002376374e-05, -2.8383792619664912e-05, -2.7020295215566086e-05, -2.5656797811467257e-05, -2.4293300407368427e-05, -2.29298030032696e-05]], 'valid_percent': 24.44, 'masked_pixels': 34.0, 'valid_pixels': 11.0, 'percentile_2': -3.45375103684763e-05, 'percentile_98': -3.088734022265862e-05}}}}\n",
      "{'type': 'Feature', 'geometry': {'type': 'Polygon', 'coordinates': [[[88.0, 22.0], [89.9, 22.0], [89.9, 21.0], [88.0, 21.0], [88.0, 22.0]]]}, 'properties': {'statistics': {'b1': {'min': -4.784583328262974e-05, 'max': -2.7081722817226616e-05, 'mean': -4.109628997659632e-05, 'count': 7.0400004386901855, 'sum': -0.00028931789946377715, 'std': 2.361021734942462e-06, 'median': -4.147527408269845e-05, 'majority': -4.784583328262974e-05, 'minority': -4.784583328262974e-05, 'unique': 11.0, 'histogram': [[1.0, 1.0, 2.0, 4.0, 2.0, 0.0, 0.0, 0.0, 0.0, 1.0], [-4.784583328262974e-05, -4.576942223608943e-05, -4.3693011189549114e-05, -4.1616600143008805e-05, -3.954018909646849e-05, -3.746377804992818e-05, -3.538736700338786e-05, -3.3310955956847554e-05, -3.1234544910307244e-05, -2.9158133863766928e-05, -2.7081722817226616e-05]], 'valid_percent': 24.44, 'masked_pixels': 34.0, 'valid_pixels': 11.0, 'percentile_2': -4.409942311409428e-05, 'percentile_98': -3.7957410160254464e-05}}}}\n"
     ]
    }
   ],
   "source": [
    "# Step 1: Apply the zonal statistics function to each granule for Sundarbans\n",
    "sundarbans_stats = {}\n",
    "for item in items:\n",
    "    date = item[\"properties\"][\"start_datetime\"]  # Get the associated date\n",
    "    year_month = date[:7].replace('-', '')  # Convert datetime to year-month (e.g., '202212')\n",
    "    \n",
    "    # Compute the statistics for the granule within the Sundarbans AOI\n",
    "    sundarbans_stats[year_month] = generate_stats(item, sundarbans_aoi)\n",
    "\n",
    "# Step 2: Clean and structure the stats into a DataFrame for Sundarbans\n",
    "sundarbans_df = clean_stats(sundarbans_stats)\n",
    "\n",
    "# Step 3: Sort the DataFrame by date for plotting\n",
    "sundarbans_df_sorted = sundarbans_df.sort_values(by=\"date\")\n"
   ]
  },
  {
   "cell_type": "code",
   "execution_count": 55,
   "metadata": {},
   "outputs": [],
   "source": [
    "# Step 3: Merge or Concatenate both DataFrames for comparison\n",
    "combined_df = pd.merge(\n",
    "    kenya_df_sorted[['date', 'max']].rename(columns={\"max\": \"kenya_max\"}),  # Rename \"max\" for clarity\n",
    "    sundarbans_df_sorted[['date', 'max']].rename(columns={\"max\": \"sundarbans_max\"}),  # Rename \"max\" for Sundarbans\n",
    "    on=\"date\", how=\"outer\"  # Merge on the \"date\" column\n",
    ")\n"
   ]
  },
  {
   "cell_type": "code",
   "execution_count": 43,
   "metadata": {},
   "outputs": [],
   "source": [
    "# Step 3: Clean and structure the stats into a DataFrame\n",
    "def clean_stats(stats_json) -> pd.DataFrame:\n",
    "    # Set the display format for floats\n",
    "    pd.set_option('display.float_format', '{:.20f}'.format)\n",
    "    \n",
    "    # Convert the stats JSON data into a list of dictionaries\n",
    "    stats_json_ = [stats_json[datetime] for datetime in stats_json]\n",
    "    \n",
    "    # Normalize the JSON structure into a DataFrame\n",
    "    df = pd.json_normalize(stats_json_)\n",
    "    \n",
    "    # Rename the columns by removing the \"statistics.b1.\" prefix\n",
    "    df.columns = [col.replace(\"statistics.b1.\", \"\") for col in df.columns]\n",
    "    \n",
    "    # Convert the datetime strings into proper datetime objects\n",
    "    df[\"date\"] = pd.to_datetime(df[\"datetime\"])\n",
    "    \n",
    "    # Return the cleaned DataFrame\n",
    "    return df"
   ]
  },
  {
   "cell_type": "code",
   "execution_count": 47,
   "metadata": {},
   "outputs": [
    {
     "name": "stdout",
     "output_type": "stream",
     "text": [
      "                    datetime                     min                     max  \\\n",
      "0  2022-12-01T00:00:00+00:00  0.00001122777549341266  0.00001494267636348653   \n",
      "1  2022-11-01T00:00:00+00:00 -0.00000004472995198421  0.00000670988043041747   \n",
      "2  2022-10-01T00:00:00+00:00 -0.00002071931413817827 -0.00000633587713203189   \n",
      "3  2022-09-01T00:00:00+00:00 -0.00004345345231725034 -0.00001950059117918673   \n",
      "4  2022-08-01T00:00:00+00:00 -0.00005030484985565905 -0.00002707246459207952   \n",
      "\n",
      "                     mean                  count                     sum  \\\n",
      "0  0.00001292005423503629 9.29999923706054687500  0.00012015649452861841   \n",
      "1  0.00000089416656499893 9.29999923706054687500  0.00000831574837229510   \n",
      "2 -0.00001711970057778435 9.29999923706054687500 -0.00015921320231209943   \n",
      "3 -0.00003356442695379815 9.29999923706054687500 -0.00031214914506269732   \n",
      "4 -0.00004167391418277010 9.29999923706054687500 -0.00038756737010508862   \n",
      "\n",
      "                     std                  median                majority  \\\n",
      "0 0.00000106473077444573  0.00001305159347424916  0.00001122777549341266   \n",
      "1 0.00000168101071281568  0.00000038064579268402 -0.00000004472995198421   \n",
      "2 0.00000370407983579781 -0.00001895345923968662 -0.00002071931413817827   \n",
      "3 0.00000608017200584274 -0.00003580623718079284 -0.00004345345231725034   \n",
      "4 0.00000623425747683991 -0.00004303018511691801 -0.00005030484985565905   \n",
      "\n",
      "                 minority                  unique  \\\n",
      "0  0.00001122777549341266 15.00000000000000000000   \n",
      "1 -0.00000004472995198421 15.00000000000000000000   \n",
      "2 -0.00002071931413817827 15.00000000000000000000   \n",
      "3 -0.00004345345231725034 15.00000000000000000000   \n",
      "4 -0.00005030484985565905 15.00000000000000000000   \n",
      "\n",
      "                                           histogram           valid_percent  \\\n",
      "0  [[2.0, 2.0, 0.0, 1.0, 1.0, 0.0, 4.0, 1.0, 1.0,... 19.23000000000000042633   \n",
      "1  [[9.0, 2.0, 2.0, 0.0, 0.0, 0.0, 1.0, 0.0, 0.0,... 19.23000000000000042633   \n",
      "2  [[6.0, 2.0, 2.0, 2.0, 0.0, 0.0, 2.0, 0.0, 0.0,... 19.23000000000000042633   \n",
      "3  [[2.0, 3.0, 2.0, 1.0, 1.0, 3.0, 1.0, 0.0, 1.0,... 19.23000000000000042633   \n",
      "4  [[3.0, 3.0, 1.0, 1.0, 2.0, 1.0, 2.0, 1.0, 0.0,... 19.23000000000000042633   \n",
      "\n",
      "            masked_pixels            valid_pixels            percentile_2  \\\n",
      "0 63.00000000000000000000 15.00000000000000000000  0.00001122777549341266   \n",
      "1 63.00000000000000000000 15.00000000000000000000 -0.00000004472995198421   \n",
      "2 63.00000000000000000000 15.00000000000000000000 -0.00002071931413817827   \n",
      "3 63.00000000000000000000 15.00000000000000000000 -0.00004187724961285602   \n",
      "4 63.00000000000000000000 15.00000000000000000000 -0.00004917726559922272   \n",
      "\n",
      "            percentile_98                      date  \n",
      "0  0.00001469963809077745 2022-12-01 00:00:00+00:00  \n",
      "1  0.00000670988043041747 2022-11-01 00:00:00+00:00  \n",
      "2 -0.00000633587713203189 2022-10-01 00:00:00+00:00  \n",
      "3 -0.00001950059117918673 2022-09-01 00:00:00+00:00  \n",
      "4 -0.00002707246459207952 2022-08-01 00:00:00+00:00  \n"
     ]
    }
   ],
   "source": [
    "# Step 4: Clean the stats data and convert it to a DataFrame\n",
    "df = clean_stats(stats)\n",
    "# Display the first 5 rows of the DataFrame to verify\n",
    "print(df.head(5))"
   ]
  },
  {
   "cell_type": "code",
   "execution_count": 48,
   "metadata": {},
   "outputs": [],
   "source": [
    "# Step 5: Sort the DataFrame by date to ensure correct time-series plotting\n",
    "df_sorted = df.sort_values(by=\"date\")"
   ]
  },
  {
   "cell_type": "code",
   "execution_count": 50,
   "metadata": {},
   "outputs": [
    {
     "name": "stdout",
     "output_type": "stream",
     "text": [
      "{'type': 'Feature', 'geometry': {'type': 'Polygon', 'coordinates': [[[88.0, 22.0], [89.9, 22.0], [89.9, 21.0], [88.0, 21.0], [88.0, 22.0]]]}, 'properties': {'statistics': {'b1': {'min': -4.7084098062910736e-05, 'max': -2.1849258294959816e-05, 'mean': -3.9583635939880864e-05, 'count': 7.0400004386901855, 'sum': -0.0002786688143817139, 'std': 5.672566341691385e-06, 'median': -3.696174785223297e-05, 'majority': -4.7084098062910736e-05, 'minority': -4.7084098062910736e-05, 'unique': 11.0, 'histogram': [[3.0, 1.0, 1.0, 0.0, 2.0, 2.0, 1.0, 0.0, 0.0, 1.0], [-4.7084098062910736e-05, -4.4560614086115644e-05, -4.203713010932055e-05, -3.951364613252546e-05, -3.699016215573037e-05, -3.4466678178935276e-05, -3.1943194202140184e-05, -2.9419710225345092e-05, -2.689622624855e-05, -2.4372742271754908e-05, -2.1849258294959816e-05]], 'valid_percent': 24.44, 'masked_pixels': 34.0, 'valid_pixels': 11.0, 'percentile_2': -4.7084098062910736e-05, 'percentile_98': -3.131638732284355e-05}}}}\n",
      "{'type': 'Feature', 'geometry': {'type': 'Polygon', 'coordinates': [[[88.0, 22.0], [89.9, 22.0], [89.9, 21.0], [88.0, 21.0], [88.0, 22.0]]]}, 'properties': {'statistics': {'b1': {'min': -4.7389682417604355e-05, 'max': -1.4576330443963151e-05, 'mean': -4.0179897979373575e-05, 'count': 7.0400004386901855, 'sum': -0.00028286649940131685, 'std': 5.190180697051557e-06, 'median': -4.02675080893556e-05, 'majority': -4.7389682417604355e-05, 'minority': -4.7389682417604355e-05, 'unique': 11.0, 'histogram': [[3.0, 1.0, 1.0, 4.0, 1.0, 0.0, 0.0, 0.0, 0.0, 1.0], [-4.7389682417604355e-05, -4.4108347220240236e-05, -4.082701202287612e-05, -3.7545676825512e-05, -3.426434162814787e-05, -3.098300643078375e-05, -2.7701671233419634e-05, -2.442033603605551e-05, -2.1139000838691393e-05, -1.7857665641327274e-05, -1.4576330443963151e-05]], 'valid_percent': 24.44, 'masked_pixels': 34.0, 'valid_pixels': 11.0, 'percentile_2': -4.7389682417604355e-05, 'percentile_98': -3.139838380938575e-05}}}}\n",
      "{'type': 'Feature', 'geometry': {'type': 'Polygon', 'coordinates': [[[88.0, 22.0], [89.9, 22.0], [89.9, 21.0], [88.0, 21.0], [88.0, 22.0]]]}, 'properties': {'statistics': {'b1': {'min': -6.592140717567417e-05, 'max': -1.8068109274674806e-05, 'mean': -5.781198189528834e-05, 'count': 7.0400004386901855, 'sum': -0.000406996377904379, 'std': 8.183186910547614e-06, 'median': -5.856711945612627e-05, 'majority': -6.592140717567417e-05, 'minority': -6.592140717567417e-05, 'unique': 11.0, 'histogram': [[4.0, 1.0, 1.0, 3.0, 0.0, 1.0, 0.0, 0.0, 0.0, 1.0], [-6.592140717567417e-05, -6.113607738557423e-05, -5.63507475954743e-05, -5.1565417805374355e-05, -4.678008801527442e-05, -4.1994758225174485e-05, -3.720942843507454e-05, -3.242409864497461e-05, -2.7638768854874673e-05, -2.2853439064774738e-05, -1.8068109274674806e-05]], 'valid_percent': 24.44, 'masked_pixels': 34.0, 'valid_pixels': 11.0, 'percentile_2': -6.592140717567417e-05, 'percentile_98': -4.176199493731264e-05}}}}\n",
      "{'type': 'Feature', 'geometry': {'type': 'Polygon', 'coordinates': [[[88.0, 22.0], [89.9, 22.0], [89.9, 21.0], [88.0, 21.0], [88.0, 22.0]]]}, 'properties': {'statistics': {'b1': {'min': -6.174531957578051e-05, 'max': -2.3300900379582937e-05, 'mean': -5.655252928408962e-05, 'count': 7.0400004386901855, 'sum': -0.0003981298309690305, 'std': 4.762672473824383e-06, 'median': -5.686636475634742e-05, 'majority': -6.174531957578051e-05, 'minority': -6.174531957578051e-05, 'unique': 11.0, 'histogram': [[4.0, 4.0, 2.0, 0.0, 0.0, 0.0, 0.0, 0.0, 0.0, 1.0], [-6.174531957578051e-05, -5.790087765616075e-05, -5.4056435736541e-05, -5.021199381692124e-05, -4.6367551897301485e-05, -4.2523109977681726e-05, -3.8678668058061966e-05, -3.483422613844221e-05, -3.098978421882245e-05, -2.7145342299202693e-05, -2.3300900379582937e-05]], 'valid_percent': 24.44, 'masked_pixels': 34.0, 'valid_pixels': 11.0, 'percentile_2': -6.174531957578051e-05, 'percentile_98': -5.083972112801149e-05}}}}\n",
      "{'type': 'Feature', 'geometry': {'type': 'Polygon', 'coordinates': [[[88.0, 22.0], [89.9, 22.0], [89.9, 21.0], [88.0, 21.0], [88.0, 22.0]]]}, 'properties': {'statistics': {'b1': {'min': -4.738381513867395e-05, 'max': -1.330429873302565e-05, 'mean': -4.383595102116477e-05, 'count': 7.0400004386901855, 'sum': -0.00030860511441940146, 'std': 4.512178064775011e-06, 'median': -4.515827188425177e-05, 'majority': -4.738381513867395e-05, 'minority': -4.738381513867395e-05, 'unique': 11.0, 'histogram': [[5.0, 3.0, 2.0, 0.0, 0.0, 0.0, 0.0, 0.0, 0.0, 1.0], [-4.738381513867395e-05, -4.397586349810912e-05, -4.056791185754429e-05, -3.715996021697946e-05, -3.375200857641463e-05, -3.03440569358498e-05, -2.693610529528497e-05, -2.3528153654720138e-05, -2.012020201415531e-05, -1.6712250373590477e-05, -1.330429873302565e-05]], 'valid_percent': 24.44, 'masked_pixels': 34.0, 'valid_pixels': 11.0, 'percentile_2': -4.738381513867395e-05, 'percentile_98': -3.7237106501064e-05}}}}\n",
      "{'type': 'Feature', 'geometry': {'type': 'Polygon', 'coordinates': [[[88.0, 22.0], [89.9, 22.0], [89.9, 21.0], [88.0, 21.0], [88.0, 22.0]]]}, 'properties': {'statistics': {'b1': {'min': -1.1904145115305597e-05, 'max': 1.0380785073518729e-05, 'mean': -3.118096368826019e-06, 'count': 7.0400004386901855, 'sum': -2.195139980441345e-05, 'std': 6.6310780666942915e-06, 'median': -7.352178439502523e-06, 'majority': -1.1904145115305597e-05, 'minority': -1.1904145115305597e-05, 'unique': 11.0, 'histogram': [[2.0, 2.0, 2.0, 1.0, 0.0, 0.0, 1.0, 0.0, 1.0, 2.0], [-1.1904145115305597e-05, -9.675652096423164e-06, -7.4471590775407316e-06, -5.218666058658299e-06, -2.990173039775866e-06, -7.616800208934332e-07, 1.4668129979889996e-06, 3.6953060168714324e-06, 5.923799035753865e-06, 8.152292054636298e-06, 1.0380785073518729e-05]], 'valid_percent': 24.44, 'masked_pixels': 34.0, 'valid_pixels': 11.0, 'percentile_2': -1.04641545144225e-05, 'percentile_98': 1.0380785073518729e-05}}}}\n",
      "{'type': 'Feature', 'geometry': {'type': 'Polygon', 'coordinates': [[[88.0, 22.0], [89.9, 22.0], [89.9, 21.0], [88.0, 21.0], [88.0, 22.0]]]}, 'properties': {'statistics': {'b1': {'min': -3.1560904501360344e-07, 'max': 1.2911033103761247e-05, 'mean': 3.480758670670723e-06, 'count': 7.0400004386901855, 'sum': 2.4504542568496558e-05, 'std': 2.716591145006038e-06, 'median': 3.4157946396827104e-06, 'majority': -3.1560904501360344e-07, 'minority': -3.1560904501360344e-07, 'unique': 11.0, 'histogram': [[3.0, 1.0, 3.0, 1.0, 0.0, 1.0, 1.0, 0.0, 0.0, 1.0], [-3.1560904501360344e-07, 1.0070551698638817e-06, 2.3297193847413668e-06, 3.6523835996188523e-06, 4.975047814496337e-06, 6.297712029373822e-06, 7.6203762442513085e-06, 8.943040459128793e-06, 1.0265704674006278e-05, 1.1588368888883763e-05, 1.2911033103761247e-05]], 'valid_percent': 24.44, 'masked_pixels': 34.0, 'valid_pixels': 11.0, 'percentile_2': -2.055448160383074e-07, 'percentile_98': 8.94152785874469e-06}}}}\n",
      "{'type': 'Feature', 'geometry': {'type': 'Polygon', 'coordinates': [[[88.0, 22.0], [89.9, 22.0], [89.9, 21.0], [88.0, 21.0], [88.0, 22.0]]]}, 'properties': {'statistics': {'b1': {'min': -1.9828893470624445e-05, 'max': -4.4388374488817927e-07, 'mean': -1.6763448090260455e-05, 'count': 7.0400004386901855, 'sum': -0.00011801468190939375, 'std': 2.2526940727056197e-06, 'median': -1.7463699854781124e-05, 'majority': -1.9828893470624445e-05, 'minority': -1.9828893470624445e-05, 'unique': 11.0, 'histogram': [[4.0, 4.0, 2.0, 0.0, 0.0, 0.0, 0.0, 0.0, 0.0, 1.0], [-1.9828893470624445e-05, -1.7890392498050818e-05, -1.595189152547719e-05, -1.4013390552903565e-05, -1.2074889580329938e-05, -1.0136388607756311e-05, -8.197887635182685e-06, -6.259386662609058e-06, -4.320885690035431e-06, -2.3823847174618047e-06, -4.4388374488817927e-07]], 'valid_percent': 24.44, 'masked_pixels': 34.0, 'valid_pixels': 11.0, 'percentile_2': -1.812567388774131e-05, 'percentile_98': -1.539598693795089e-05}}}}\n",
      "{'type': 'Feature', 'geometry': {'type': 'Polygon', 'coordinates': [[[88.0, 22.0], [89.9, 22.0], [89.9, 21.0], [88.0, 21.0], [88.0, 22.0]]]}, 'properties': {'statistics': {'b1': {'min': -3.423310353655627e-05, 'max': -1.5516003531369284e-05, 'mean': -2.9285073017350248e-05, 'count': 7.0400004386901855, 'sum': -0.00020616692688921987, 'std': 2.348491622344945e-06, 'median': -2.920043119691037e-05, 'majority': -3.423310353655627e-05, 'minority': -3.423310353655627e-05, 'unique': 11.0, 'histogram': [[2.0, 1.0, 4.0, 3.0, 0.0, 0.0, 0.0, 0.0, 0.0, 1.0], [-3.423310353655627e-05, -3.236139353603757e-05, -3.0489683535518872e-05, -2.8617973535000174e-05, -2.6746263534481477e-05, -2.487455353396278e-05, -2.3002843533444078e-05, -2.113113353292538e-05, -1.9259423532406683e-05, -1.738771353188798e-05, -1.5516003531369284e-05]], 'valid_percent': 24.44, 'masked_pixels': 34.0, 'valid_pixels': 11.0, 'percentile_2': -3.252204862580621e-05, 'percentile_98': -2.7126010535026794e-05}}}}\n",
      "{'type': 'Feature', 'geometry': {'type': 'Polygon', 'coordinates': [[[88.0, 22.0], [89.9, 22.0], [89.9, 21.0], [88.0, 21.0], [88.0, 22.0]]]}, 'properties': {'statistics': {'b1': {'min': -4.392206824108569e-05, 'max': -2.5859206334723576e-05, 'mean': -4.119570881114616e-05, 'count': 7.0400004386901855, 'sum': -0.0002900178081026221, 'std': 2.177548560747013e-06, 'median': -4.168353145400224e-05, 'majority': -4.392206824108569e-05, 'minority': -4.392206824108569e-05, 'unique': 11.0, 'histogram': [[5.0, 3.0, 1.0, 0.0, 1.0, 0.0, 0.0, 0.0, 0.0, 1.0], [-4.392206824108569e-05, -4.211578205044948e-05, -4.030949585981327e-05, -3.850320966917706e-05, -3.6696923478540846e-05, -3.489063728790463e-05, -3.308435109726842e-05, -3.1278064906632214e-05, -2.9471778715996e-05, -2.7665492525359788e-05, -2.5859206334723576e-05]], 'valid_percent': 24.44, 'masked_pixels': 34.0, 'valid_pixels': 11.0, 'percentile_2': -4.244596554963649e-05, 'percentile_98': -3.6025084936645365e-05}}}}\n",
      "{'type': 'Feature', 'geometry': {'type': 'Polygon', 'coordinates': [[[88.0, 22.0], [89.9, 22.0], [89.9, 21.0], [88.0, 21.0], [88.0, 22.0]]]}, 'properties': {'statistics': {'b1': {'min': -6.133194169488596e-05, 'max': -3.4178080053386375e-05, 'mean': -5.609939534841076e-05, 'count': 7.0400004386901855, 'sum': -0.0003949397678630659, 'std': 4.740510613846883e-06, 'median': -5.5424667070790956e-05, 'majority': -6.133194169488596e-05, 'minority': -6.133194169488596e-05, 'unique': 11.0, 'histogram': [[4.0, 0.0, 2.0, 3.0, 0.0, 1.0, 0.0, 0.0, 0.0, 1.0], [-6.133194169488596e-05, -5.8616555530736e-05, -5.590116936658604e-05, -5.318578320243608e-05, -5.047039703828612e-05, -4.7755010874136165e-05, -4.503962470998621e-05, -4.232423854583625e-05, -3.960885238168629e-05, -3.689346621753634e-05, -3.4178080053386375e-05]], 'valid_percent': 24.44, 'masked_pixels': 34.0, 'valid_pixels': 11.0, 'percentile_2': -6.133194169488596e-05, 'percentile_98': -4.7178432049172224e-05}}}}\n",
      "{'type': 'Feature', 'geometry': {'type': 'Polygon', 'coordinates': [[[88.0, 22.0], [89.9, 22.0], [89.9, 21.0], [88.0, 21.0], [88.0, 22.0]]]}, 'properties': {'statistics': {'b1': {'min': -0.00011027426117001413, 'max': -6.0504953399162503e-05, 'mean': -0.00010229125346714591, 'count': 7.0400004386901855, 'sum': -0.0007201304692828762, 'std': 7.402536670749046e-06, 'median': -0.00010268074356243042, 'majority': -0.00011027426117001413, 'minority': -0.00011027426117001413, 'unique': 11.0, 'histogram': [[5.0, 1.0, 3.0, 0.0, 1.0, 0.0, 0.0, 0.0, 0.0, 1.0], [-0.00011027426117001413, -0.00010529733039292896, -0.00010032039961584381, -9.534346883875864e-05, -9.036653806167349e-05, -8.538960728458832e-05, -8.041267650750315e-05, -7.543574573041798e-05, -7.045881495333283e-05, -6.548188417624767e-05, -6.0504953399162503e-05]], 'valid_percent': 24.44, 'masked_pixels': 34.0, 'valid_pixels': 11.0, 'percentile_2': -0.00011027426117001413, 'percentile_98': -8.68434322167094e-05}}}}\n",
      "{'type': 'Feature', 'geometry': {'type': 'Polygon', 'coordinates': [[[88.0, 22.0], [89.9, 22.0], [89.9, 21.0], [88.0, 21.0], [88.0, 22.0]]]}, 'properties': {'statistics': {'b1': {'min': -7.507875882982294e-05, 'max': -4.302943814907688e-05, 'mean': -7.064889770712808e-05, 'count': 7.0400004386901855, 'sum': -0.0004973682708511597, 'std': 3.962567567897749e-06, 'median': -7.191540557984127e-05, 'majority': -7.507875882982294e-05, 'minority': -7.507875882982294e-05, 'unique': 11.0, 'histogram': [[6.0, 2.0, 1.0, 1.0, 0.0, 0.0, 0.0, 0.0, 0.0, 1.0], [-7.507875882982294e-05, -7.187382676174833e-05, -6.866889469367372e-05, -6.546396262559913e-05, -6.225903055752452e-05, -5.905409848944991e-05, -5.5849166421375304e-05, -5.26442343533007e-05, -4.943930228522609e-05, -4.623437021715148e-05, -4.302943814907688e-05]], 'valid_percent': 24.44, 'masked_pixels': 34.0, 'valid_pixels': 11.0, 'percentile_2': -7.507875882982294e-05, 'percentile_98': -6.363237287238012e-05}}}}\n",
      "{'type': 'Feature', 'geometry': {'type': 'Polygon', 'coordinates': [[[88.0, 22.0], [89.9, 22.0], [89.9, 21.0], [88.0, 21.0], [88.0, 22.0]]]}, 'properties': {'statistics': {'b1': {'min': -4.735767323782343e-05, 'max': -2.4775617928220717e-05, 'mean': -4.026751135228913e-05, 'count': 7.0400004386901855, 'sum': -0.0002834832975850775, 'std': 2.629437931142489e-06, 'median': -3.9687218435970946e-05, 'majority': -4.735767323782343e-05, 'minority': -4.735767323782343e-05, 'unique': 11.0, 'histogram': [[1.0, 2.0, 1.0, 6.0, 0.0, 0.0, 0.0, 0.0, 0.0, 1.0], [-4.735767323782343e-05, -4.509946770686316e-05, -4.284126217590289e-05, -4.0583056644942617e-05, -3.8324851113982346e-05, -3.6066645583022076e-05, -3.38084400520618e-05, -3.155023452110153e-05, -2.9292028990141258e-05, -2.7033823459180987e-05, -2.4775617928220717e-05]], 'valid_percent': 24.44, 'masked_pixels': 34.0, 'valid_pixels': 11.0, 'percentile_2': -4.364084753364676e-05, 'percentile_98': -3.843387613482124e-05}}}}\n",
      "{'type': 'Feature', 'geometry': {'type': 'Polygon', 'coordinates': [[[88.0, 22.0], [89.9, 22.0], [89.9, 21.0], [88.0, 21.0], [88.0, 22.0]]]}, 'properties': {'statistics': {'b1': {'min': -4.191967513198095e-05, 'max': -1.5558971501169366e-05, 'mean': -3.725244774818515e-05, 'count': 7.0400004386901855, 'sum': -0.00026225724848950665, 'std': 4.082919146986846e-06, 'median': -3.708127598907541e-05, 'majority': -4.191967513198095e-05, 'minority': -4.191967513198095e-05, 'unique': 11.0, 'histogram': [[4.0, 1.0, 4.0, 0.0, 1.0, 0.0, 0.0, 0.0, 0.0, 1.0], [-4.191967513198095e-05, -3.928360476889979e-05, -3.664753440581863e-05, -3.4011464042737474e-05, -3.1375393679656315e-05, -2.8739323316575156e-05, -2.6103252953494e-05, -2.3467182590412842e-05, -2.0831112227331684e-05, -1.8195041864250525e-05, -1.5558971501169366e-05]], 'valid_percent': 24.44, 'masked_pixels': 34.0, 'valid_pixels': 11.0, 'percentile_2': -4.191967513198095e-05, 'percentile_98': -2.879741046521503e-05}}}}\n",
      "{'type': 'Feature', 'geometry': {'type': 'Polygon', 'coordinates': [[[88.0, 22.0], [89.9, 22.0], [89.9, 21.0], [88.0, 21.0], [88.0, 22.0]]]}, 'properties': {'statistics': {'b1': {'min': -7.135992315762586e-05, 'max': -2.464888685524601e-05, 'mean': -6.350017575629122e-05, 'count': 7.0400004386901855, 'sum': -0.0004470412651811941, 'std': 6.410590899451871e-06, 'median': -6.332880508295224e-05, 'majority': -7.135992315762586e-05, 'minority': -7.135992315762586e-05, 'unique': 11.0, 'histogram': [[3.0, 2.0, 4.0, 0.0, 1.0, 0.0, 0.0, 0.0, 0.0, 1.0], [-7.135992315762586e-05, -6.668881952738787e-05, -6.201771589714988e-05, -5.73466122669119e-05, -5.267550863667392e-05, -4.800440500643593e-05, -4.333330137619795e-05, -3.8662197745959964e-05, -3.399109411572198e-05, -2.931999048548399e-05, -2.464888685524601e-05]], 'valid_percent': 24.44, 'masked_pixels': 34.0, 'valid_pixels': 11.0, 'percentile_2': -7.135992315762586e-05, 'percentile_98': -5.183611942726759e-05}}}}\n",
      "{'type': 'Feature', 'geometry': {'type': 'Polygon', 'coordinates': [[[88.0, 22.0], [89.9, 22.0], [89.9, 21.0], [88.0, 21.0], [88.0, 22.0]]]}, 'properties': {'statistics': {'b1': {'min': -6.597866356158712e-05, 'max': -2.406664301540078e-05, 'mean': -6.049723346085417e-05, 'count': 7.0400004386901855, 'sum': -0.00042590055010395593, 'std': 5.7803289040764085e-06, 'median': -6.158097054533905e-05, 'majority': -6.597866356158712e-05, 'minority': -6.597866356158712e-05, 'unique': 11.0, 'histogram': [[3.0, 4.0, 2.0, 1.0, 0.0, 0.0, 0.0, 0.0, 0.0, 1.0], [-6.597866356158712e-05, -6.178746150696849e-05, -5.759625945234985e-05, -5.3405057397731216e-05, -4.9213855343112586e-05, -4.502265328849395e-05, -4.0831451233875314e-05, -3.6640249179256684e-05, -3.244904712463805e-05, -2.825784507001941e-05, -2.406664301540078e-05]], 'valid_percent': 24.44, 'masked_pixels': 34.0, 'valid_pixels': 11.0, 'percentile_2': -6.597866356158712e-05, 'percentile_98': -5.062534080343992e-05}}}}\n",
      "{'type': 'Feature', 'geometry': {'type': 'Polygon', 'coordinates': [[[88.0, 22.0], [89.9, 22.0], [89.9, 21.0], [88.0, 21.0], [88.0, 22.0]]]}, 'properties': {'statistics': {'b1': {'min': -6.227490238066645e-05, 'max': -2.3090327344198376e-05, 'mean': -5.8895460560099746e-05, 'count': 7.0400004386901855, 'sum': -0.00041462406817996275, 'std': 5.0507436066053175e-06, 'median': -6.0320047887082996e-05, 'majority': -6.227490238066645e-05, 'minority': -6.227490238066645e-05, 'unique': 11.0, 'histogram': [[6.0, 2.0, 2.0, 0.0, 0.0, 0.0, 0.0, 0.0, 0.0, 1.0], [-6.227490238066645e-05, -5.8356444877019644e-05, -5.4437987373372835e-05, -5.051952986972603e-05, -4.6601072366079224e-05, -4.2682614862432415e-05, -3.876415735878561e-05, -3.48456998551388e-05, -3.0927242351491994e-05, -2.7008784847845185e-05, -2.3090327344198376e-05]], 'valid_percent': 24.44, 'masked_pixels': 34.0, 'valid_pixels': 11.0, 'percentile_2': -6.227490238066645e-05, 'percentile_98': -5.140423355283064e-05}}}}\n",
      "{'type': 'Feature', 'geometry': {'type': 'Polygon', 'coordinates': [[[88.0, 22.0], [89.9, 22.0], [89.9, 21.0], [88.0, 21.0], [88.0, 22.0]]]}, 'properties': {'statistics': {'b1': {'min': -3.2936377881230814e-05, 'max': -1.3007391309185819e-05, 'mean': -2.6980863243163755e-05, 'count': 7.0400004386901855, 'sum': -0.00018994528906811275, 'std': 3.8348488415524575e-06, 'median': -2.8208499199358166e-05, 'majority': -3.2936377881230814e-05, 'minority': -3.2936377881230814e-05, 'unique': 11.0, 'histogram': [[2.0, 1.0, 5.0, 0.0, 0.0, 1.0, 0.0, 1.0, 0.0, 1.0], [-3.2936377881230814e-05, -3.094347922402631e-05, -2.8950580566821816e-05, -2.6957681909617314e-05, -2.4964783252412815e-05, -2.2971884595208316e-05, -2.0978985938003814e-05, -1.8986087280799315e-05, -1.6993188623594816e-05, -1.5000289966390317e-05, -1.3007391309185819e-05]], 'valid_percent': 24.44, 'masked_pixels': 34.0, 'valid_pixels': 11.0, 'percentile_2': -3.128243904326717e-05, 'percentile_98': -1.809333055627388e-05}}}}\n",
      "{'type': 'Feature', 'geometry': {'type': 'Polygon', 'coordinates': [[[88.0, 22.0], [89.9, 22.0], [89.9, 21.0], [88.0, 21.0], [88.0, 22.0]]]}, 'properties': {'statistics': {'b1': {'min': -8.482916015137802e-07, 'max': 1.1787864284174212e-05, 'mean': 4.987764044002434e-06, 'count': 7.0400004386901855, 'sum': 3.511386105786027e-05, 'std': 2.7727376063996826e-06, 'median': 5.083772562669052e-06, 'majority': -8.482916015137802e-07, 'minority': -8.482916015137802e-07, 'unique': 11.0, 'histogram': [[1.0, 2.0, 1.0, 0.0, 2.0, 1.0, 1.0, 2.0, 0.0, 1.0], [-8.482916015137802e-07, 4.1532398705501897e-07, 1.6789395756238182e-06, 2.942555164192618e-06, 4.206170752761417e-06, 5.469786341330216e-06, 6.733401929899016e-06, 7.997017518467815e-06, 9.260633107036614e-06, 1.0524248695605413e-05, 1.1787864284174212e-05]], 'valid_percent': 24.44, 'masked_pixels': 34.0, 'valid_pixels': 11.0, 'percentile_2': 8.005202520322398e-07, 'percentile_98': 9.252944531609952e-06}}}}\n",
      "{'type': 'Feature', 'geometry': {'type': 'Polygon', 'coordinates': [[[88.0, 22.0], [89.9, 22.0], [89.9, 21.0], [88.0, 21.0], [88.0, 22.0]]]}, 'properties': {'statistics': {'b1': {'min': -1.172628851056642e-05, 'max': 2.2008391312369523e-06, 'mean': -9.041941876006505e-06, 'count': 7.0400004386901855, 'sum': -6.365527477369696e-05, 'std': 2.060472779285827e-06, 'median': -8.501895527908694e-06, 'majority': -1.172628851056642e-05, 'minority': -1.172628851056642e-05, 'unique': 11.0, 'histogram': [[4.0, 1.0, 4.0, 1.0, 0.0, 0.0, 0.0, 0.0, 0.0, 1.0], [-1.172628851056642e-05, -1.0333575746386082e-05, -8.940862982205745e-06, -7.548150218025408e-06, -6.155437453845071e-06, -4.762724689664734e-06, -3.370011925484397e-06, -1.9772991613040598e-06, -5.845863971237227e-07, 8.081263670566144e-07, 2.2008391312369523e-06]], 'valid_percent': 24.44, 'masked_pixels': 34.0, 'valid_pixels': 11.0, 'percentile_2': -1.172628851056642e-05, 'percentile_98': -6.91242682849213e-06}}}}\n",
      "{'type': 'Feature', 'geometry': {'type': 'Polygon', 'coordinates': [[[88.0, 22.0], [89.9, 22.0], [89.9, 21.0], [88.0, 21.0], [88.0, 22.0]]]}, 'properties': {'statistics': {'b1': {'min': -3.3280236591186346e-05, 'max': -1.4464461824936313e-05, 'mean': -3.130440901478372e-05, 'count': 7.0400004386901855, 'sum': -0.0002203830531970144, 'std': 2.4464132225733323e-06, 'median': -3.136931252520729e-05, 'majority': -3.3280236591186346e-05, 'minority': -3.3280236591186346e-05, 'unique': 11.0, 'histogram': [[4.0, 5.0, 0.0, 1.0, 0.0, 0.0, 0.0, 0.0, 0.0, 1.0], [-3.3280236591186346e-05, -3.1398659114561344e-05, -2.951708163793634e-05, -2.7635504161311337e-05, -2.5753926684686332e-05, -2.387234920806133e-05, -2.199077173143633e-05, -2.0109194254811326e-05, -1.822761677818632e-05, -1.634603930156132e-05, -1.4464461824936313e-05]], 'valid_percent': 24.44, 'masked_pixels': 34.0, 'valid_pixels': 11.0, 'percentile_2': -3.3280236591186346e-05, 'percentile_98': -2.6738866118654574e-05}}}}\n",
      "{'type': 'Feature', 'geometry': {'type': 'Polygon', 'coordinates': [[[88.0, 22.0], [89.9, 22.0], [89.9, 21.0], [88.0, 21.0], [88.0, 22.0]]]}, 'properties': {'statistics': {'b1': {'min': -4.343859977418263e-05, 'max': -2.7072149609167205e-05, 'mean': -3.700358684518133e-05, 'count': 7.0400004386901855, 'sum': -0.0002605052676231869, 'std': 2.1959534802264573e-06, 'median': -3.673262106637641e-05, 'majority': -4.343859977418263e-05, 'minority': -4.343859977418263e-05, 'unique': 11.0, 'histogram': [[1.0, 1.0, 0.0, 2.0, 5.0, 1.0, 0.0, 0.0, 0.0, 1.0], [-4.343859977418263e-05, -4.1801954757681086e-05, -4.016530974117954e-05, -3.8528664724678005e-05, -3.689201970817646e-05, -3.525537469167492e-05, -3.3618729675173374e-05, -3.198208465867183e-05, -3.034543964217029e-05, -2.870879462566875e-05, -2.7072149609167205e-05]], 'valid_percent': 24.44, 'masked_pixels': 34.0, 'valid_pixels': 11.0, 'percentile_2': -4.098480941987611e-05, 'percentile_98': -3.4397057243941076e-05}}}}\n",
      "{'type': 'Feature', 'geometry': {'type': 'Polygon', 'coordinates': [[[88.0, 22.0], [89.9, 22.0], [89.9, 21.0], [88.0, 21.0], [88.0, 22.0]]]}, 'properties': {'statistics': {'b1': {'min': -3.9757937816075596e-05, 'max': -2.1779409745361382e-05, 'mean': -3.29454066549276e-05, 'count': 7.0400004386901855, 'sum': -0.00023193567730351683, 'std': 3.6072794840877724e-06, 'median': -3.1408346882821215e-05, 'majority': -3.9757937816075596e-05, 'minority': -3.9757937816075596e-05, 'unique': 11.0, 'histogram': [[1.0, 1.0, 1.0, 2.0, 2.0, 2.0, 1.0, 0.0, 0.0, 1.0], [-3.9757937816075596e-05, -3.796008500900417e-05, -3.6162232201932755e-05, -3.436437939486133e-05, -3.256652658778991e-05, -3.076867378071849e-05, -2.8970820973647068e-05, -2.7172968166575647e-05, -2.5375115359504223e-05, -2.3577262552432803e-05, -2.1779409745361382e-05]], 'valid_percent': 24.44, 'masked_pixels': 34.0, 'valid_pixels': 11.0, 'percentile_2': -3.9757937816075596e-05, 'percentile_98': -2.8183263766029527e-05}}}}\n",
      "{'type': 'Feature', 'geometry': {'type': 'Polygon', 'coordinates': [[[88.0, 22.0], [89.9, 22.0], [89.9, 21.0], [88.0, 21.0], [88.0, 22.0]]]}, 'properties': {'statistics': {'b1': {'min': -4.9558413466652154e-05, 'max': -2.962792629408769e-05, 'mean': -4.119536432259795e-05, 'count': 7.0400004386901855, 'sum': -0.0002900153829030916, 'std': 2.657378258491628e-06, 'median': -4.150996715522081e-05, 'majority': -4.9558413466652154e-05, 'minority': -4.9558413466652154e-05, 'unique': 11.0, 'histogram': [[1.0, 1.0, 0.0, 2.0, 3.0, 2.0, 1.0, 0.0, 0.0, 1.0], [-4.9558413466652154e-05, -4.756536474939571e-05, -4.5572316032139264e-05, -4.357926731488282e-05, -4.158621859762637e-05, -3.959316988036992e-05, -3.760012116311348e-05, -3.560707244585703e-05, -3.361402372860058e-05, -3.1620975011344135e-05, -2.962792629408769e-05]], 'valid_percent': 24.44, 'masked_pixels': 34.0, 'valid_pixels': 11.0, 'percentile_2': -4.5579738721404e-05, 'percentile_98': -3.692126178093647e-05}}}}\n",
      "{'type': 'Feature', 'geometry': {'type': 'Polygon', 'coordinates': [[[88.0, 22.0], [89.9, 22.0], [89.9, 21.0], [88.0, 21.0], [88.0, 22.0]]]}, 'properties': {'statistics': {'b1': {'min': -4.833875887270982e-05, 'max': -2.4554682589051277e-05, 'mean': -3.953005991826165e-05, 'count': 7.0400004386901855, 'sum': -0.00027829163916601136, 'std': 5.025657462128968e-06, 'median': -3.7075937502815213e-05, 'majority': -4.833875887270982e-05, 'minority': -4.833875887270982e-05, 'unique': 11.0, 'histogram': [[2.0, 1.0, 1.0, 1.0, 2.0, 3.0, 0.0, 0.0, 0.0, 1.0], [-4.833875887270982e-05, -4.596035124434397e-05, -4.358194361597811e-05, -4.1203535987612256e-05, -3.8825128359246404e-05, -3.6446720730880545e-05, -3.406831310251469e-05, -3.168990547414884e-05, -2.9311497845782985e-05, -2.693309021741713e-05, -2.4554682589051277e-05]], 'valid_percent': 24.44, 'masked_pixels': 34.0, 'valid_pixels': 11.0, 'percentile_2': -4.833875887270982e-05, 'percentile_98': -3.4409764443057095e-05}}}}\n",
      "{'type': 'Feature', 'geometry': {'type': 'Polygon', 'coordinates': [[[88.0, 22.0], [89.9, 22.0], [89.9, 21.0], [88.0, 21.0], [88.0, 22.0]]]}, 'properties': {'statistics': {'b1': {'min': -4.344934444461543e-05, 'max': -1.7362664550515332e-05, 'mean': -3.802734401456741e-05, 'count': 7.0400004386901855, 'sum': -0.0002677125185447772, 'std': 3.336243321315751e-06, 'median': -3.769026079843003e-05, 'majority': -4.344934444461543e-05, 'minority': -4.344934444461543e-05, 'unique': 11.0, 'histogram': [[2.0, 3.0, 4.0, 1.0, 0.0, 0.0, 0.0, 0.0, 0.0, 1.0], [-4.344934444461543e-05, -4.0840676455205424e-05, -3.823200846579541e-05, -3.56233404763854e-05, -3.3014672486975394e-05, -3.0406004497565382e-05, -2.779733650815537e-05, -2.5188668518745363e-05, -2.2580000529335352e-05, -1.997133253992534e-05, -1.7362664550515332e-05]], 'valid_percent': 24.44, 'masked_pixels': 34.0, 'valid_pixels': 11.0, 'percentile_2': -4.344934444461543e-05, 'percentile_98': -3.516550617369544e-05}}}}\n",
      "{'type': 'Feature', 'geometry': {'type': 'Polygon', 'coordinates': [[[88.0, 22.0], [89.9, 22.0], [89.9, 21.0], [88.0, 21.0], [88.0, 22.0]]]}, 'properties': {'statistics': {'b1': {'min': -6.04248334355183e-05, 'max': -1.7412075101242955e-05, 'mean': -5.2059101007221675e-05, 'count': 7.0400004386901855, 'sum': -0.0003664960939286573, 'std': 7.735024722185102e-06, 'median': -5.167662731595444e-05, 'majority': -6.04248334355183e-05, 'minority': -6.04248334355183e-05, 'unique': 11.0, 'histogram': [[4.0, 0.0, 1.0, 4.0, 1.0, 0.0, 0.0, 0.0, 0.0, 1.0], [-6.04248334355183e-05, -5.6123557602090766e-05, -5.182228176866323e-05, -4.7521005935235696e-05, -4.321973010180816e-05, -3.8918454268380625e-05, -3.4617178434953097e-05, -3.031590260152556e-05, -2.6014626768098026e-05, -2.171335093467049e-05, -1.7412075101242955e-05]], 'valid_percent': 24.44, 'masked_pixels': 34.0, 'valid_pixels': 11.0, 'percentile_2': -6.04248334355183e-05, 'percentile_98': -3.940828593350488e-05}}}}\n",
      "{'type': 'Feature', 'geometry': {'type': 'Polygon', 'coordinates': [[[88.0, 22.0], [89.9, 22.0], [89.9, 21.0], [88.0, 21.0], [88.0, 22.0]]]}, 'properties': {'statistics': {'b1': {'min': -8.415587247073468e-05, 'max': -3.967266779750176e-05, 'mean': -7.969525036047035e-05, 'count': 7.0400004386901855, 'sum': -0.0005610545974992355, 'std': 5.191895253227265e-06, 'median': -8.076987617103835e-05, 'majority': -8.415587247073468e-05, 'minority': -8.415587247073468e-05, 'unique': 11.0, 'histogram': [[5.0, 5.0, 0.0, 0.0, 0.0, 0.0, 0.0, 0.0, 0.0, 1.0], [-8.415587247073468e-05, -7.970755200341139e-05, -7.525923153608809e-05, -7.08109110687648e-05, -6.636259060144152e-05, -6.191427013411822e-05, -5.746594966679493e-05, -5.3017629199471636e-05, -4.856930873214834e-05, -4.412098826482505e-05, -3.967266779750176e-05]], 'valid_percent': 24.44, 'masked_pixels': 34.0, 'valid_pixels': 11.0, 'percentile_2': -8.248192305896853e-05, 'percentile_98': -7.656311282290174e-05}}}}\n",
      "{'type': 'Feature', 'geometry': {'type': 'Polygon', 'coordinates': [[[88.0, 22.0], [89.9, 22.0], [89.9, 21.0], [88.0, 21.0], [88.0, 22.0]]]}, 'properties': {'statistics': {'b1': {'min': -5.993201247345336e-05, 'max': -1.546035368588984e-05, 'mean': -5.323770949335498e-05, 'count': 7.0400004386901855, 'sum': -0.0003747934981880797, 'std': 6.340923243225377e-06, 'median': -5.304136624010499e-05, 'majority': -5.993201247345336e-05, 'minority': -5.993201247345336e-05, 'unique': 11.0, 'histogram': [[3.0, 4.0, 1.0, 2.0, 0.0, 0.0, 0.0, 0.0, 0.0, 1.0], [-5.993201247345336e-05, -5.548484659469701e-05, -5.103768071594066e-05, -4.6590514837184304e-05, -4.2143348958427956e-05, -3.76961830796716e-05, -3.3249017200915246e-05, -2.8801851322158897e-05, -2.4354685443402542e-05, -1.9907519564646187e-05, -1.546035368588984e-05]], 'valid_percent': 24.44, 'masked_pixels': 34.0, 'valid_pixels': 11.0, 'percentile_2': -5.993201247345336e-05, 'percentile_98': -4.222857987949889e-05}}}}\n",
      "{'type': 'Feature', 'geometry': {'type': 'Polygon', 'coordinates': [[[88.0, 22.0], [89.9, 22.0], [89.9, 21.0], [88.0, 21.0], [88.0, 22.0]]]}, 'properties': {'statistics': {'b1': {'min': -3.298500695651636e-05, 'max': -6.785234275996733e-06, 'mean': -2.874159812823448e-05, 'count': 7.0400004386901855, 'sum': -0.00020234086343142775, 'std': 4.659425322263084e-06, 'median': -3.1056323335099006e-05, 'majority': -3.298500695651636e-05, 'minority': -3.298500695651636e-05, 'unique': 11.0, 'histogram': [[4.0, 2.0, 0.0, 2.0, 2.0, 0.0, 0.0, 0.0, 0.0, 1.0], [-3.298500695651636e-05, -3.0365029688464396e-05, -2.7745052420412435e-05, -2.512507515236047e-05, -2.250509788430851e-05, -1.9885120616256546e-05, -1.726514334820458e-05, -1.464516608015262e-05, -1.2025188812100656e-05, -9.405211544048692e-06, -6.785234275996733e-06]], 'valid_percent': 24.44, 'masked_pixels': 34.0, 'valid_pixels': 11.0, 'percentile_2': -3.298500695651636e-05, 'percentile_98': -2.0473694390709106e-05}}}}\n",
      "{'type': 'Feature', 'geometry': {'type': 'Polygon', 'coordinates': [[[88.0, 22.0], [89.9, 22.0], [89.9, 21.0], [88.0, 21.0], [88.0, 22.0]]]}, 'properties': {'statistics': {'b1': {'min': -1.509814688216914e-05, 'max': 7.186324475331835e-06, 'mean': -1.2573232284170027e-05, 'count': 7.0400004386901855, 'sum': -8.85155607963106e-05, 'std': 2.903275296834873e-06, 'median': -1.3502492551494209e-05, 'majority': -1.509814688216914e-05, 'minority': -1.509814688216914e-05, 'unique': 11.0, 'histogram': [[4.0, 4.0, 1.0, 1.0, 0.0, 0.0, 0.0, 0.0, 0.0, 1.0], [-1.509814688216914e-05, -1.2869699746419044e-05, -1.0641252610668945e-05, -8.412805474918846e-06, -6.1843583391687495e-06, -3.955911203418653e-06, -1.727464067668554e-06, 5.009830680815446e-07, 2.7294302038316416e-06, 4.9578773395817385e-06, 7.186324475331835e-06]], 'valid_percent': 24.44, 'masked_pixels': 34.0, 'valid_pixels': 11.0, 'percentile_2': -1.509814688216914e-05, 'percentile_98': -8.062183582062085e-06}}}}\n",
      "{'type': 'Feature', 'geometry': {'type': 'Polygon', 'coordinates': [[[88.0, 22.0], [89.9, 22.0], [89.9, 21.0], [88.0, 21.0], [88.0, 22.0]]]}, 'properties': {'statistics': {'b1': {'min': -1.1559257006832847e-05, 'max': -8.774108649158558e-07, 'mean': -6.6510704242105665e-06, 'count': 7.0400004386901855, 'sum': -4.6823538704201705e-05, 'std': 1.2293376834529304e-06, 'median': -6.42685307454961e-06, 'majority': -1.1559257006832847e-05, 'minority': -1.1559257006832847e-05, 'unique': 11.0, 'histogram': [[1.0, 0.0, 1.0, 2.0, 2.0, 4.0, 0.0, 0.0, 0.0, 1.0], [-1.1559257006832847e-05, -1.0491072392641149e-05, -9.422887778449449e-06, -8.35470316425775e-06, -7.286518550066051e-06, -6.218333935874352e-06, -5.150149321682653e-06, -4.081964707490954e-06, -3.0137800932992546e-06, -1.945595479107556e-06, -8.774108649158558e-07]], 'valid_percent': 24.44, 'masked_pixels': 34.0, 'valid_pixels': 11.0, 'percentile_2': -9.208070268763705e-06, 'percentile_98': -5.811053289124509e-06}}}}\n",
      "{'type': 'Feature', 'geometry': {'type': 'Polygon', 'coordinates': [[[88.0, 22.0], [89.9, 22.0], [89.9, 21.0], [88.0, 21.0], [88.0, 22.0]]]}, 'properties': {'statistics': {'b1': {'min': -1.957263367183076e-05, 'max': -1.0928437639977718e-05, 'mean': -1.8145983019131532e-05, 'count': 7.0400004386901855, 'sum': -0.00012774772841515065, 'std': 1.1899253138103186e-06, 'median': -1.773877881305651e-05, 'majority': -1.957263367183076e-05, 'minority': -1.957263367183076e-05, 'unique': 11.0, 'histogram': [[4.0, 2.0, 4.0, 0.0, 0.0, 0.0, 0.0, 0.0, 0.0, 1.0], [-1.957263367183076e-05, -1.8708214068645454e-05, -1.784379446546015e-05, -1.6979374862274845e-05, -1.611495525908954e-05, -1.5250535655904238e-05, -1.4386116052718934e-05, -1.3521696449533631e-05, -1.2657276846348327e-05, -1.1792857243163023e-05, -1.0928437639977718e-05]], 'valid_percent': 24.44, 'masked_pixels': 34.0, 'valid_pixels': 11.0, 'percentile_2': -1.957263367183076e-05, 'percentile_98': -1.717160223536135e-05}}}}\n",
      "{'type': 'Feature', 'geometry': {'type': 'Polygon', 'coordinates': [[[88.0, 22.0], [89.9, 22.0], [89.9, 21.0], [88.0, 21.0], [88.0, 22.0]]]}, 'properties': {'statistics': {'b1': {'min': -3.656477704425788e-05, 'max': -2.29298030032696e-05, 'mean': -3.2629289381707184e-05, 'count': 7.0400004386901855, 'sum': -0.00022971021156136757, 'std': 1.6110707328843257e-06, 'median': -3.2789463064780145e-05, 'majority': -3.656477704425788e-05, 'minority': -3.656477704425788e-05, 'unique': 11.0, 'histogram': [[1.0, 1.0, 4.0, 3.0, 1.0, 0.0, 0.0, 0.0, 0.0, 1.0], [-3.656477704425788e-05, -3.5201279640159055e-05, -3.383778223606022e-05, -3.2474284831961397e-05, -3.111078742786257e-05, -2.974729002376374e-05, -2.8383792619664912e-05, -2.7020295215566086e-05, -2.5656797811467257e-05, -2.4293300407368427e-05, -2.29298030032696e-05]], 'valid_percent': 24.44, 'masked_pixels': 34.0, 'valid_pixels': 11.0, 'percentile_2': -3.45375103684763e-05, 'percentile_98': -3.088734022265862e-05}}}}\n",
      "{'type': 'Feature', 'geometry': {'type': 'Polygon', 'coordinates': [[[88.0, 22.0], [89.9, 22.0], [89.9, 21.0], [88.0, 21.0], [88.0, 22.0]]]}, 'properties': {'statistics': {'b1': {'min': -4.784583328262974e-05, 'max': -2.7081722817226616e-05, 'mean': -4.109628997659632e-05, 'count': 7.0400004386901855, 'sum': -0.00028931789946377715, 'std': 2.361021734942462e-06, 'median': -4.147527408269845e-05, 'majority': -4.784583328262974e-05, 'minority': -4.784583328262974e-05, 'unique': 11.0, 'histogram': [[1.0, 1.0, 2.0, 4.0, 2.0, 0.0, 0.0, 0.0, 0.0, 1.0], [-4.784583328262974e-05, -4.576942223608943e-05, -4.3693011189549114e-05, -4.1616600143008805e-05, -3.954018909646849e-05, -3.746377804992818e-05, -3.538736700338786e-05, -3.3310955956847554e-05, -3.1234544910307244e-05, -2.9158133863766928e-05, -2.7081722817226616e-05]], 'valid_percent': 24.44, 'masked_pixels': 34.0, 'valid_pixels': 11.0, 'percentile_2': -4.409942311409428e-05, 'percentile_98': -3.7957410160254464e-05}}}}\n"
     ]
    }
   ],
   "source": [
    "# Step 1: Apply the zonal statistics function to each granule for Sundarbans\n",
    "sundarbans_stats = {}\n",
    "for item in items:\n",
    "    date = item[\"properties\"][\"start_datetime\"]  # Get the associated date\n",
    "    year_month = date[:7].replace('-', '')  # Convert datetime to year-month (e.g., '202212')\n",
    "    \n",
    "    # Compute the statistics for the granule within the Sundarbans AOI\n",
    "    sundarbans_stats[year_month] = generate_stats(item, sundarbans_aoi)\n"
   ]
  },
  {
   "cell_type": "code",
   "execution_count": 51,
   "metadata": {},
   "outputs": [],
   "source": [
    "# Step 2: Clean and structure the stats for Sundarbans into a DataFrame\n",
    "sundarbans_df = clean_stats(sundarbans_stats)\n",
    "\n",
    "# Sort the DataFrame by date to ensure correct time-series plotting\n",
    "sundarbans_df_sorted = sundarbans_df.sort_values(by=\"date\")\n"
   ]
  },
  {
   "cell_type": "code",
   "execution_count": 56,
   "metadata": {},
   "outputs": [],
   "source": [
    "# Step 3: Merge or Concatenate both DataFrames for comparison\n",
    "combined_df = pd.merge(\n",
    "    kenya_df_sorted[['date', 'max']].rename(columns={\"max\": \"kenya_max\"}),  # Rename \"max\" for clarity\n",
    "    sundarbans_df_sorted[['date', 'max']].rename(columns={\"max\": \"sundarbans_max\"}),  # Rename \"max\" for Sundarbans\n",
    "    on=\"date\", how=\"outer\"  # Merge on the \"date\" column\n",
    ")\n"
   ]
  },
  {
   "cell_type": "code",
   "execution_count": 57,
   "metadata": {},
   "outputs": [
    {
     "data": {
      "application/vnd.plotly.v1+json": {
       "config": {
        "plotlyServerURL": "https://plot.ly"
       },
       "data": [
        {
         "hovertemplate": "variable=kenya_max<br>Years=%{x}<br>CO2 Emissions (mmol m²/s)=%{y}<extra></extra>",
         "legendgroup": "kenya_max",
         "line": {
          "color": "#636efa",
          "dash": "solid"
         },
         "marker": {
          "symbol": "circle"
         },
         "mode": "lines",
         "name": "kenya_max",
         "orientation": "v",
         "showlegend": true,
         "type": "scatter",
         "x": [
          "2020-01-01T00:00:00+00:00",
          "2020-02-01T00:00:00+00:00",
          "2020-03-01T00:00:00+00:00",
          "2020-04-01T00:00:00+00:00",
          "2020-05-01T00:00:00+00:00",
          "2020-06-01T00:00:00+00:00",
          "2020-07-01T00:00:00+00:00",
          "2020-08-01T00:00:00+00:00",
          "2020-09-01T00:00:00+00:00",
          "2020-10-01T00:00:00+00:00",
          "2020-11-01T00:00:00+00:00",
          "2020-12-01T00:00:00+00:00",
          "2021-01-01T00:00:00+00:00",
          "2021-02-01T00:00:00+00:00",
          "2021-03-01T00:00:00+00:00",
          "2021-04-01T00:00:00+00:00",
          "2021-05-01T00:00:00+00:00",
          "2021-06-01T00:00:00+00:00",
          "2021-07-01T00:00:00+00:00",
          "2021-08-01T00:00:00+00:00",
          "2021-09-01T00:00:00+00:00",
          "2021-10-01T00:00:00+00:00",
          "2021-11-01T00:00:00+00:00",
          "2021-12-01T00:00:00+00:00",
          "2022-01-01T00:00:00+00:00",
          "2022-02-01T00:00:00+00:00",
          "2022-03-01T00:00:00+00:00",
          "2022-04-01T00:00:00+00:00",
          "2022-05-01T00:00:00+00:00",
          "2022-06-01T00:00:00+00:00",
          "2022-07-01T00:00:00+00:00",
          "2022-08-01T00:00:00+00:00",
          "2022-09-01T00:00:00+00:00",
          "2022-10-01T00:00:00+00:00",
          "2022-11-01T00:00:00+00:00",
          "2022-12-01T00:00:00+00:00"
         ],
         "xaxis": "x",
         "y": [
          0.000023315514109234716,
          0.000022531367271242842,
          0.000025370021659036648,
          0.000025367098090052427,
          0.000004983872583319276,
          -0.000017117737164348297,
          -0.000034331164562058906,
          -0.000020657409558129177,
          -0.000009769292523821444,
          0.000007931449231545008,
          0.0000099072946826082,
          0.000025233863702726923,
          0.000017496735811039475,
          0.000016212095630134928,
          0.00001888645764589034,
          0.000029664976220918033,
          0.0000018261139010372806,
          -0.00001084562077577426,
          -0.00002824729665626151,
          -0.000014337820046446692,
          3.350555880009938e-7,
          0.000014866283989283868,
          0.000022084048542764142,
          0.000019809565849127143,
          0.00005796669376386376,
          0.00005261008114254624,
          0.000030490096922891677,
          0.000029073606173112618,
          0.000041347019907793136,
          0.00002782889707782615,
          -0.000002549066187248562,
          -0.000027072464592079517,
          -0.000019500591179186733,
          -0.000006335877132031885,
          0.000006709880430417467,
          0.000014942676363486535
         ],
         "yaxis": "y"
        },
        {
         "hovertemplate": "variable=sundarbans_max<br>Years=%{x}<br>CO2 Emissions (mmol m²/s)=%{y}<extra></extra>",
         "legendgroup": "sundarbans_max",
         "line": {
          "color": "#EF553B",
          "dash": "solid"
         },
         "marker": {
          "symbol": "circle"
         },
         "mode": "lines",
         "name": "sundarbans_max",
         "orientation": "v",
         "showlegend": true,
         "type": "scatter",
         "x": [
          "2020-01-01T00:00:00+00:00",
          "2020-02-01T00:00:00+00:00",
          "2020-03-01T00:00:00+00:00",
          "2020-04-01T00:00:00+00:00",
          "2020-05-01T00:00:00+00:00",
          "2020-06-01T00:00:00+00:00",
          "2020-07-01T00:00:00+00:00",
          "2020-08-01T00:00:00+00:00",
          "2020-09-01T00:00:00+00:00",
          "2020-10-01T00:00:00+00:00",
          "2020-11-01T00:00:00+00:00",
          "2020-12-01T00:00:00+00:00",
          "2021-01-01T00:00:00+00:00",
          "2021-02-01T00:00:00+00:00",
          "2021-03-01T00:00:00+00:00",
          "2021-04-01T00:00:00+00:00",
          "2021-05-01T00:00:00+00:00",
          "2021-06-01T00:00:00+00:00",
          "2021-07-01T00:00:00+00:00",
          "2021-08-01T00:00:00+00:00",
          "2021-09-01T00:00:00+00:00",
          "2021-10-01T00:00:00+00:00",
          "2021-11-01T00:00:00+00:00",
          "2021-12-01T00:00:00+00:00",
          "2022-01-01T00:00:00+00:00",
          "2022-02-01T00:00:00+00:00",
          "2022-03-01T00:00:00+00:00",
          "2022-04-01T00:00:00+00:00",
          "2022-05-01T00:00:00+00:00",
          "2022-06-01T00:00:00+00:00",
          "2022-07-01T00:00:00+00:00",
          "2022-08-01T00:00:00+00:00",
          "2022-09-01T00:00:00+00:00",
          "2022-10-01T00:00:00+00:00",
          "2022-11-01T00:00:00+00:00",
          "2022-12-01T00:00:00+00:00"
         ],
         "xaxis": "x",
         "y": [
          -0.000027081722817226616,
          -0.0000229298030032696,
          -0.000010928437639977718,
          -8.774108649158558e-7,
          0.000007186324475331835,
          -0.000006785234275996733,
          -0.00001546035368588984,
          -0.00003967266779750176,
          -0.000017412075101242955,
          -0.000017362664550515332,
          -0.000024554682589051277,
          -0.00002962792629408769,
          -0.000021779409745361382,
          -0.000027072149609167205,
          -0.000014464461824936313,
          0.0000022008391312369523,
          0.000011787864284174212,
          -0.000013007391309185819,
          -0.000023090327344198376,
          -0.00002406664301540078,
          -0.00002464888685524601,
          -0.000015558971501169366,
          -0.000024775617928220717,
          -0.00004302943814907688,
          -0.000060504953399162503,
          -0.000034178080053386375,
          -0.000025859206334723576,
          -0.000015516003531369284,
          -4.4388374488817927e-7,
          0.000012911033103761247,
          0.000010380785073518729,
          -0.00001330429873302565,
          -0.000023300900379582937,
          -0.000018068109274674806,
          -0.000014576330443963151,
          -0.000021849258294959816
         ],
         "yaxis": "y"
        }
       ],
       "layout": {
        "annotations": [
         {
          "font": {
           "color": "blue",
           "size": 12
          },
          "showarrow": false,
          "text": "Source: NASA Air-Sea CO₂ Flux, ECCO-Darwin Model v5",
          "x": 0,
          "xanchor": "left",
          "xref": "paper",
          "y": -0.2,
          "yanchor": "auto",
          "yref": "paper"
         }
        ],
        "font": {
         "size": 14
        },
        "hovermode": "x unified",
        "legend": {
         "title": {
          "text": "variable"
         },
         "tracegroupgap": 0
        },
        "template": {
         "data": {
          "bar": [
           {
            "error_x": {
             "color": "#2a3f5f"
            },
            "error_y": {
             "color": "#2a3f5f"
            },
            "marker": {
             "line": {
              "color": "#E5ECF6",
              "width": 0.5
             },
             "pattern": {
              "fillmode": "overlay",
              "size": 10,
              "solidity": 0.2
             }
            },
            "type": "bar"
           }
          ],
          "barpolar": [
           {
            "marker": {
             "line": {
              "color": "#E5ECF6",
              "width": 0.5
             },
             "pattern": {
              "fillmode": "overlay",
              "size": 10,
              "solidity": 0.2
             }
            },
            "type": "barpolar"
           }
          ],
          "carpet": [
           {
            "aaxis": {
             "endlinecolor": "#2a3f5f",
             "gridcolor": "white",
             "linecolor": "white",
             "minorgridcolor": "white",
             "startlinecolor": "#2a3f5f"
            },
            "baxis": {
             "endlinecolor": "#2a3f5f",
             "gridcolor": "white",
             "linecolor": "white",
             "minorgridcolor": "white",
             "startlinecolor": "#2a3f5f"
            },
            "type": "carpet"
           }
          ],
          "choropleth": [
           {
            "colorbar": {
             "outlinewidth": 0,
             "ticks": ""
            },
            "type": "choropleth"
           }
          ],
          "contour": [
           {
            "colorbar": {
             "outlinewidth": 0,
             "ticks": ""
            },
            "colorscale": [
             [
              0,
              "#0d0887"
             ],
             [
              0.1111111111111111,
              "#46039f"
             ],
             [
              0.2222222222222222,
              "#7201a8"
             ],
             [
              0.3333333333333333,
              "#9c179e"
             ],
             [
              0.4444444444444444,
              "#bd3786"
             ],
             [
              0.5555555555555556,
              "#d8576b"
             ],
             [
              0.6666666666666666,
              "#ed7953"
             ],
             [
              0.7777777777777778,
              "#fb9f3a"
             ],
             [
              0.8888888888888888,
              "#fdca26"
             ],
             [
              1,
              "#f0f921"
             ]
            ],
            "type": "contour"
           }
          ],
          "contourcarpet": [
           {
            "colorbar": {
             "outlinewidth": 0,
             "ticks": ""
            },
            "type": "contourcarpet"
           }
          ],
          "heatmap": [
           {
            "colorbar": {
             "outlinewidth": 0,
             "ticks": ""
            },
            "colorscale": [
             [
              0,
              "#0d0887"
             ],
             [
              0.1111111111111111,
              "#46039f"
             ],
             [
              0.2222222222222222,
              "#7201a8"
             ],
             [
              0.3333333333333333,
              "#9c179e"
             ],
             [
              0.4444444444444444,
              "#bd3786"
             ],
             [
              0.5555555555555556,
              "#d8576b"
             ],
             [
              0.6666666666666666,
              "#ed7953"
             ],
             [
              0.7777777777777778,
              "#fb9f3a"
             ],
             [
              0.8888888888888888,
              "#fdca26"
             ],
             [
              1,
              "#f0f921"
             ]
            ],
            "type": "heatmap"
           }
          ],
          "heatmapgl": [
           {
            "colorbar": {
             "outlinewidth": 0,
             "ticks": ""
            },
            "colorscale": [
             [
              0,
              "#0d0887"
             ],
             [
              0.1111111111111111,
              "#46039f"
             ],
             [
              0.2222222222222222,
              "#7201a8"
             ],
             [
              0.3333333333333333,
              "#9c179e"
             ],
             [
              0.4444444444444444,
              "#bd3786"
             ],
             [
              0.5555555555555556,
              "#d8576b"
             ],
             [
              0.6666666666666666,
              "#ed7953"
             ],
             [
              0.7777777777777778,
              "#fb9f3a"
             ],
             [
              0.8888888888888888,
              "#fdca26"
             ],
             [
              1,
              "#f0f921"
             ]
            ],
            "type": "heatmapgl"
           }
          ],
          "histogram": [
           {
            "marker": {
             "pattern": {
              "fillmode": "overlay",
              "size": 10,
              "solidity": 0.2
             }
            },
            "type": "histogram"
           }
          ],
          "histogram2d": [
           {
            "colorbar": {
             "outlinewidth": 0,
             "ticks": ""
            },
            "colorscale": [
             [
              0,
              "#0d0887"
             ],
             [
              0.1111111111111111,
              "#46039f"
             ],
             [
              0.2222222222222222,
              "#7201a8"
             ],
             [
              0.3333333333333333,
              "#9c179e"
             ],
             [
              0.4444444444444444,
              "#bd3786"
             ],
             [
              0.5555555555555556,
              "#d8576b"
             ],
             [
              0.6666666666666666,
              "#ed7953"
             ],
             [
              0.7777777777777778,
              "#fb9f3a"
             ],
             [
              0.8888888888888888,
              "#fdca26"
             ],
             [
              1,
              "#f0f921"
             ]
            ],
            "type": "histogram2d"
           }
          ],
          "histogram2dcontour": [
           {
            "colorbar": {
             "outlinewidth": 0,
             "ticks": ""
            },
            "colorscale": [
             [
              0,
              "#0d0887"
             ],
             [
              0.1111111111111111,
              "#46039f"
             ],
             [
              0.2222222222222222,
              "#7201a8"
             ],
             [
              0.3333333333333333,
              "#9c179e"
             ],
             [
              0.4444444444444444,
              "#bd3786"
             ],
             [
              0.5555555555555556,
              "#d8576b"
             ],
             [
              0.6666666666666666,
              "#ed7953"
             ],
             [
              0.7777777777777778,
              "#fb9f3a"
             ],
             [
              0.8888888888888888,
              "#fdca26"
             ],
             [
              1,
              "#f0f921"
             ]
            ],
            "type": "histogram2dcontour"
           }
          ],
          "mesh3d": [
           {
            "colorbar": {
             "outlinewidth": 0,
             "ticks": ""
            },
            "type": "mesh3d"
           }
          ],
          "parcoords": [
           {
            "line": {
             "colorbar": {
              "outlinewidth": 0,
              "ticks": ""
             }
            },
            "type": "parcoords"
           }
          ],
          "pie": [
           {
            "automargin": true,
            "type": "pie"
           }
          ],
          "scatter": [
           {
            "fillpattern": {
             "fillmode": "overlay",
             "size": 10,
             "solidity": 0.2
            },
            "type": "scatter"
           }
          ],
          "scatter3d": [
           {
            "line": {
             "colorbar": {
              "outlinewidth": 0,
              "ticks": ""
             }
            },
            "marker": {
             "colorbar": {
              "outlinewidth": 0,
              "ticks": ""
             }
            },
            "type": "scatter3d"
           }
          ],
          "scattercarpet": [
           {
            "marker": {
             "colorbar": {
              "outlinewidth": 0,
              "ticks": ""
             }
            },
            "type": "scattercarpet"
           }
          ],
          "scattergeo": [
           {
            "marker": {
             "colorbar": {
              "outlinewidth": 0,
              "ticks": ""
             }
            },
            "type": "scattergeo"
           }
          ],
          "scattergl": [
           {
            "marker": {
             "colorbar": {
              "outlinewidth": 0,
              "ticks": ""
             }
            },
            "type": "scattergl"
           }
          ],
          "scattermapbox": [
           {
            "marker": {
             "colorbar": {
              "outlinewidth": 0,
              "ticks": ""
             }
            },
            "type": "scattermapbox"
           }
          ],
          "scatterpolar": [
           {
            "marker": {
             "colorbar": {
              "outlinewidth": 0,
              "ticks": ""
             }
            },
            "type": "scatterpolar"
           }
          ],
          "scatterpolargl": [
           {
            "marker": {
             "colorbar": {
              "outlinewidth": 0,
              "ticks": ""
             }
            },
            "type": "scatterpolargl"
           }
          ],
          "scatterternary": [
           {
            "marker": {
             "colorbar": {
              "outlinewidth": 0,
              "ticks": ""
             }
            },
            "type": "scatterternary"
           }
          ],
          "surface": [
           {
            "colorbar": {
             "outlinewidth": 0,
             "ticks": ""
            },
            "colorscale": [
             [
              0,
              "#0d0887"
             ],
             [
              0.1111111111111111,
              "#46039f"
             ],
             [
              0.2222222222222222,
              "#7201a8"
             ],
             [
              0.3333333333333333,
              "#9c179e"
             ],
             [
              0.4444444444444444,
              "#bd3786"
             ],
             [
              0.5555555555555556,
              "#d8576b"
             ],
             [
              0.6666666666666666,
              "#ed7953"
             ],
             [
              0.7777777777777778,
              "#fb9f3a"
             ],
             [
              0.8888888888888888,
              "#fdca26"
             ],
             [
              1,
              "#f0f921"
             ]
            ],
            "type": "surface"
           }
          ],
          "table": [
           {
            "cells": {
             "fill": {
              "color": "#EBF0F8"
             },
             "line": {
              "color": "white"
             }
            },
            "header": {
             "fill": {
              "color": "#C8D4E3"
             },
             "line": {
              "color": "white"
             }
            },
            "type": "table"
           }
          ]
         },
         "layout": {
          "annotationdefaults": {
           "arrowcolor": "#2a3f5f",
           "arrowhead": 0,
           "arrowwidth": 1
          },
          "autotypenumbers": "strict",
          "coloraxis": {
           "colorbar": {
            "outlinewidth": 0,
            "ticks": ""
           }
          },
          "colorscale": {
           "diverging": [
            [
             0,
             "#8e0152"
            ],
            [
             0.1,
             "#c51b7d"
            ],
            [
             0.2,
             "#de77ae"
            ],
            [
             0.3,
             "#f1b6da"
            ],
            [
             0.4,
             "#fde0ef"
            ],
            [
             0.5,
             "#f7f7f7"
            ],
            [
             0.6,
             "#e6f5d0"
            ],
            [
             0.7,
             "#b8e186"
            ],
            [
             0.8,
             "#7fbc41"
            ],
            [
             0.9,
             "#4d9221"
            ],
            [
             1,
             "#276419"
            ]
           ],
           "sequential": [
            [
             0,
             "#0d0887"
            ],
            [
             0.1111111111111111,
             "#46039f"
            ],
            [
             0.2222222222222222,
             "#7201a8"
            ],
            [
             0.3333333333333333,
             "#9c179e"
            ],
            [
             0.4444444444444444,
             "#bd3786"
            ],
            [
             0.5555555555555556,
             "#d8576b"
            ],
            [
             0.6666666666666666,
             "#ed7953"
            ],
            [
             0.7777777777777778,
             "#fb9f3a"
            ],
            [
             0.8888888888888888,
             "#fdca26"
            ],
            [
             1,
             "#f0f921"
            ]
           ],
           "sequentialminus": [
            [
             0,
             "#0d0887"
            ],
            [
             0.1111111111111111,
             "#46039f"
            ],
            [
             0.2222222222222222,
             "#7201a8"
            ],
            [
             0.3333333333333333,
             "#9c179e"
            ],
            [
             0.4444444444444444,
             "#bd3786"
            ],
            [
             0.5555555555555556,
             "#d8576b"
            ],
            [
             0.6666666666666666,
             "#ed7953"
            ],
            [
             0.7777777777777778,
             "#fb9f3a"
            ],
            [
             0.8888888888888888,
             "#fdca26"
            ],
            [
             1,
             "#f0f921"
            ]
           ]
          },
          "colorway": [
           "#636efa",
           "#EF553B",
           "#00cc96",
           "#ab63fa",
           "#FFA15A",
           "#19d3f3",
           "#FF6692",
           "#B6E880",
           "#FF97FF",
           "#FECB52"
          ],
          "font": {
           "color": "#2a3f5f"
          },
          "geo": {
           "bgcolor": "white",
           "lakecolor": "white",
           "landcolor": "#E5ECF6",
           "showlakes": true,
           "showland": true,
           "subunitcolor": "white"
          },
          "hoverlabel": {
           "align": "left"
          },
          "hovermode": "closest",
          "mapbox": {
           "style": "light"
          },
          "paper_bgcolor": "white",
          "plot_bgcolor": "#E5ECF6",
          "polar": {
           "angularaxis": {
            "gridcolor": "white",
            "linecolor": "white",
            "ticks": ""
           },
           "bgcolor": "#E5ECF6",
           "radialaxis": {
            "gridcolor": "white",
            "linecolor": "white",
            "ticks": ""
           }
          },
          "scene": {
           "xaxis": {
            "backgroundcolor": "#E5ECF6",
            "gridcolor": "white",
            "gridwidth": 2,
            "linecolor": "white",
            "showbackground": true,
            "ticks": "",
            "zerolinecolor": "white"
           },
           "yaxis": {
            "backgroundcolor": "#E5ECF6",
            "gridcolor": "white",
            "gridwidth": 2,
            "linecolor": "white",
            "showbackground": true,
            "ticks": "",
            "zerolinecolor": "white"
           },
           "zaxis": {
            "backgroundcolor": "#E5ECF6",
            "gridcolor": "white",
            "gridwidth": 2,
            "linecolor": "white",
            "showbackground": true,
            "ticks": "",
            "zerolinecolor": "white"
           }
          },
          "shapedefaults": {
           "line": {
            "color": "#2a3f5f"
           }
          },
          "ternary": {
           "aaxis": {
            "gridcolor": "white",
            "linecolor": "white",
            "ticks": ""
           },
           "baxis": {
            "gridcolor": "white",
            "linecolor": "white",
            "ticks": ""
           },
           "bgcolor": "#E5ECF6",
           "caxis": {
            "gridcolor": "white",
            "linecolor": "white",
            "ticks": ""
           }
          },
          "title": {
           "x": 0.05
          },
          "xaxis": {
           "automargin": true,
           "gridcolor": "white",
           "linecolor": "white",
           "ticks": "",
           "title": {
            "standoff": 15
           },
           "zerolinecolor": "white",
           "zerolinewidth": 2
          },
          "yaxis": {
           "automargin": true,
           "gridcolor": "white",
           "linecolor": "white",
           "ticks": "",
           "title": {
            "standoff": 15
           },
           "zerolinecolor": "white",
           "zerolinewidth": 2
          }
         }
        },
        "title": {
         "text": "Comparison of CO2 Emission Values: Kenyan Mangroves vs Sundarbans (2020-2022)",
         "x": 0.5
        },
        "xaxis": {
         "anchor": "y",
         "domain": [
          0,
          1
         ],
         "tickangle": 90,
         "title": {
          "text": "Years"
         }
        },
        "yaxis": {
         "anchor": "x",
         "domain": [
          0,
          1
         ],
         "title": {
          "text": "CO2 Emissions (mmol m²/s)"
         }
        }
       }
      }
     },
     "metadata": {},
     "output_type": "display_data"
    }
   ],
   "source": [
    "import plotly.express as px\n",
    "\n",
    "# Step 4: Plot both time series on the same graph for comparison\n",
    "fig = px.line(\n",
    "    combined_df, \n",
    "    x=\"date\", \n",
    "    y=[\"kenya_max\", \"sundarbans_max\"],  # Plot both max values\n",
    "    labels={\"value\": \"CO2 Emissions (mmol m²/s)\", \"date\": \"Years\"}, \n",
    "    title=\"Comparison of CO2 Emission Values: Kenyan Mangroves vs Sundarbans (2020-2022)\"\n",
    ")\n",
    "\n",
    "# Customize layout\n",
    "fig.update_layout(\n",
    "    title_x=0.5,  # Center the title\n",
    "    hovermode=\"x unified\",  # Unified tooltips on hover\n",
    "    font=dict(size=14),\n",
    ")\n",
    "\n",
    "# Rotate x-axis labels for readability\n",
    "fig.update_xaxes(tickangle=90)\n",
    "\n",
    "# Add data source annotation\n",
    "fig.add_annotation(\n",
    "    text=\"Source: NASA Air-Sea CO₂ Flux, ECCO-Darwin Model v5\",\n",
    "    xref=\"paper\", yref=\"paper\",\n",
    "    x=0, y=-0.2, showarrow=False,\n",
    "    font=dict(size=12, color=\"blue\"),\n",
    "    xanchor=\"left\", yanchor=\"auto\"\n",
    ")\n",
    "\n",
    "# Show the interactive plot\n",
    "fig.show()\n"
   ]
  },
  {
   "cell_type": "markdown",
   "metadata": {},
   "source": [
    "## Implications of Reduced CO₂ Flux in Kenya’s Mangroves\n",
    "\n",
    "The CO₂ flux data highlights the diminished carbon absorption capacity of the **Kenyan Mangroves**, particularly when compared to the Sundarbans. \n",
    "\n",
    "This reduction in CO₂ sequestration could have significant consequences:\n",
    "- **Increased Carbon Emissions**: The diminished capacity to absorb CO₂ from the atmosphere leads to more CO₂ remaining in the atmosphere, exacerbating global warming.\n",
    "- **Loss of Ecosystem Services**: The loss of mangroves reduces their ability to protect coastlines, support biodiversity, and contribute to local livelihoods.\n",
    "- **Feedback Loops**: Less CO₂ absorption contributes to global warming, which in turn accelerates the degradation of mangrove ecosystems.\n",
    "\n",
    "To prevent further loss, **mangrove conservation efforts** in Kenya must be strengthened.\n"
   ]
  },
  {
   "cell_type": "markdown",
   "metadata": {},
   "source": [
    "## The Sundarbans: A Model for Mangrove Conservation\n",
    "\n",
    "The **Sundarbans Mangroves** serve as a model for effective carbon sequestration and climate resilience. Despite facing environmental challenges like **sea-level rise** and **salinity**, the region continues to function as a strong **carbon sink**, absorbing significant amounts of CO₂.\n",
    "\n",
    "This region demonstrates the importance of:\n",
    "- **Conservation**: Preservation efforts in the Sundarbans show the benefits of protecting large mangrove forests, even under pressure from climate change.\n",
    "- **Global Impact**: The Sundarbans’ ability to sequester CO₂ at a high rate makes it an essential component of global climate mitigation strategies.\n"
   ]
  },
  {
   "cell_type": "markdown",
   "metadata": {},
   "source": [
    "## Mangrove Conservation: A Climate Action Strategy\n",
    "\n",
    "**Mangroves** are not only vital for carbon sequestration but also serve as essential ecosystems that protect coastlines, support fisheries, and enhance biodiversity. Protecting and restoring mangrove forests is one of the most cost-effective ways to mitigate climate change.\n",
    "\n",
    "Key actions include:\n",
    "1. **Restoration**: Reforestation projects to restore degraded mangrove areas in Kenya will help increase carbon absorption.\n",
    "2. **Sustainable Development**: Coastal development must balance economic growth with environmental protection to preserve mangrove ecosystems.\n",
    "3. **Carbon Credits**: Implementing carbon credit programs that reward mangrove preservation and restoration can incentivize climate action.\n",
    "\n",
    "By investing in these strategies, Kenya can enhance its capacity to act as a **natural carbon sink**, helping to reduce global CO₂ emissions.\n"
   ]
  },
  {
   "cell_type": "markdown",
   "metadata": {},
   "source": [
    "## Call to Action: Protect and Restore Mangroves\n",
    "\n",
    "### For the Public:\n",
    "- **Support conservation initiatives**: Join local and global efforts to preserve mangrove forests, as they are essential to fighting climate change.\n",
    "- **Raise awareness**: Educate others about the importance of mangroves in carbon sequestration and ecosystem protection.\n",
    "\n",
    "### For Policymakers:\n",
    "- **Strengthen legislation**: Implement stronger marine conservation laws to protect mangroves from deforestation and unsustainable coastal development.\n",
    "- **Support restoration projects**: Fund and promote reforestation of degraded mangrove areas to restore their carbon sequestration capabilities.\n",
    "- **Incentivize conservation**: Introduce carbon credits for organizations and communities that engage in mangrove conservation.\n",
    "\n",
    "These actions will not only mitigate climate change but also support biodiversity, protect coastal communities, and ensure a sustainable future for both Kenya and the world.\n"
   ]
  }
 ],
 "metadata": {
  "kernelspec": {
   "display_name": ".venv",
   "language": "python",
   "name": "python3"
  },
  "language_info": {
   "codemirror_mode": {
    "name": "ipython",
    "version": 3
   },
   "file_extension": ".py",
   "mimetype": "text/x-python",
   "name": "python",
   "nbconvert_exporter": "python",
   "pygments_lexer": "ipython3",
   "version": "3.12.6"
  }
 },
 "nbformat": 4,
 "nbformat_minor": 2
}
